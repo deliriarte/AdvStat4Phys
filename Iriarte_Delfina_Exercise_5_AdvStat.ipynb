{
 "cells": [
  {
   "cell_type": "markdown",
   "metadata": {},
   "source": [
    "## Exercise 1\n",
    "A publishing company has recently launched a new journal. In order to determine how effective it is in reaching its possible audience, a market survey company selects a random sample of people from a possible target audience and interviews them. Out of 150 interviewed people, 29 have read the last issue of the journal.\n",
    "\n",
    "\n",
    "a) What kind of distribution would you assume for y, the number of people that have seen the last issue of the journal ?"
   ]
  },
  {
   "cell_type": "markdown",
   "metadata": {},
   "source": [
    "Since it is a yes or no interview (from 150 people the question was \"have you read it or not\") hence,  I would assume binomial  distribution with parameter $\\theta$:\n",
    "\n",
    "$P(x_1, x_2, ..., x_{150}| \\theta ) \\sim \\theta^{29} (1-\\theta)^{121}$"
   ]
  },
  {
   "cell_type": "markdown",
   "metadata": {},
   "source": [
    "b) Assuming a uniform prior, what is the posterior distribution for y ?\n"
   ]
  },
  {
   "cell_type": "markdown",
   "metadata": {},
   "source": [
    "Assuming an uniform prior\n",
    "$P(p) \\sim U(0,1)$, we would like to know the posterior distribution for y.\n",
    "\n",
    "Using the Bayes theorem to combine the prior distribution and the likelikood we obtain:\n",
    "\n",
    "$P(\\theta| D) = p(D, \\theta) P(\\theta)  = Beta(30,122)$\n",
    "    \n",
    "And this is the Beta densitity distribution function with parameter Beta(29, 121)."
   ]
  },
  {
   "cell_type": "markdown",
   "metadata": {},
   "source": [
    "c) Plot both posterior and likelihood ditributions functions\n"
   ]
  },
  {
   "cell_type": "code",
   "execution_count": 3,
   "metadata": {},
   "outputs": [],
   "source": [
    "n <- 150\n",
    "r <- 29\n",
    "p <- seq(0,1,0.001)\n",
    "p.prior <- dunif(p)\n",
    "\n",
    "p.likelihood  <-  dbinom(x = r, size = n, prob = p)\n",
    "p.post <- dbeta(p, r+1, n-r+1)\n",
    "\n",
    "p.post <- p.post / sum(p.post) #we normalize it\n",
    "\n",
    "p.post0 <- p.prior * p.likelihood\n",
    "df <- data.frame(p, p.likelihood, p.post, p.prior, p.post0)"
   ]
  },
  {
   "cell_type": "code",
   "execution_count": 4,
   "metadata": {},
   "outputs": [],
   "source": [
    "library(ggplot2)\n",
    "library(ggthemes)"
   ]
  },
  {
   "cell_type": "code",
   "execution_count": 5,
   "metadata": {},
   "outputs": [
    {
     "data": {
      "image/png": "[encoded data removed]",
      "text/plain": [
       "plot without title"
      ]
     },
     "metadata": {},
     "output_type": "display_data"
    }
   ],
   "source": [
    "p <-ggplot(df, aes(x=p, y = p.likelihood, col = 'Likelihood probability')) \n",
    "p <- p +  geom_area(fill=\"lightblue\")  \n",
    "p <- p +  labs( y=\"Probability\", x = \"x\", col = 'Probability')  + xlim(c(0,1))\n",
    "p <- p +ggtitle(\"Bayesian Inference\")+ theme_hc()+ scale_colour_hc()\n",
    "p <- p \n",
    "p"
   ]
  },
  {
   "cell_type": "code",
   "execution_count": 4,
   "metadata": {},
   "outputs": [
    {
     "name": "stderr",
     "output_type": "stream",
     "text": [
      "Warning message:\n",
      "\"Removed 500 rows containing missing values (position_stack).\""
     ]
    },
    {
     "data": {
      "image/png": "[encoded data removed]",
      "text/plain": [
       "plot without title"
      ]
     },
     "metadata": {},
     "output_type": "display_data"
    }
   ],
   "source": [
    "a=r+1\n",
    "b=n-r+1\n",
    "\n",
    "mean=a/(a+b)\n",
    "mode=(a-1)/(a+b-2)\n",
    "\n",
    "\n",
    "p <-ggplot(df, aes(x=p, y = p.post, col = 'Posterior probability')) \n",
    "p <- p +  geom_area(fill=\"lightblue\")  + xlim(c(0,0.5))\n",
    "p <- p +  labs( y=\"Probability density\", x = \"theta\", col = 'Probability')\n",
    "p <- p +  geom_vline(xintercept = mean, colour=\"red\")+geom_vline(xintercept = mode, colour=\"darkblue\")\n",
    "p <- p +ggtitle(\"Bayesian Inference\")+ theme_hc()+ scale_colour_hc()\n",
    "p <- p \n",
    "p"
   ]
  },
  {
   "cell_type": "code",
   "execution_count": 5,
   "metadata": {},
   "outputs": [],
   "source": [
    "p.post_cumsum=cumsum(p.post)\n",
    "p.post_CI=ifelse(p.post_cumsum<0.025|p.post_cumsum>0.975, \"outside CI\", \"inside CI\")\n",
    "\n",
    "df$CI <- p.post_CI"
   ]
  },
  {
   "cell_type": "code",
   "execution_count": 6,
   "metadata": {},
   "outputs": [
    {
     "name": "stderr",
     "output_type": "stream",
     "text": [
      "Warning message:\n",
      "\"Removed 500 rows containing missing values (position_stack).\"Warning message:\n",
      "\"Removed 2 rows containing missing values (geom_bar).\""
     ]
    },
    {
     "data": {
      "image/png": "[encoded data removed]",
      "text/plain": [
       "plot without title"
      ]
     },
     "metadata": {},
     "output_type": "display_data"
    }
   ],
   "source": [
    "#lets go a little bit further\n",
    "ggplot(df, aes(x=p, y=p.post, fill=CI))+\n",
    "  geom_bar(stat=\"identity\", alpha=0.5)+ xlim (c(0,0.5)) + theme_hc()+ scale_colour_hc() +\n",
    "  ylab(\"Probability density\")+\n",
    "  ggtitle(\"Posterior\")+\n",
    "  labs(fill='95% confidence interval')"
   ]
  },
  {
   "cell_type": "markdown",
   "metadata": {},
   "source": [
    "## Exercise 2\n",
    "Three students want to construct their prior probability about the proportion of residents that support the building of a new concert hall in their small town.\n",
    "\n",
    "Anna thinks that her prior is a beta distribution with mean 0.2 and a standard deviation of 0.08.\n",
    "\n",
    "Benny moved only recently to this new town and therefore he does non have the slightest idea aboutit. Therefore he decides to use a uniform prior.\n",
    "\n",
    "Chris believes that his prior should have a trapezoidal shape\n",
    "\n",
    "should have a trapezoidal shape\n",
    "\n",
    "\n",
    " $ \n",
    "    f(X) = \\left\\{\\begin{array}{lr}\n",
    "        20x, & \\text{for } 0\\leq x\\leq 0.1\\\\\n",
    "        2, & \\text{for } 0.1\\leq x\\leq 0.3\\\\\n",
    "        5-10x, & 0.3\\leq x\\leq 0.4\\\\\n",
    "        0, & x \\geq 0.5\n",
    "        \\end{array}\\right\\} \n",
    "  $\n",
    "  \n",
    "\n",
    "\n",
    "a) Draw and compare the three prior distributions."
   ]
  },
  {
   "cell_type": "markdown",
   "metadata": {},
   "source": [
    "Given a beta distribution B(a, b) then, \n",
    "\n",
    "$\\mu = \\frac{a}{a+b}$ \n",
    "\n",
    "and, \n",
    "\n",
    "$\\sigma^2 = \\frac{ab}{(a+b)^2(a+b+1)}$\n",
    "\n",
    "Then, for Anna with some simple calculation we get that, \n",
    "\n",
    "a = 4.8\n",
    "\n",
    "b = 19.2\n"
   ]
  },
  {
   "cell_type": "code",
   "execution_count": 2,
   "metadata": {},
   "outputs": [
    {
     "data": {
      "text/html": [
       "0.2"
      ],
      "text/latex": [
       "0.2"
      ],
      "text/markdown": [
       "0.2"
      ],
      "text/plain": [
       "[1] 0.2"
      ]
     },
     "metadata": {},
     "output_type": "display_data"
    },
    {
     "data": {
      "text/html": [
       "0.08"
      ],
      "text/latex": [
       "0.08"
      ],
      "text/markdown": [
       "0.08"
      ],
      "text/plain": [
       "[1] 0.08"
      ]
     },
     "metadata": {},
     "output_type": "display_data"
    }
   ],
   "source": [
    "a <- 4.8\n",
    "b <- 19.2\n",
    "\n",
    "mean <- a /(a+b)\n",
    "sigma <- sqrt((a*b)/((a+b)**2*(a+b+1)))\n",
    "mean\n",
    "sigma"
   ]
  },
  {
   "cell_type": "code",
   "execution_count": 8,
   "metadata": {},
   "outputs": [],
   "source": [
    "p <- seq(0,1, 0.01)\n",
    "anna <- dbeta(x = p, a, b)"
   ]
  },
  {
   "cell_type": "code",
   "execution_count": 9,
   "metadata": {},
   "outputs": [],
   "source": [
    "#For Benny, a = b = 1\n",
    "benny <- dunif(x = p)"
   ]
  },
  {
   "cell_type": "code",
   "execution_count": 10,
   "metadata": {},
   "outputs": [],
   "source": [
    "#for chris\n",
    "density <- function (x){\n",
    "    result <- c()\n",
    "    for (i in x){\n",
    "        val <- if (i >= 0 & i < 0.1){\n",
    "                            20 * i }\n",
    "                \n",
    "               else if (i >= 0.1 & i < 0.3){\n",
    "                            2 }\n",
    "               else if (i >= 0.3 & i < 0.5){\n",
    "                            5 - 10 * i }\n",
    "              else 0\n",
    "        result <- c(result, val)}\n",
    "    return(result)}"
   ]
  },
  {
   "cell_type": "code",
   "execution_count": 11,
   "metadata": {},
   "outputs": [],
   "source": [
    "chris <- density(p)\n",
    "df <- data.frame(p, anna, benny, chris)"
   ]
  },
  {
   "cell_type": "code",
   "execution_count": 12,
   "metadata": {},
   "outputs": [
    {
     "data": {
      "image/png": "[encoded data removed]",
      "text/plain": [
       "plot without title"
      ]
     },
     "metadata": {},
     "output_type": "display_data"
    }
   ],
   "source": [
    "p <-ggplot(df, aes(x=p, y = anna, col = 'Anna probability')) \n",
    "p <- p +  geom_line()  \n",
    "p <- p +   geom_line(aes(x=p, y = benny, col = 'Benny probability'))\n",
    "p <- p +   geom_line(aes(x=p, y = chris, col = 'Chris probability'))\n",
    "p <- p +  labs( y=\"Probability\", x = \"x\", col = 'Probability')  \n",
    "p <- p + ggtitle(\"Prior densities\")+ theme_hc()+ scale_colour_hc()\n",
    "p <- p \n",
    "p"
   ]
  },
  {
   "cell_type": "markdown",
   "metadata": {},
   "source": [
    "Clearly, the area covered by chris is not 1 (it is not normalized)\n",
    "\n",
    "The next day the three students decide to interview a sample of 100 citizens of the small town, asking for their opinion. Out of the interviewed sample, 26 support the building of the new concert\n",
    "hall.\n",
    "b) Evaluate and draw the three prior distributions."
   ]
  },
  {
   "cell_type": "code",
   "execution_count": 13,
   "metadata": {},
   "outputs": [],
   "source": [
    "#we need to find the posterior, for anna and benny it is simply, \n",
    "#Recall that the likelihood is nothing else as a binomial distribution\n",
    "p <- seq(0,1,0.01)\n",
    "anna_post <- dbeta(x = p, a+26,  b + 74)\n",
    "benny_post <- dbeta(p, 27, 75)"
   ]
  },
  {
   "cell_type": "code",
   "execution_count": 14,
   "metadata": {},
   "outputs": [],
   "source": [
    "#for chris we need to derive the posterior, \n",
    "f <- function (p){p ** 26 * ( 1-p) **(100-26)}\n",
    "int <-  function(p) {density(p) * f(p)}\n",
    "den <- integrate(int, 0, 1)$value"
   ]
  },
  {
   "cell_type": "code",
   "execution_count": 15,
   "metadata": {},
   "outputs": [],
   "source": [
    "binom <- f(p)\n",
    "num <- chris *f(p)\n",
    "chris_post <- num / den\n",
    "\n",
    "df <- data.frame(p, anna_post, benny_post, chris_post)"
   ]
  },
  {
   "cell_type": "code",
   "execution_count": 16,
   "metadata": {},
   "outputs": [
    {
     "data": {
      "image/png": "[encoded data removed]",
      "text/plain": [
       "plot without title"
      ]
     },
     "metadata": {},
     "output_type": "display_data"
    }
   ],
   "source": [
    "p <-ggplot(df, aes(x=p, y = anna_post, col = 'Anna probability')) \n",
    "p <- p +  geom_line()  \n",
    "p <- p +   geom_line(aes(x=p, y = benny_post, col = 'Benny probability'))\n",
    "p <- p +   geom_line(aes(x=p, y = chris_post, col = 'Chris probability'))\n",
    "p <- p +  labs( y=\"Probability\", x = \"x\", col = 'Probability')  \n",
    "p <- p + ggtitle(\"Prior densities\")+ theme_hc()+ scale_colour_hc()\n",
    "p <- p \n",
    "p"
   ]
  },
  {
   "cell_type": "markdown",
   "metadata": {},
   "source": [
    "When n is large, the prior does not influence so much. \n",
    "\n",
    "c) Give an estimate of the most probable value and the 95% credibility interval."
   ]
  },
  {
   "cell_type": "code",
   "execution_count": 17,
   "metadata": {},
   "outputs": [
    {
     "name": "stdout",
     "output_type": "stream",
     "text": [
      "[1] \"The mean value of the posterior distribution of Anna is: \"\n",
      "[2] \"0.2483870967742\"                                          \n",
      "[1] \"The mean value of the posterior distribution of Benny is: \"\n",
      "[2] \"0.264705882352941\"                                         \n",
      "[1] \"The mean value of the posterior distribution of Chris is: \"\n",
      "[2] \"0.262659755072606\"                                         \n"
     ]
    }
   ],
   "source": [
    "#Let's look for the posterior mean (expected value)\n",
    "anna_ <- function(p){ p *dbeta(p, a+26,  b + 74)}\n",
    "benny_ <- function(p){p* dbeta(p, 27, 75)}\n",
    "\n",
    "anna_mean <- integrate(anna_, 0, 1)$value\n",
    "print(c(\"The mean value of the posterior distribution of Anna is: \", anna_mean))\n",
    "\n",
    "benny_mean <- integrate(benny_, 0, 1)$value\n",
    "print(c(\"The mean value of the posterior distribution of Benny is: \", benny_mean))\n",
    "\n",
    "chris_ <- function(p){p * density(p) *f(p) / 2.75073695621892e-26}\n",
    "chris_mean <- integrate(chris_, 0, 1)$value\n",
    "print(c(\"The mean value of the posterior distribution of Chris is: \", chris_mean))"
   ]
  },
  {
   "cell_type": "code",
   "execution_count": 3,
   "metadata": {},
   "outputs": [],
   "source": [
    "library(Bolstad2)"
   ]
  },
  {
   "cell_type": "code",
   "execution_count": 36,
   "metadata": {},
   "outputs": [],
   "source": [
    "#Lets look for the 95% credibility interval\n",
    "p <- seq(0,1,0.01)\n",
    "anna_post <- dbeta(x = p, a+26,  b + 74)\n",
    "benny_post <- dbeta(p, 27, 75)\n",
    "#chris_post <- num / den\n",
    "\n",
    "cdf_anna <- sintegral(p, anna_post)\n",
    "cdf_benny <- sintegral(p, benny_post)\n",
    "cdf_chris<- sintegral(p, chris_post)"
   ]
  },
  {
   "cell_type": "code",
   "execution_count": 37,
   "metadata": {},
   "outputs": [
    {
     "ename": "ERROR",
     "evalue": "Error in plot(cdf_chris, type = \"l\", xlab = expression(theta[0]), ylab = expression(Pr(theta <= : objeto 'cdf_chris' no encontrado\n",
     "output_type": "error",
     "traceback": [
      "Error in plot(cdf_chris, type = \"l\", xlab = expression(theta[0]), ylab = expression(Pr(theta <= : objeto 'cdf_chris' no encontrado\nTraceback:\n",
      "1. plot(cdf_chris, type = \"l\", xlab = expression(theta[0]), ylab = expression(Pr(theta <= \n .     theta[0])), main = \"CDF Chris\")"
     ]
    },
    {
     "data": {
      "image/png": "[encoded data removed]",
      "text/plain": [
       "Plot with title \"CDF Benny\""
      ]
     },
     "metadata": {},
     "output_type": "display_data"
    }
   ],
   "source": [
    "par(mfrow=c(2,3))\n",
    "plot(cdf_anna,type=\"l\",xlab=expression(theta[0]) ,ylab=expression(Pr(theta<=theta[0])), main = 'CDF Anna')\n",
    "plot(cdf_benny,type=\"l\",xlab=expression(theta[0]) ,ylab=expression(Pr(theta<=theta[0])), main = 'CDF Benny')\n",
    "plot(cdf_chris,type=\"l\",xlab=expression(theta[0]) ,ylab=expression(Pr(theta<=theta[0])), main = 'CDF Chris')"
   ]
  },
  {
   "cell_type": "code",
   "execution_count": 38,
   "metadata": {},
   "outputs": [],
   "source": [
    "#Notice that the confidence interval is given by, (1-0.95)*2\n",
    "#Anna\n",
    "d<-abs(cdf_anna$y-0.025)\n",
    "lb_anna<-cdf_anna$x[max((1:length(cdf_anna$y))[d==min(d)])]\n",
    "\n",
    "d<-abs(cdf_anna$y-0.975)\n",
    "ub_anna<-cdf_anna$x[min((1:length(cdf_anna$y))[d==min(d)])]\n",
    "\n",
    "#Benny\n",
    "d<-abs(cdf_benny$y-0.025)\n",
    "lb_benny<-cdf_benny$x[max((1:length(cdf_benny$y))[d==min(d)])]\n",
    "\n",
    "d<-abs(cdf_benny$y-0.975)\n",
    "ub_benny<-cdf_benny$x[min((1:length(cdf_benny$y))[d==min(d)])]\n",
    "\n",
    "#Chris\n",
    "d<-abs(cdf_chris$y-0.025)\n",
    "lb_chris<-cdf_chris$x[max((1:length(cdf_chris$y))[d==min(d)])]\n",
    "\n",
    "d<-abs(cdf_chris$y-0.975)\n",
    "ub_chris<-cdf_chris$x[min((1:length(cdf_chris$y))[d==min(d)])]"
   ]
  },
  {
   "cell_type": "code",
   "execution_count": 40,
   "metadata": {},
   "outputs": [
    {
     "name": "stdout",
     "output_type": "stream",
     "text": [
      "Approximate 95% credible interval for Anna : [0.1738 0.3262]\n",
      "Approximate 95% credible interval for Benny : [0.1816 0.3535]\n"
     ]
    }
   ],
   "source": [
    "cat(paste(\"Approximate 95% credible interval for Anna : [\"\n",
    "          ,round(lb_anna,4),\" \",round(ub_anna,4),\"]\\n\",sep=\"\"))\n",
    "\n",
    "cat(paste(\"Approximate 95% credible interval for Benny : [\"\n",
    "          ,round(lb_benny,4),\" \",round(ub_benny,4),\"]\\n\",sep=\"\"))\n",
    "\n",
    "#cat(paste(\"Approximate 95% credible interval for Chris : [\"\n",
    "#          ,round(lb_chris,4),\" \",round(ub_chris,4),\"]\\n\",sep=\"\"))"
   ]
  },
  {
   "cell_type": "markdown",
   "metadata": {},
   "source": [
    "## Exercise 3\n",
    "A coin is flipped n = 30 times with the following outcomes:\n",
    "\n",
    "    T, T, T, T, T, H, T, T, H, H, T, T, H, H, H, T, H, T, H, T, H, H, T, H, T, H, T, H, H, H\n",
    "    \n",
    "a) Assuming a flat prior, and a beta prior, plot the likelihood, prior and posterior distributions for the data set."
   ]
  },
  {
   "cell_type": "code",
   "execution_count": 23,
   "metadata": {},
   "outputs": [],
   "source": [
    "n <- 30\n",
    "#the number of heads it is 15\n",
    "r <- 15\n",
    "\n",
    "p <- seq(0,1, 0.01)\n",
    "p.likelihood <- dbinom(x = r, size = n, prob = p)\n",
    "df <- data.frame(p,p.likelihood)"
   ]
  },
  {
   "cell_type": "code",
   "execution_count": 24,
   "metadata": {},
   "outputs": [
    {
     "data": {
      "image/png": "[encoded data removed]",
      "text/plain": [
       "plot without title"
      ]
     },
     "metadata": {},
     "output_type": "display_data"
    }
   ],
   "source": [
    "p <-ggplot(df, aes(x=p, y = p.likelihood, col = 'Likelihood probability')) \n",
    "p <- p +  geom_area(fill=\"lightblue\")  \n",
    "p <- p +  labs( y=\"Probability\", x = \"x\", col = 'Probability')  \n",
    "p <- p +ggtitle(\"Coin tossed\")+ theme_hc()+ scale_colour_hc()\n",
    "p <- p \n",
    "p"
   ]
  },
  {
   "cell_type": "code",
   "execution_count": 25,
   "metadata": {},
   "outputs": [],
   "source": [
    "#Flat prior is going to be an uniform distribution in 0 and 1\n",
    "p <- seq(0,1, 0.01)\n",
    "flat_prior <- dunif(p, 0, 1)\n",
    "\n",
    "#Then the posterior distribution is nothing else as Beta(k+1, n-k+1)\n",
    "flat_posterior <- dbeta(p, r+1, n-r+1)"
   ]
  },
  {
   "cell_type": "markdown",
   "metadata": {},
   "source": [
    "Given a beta distribution B(a, b) then, \n",
    "\n",
    "$\\mu = \\frac{a}{a+b} = 0.5$ \n",
    "\n",
    "and, \n",
    "\n",
    "$\\sigma^2 = \\frac{ab}{(a+b)^2(a+b+1)} = 1/84$\n"
   ]
  },
  {
   "cell_type": "code",
   "execution_count": 26,
   "metadata": {},
   "outputs": [],
   "source": [
    "#beta prior Beta(a, b)\n",
    "a <- 10\n",
    "b <- 10\n",
    "beta_prior <- dbeta(p, a, b)\n",
    "\n",
    "#the posterior is\n",
    "beta_posterior <- dbeta(p, r+a, n-r+b)"
   ]
  },
  {
   "cell_type": "code",
   "execution_count": 27,
   "metadata": {},
   "outputs": [
    {
     "data": {
      "image/png": "[encoded data removed]",
      "text/plain": [
       "plot without title"
      ]
     },
     "metadata": {},
     "output_type": "display_data"
    }
   ],
   "source": [
    "df <- data.frame(p, flat_prior, flat_posterior, beta_prior, beta_posterior)\n",
    "p <-ggplot(df, aes(x=p, y = flat_prior, col = 'Flat probability')) \n",
    "p <- p +  geom_line()  \n",
    "p <- p +   geom_line(aes(x=p, y = beta_prior, col = 'Beta probability'))\n",
    "p <- p +  labs( y=\"Probability\", x = \"x\", col = 'Probability')  \n",
    "p <- p + ggtitle(\"Prior densities\")+ theme_hc()+ scale_colour_hc()\n",
    "p <- p \n",
    "p"
   ]
  },
  {
   "cell_type": "code",
   "execution_count": 28,
   "metadata": {},
   "outputs": [
    {
     "data": {
      "image/png": "[encoded data removed]",
      "text/plain": [
       "plot without title"
      ]
     },
     "metadata": {},
     "output_type": "display_data"
    }
   ],
   "source": [
    "p <-ggplot(df, aes(x=p, y = flat_posterior, col = 'Flat probability')) \n",
    "p <- p +  geom_line()  \n",
    "p <- p +   geom_line(aes(x=p, y = beta_posterior, col = 'Beta probability'))\n",
    "p <- p +  labs( y=\"Probability\", x = \"x\", col = 'Probability')  \n",
    "p <- p + ggtitle(\"Posterior densities\")+ theme_hc()+ scale_colour_hc()\n",
    "p <- p \n",
    "p"
   ]
  },
  {
   "cell_type": "code",
   "execution_count": 29,
   "metadata": {},
   "outputs": [
    {
     "data": {
      "text/html": [
       "0.5"
      ],
      "text/latex": [
       "0.5"
      ],
      "text/markdown": [
       "0.5"
      ],
      "text/plain": [
       "[1] 0.5"
      ]
     },
     "metadata": {},
     "output_type": "display_data"
    },
    {
     "data": {
      "text/html": [
       "0.5"
      ],
      "text/latex": [
       "0.5"
      ],
      "text/markdown": [
       "0.5"
      ],
      "text/plain": [
       "[1] 0.5"
      ]
     },
     "metadata": {},
     "output_type": "display_data"
    }
   ],
   "source": [
    "#Or I CAN ASLO HAVE DONE IT AS FOLLOW\n",
    "p <- seq(0,1, 0.01)\n",
    "n <- 30\n",
    "r <- 15\n",
    "p <- seq(0,1, 0.01)\n",
    "p.likelihood <- dbinom(x = r, size = n, prob = p)\n",
    "p.likelihood <- p.likelihood /(0.01 *sum(p.likelihood ))\n",
    "\n",
    "flat_prior <- dunif(p, 0, 1)\n",
    "flat_posterior <- p.likelihood * flat_prior# / integrate(flat_, 0, 1)$value\n",
    "flat_posterior <- flat_posterior / (0.01*sum(flat_posterior))\n",
    "\n",
    "beta_prior <- dbeta(p, a, b)\n",
    "beta_posterior <- p.likelihood * beta_prior# / integrate(beta_, 0, 1)$value\n",
    "beta_posterior <- beta_posterior / (0.01*sum(beta_posterior))\n",
    "\n",
    "beta_mean <- sum(p * beta_posterior * 0.01)#integrate(beta_, 0, 1)$value\n",
    "beta_mean\n",
    "\n",
    "flat_mean <- sum(p * flat_posterior*0.01)#integrate(flat_, 0, 1)$value\n",
    "flat_mean \n"
   ]
  },
  {
   "cell_type": "markdown",
   "metadata": {},
   "source": [
    "b) Evaluate the most probable value for the coin probability p and, integrating the posterior probability\n",
    "distribution, give an estimate for a 95% credibility interval."
   ]
  },
  {
   "cell_type": "code",
   "execution_count": 30,
   "metadata": {},
   "outputs": [
    {
     "name": "stdout",
     "output_type": "stream",
     "text": [
      "[1] \"The mean value of the posterior distribution of beta Prior is: \"\n",
      "[2] \"0.500000000000001\"                                              \n",
      "[1] \"The mean value of the posterior distribution of flat Prior  is: \"\n",
      "[2] \"0.5\"                                                             \n"
     ]
    }
   ],
   "source": [
    "#Let's look for the posterior mean (expected value)\n",
    "beta_ <- function(p){ p *dbeta(p, r+a, n-r+b)}\n",
    "flat_ <- function(p){p* dbeta(p, r+1, n-r+1)}\n",
    "\n",
    "beta_mean <- integrate(beta_, 0, 1)$value\n",
    "print(c(\"The mean value of the posterior distribution of beta Prior is: \", beta_mean))\n",
    "\n",
    "flat_mean <- integrate(flat_, 0, 1)$value\n",
    "print(c(\"The mean value of the posterior distribution of flat Prior  is: \", flat_mean))\n",
    "\n",
    "#which is of course that our mean that we expected (it was a fair coin)"
   ]
  },
  {
   "cell_type": "code",
   "execution_count": 31,
   "metadata": {},
   "outputs": [
    {
     "data": {
      "image/png": "[encoded data removed]",
      "text/plain": [
       "Plot with title \"CDF Flat Prior\""
      ]
     },
     "metadata": {},
     "output_type": "display_data"
    }
   ],
   "source": [
    "#to calculate the 95% interval\n",
    "p <- seq(0,1,0.01)\n",
    "beta_post <- dbeta(p, r+a, n-r+b)\n",
    "flat_post <- dbeta(p, r+1, n-r+1)\n",
    "\n",
    "cdf_beta <- sintegral(p, beta_post)\n",
    "cdf_flat <- sintegral(p, flat_post)\n",
    "par(mfrow=c(2,2))\n",
    "plot(cdf_beta,type=\"l\",xlab=expression(theta[0]) ,ylab=expression(Pr(theta<=theta[0])), main = 'CDF Beta Prior')\n",
    "plot(cdf_flat,type=\"l\",xlab=expression(theta[0]) ,ylab=expression(Pr(theta<=theta[0])), main = 'CDF Flat Prior')"
   ]
  },
  {
   "cell_type": "code",
   "execution_count": 32,
   "metadata": {},
   "outputs": [],
   "source": [
    "#Beta\n",
    "d<-abs(cdf_beta$y-0.025)\n",
    "lb_beta<-cdf_beta$x[max((1:length(cdf_beta$y))[d==min(d)])]\n",
    "\n",
    "d<-abs(cdf_beta$y-0.975)\n",
    "ub_beta<-cdf_beta$x[min((1:length(cdf_beta$y))[d==min(d)])]\n",
    "\n",
    "#Flat\n",
    "d<-abs(cdf_flat$y-0.025)\n",
    "lb_flat<-cdf_flat$x[max((1:length(cdf_flat$y))[d==min(d)])]\n",
    "\n",
    "d<-abs(cdf_flat$y-0.975)\n",
    "ub_flat<-cdf_flat$x[min((1:length(cdf_flat$y))[d==min(d)])]"
   ]
  },
  {
   "cell_type": "code",
   "execution_count": 33,
   "metadata": {},
   "outputs": [
    {
     "name": "stdout",
     "output_type": "stream",
     "text": [
      "Approximate 95% credible interval for beta prior : [0.3613 0.6348]\n",
      "Approximate 95% credible interval for Flat Prior : [0.3301 0.666]\n"
     ]
    }
   ],
   "source": [
    "cat(paste(\"Approximate 95% credible interval for beta prior : [\"\n",
    "          ,round(lb_beta,4),\" \",round(ub_beta,4),\"]\\n\",sep=\"\"))\n",
    "\n",
    "cat(paste(\"Approximate 95% credible interval for Flat Prior : [\"\n",
    "          ,round(lb_flat,4),\" \",round(ub_flat,4),\"]\\n\",sep=\"\"))"
   ]
  },
  {
   "cell_type": "markdown",
   "metadata": {},
   "source": [
    "c) Repeat the same analysis assuming a sequential analysis of the data. Show how the most probable\n",
    "value and the credibility interval change as a function of the number of coin tosses (i.e. from 1 to\n",
    "30).\n",
    "\n",
    "Now we'll assume that the coin was tossed 30 times and each of them we get a different outcome.\n"
   ]
  },
  {
   "cell_type": "markdown",
   "metadata": {},
   "source": [
    "Of course, the more time it goes, the more resemble it is the likelihood with the beta and flat posterior.\n",
    "\n",
    "\n",
    "\n"
   ]
  },
  {
   "cell_type": "code",
   "execution_count": 34,
   "metadata": {},
   "outputs": [
    {
     "data": {
      "image/png": "[encoded data removed]",
      "text/plain": [
       "Plot with title \"r = 4\""
      ]
     },
     "metadata": {},
     "output_type": "display_data"
    },
    {
     "data": {
      "image/png": "[encoded data removed]",
      "text/plain": [
       "Plot with title \"r = 11\""
      ]
     },
     "metadata": {},
     "output_type": "display_data"
    },
    {
     "data": {
      "image/png": "[encoded data removed]",
      "text/plain": [
       "Plot with title \"r = 15\""
      ]
     },
     "metadata": {},
     "output_type": "display_data"
    }
   ],
   "source": [
    "beta.mean <- c()\n",
    "flat.mean <- c()\n",
    "\n",
    "beta.lb<- c()\n",
    "beta.ub <- c()\n",
    "\n",
    "flat.lb<- c()\n",
    "flat.ub <- c()\n",
    "\n",
    "#The first value is given by;\n",
    "p <- seq(0,1, 0.01)\n",
    "n <- 1\n",
    "r <- 0\n",
    "\n",
    "p.likelihood <- dbinom(x = r, size = n, prob = p)\n",
    "p.likelihood <- p.likelihood /(0.01 *sum(p.likelihood ))\n",
    "\n",
    "flat_prior <- dunif(p, 0, 1)\n",
    "flat_posterior <- p.likelihood * flat_prior# / integrate(flat_, 0, 1)$value\n",
    "flat_posterior <- flat_posterior / (0.01*sum(flat_posterior))\n",
    "\n",
    "beta_prior <- dbeta(p, a, b)\n",
    "beta_posterior <- p.likelihood * beta_prior# / integrate(beta_, 0, 1)$value\n",
    "beta_posterior <- beta_posterior / (0.01*sum(beta_posterior))\n",
    "\n",
    "beta_mean <- sum(p * beta_posterior * 0.01)#integrate(beta_, 0, 1)$value\n",
    "beta.mean <- append(beta.mean, beta_mean)\n",
    "\n",
    "flat_mean <- sum(p * flat_posterior*0.01)#integrate(flat_, 0, 1)$value\n",
    "flat.mean <- append(flat.mean, flat_mean)\n",
    "\n",
    "#Calculating the 95% interval\n",
    "cdf_beta <- sintegral(p, beta_posterior)\n",
    "cdf_flat <- sintegral(p, flat_posterior)\n",
    "\n",
    "#Beta\n",
    "d<-abs(cdf_beta$y-0.025)\n",
    "lb_beta<-cdf_beta$x[max((1:length(cdf_beta$y))[d==min(d)])]\n",
    "beta.lb <- append(beta.lb, round(lb_beta,4))\n",
    "\n",
    "d<-abs(cdf_beta$y-0.975)\n",
    "ub_beta<-cdf_beta$x[min((1:length(cdf_beta$y))[d==min(d)])]\n",
    "beta.ub <- append(beta.ub, round(ub_beta,4))\n",
    "\n",
    "#Flat\n",
    "d<-abs(cdf_flat$y-0.025)\n",
    "lb_flat<-cdf_flat$x[max((1:length(cdf_flat$y))[d==min(d)])]\n",
    "flat.lb <- append(flat.lb, round(lb_flat,4))\n",
    "\n",
    "d<-abs(cdf_flat$y-0.975)\n",
    "ub_flat<-cdf_flat$x[min((1:length(cdf_flat$y))[d==min(d)])]\n",
    "flat.ub <- append(flat.ub, round(ub_flat,4))\n",
    "\n",
    "#The result of the coins are given as:\n",
    "results <- c(0,  0, 0, 0, 0, 1, 0, 0, 1, 1, 0, 0, 1, 1, 1, 0, 1, 0, 1, 0, 1, 1, 0, 1, 0, 1, 0, 1, 1, 1 )\n",
    "\n",
    "#size\n",
    "j <- 2\n",
    "#number of succes \n",
    "r <- 0\n",
    "\n",
    "flat_prior <- flat_posterior\n",
    "beta_prior <- beta_posterior\n",
    "par(mfrow=c(3,4))#, mgp=c(2,0.8,0), mar=c(3.5,3.5,1.5,1), oma=0.5*c(1,1,1,1))\n",
    "\n",
    "for( i in results[2:30]){    \n",
    "    n <- j \n",
    "    r <-i +r\n",
    "\n",
    "    #posterior becomes prior\n",
    "    p.likelihood <- dbinom(x = i, size = 1, prob = p)\n",
    "    p.likelihood <- p.likelihood /(0.01 *sum(p.likelihood ))\n",
    "\n",
    "    #flat_prior <- flat_posterior \n",
    "    flat_posterior <- p.likelihood * flat_prior# / integrate(flat_, 0, 1)$value\n",
    "    flat_posterior <- flat_posterior / (0.01*sum(flat_posterior))\n",
    "    \n",
    "   # beta_prior <- beta_posterior\n",
    "    beta_posterior <- p.likelihood * beta_prior# / integrate(beta_, 0, 1)$value\n",
    "    beta_posterior <- beta_posterior / (0.01*sum(beta_posterior))\n",
    "    \n",
    "    \n",
    "    plot(p,beta_posterior, type=\"l\", lwd=1.5, col = 'navy', lty=2, xlim=c(0,1), ylim=c(0, 6.5),\n",
    "    xaxs=\"i\", yaxs=\"i\", xlab=\"p\", ylab=\"Posterior\", pch=\"*\")\n",
    "    lines(p, flat_posterior, lwd=1.5, lty=3, col='salmon')\n",
    "    title(main=paste(\"r =\",r), line=0.3, cex.main=1.2)\n",
    "    \n",
    "    flat_prior <- flat_posterior\n",
    "    beta_prior <- beta_posterior\n",
    "#---------------------------------------------------------------------------------------\n",
    "    beta_mean <- sum(p * beta_posterior * 0.01)#integrate(beta_, 0, 1)$value\n",
    "    beta.mean <- append(beta.mean, beta_mean)\n",
    "\n",
    "    flat_mean <- sum(p * flat_posterior*0.01)#integrate(flat_, 0, 1)$value\n",
    "    flat.mean <- append(flat.mean, flat_mean)\n",
    "\n",
    "    #Calculating the 95% interval\n",
    "    cdf_beta <- sintegral(p, beta_posterior)\n",
    "    cdf_flat <- sintegral(p, flat_posterior)\n",
    "\n",
    "    #Beta\n",
    "    d<-abs(cdf_beta$y-0.025)\n",
    "    lb_beta<-cdf_beta$x[max((1:length(cdf_beta$y))[d==min(d)])]\n",
    "    beta.lb <- append(beta.lb, round(lb_beta,4))\n",
    "    \n",
    "    d<-abs(cdf_beta$y-0.975)\n",
    "    ub_beta<-cdf_beta$x[min((1:length(cdf_beta$y))[d==min(d)])]\n",
    "    beta.ub <- append(beta.ub, round(ub_beta,4))\n",
    "    \n",
    "    #Flat\n",
    "    d<-abs(cdf_flat$y-0.025)\n",
    "    lb_flat<-cdf_flat$x[max((1:length(cdf_flat$y))[d==min(d)])]\n",
    "    flat.lb <- append(flat.lb, round(lb_flat,4))\n",
    "    \n",
    "    d<-abs(cdf_flat$y-0.975)\n",
    "    ub_flat<-cdf_flat$x[min((1:length(cdf_flat$y))[d==min(d)])]\n",
    "    flat.ub <- append(flat.ub, round(ub_flat,4))\n",
    "     \n",
    "    j <- j + 1\n",
    "    \n",
    "}\n"
   ]
  },
  {
   "cell_type": "code",
   "execution_count": 35,
   "metadata": {},
   "outputs": [
    {
     "data": {
      "text/html": [
       "<table>\n",
       "<thead><tr><th scope=col>Step</th><th scope=col>Lower Band - Beta Prior</th><th scope=col>Upper Band - Beta Prior</th><th scope=col>Lower Band - Flat Prior</th><th scope=col>Upper Band - Flat Prior</th></tr></thead>\n",
       "<tbody>\n",
       "\t<tr><td> 1    </td><td>0.2715</td><td>0.6816</td><td>0.0098</td><td>0.8730</td></tr>\n",
       "\t<tr><td> 2    </td><td>0.2559</td><td>0.6582</td><td>0.0059</td><td>0.7793</td></tr>\n",
       "\t<tr><td> 3    </td><td>0.2402</td><td>0.6348</td><td>0.0059</td><td>0.7246</td></tr>\n",
       "\t<tr><td> 4    </td><td>0.2285</td><td>0.6113</td><td>0.0020</td><td>0.7676</td></tr>\n",
       "\t<tr><td> 5    </td><td>0.2207</td><td>0.5918</td><td>0.0020</td><td>0.9980</td></tr>\n",
       "\t<tr><td> 6    </td><td>0.2402</td><td>0.6113</td><td>0.0332</td><td>0.5762</td></tr>\n",
       "\t<tr><td> 7    </td><td>0.2324</td><td>0.5918</td><td>0.0293</td><td>0.5254</td></tr>\n",
       "\t<tr><td> 8    </td><td>0.2207</td><td>0.5762</td><td>0.0254</td><td>0.4824</td></tr>\n",
       "\t<tr><td> 9    </td><td>0.2441</td><td>0.5918</td><td>0.0645</td><td>0.5527</td></tr>\n",
       "\t<tr><td>10    </td><td>0.2637</td><td>0.6074</td><td>0.1074</td><td>0.6074</td></tr>\n",
       "\t<tr><td>11    </td><td>0.2520</td><td>0.5918</td><td>0.0957</td><td>0.5684</td></tr>\n",
       "\t<tr><td>12    </td><td>0.2441</td><td>0.5762</td><td>0.0879</td><td>0.5371</td></tr>\n",
       "\t<tr><td>13    </td><td>0.2598</td><td>0.5918</td><td>0.1270</td><td>0.5801</td></tr>\n",
       "\t<tr><td>14    </td><td>0.2793</td><td>0.6074</td><td>0.1621</td><td>0.6152</td></tr>\n",
       "\t<tr><td>15    </td><td>0.2949</td><td>0.6191</td><td>0.1973</td><td>0.6426</td></tr>\n",
       "\t<tr><td>16    </td><td>0.2871</td><td>0.6035</td><td>0.1816</td><td>0.6152</td></tr>\n",
       "\t<tr><td>17    </td><td>0.3027</td><td>0.6191</td><td>0.2129</td><td>0.6426</td></tr>\n",
       "\t<tr><td>18    </td><td>0.2910</td><td>0.6035</td><td>0.2012</td><td>0.6152</td></tr>\n",
       "\t<tr><td>19    </td><td>0.3066</td><td>0.6152</td><td>0.2285</td><td>0.6387</td></tr>\n",
       "\t<tr><td>20    </td><td>0.2988</td><td>0.6035</td><td>0.2168</td><td>0.6152</td></tr>\n",
       "\t<tr><td>21    </td><td>0.3145</td><td>0.6152</td><td>0.2402</td><td>0.6348</td></tr>\n",
       "\t<tr><td>22    </td><td>0.3262</td><td>0.6230</td><td>0.2676</td><td>0.6543</td></tr>\n",
       "\t<tr><td>23    </td><td>0.3184</td><td>0.6113</td><td>0.2520</td><td>0.6309</td></tr>\n",
       "\t<tr><td>24    </td><td>0.3301</td><td>0.6230</td><td>0.2754</td><td>0.6504</td></tr>\n",
       "\t<tr><td>25    </td><td>0.3223</td><td>0.6113</td><td>0.2637</td><td>0.6309</td></tr>\n",
       "\t<tr><td>26    </td><td>0.3340</td><td>0.6191</td><td>0.2832</td><td>0.6465</td></tr>\n",
       "\t<tr><td>27    </td><td>0.3262</td><td>0.6074</td><td>0.2715</td><td>0.6270</td></tr>\n",
       "\t<tr><td>28    </td><td>0.3379</td><td>0.6191</td><td>0.2910</td><td>0.6426</td></tr>\n",
       "\t<tr><td>29    </td><td>0.3496</td><td>0.6270</td><td>0.3105</td><td>0.6543</td></tr>\n",
       "\t<tr><td>30    </td><td>0.3613</td><td>0.6348</td><td>0.3301</td><td>0.6660</td></tr>\n",
       "</tbody>\n",
       "</table>\n"
      ],
      "text/latex": [
       "\\begin{tabular}{r|lllll}\n",
       " Step & Lower Band - Beta Prior & Upper Band - Beta Prior & Lower Band - Flat Prior & Upper Band - Flat Prior\\\\\n",
       "\\hline\n",
       "\t  1     & 0.2715 & 0.6816 & 0.0098 & 0.8730\\\\\n",
       "\t  2     & 0.2559 & 0.6582 & 0.0059 & 0.7793\\\\\n",
       "\t  3     & 0.2402 & 0.6348 & 0.0059 & 0.7246\\\\\n",
       "\t  4     & 0.2285 & 0.6113 & 0.0020 & 0.7676\\\\\n",
       "\t  5     & 0.2207 & 0.5918 & 0.0020 & 0.9980\\\\\n",
       "\t  6     & 0.2402 & 0.6113 & 0.0332 & 0.5762\\\\\n",
       "\t  7     & 0.2324 & 0.5918 & 0.0293 & 0.5254\\\\\n",
       "\t  8     & 0.2207 & 0.5762 & 0.0254 & 0.4824\\\\\n",
       "\t  9     & 0.2441 & 0.5918 & 0.0645 & 0.5527\\\\\n",
       "\t 10     & 0.2637 & 0.6074 & 0.1074 & 0.6074\\\\\n",
       "\t 11     & 0.2520 & 0.5918 & 0.0957 & 0.5684\\\\\n",
       "\t 12     & 0.2441 & 0.5762 & 0.0879 & 0.5371\\\\\n",
       "\t 13     & 0.2598 & 0.5918 & 0.1270 & 0.5801\\\\\n",
       "\t 14     & 0.2793 & 0.6074 & 0.1621 & 0.6152\\\\\n",
       "\t 15     & 0.2949 & 0.6191 & 0.1973 & 0.6426\\\\\n",
       "\t 16     & 0.2871 & 0.6035 & 0.1816 & 0.6152\\\\\n",
       "\t 17     & 0.3027 & 0.6191 & 0.2129 & 0.6426\\\\\n",
       "\t 18     & 0.2910 & 0.6035 & 0.2012 & 0.6152\\\\\n",
       "\t 19     & 0.3066 & 0.6152 & 0.2285 & 0.6387\\\\\n",
       "\t 20     & 0.2988 & 0.6035 & 0.2168 & 0.6152\\\\\n",
       "\t 21     & 0.3145 & 0.6152 & 0.2402 & 0.6348\\\\\n",
       "\t 22     & 0.3262 & 0.6230 & 0.2676 & 0.6543\\\\\n",
       "\t 23     & 0.3184 & 0.6113 & 0.2520 & 0.6309\\\\\n",
       "\t 24     & 0.3301 & 0.6230 & 0.2754 & 0.6504\\\\\n",
       "\t 25     & 0.3223 & 0.6113 & 0.2637 & 0.6309\\\\\n",
       "\t 26     & 0.3340 & 0.6191 & 0.2832 & 0.6465\\\\\n",
       "\t 27     & 0.3262 & 0.6074 & 0.2715 & 0.6270\\\\\n",
       "\t 28     & 0.3379 & 0.6191 & 0.2910 & 0.6426\\\\\n",
       "\t 29     & 0.3496 & 0.6270 & 0.3105 & 0.6543\\\\\n",
       "\t 30     & 0.3613 & 0.6348 & 0.3301 & 0.6660\\\\\n",
       "\\end{tabular}\n"
      ],
      "text/markdown": [
       "\n",
       "| Step | Lower Band - Beta Prior | Upper Band - Beta Prior | Lower Band - Flat Prior | Upper Band - Flat Prior |\n",
       "|---|---|---|---|---|\n",
       "|  1     | 0.2715 | 0.6816 | 0.0098 | 0.8730 |\n",
       "|  2     | 0.2559 | 0.6582 | 0.0059 | 0.7793 |\n",
       "|  3     | 0.2402 | 0.6348 | 0.0059 | 0.7246 |\n",
       "|  4     | 0.2285 | 0.6113 | 0.0020 | 0.7676 |\n",
       "|  5     | 0.2207 | 0.5918 | 0.0020 | 0.9980 |\n",
       "|  6     | 0.2402 | 0.6113 | 0.0332 | 0.5762 |\n",
       "|  7     | 0.2324 | 0.5918 | 0.0293 | 0.5254 |\n",
       "|  8     | 0.2207 | 0.5762 | 0.0254 | 0.4824 |\n",
       "|  9     | 0.2441 | 0.5918 | 0.0645 | 0.5527 |\n",
       "| 10     | 0.2637 | 0.6074 | 0.1074 | 0.6074 |\n",
       "| 11     | 0.2520 | 0.5918 | 0.0957 | 0.5684 |\n",
       "| 12     | 0.2441 | 0.5762 | 0.0879 | 0.5371 |\n",
       "| 13     | 0.2598 | 0.5918 | 0.1270 | 0.5801 |\n",
       "| 14     | 0.2793 | 0.6074 | 0.1621 | 0.6152 |\n",
       "| 15     | 0.2949 | 0.6191 | 0.1973 | 0.6426 |\n",
       "| 16     | 0.2871 | 0.6035 | 0.1816 | 0.6152 |\n",
       "| 17     | 0.3027 | 0.6191 | 0.2129 | 0.6426 |\n",
       "| 18     | 0.2910 | 0.6035 | 0.2012 | 0.6152 |\n",
       "| 19     | 0.3066 | 0.6152 | 0.2285 | 0.6387 |\n",
       "| 20     | 0.2988 | 0.6035 | 0.2168 | 0.6152 |\n",
       "| 21     | 0.3145 | 0.6152 | 0.2402 | 0.6348 |\n",
       "| 22     | 0.3262 | 0.6230 | 0.2676 | 0.6543 |\n",
       "| 23     | 0.3184 | 0.6113 | 0.2520 | 0.6309 |\n",
       "| 24     | 0.3301 | 0.6230 | 0.2754 | 0.6504 |\n",
       "| 25     | 0.3223 | 0.6113 | 0.2637 | 0.6309 |\n",
       "| 26     | 0.3340 | 0.6191 | 0.2832 | 0.6465 |\n",
       "| 27     | 0.3262 | 0.6074 | 0.2715 | 0.6270 |\n",
       "| 28     | 0.3379 | 0.6191 | 0.2910 | 0.6426 |\n",
       "| 29     | 0.3496 | 0.6270 | 0.3105 | 0.6543 |\n",
       "| 30     | 0.3613 | 0.6348 | 0.3301 | 0.6660 |\n",
       "\n"
      ],
      "text/plain": [
       "   Step Lower Band - Beta Prior Upper Band - Beta Prior Lower Band - Flat Prior\n",
       "1   1   0.2715                  0.6816                  0.0098                 \n",
       "2   2   0.2559                  0.6582                  0.0059                 \n",
       "3   3   0.2402                  0.6348                  0.0059                 \n",
       "4   4   0.2285                  0.6113                  0.0020                 \n",
       "5   5   0.2207                  0.5918                  0.0020                 \n",
       "6   6   0.2402                  0.6113                  0.0332                 \n",
       "7   7   0.2324                  0.5918                  0.0293                 \n",
       "8   8   0.2207                  0.5762                  0.0254                 \n",
       "9   9   0.2441                  0.5918                  0.0645                 \n",
       "10 10   0.2637                  0.6074                  0.1074                 \n",
       "11 11   0.2520                  0.5918                  0.0957                 \n",
       "12 12   0.2441                  0.5762                  0.0879                 \n",
       "13 13   0.2598                  0.5918                  0.1270                 \n",
       "14 14   0.2793                  0.6074                  0.1621                 \n",
       "15 15   0.2949                  0.6191                  0.1973                 \n",
       "16 16   0.2871                  0.6035                  0.1816                 \n",
       "17 17   0.3027                  0.6191                  0.2129                 \n",
       "18 18   0.2910                  0.6035                  0.2012                 \n",
       "19 19   0.3066                  0.6152                  0.2285                 \n",
       "20 20   0.2988                  0.6035                  0.2168                 \n",
       "21 21   0.3145                  0.6152                  0.2402                 \n",
       "22 22   0.3262                  0.6230                  0.2676                 \n",
       "23 23   0.3184                  0.6113                  0.2520                 \n",
       "24 24   0.3301                  0.6230                  0.2754                 \n",
       "25 25   0.3223                  0.6113                  0.2637                 \n",
       "26 26   0.3340                  0.6191                  0.2832                 \n",
       "27 27   0.3262                  0.6074                  0.2715                 \n",
       "28 28   0.3379                  0.6191                  0.2910                 \n",
       "29 29   0.3496                  0.6270                  0.3105                 \n",
       "30 30   0.3613                  0.6348                  0.3301                 \n",
       "   Upper Band - Flat Prior\n",
       "1  0.8730                 \n",
       "2  0.7793                 \n",
       "3  0.7246                 \n",
       "4  0.7676                 \n",
       "5  0.9980                 \n",
       "6  0.5762                 \n",
       "7  0.5254                 \n",
       "8  0.4824                 \n",
       "9  0.5527                 \n",
       "10 0.6074                 \n",
       "11 0.5684                 \n",
       "12 0.5371                 \n",
       "13 0.5801                 \n",
       "14 0.6152                 \n",
       "15 0.6426                 \n",
       "16 0.6152                 \n",
       "17 0.6426                 \n",
       "18 0.6152                 \n",
       "19 0.6387                 \n",
       "20 0.6152                 \n",
       "21 0.6348                 \n",
       "22 0.6543                 \n",
       "23 0.6309                 \n",
       "24 0.6504                 \n",
       "25 0.6309                 \n",
       "26 0.6465                 \n",
       "27 0.6270                 \n",
       "28 0.6426                 \n",
       "29 0.6543                 \n",
       "30 0.6660                 "
      ]
     },
     "metadata": {},
     "output_type": "display_data"
    }
   ],
   "source": [
    "df <- data.frame(1:30, beta.lb,beta.ub,  flat.lb, flat.ub)\n",
    "col_names <- c(\"Step\", \"Lower Band - Beta Prior\", \"Upper Band - Beta Prior\", \"Lower Band - Flat Prior\",\"Upper Band - Flat Prior\")\n",
    "names(df) <- col_names\n",
    "df"
   ]
  },
  {
   "cell_type": "code",
   "execution_count": 36,
   "metadata": {},
   "outputs": [
    {
     "data": {
      "image/png": "[encoded data removed]",
      "text/plain": [
       "Plot with title \"Mean of Sequential Analysis\""
      ]
     },
     "metadata": {},
     "output_type": "display_data"
    }
   ],
   "source": [
    "x <- 1:30\n",
    "plot(x, beta.mean, type=\"o\", col=\"blue\", pch=\"o\", ylim = c(0,0.55), lty=1, ylab=\"Mean\", xlab = \"Steps\")\n",
    "points(x, flat.mean, col=\"red\", pch=\"*\")\n",
    "lines(x, flat.mean, col=\"red\",lty=2)\n",
    "title('Mean of Sequential Analysis')\n",
    "\n",
    "legend(\"bottomleft\", \n",
    "  legend = c(\"Beta Prior\", \"Flat Prior\"), \n",
    "  col = c(\"blue\",\"red\"), \n",
    "  pch = c(\"o\",\"*\"), \n",
    "  bty = \"n\", \n",
    "  pt.cex = 2, \n",
    "  cex = 1.2, \n",
    "  text.col = \"black\", \n",
    "  horiz = F , \n",
    "  inset = c(0.1, 0.1))"
   ]
  },
  {
   "cell_type": "code",
   "execution_count": 37,
   "metadata": {},
   "outputs": [
    {
     "data": {
      "image/png": "[encoded data removed]",
      "text/plain": [
       "plot without title"
      ]
     },
     "metadata": {},
     "output_type": "display_data"
    }
   ],
   "source": [
    "n <- 6\n",
    "r <- 1\n",
    "p <- seq(0,1, 0.01)\n",
    "p.likelihood <- dbinom(x = r, size = n, prob = p)\n",
    "p.likelihood <- p.likelihood /( 0.01* sum(p.likelihood ))\n",
    "flat_posterior <- dbeta(p, r+1, n-r+1)\n",
    "beta_posterior <- dbeta(p, r+a, n-r+b)\n",
    "\n",
    "df <- data.frame(p,  p.likelihood, flat_posterior, beta_posterior)\n",
    "\n",
    "p <-ggplot(df, aes(x=p, y = flat_posterior, col = 'Flat probability')) \n",
    "p <- p +  geom_line()  \n",
    "p <- p +   geom_line(aes(x=p, y = beta_posterior, col = 'Beta probability'))\n",
    "p <- p +   geom_line(aes(x=p, y = p.likelihood, col = 'Likelihood probability'))\n",
    "p <- p +  labs( y=\"Probability\", x = \"x\", col = 'Probability')  \n",
    "p <- p + ggtitle(\"Coin tossed 6 times with one head\")+ theme_hc()+ scale_colour_hc()\n",
    "p <- p \n",
    "p"
   ]
  },
  {
   "cell_type": "code",
   "execution_count": 38,
   "metadata": {},
   "outputs": [
    {
     "data": {
      "image/png": "[encoded data removed]",
      "text/plain": [
       "plot without title"
      ]
     },
     "metadata": {},
     "output_type": "display_data"
    }
   ],
   "source": [
    "n <- 15\n",
    "#the number of heads it is 15\n",
    "r <- 6\n",
    "p <- seq(0,1, 0.01)\n",
    "p.likelihood <- dbinom(x = r, size = n, prob = p)\n",
    "p.likelihood <- p.likelihood /( 0.01* sum(p.likelihood ))\n",
    "flat_posterior <- dbeta(p, r+1, n-r+1)\n",
    "beta_posterior <- dbeta(p, r+a, n-r+b)\n",
    "\n",
    "df <- data.frame(p,  p.likelihood, flat_posterior, beta_posterior)\n",
    "\n",
    "p <-ggplot(df, aes(x=p, y = flat_posterior, col = 'Flat posterior')) \n",
    "p <- p +  geom_line()  \n",
    "p <- p +   geom_line(aes(x=p, y = beta_posterior, col = 'Beta Posterior'))\n",
    "p <- p +   geom_line(aes(x=p, y = p.likelihood, col = 'Likelihood probability'))\n",
    "p <- p +  labs( y=\"Probability\", x = \"x\", col = 'Probability')  \n",
    "p <- p + ggtitle(\"Coin tossed 15 times with 6 heads\")+ theme_hc()+ scale_colour_hc()\n",
    "p <- p \n",
    "p"
   ]
  },
  {
   "cell_type": "code",
   "execution_count": 39,
   "metadata": {},
   "outputs": [
    {
     "data": {
      "image/png": "[encoded data removed]",
      "text/plain": [
       "plot without title"
      ]
     },
     "metadata": {},
     "output_type": "display_data"
    }
   ],
   "source": [
    "n <- 1000\n",
    "r <- 750\n",
    "p <- seq(0,1, 0.01)\n",
    "p.likelihood <- dbinom(x = r, size = n, prob = p)\n",
    "p.likelihood <- p.likelihood /(0.01 *sum(p.likelihood ))\n",
    "\n",
    "flat_prior <- dunif(p, 0, 1)\n",
    "flat_ <- function(p){dunif(p, 0, 1) * dbinom(x = r, size = n, prob = p)}\n",
    "flat_posterior <- p.likelihood * flat_prior# / integrate(flat_, 0, 1)$value\n",
    "flat_posterior <- flat_posterior / (0.01*sum(flat_posterior))\n",
    "\n",
    "beta_prior <- dbeta(p, a, b)\n",
    "beta_ <- function(p){dbeta(p, a, b) * dbinom(x = r, size = n, prob = p)}\n",
    "beta_posterior <- p.likelihood * beta_prior# / integrate(beta_, 0, 1)$value\n",
    "beta_posterior <- beta_posterior / (0.01*sum(beta_posterior))\n",
    "\n",
    "df <- data.frame(p,  p.likelihood, flat_posterior, beta_posterior)\n",
    "p <-ggplot(df, aes(x=p, y = flat_posterior, col = 'Flat posterior')) \n",
    "p <- p +  geom_line()  \n",
    "p <- p +   geom_line(aes(x=p, y = beta_posterior, col = 'Beta posterior'))\n",
    "p <- p +   geom_line(aes(x=p, y = p.likelihood, col = 'Likelihood probability'))\n",
    "p <- p +  labs( y=\"Probability\", x = \"x\", col = 'Probability')  \n",
    "p <- p + ggtitle(\"Coin tossed 1000 times with 750 heads\")+ theme_hc()+ scale_colour_hc()\n",
    "p <- p \n",
    "p"
   ]
  },
  {
   "cell_type": "markdown",
   "metadata": {},
   "source": [
    "d) Do you get a different result, by analyzing the data sequentially with respect to a one-step analysis (i.e. considering all the data as a whole) ?\n",
    "\n",
    "The results are the same for both cases. It can be seen that when the number of flips increases, the prior become independent of the posterior as the above graph."
   ]
  }
 ],
 "metadata": {
  "kernelspec": {
   "display_name": "R",
   "language": "R",
   "name": "ir"
  },
  "language_info": {
   "codemirror_mode": "r",
   "file_extension": ".r",
   "mimetype": "text/x-r-source",
   "name": "R",
   "pygments_lexer": "r",
   "version": "3.6.1"
  }
 },
 "nbformat": 4,
 "nbformat_minor": 4
}
