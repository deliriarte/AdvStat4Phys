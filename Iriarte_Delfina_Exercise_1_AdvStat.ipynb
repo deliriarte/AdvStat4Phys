{
 "cells": [
  {
   "cell_type": "code",
   "execution_count": 1,
   "metadata": {},
   "outputs": [],
   "source": [
    "#setwd(\"~/R\")"
   ]
  },
  {
   "cell_type": "markdown",
   "metadata": {},
   "source": [
    "## Exercise 1 - vectors and data frames"
   ]
  },
  {
   "cell_type": "code",
   "execution_count": 2,
   "metadata": {},
   "outputs": [],
   "source": [
    "Volume <- c(7.45, 2.6, 2.3, 1.6, 1.2, 1.09, 1.08, 1.07, 0.97, 0.79, 0.77, 0.75, 0.35)\n",
    "Area <- c(56, 71, 27, 26.4, 39, 28.6, 18.6, 16, 19, 19.5, 12.4, 16, 22.5)\n",
    "Length <- c(39, 36, 18.8, 23, 41, 20, 23, 16, 15.7, 28, 12.9, 19.3, 27.8)\n",
    "Max_depth <- c(230, 190, 310, 150, 94, 114, 156, 162, 134, 128, 151, 109, 49)\n",
    "Mean_Depth <- c(132, 37, 87, 60.6, 32, 38, 57.6, 70, 51, 40, 43.4, 46.5, 15.5)\n",
    "Loch <- c(\"Loch Ness\", \"Loch Lomond\", \"Loch Morar\", \"Loch Tay\", \"Loch Awe\", \"Loch Maree\", \"Loch Ericht\", \"Loch Lochy\", \"Loch Rannoch\", \"Loch Shiel\", \"Loch Katrine\", \"Loch Arkaig\", \"Loch Shin\")"
   ]
  },
  {
   "cell_type": "code",
   "execution_count": 3,
   "metadata": {},
   "outputs": [],
   "source": [
    "names(Volume) <- Loch\n",
    "names(Area) <- Loch\n",
    "names(Length) <- Loch\n",
    "names(Max_depth) <- Loch\n",
    "names(Mean_Depth) <- Loch"
   ]
  },
  {
   "cell_type": "code",
   "execution_count": 4,
   "metadata": {},
   "outputs": [],
   "source": [
    "scottish.lakes <- data.frame(Volume, Area, Length, Max_depth, Mean_Depth)\n"
   ]
  },
  {
   "cell_type": "code",
   "execution_count": 5,
   "metadata": {},
   "outputs": [
    {
     "data": {
      "text/html": [
       "<table>\n",
       "<thead><tr><th></th><th scope=col>Volume</th><th scope=col>Area</th><th scope=col>Length</th><th scope=col>Max_depth</th><th scope=col>Mean_Depth</th></tr></thead>\n",
       "<tbody>\n",
       "\t<tr><th scope=row>Loch Ness</th><td>7.45 </td><td>56.0 </td><td>39.0 </td><td>230  </td><td>132.0</td></tr>\n",
       "\t<tr><th scope=row>Loch Lomond</th><td>2.60 </td><td>71.0 </td><td>36.0 </td><td>190  </td><td> 37.0</td></tr>\n",
       "\t<tr><th scope=row>Loch Morar</th><td>2.30 </td><td>27.0 </td><td>18.8 </td><td>310  </td><td> 87.0</td></tr>\n",
       "\t<tr><th scope=row>Loch Tay</th><td>1.60 </td><td>26.4 </td><td>23.0 </td><td>150  </td><td> 60.6</td></tr>\n",
       "\t<tr><th scope=row>Loch Awe</th><td>1.20 </td><td>39.0 </td><td>41.0 </td><td> 94  </td><td> 32.0</td></tr>\n",
       "\t<tr><th scope=row>Loch Maree</th><td>1.09 </td><td>28.6 </td><td>20.0 </td><td>114  </td><td> 38.0</td></tr>\n",
       "\t<tr><th scope=row>Loch Ericht</th><td>1.08 </td><td>18.6 </td><td>23.0 </td><td>156  </td><td> 57.6</td></tr>\n",
       "\t<tr><th scope=row>Loch Lochy</th><td>1.07 </td><td>16.0 </td><td>16.0 </td><td>162  </td><td> 70.0</td></tr>\n",
       "\t<tr><th scope=row>Loch Rannoch</th><td>0.97 </td><td>19.0 </td><td>15.7 </td><td>134  </td><td> 51.0</td></tr>\n",
       "\t<tr><th scope=row>Loch Shiel</th><td>0.79 </td><td>19.5 </td><td>28.0 </td><td>128  </td><td> 40.0</td></tr>\n",
       "\t<tr><th scope=row>Loch Katrine</th><td>0.77 </td><td>12.4 </td><td>12.9 </td><td>151  </td><td> 43.4</td></tr>\n",
       "\t<tr><th scope=row>Loch Arkaig</th><td>0.75 </td><td>16.0 </td><td>19.3 </td><td>109  </td><td> 46.5</td></tr>\n",
       "\t<tr><th scope=row>Loch Shin</th><td>0.35 </td><td>22.5 </td><td>27.8 </td><td> 49  </td><td> 15.5</td></tr>\n",
       "</tbody>\n",
       "</table>\n"
      ],
      "text/latex": [
       "\\begin{tabular}{r|lllll}\n",
       "  & Volume & Area & Length & Max\\_depth & Mean\\_Depth\\\\\n",
       "\\hline\n",
       "\tLoch Ness & 7.45  & 56.0  & 39.0  & 230   & 132.0\\\\\n",
       "\tLoch Lomond & 2.60  & 71.0  & 36.0  & 190   &  37.0\\\\\n",
       "\tLoch Morar & 2.30  & 27.0  & 18.8  & 310   &  87.0\\\\\n",
       "\tLoch Tay & 1.60  & 26.4  & 23.0  & 150   &  60.6\\\\\n",
       "\tLoch Awe & 1.20  & 39.0  & 41.0  &  94   &  32.0\\\\\n",
       "\tLoch Maree & 1.09  & 28.6  & 20.0  & 114   &  38.0\\\\\n",
       "\tLoch Ericht & 1.08  & 18.6  & 23.0  & 156   &  57.6\\\\\n",
       "\tLoch Lochy & 1.07  & 16.0  & 16.0  & 162   &  70.0\\\\\n",
       "\tLoch Rannoch & 0.97  & 19.0  & 15.7  & 134   &  51.0\\\\\n",
       "\tLoch Shiel & 0.79  & 19.5  & 28.0  & 128   &  40.0\\\\\n",
       "\tLoch Katrine & 0.77  & 12.4  & 12.9  & 151   &  43.4\\\\\n",
       "\tLoch Arkaig & 0.75  & 16.0  & 19.3  & 109   &  46.5\\\\\n",
       "\tLoch Shin & 0.35  & 22.5  & 27.8  &  49   &  15.5\\\\\n",
       "\\end{tabular}\n"
      ],
      "text/markdown": [
       "\n",
       "| <!--/--> | Volume | Area | Length | Max_depth | Mean_Depth |\n",
       "|---|---|---|---|---|---|\n",
       "| Loch Ness | 7.45  | 56.0  | 39.0  | 230   | 132.0 |\n",
       "| Loch Lomond | 2.60  | 71.0  | 36.0  | 190   |  37.0 |\n",
       "| Loch Morar | 2.30  | 27.0  | 18.8  | 310   |  87.0 |\n",
       "| Loch Tay | 1.60  | 26.4  | 23.0  | 150   |  60.6 |\n",
       "| Loch Awe | 1.20  | 39.0  | 41.0  |  94   |  32.0 |\n",
       "| Loch Maree | 1.09  | 28.6  | 20.0  | 114   |  38.0 |\n",
       "| Loch Ericht | 1.08  | 18.6  | 23.0  | 156   |  57.6 |\n",
       "| Loch Lochy | 1.07  | 16.0  | 16.0  | 162   |  70.0 |\n",
       "| Loch Rannoch | 0.97  | 19.0  | 15.7  | 134   |  51.0 |\n",
       "| Loch Shiel | 0.79  | 19.5  | 28.0  | 128   |  40.0 |\n",
       "| Loch Katrine | 0.77  | 12.4  | 12.9  | 151   |  43.4 |\n",
       "| Loch Arkaig | 0.75  | 16.0  | 19.3  | 109   |  46.5 |\n",
       "| Loch Shin | 0.35  | 22.5  | 27.8  |  49   |  15.5 |\n",
       "\n"
      ],
      "text/plain": [
       "             Volume Area Length Max_depth Mean_Depth\n",
       "Loch Ness    7.45   56.0 39.0   230       132.0     \n",
       "Loch Lomond  2.60   71.0 36.0   190        37.0     \n",
       "Loch Morar   2.30   27.0 18.8   310        87.0     \n",
       "Loch Tay     1.60   26.4 23.0   150        60.6     \n",
       "Loch Awe     1.20   39.0 41.0    94        32.0     \n",
       "Loch Maree   1.09   28.6 20.0   114        38.0     \n",
       "Loch Ericht  1.08   18.6 23.0   156        57.6     \n",
       "Loch Lochy   1.07   16.0 16.0   162        70.0     \n",
       "Loch Rannoch 0.97   19.0 15.7   134        51.0     \n",
       "Loch Shiel   0.79   19.5 28.0   128        40.0     \n",
       "Loch Katrine 0.77   12.4 12.9   151        43.4     \n",
       "Loch Arkaig  0.75   16.0 19.3   109        46.5     \n",
       "Loch Shin    0.35   22.5 27.8    49        15.5     "
      ]
     },
     "metadata": {},
     "output_type": "display_data"
    }
   ],
   "source": [
    "scottish.lakes"
   ]
  },
  {
   "cell_type": "code",
   "execution_count": 6,
   "metadata": {},
   "outputs": [
    {
     "data": {
      "text/html": [
       "<dl>\n",
       "\t<dt>$names</dt>\n",
       "\t\t<dd><ol class=list-inline>\n",
       "\t<li>'Volume'</li>\n",
       "\t<li>'Area'</li>\n",
       "\t<li>'Length'</li>\n",
       "\t<li>'Max_depth'</li>\n",
       "\t<li>'Mean_Depth'</li>\n",
       "</ol>\n",
       "</dd>\n",
       "\t<dt>$class</dt>\n",
       "\t\t<dd>'data.frame'</dd>\n",
       "\t<dt>$row.names</dt>\n",
       "\t\t<dd><ol class=list-inline>\n",
       "\t<li>'Loch Ness'</li>\n",
       "\t<li>'Loch Lomond'</li>\n",
       "\t<li>'Loch Morar'</li>\n",
       "\t<li>'Loch Tay'</li>\n",
       "\t<li>'Loch Awe'</li>\n",
       "\t<li>'Loch Maree'</li>\n",
       "\t<li>'Loch Ericht'</li>\n",
       "\t<li>'Loch Lochy'</li>\n",
       "\t<li>'Loch Rannoch'</li>\n",
       "\t<li>'Loch Shiel'</li>\n",
       "\t<li>'Loch Katrine'</li>\n",
       "\t<li>'Loch Arkaig'</li>\n",
       "\t<li>'Loch Shin'</li>\n",
       "</ol>\n",
       "</dd>\n",
       "</dl>\n"
      ],
      "text/latex": [
       "\\begin{description}\n",
       "\\item[\\$names] \\begin{enumerate*}\n",
       "\\item 'Volume'\n",
       "\\item 'Area'\n",
       "\\item 'Length'\n",
       "\\item 'Max\\_depth'\n",
       "\\item 'Mean\\_Depth'\n",
       "\\end{enumerate*}\n",
       "\n",
       "\\item[\\$class] 'data.frame'\n",
       "\\item[\\$row.names] \\begin{enumerate*}\n",
       "\\item 'Loch Ness'\n",
       "\\item 'Loch Lomond'\n",
       "\\item 'Loch Morar'\n",
       "\\item 'Loch Tay'\n",
       "\\item 'Loch Awe'\n",
       "\\item 'Loch Maree'\n",
       "\\item 'Loch Ericht'\n",
       "\\item 'Loch Lochy'\n",
       "\\item 'Loch Rannoch'\n",
       "\\item 'Loch Shiel'\n",
       "\\item 'Loch Katrine'\n",
       "\\item 'Loch Arkaig'\n",
       "\\item 'Loch Shin'\n",
       "\\end{enumerate*}\n",
       "\n",
       "\\end{description}\n"
      ],
      "text/markdown": [
       "$names\n",
       ":   1. 'Volume'\n",
       "2. 'Area'\n",
       "3. 'Length'\n",
       "4. 'Max_depth'\n",
       "5. 'Mean_Depth'\n",
       "\n",
       "\n",
       "\n",
       "$class\n",
       ":   'data.frame'\n",
       "$row.names\n",
       ":   1. 'Loch Ness'\n",
       "2. 'Loch Lomond'\n",
       "3. 'Loch Morar'\n",
       "4. 'Loch Tay'\n",
       "5. 'Loch Awe'\n",
       "6. 'Loch Maree'\n",
       "7. 'Loch Ericht'\n",
       "8. 'Loch Lochy'\n",
       "9. 'Loch Rannoch'\n",
       "10. 'Loch Shiel'\n",
       "11. 'Loch Katrine'\n",
       "12. 'Loch Arkaig'\n",
       "13. 'Loch Shin'\n",
       "\n",
       "\n",
       "\n",
       "\n",
       "\n"
      ],
      "text/plain": [
       "$names\n",
       "[1] \"Volume\"     \"Area\"       \"Length\"     \"Max_depth\"  \"Mean_Depth\"\n",
       "\n",
       "$class\n",
       "[1] \"data.frame\"\n",
       "\n",
       "$row.names\n",
       " [1] \"Loch Ness\"    \"Loch Lomond\"  \"Loch Morar\"   \"Loch Tay\"     \"Loch Awe\"    \n",
       " [6] \"Loch Maree\"   \"Loch Ericht\"  \"Loch Lochy\"   \"Loch Rannoch\" \"Loch Shiel\"  \n",
       "[11] \"Loch Katrine\" \"Loch Arkaig\"  \"Loch Shin\"   \n"
      ]
     },
     "metadata": {},
     "output_type": "display_data"
    }
   ],
   "source": [
    "attributes(scottish.lakes)"
   ]
  },
  {
   "cell_type": "code",
   "execution_count": 7,
   "metadata": {},
   "outputs": [
    {
     "data": {
      "text/plain": [
       "NULL"
      ]
     },
     "metadata": {},
     "output_type": "display_data"
    }
   ],
   "source": [
    "scottish.lakes$col.names"
   ]
  },
  {
   "cell_type": "code",
   "execution_count": 8,
   "metadata": {},
   "outputs": [],
   "source": [
    "col_names <- c(\"Volume [$km^3$]\", \"Area [$km^2$]\", \"Length [$km$]\", \"Max depth [$m$]\", \"Mean Depth [$m$]\")"
   ]
  },
  {
   "cell_type": "code",
   "execution_count": 9,
   "metadata": {},
   "outputs": [],
   "source": [
    "names(scottish.lakes) <- col_names"
   ]
  },
  {
   "cell_type": "code",
   "execution_count": 10,
   "metadata": {},
   "outputs": [
    {
     "data": {
      "text/html": [
       "<table>\n",
       "<thead><tr><th></th><th scope=col>Volume [$km^3$]</th><th scope=col>Area [$km^2$]</th><th scope=col>Length [$km$]</th><th scope=col>Max depth [$m$]</th><th scope=col>Mean Depth [$m$]</th></tr></thead>\n",
       "<tbody>\n",
       "\t<tr><th scope=row>Loch Ness</th><td>7.45 </td><td>56.0 </td><td>39.0 </td><td>230  </td><td>132.0</td></tr>\n",
       "\t<tr><th scope=row>Loch Lomond</th><td>2.60 </td><td>71.0 </td><td>36.0 </td><td>190  </td><td> 37.0</td></tr>\n",
       "\t<tr><th scope=row>Loch Morar</th><td>2.30 </td><td>27.0 </td><td>18.8 </td><td>310  </td><td> 87.0</td></tr>\n",
       "\t<tr><th scope=row>Loch Tay</th><td>1.60 </td><td>26.4 </td><td>23.0 </td><td>150  </td><td> 60.6</td></tr>\n",
       "\t<tr><th scope=row>Loch Awe</th><td>1.20 </td><td>39.0 </td><td>41.0 </td><td> 94  </td><td> 32.0</td></tr>\n",
       "\t<tr><th scope=row>Loch Maree</th><td>1.09 </td><td>28.6 </td><td>20.0 </td><td>114  </td><td> 38.0</td></tr>\n",
       "\t<tr><th scope=row>Loch Ericht</th><td>1.08 </td><td>18.6 </td><td>23.0 </td><td>156  </td><td> 57.6</td></tr>\n",
       "\t<tr><th scope=row>Loch Lochy</th><td>1.07 </td><td>16.0 </td><td>16.0 </td><td>162  </td><td> 70.0</td></tr>\n",
       "\t<tr><th scope=row>Loch Rannoch</th><td>0.97 </td><td>19.0 </td><td>15.7 </td><td>134  </td><td> 51.0</td></tr>\n",
       "\t<tr><th scope=row>Loch Shiel</th><td>0.79 </td><td>19.5 </td><td>28.0 </td><td>128  </td><td> 40.0</td></tr>\n",
       "\t<tr><th scope=row>Loch Katrine</th><td>0.77 </td><td>12.4 </td><td>12.9 </td><td>151  </td><td> 43.4</td></tr>\n",
       "\t<tr><th scope=row>Loch Arkaig</th><td>0.75 </td><td>16.0 </td><td>19.3 </td><td>109  </td><td> 46.5</td></tr>\n",
       "\t<tr><th scope=row>Loch Shin</th><td>0.35 </td><td>22.5 </td><td>27.8 </td><td> 49  </td><td> 15.5</td></tr>\n",
       "</tbody>\n",
       "</table>\n"
      ],
      "text/latex": [
       "\\begin{tabular}{r|lllll}\n",
       "  & Volume {[}\\$km\\textasciicircum{}3\\${]} & Area {[}\\$km\\textasciicircum{}2\\${]} & Length {[}\\$km\\${]} & Max depth {[}\\$m\\${]} & Mean Depth {[}\\$m\\${]}\\\\\n",
       "\\hline\n",
       "\tLoch Ness & 7.45  & 56.0  & 39.0  & 230   & 132.0\\\\\n",
       "\tLoch Lomond & 2.60  & 71.0  & 36.0  & 190   &  37.0\\\\\n",
       "\tLoch Morar & 2.30  & 27.0  & 18.8  & 310   &  87.0\\\\\n",
       "\tLoch Tay & 1.60  & 26.4  & 23.0  & 150   &  60.6\\\\\n",
       "\tLoch Awe & 1.20  & 39.0  & 41.0  &  94   &  32.0\\\\\n",
       "\tLoch Maree & 1.09  & 28.6  & 20.0  & 114   &  38.0\\\\\n",
       "\tLoch Ericht & 1.08  & 18.6  & 23.0  & 156   &  57.6\\\\\n",
       "\tLoch Lochy & 1.07  & 16.0  & 16.0  & 162   &  70.0\\\\\n",
       "\tLoch Rannoch & 0.97  & 19.0  & 15.7  & 134   &  51.0\\\\\n",
       "\tLoch Shiel & 0.79  & 19.5  & 28.0  & 128   &  40.0\\\\\n",
       "\tLoch Katrine & 0.77  & 12.4  & 12.9  & 151   &  43.4\\\\\n",
       "\tLoch Arkaig & 0.75  & 16.0  & 19.3  & 109   &  46.5\\\\\n",
       "\tLoch Shin & 0.35  & 22.5  & 27.8  &  49   &  15.5\\\\\n",
       "\\end{tabular}\n"
      ],
      "text/markdown": [
       "\n",
       "| <!--/--> | Volume [$km^3$] | Area [$km^2$] | Length [$km$] | Max depth [$m$] | Mean Depth [$m$] |\n",
       "|---|---|---|---|---|---|\n",
       "| Loch Ness | 7.45  | 56.0  | 39.0  | 230   | 132.0 |\n",
       "| Loch Lomond | 2.60  | 71.0  | 36.0  | 190   |  37.0 |\n",
       "| Loch Morar | 2.30  | 27.0  | 18.8  | 310   |  87.0 |\n",
       "| Loch Tay | 1.60  | 26.4  | 23.0  | 150   |  60.6 |\n",
       "| Loch Awe | 1.20  | 39.0  | 41.0  |  94   |  32.0 |\n",
       "| Loch Maree | 1.09  | 28.6  | 20.0  | 114   |  38.0 |\n",
       "| Loch Ericht | 1.08  | 18.6  | 23.0  | 156   |  57.6 |\n",
       "| Loch Lochy | 1.07  | 16.0  | 16.0  | 162   |  70.0 |\n",
       "| Loch Rannoch | 0.97  | 19.0  | 15.7  | 134   |  51.0 |\n",
       "| Loch Shiel | 0.79  | 19.5  | 28.0  | 128   |  40.0 |\n",
       "| Loch Katrine | 0.77  | 12.4  | 12.9  | 151   |  43.4 |\n",
       "| Loch Arkaig | 0.75  | 16.0  | 19.3  | 109   |  46.5 |\n",
       "| Loch Shin | 0.35  | 22.5  | 27.8  |  49   |  15.5 |\n",
       "\n"
      ],
      "text/plain": [
       "             Volume [$km^3$] Area [$km^2$] Length [$km$] Max depth [$m$]\n",
       "Loch Ness    7.45            56.0          39.0          230            \n",
       "Loch Lomond  2.60            71.0          36.0          190            \n",
       "Loch Morar   2.30            27.0          18.8          310            \n",
       "Loch Tay     1.60            26.4          23.0          150            \n",
       "Loch Awe     1.20            39.0          41.0           94            \n",
       "Loch Maree   1.09            28.6          20.0          114            \n",
       "Loch Ericht  1.08            18.6          23.0          156            \n",
       "Loch Lochy   1.07            16.0          16.0          162            \n",
       "Loch Rannoch 0.97            19.0          15.7          134            \n",
       "Loch Shiel   0.79            19.5          28.0          128            \n",
       "Loch Katrine 0.77            12.4          12.9          151            \n",
       "Loch Arkaig  0.75            16.0          19.3          109            \n",
       "Loch Shin    0.35            22.5          27.8           49            \n",
       "             Mean Depth [$m$]\n",
       "Loch Ness    132.0           \n",
       "Loch Lomond   37.0           \n",
       "Loch Morar    87.0           \n",
       "Loch Tay      60.6           \n",
       "Loch Awe      32.0           \n",
       "Loch Maree    38.0           \n",
       "Loch Ericht   57.6           \n",
       "Loch Lochy    70.0           \n",
       "Loch Rannoch  51.0           \n",
       "Loch Shiel    40.0           \n",
       "Loch Katrine  43.4           \n",
       "Loch Arkaig   46.5           \n",
       "Loch Shin     15.5           "
      ]
     },
     "metadata": {},
     "output_type": "display_data"
    }
   ],
   "source": [
    "scottish.lakes"
   ]
  },
  {
   "cell_type": "code",
   "execution_count": 11,
   "metadata": {},
   "outputs": [
    {
     "name": "stdout",
     "output_type": "stream",
     "text": [
      "'data.frame':\t13 obs. of  5 variables:\n",
      " $ Volume [$km^3$] : num  7.45 2.6 2.3 1.6 1.2 1.09 1.08 1.07 0.97 0.79 ...\n",
      " $ Area [$km^2$]   : num  56 71 27 26.4 39 28.6 18.6 16 19 19.5 ...\n",
      " $ Length [$km$]   : num  39 36 18.8 23 41 20 23 16 15.7 28 ...\n",
      " $ Max depth [$m$] : num  230 190 310 150 94 114 156 162 134 128 ...\n",
      " $ Mean Depth [$m$]: num  132 37 87 60.6 32 38 57.6 70 51 40 ...\n"
     ]
    }
   ],
   "source": [
    "str(scottish.lakes)"
   ]
  },
  {
   "cell_type": "code",
   "execution_count": 12,
   "metadata": {},
   "outputs": [
    {
     "name": "stdout",
     "output_type": "stream",
     "text": [
      "[1] \"Highest Volume =\" \"7.45\"            \n",
      "[1] \"Lowest Volume =\" \"0.35\"           \n"
     ]
    }
   ],
   "source": [
    "min_v <-min(scottish.lakes$'Volume [$km^3$]')\n",
    "max_v <- max(scottish.lakes$'Volume [$km^3$]')\n",
    "print(c('Highest Volume =', max_v))\n",
    "print(c('Lowest Volume =', min_v))\n"
   ]
  },
  {
   "cell_type": "code",
   "execution_count": 13,
   "metadata": {},
   "outputs": [
    {
     "name": "stdout",
     "output_type": "stream",
     "text": [
      "[1] \"Highest Area =\" \"71\"            \n",
      "[1] \"Lowest Area =\" \"12.4\"         \n"
     ]
    }
   ],
   "source": [
    "min_a <-min(scottish.lakes$'Area [$km^2$]')\n",
    "max_a <- max(scottish.lakes$'Area [$km^2$]')\n",
    "print(c('Highest Area =', max_a))\n",
    "print(c('Lowest Area =', min_a))"
   ]
  },
  {
   "cell_type": "code",
   "execution_count": 14,
   "metadata": {},
   "outputs": [],
   "source": [
    "new_scottish.lakes <- scottish.lakes[order(scottish.lakes$'Area [$km^2$]'), ]\n"
   ]
  },
  {
   "cell_type": "code",
   "execution_count": 15,
   "metadata": {},
   "outputs": [
    {
     "data": {
      "text/html": [
       "<table>\n",
       "<thead><tr><th></th><th scope=col>Volume [$km^3$]</th><th scope=col>Area [$km^2$]</th><th scope=col>Length [$km$]</th><th scope=col>Max depth [$m$]</th><th scope=col>Mean Depth [$m$]</th></tr></thead>\n",
       "<tbody>\n",
       "\t<tr><th scope=row>Loch Katrine</th><td>0.77 </td><td>12.4 </td><td>12.9 </td><td>151  </td><td> 43.4</td></tr>\n",
       "\t<tr><th scope=row>Loch Lochy</th><td>1.07 </td><td>16.0 </td><td>16.0 </td><td>162  </td><td> 70.0</td></tr>\n",
       "\t<tr><th scope=row>Loch Arkaig</th><td>0.75 </td><td>16.0 </td><td>19.3 </td><td>109  </td><td> 46.5</td></tr>\n",
       "\t<tr><th scope=row>Loch Ericht</th><td>1.08 </td><td>18.6 </td><td>23.0 </td><td>156  </td><td> 57.6</td></tr>\n",
       "\t<tr><th scope=row>Loch Rannoch</th><td>0.97 </td><td>19.0 </td><td>15.7 </td><td>134  </td><td> 51.0</td></tr>\n",
       "\t<tr><th scope=row>Loch Shiel</th><td>0.79 </td><td>19.5 </td><td>28.0 </td><td>128  </td><td> 40.0</td></tr>\n",
       "\t<tr><th scope=row>Loch Shin</th><td>0.35 </td><td>22.5 </td><td>27.8 </td><td> 49  </td><td> 15.5</td></tr>\n",
       "\t<tr><th scope=row>Loch Tay</th><td>1.60 </td><td>26.4 </td><td>23.0 </td><td>150  </td><td> 60.6</td></tr>\n",
       "\t<tr><th scope=row>Loch Morar</th><td>2.30 </td><td>27.0 </td><td>18.8 </td><td>310  </td><td> 87.0</td></tr>\n",
       "\t<tr><th scope=row>Loch Maree</th><td>1.09 </td><td>28.6 </td><td>20.0 </td><td>114  </td><td> 38.0</td></tr>\n",
       "\t<tr><th scope=row>Loch Awe</th><td>1.20 </td><td>39.0 </td><td>41.0 </td><td> 94  </td><td> 32.0</td></tr>\n",
       "\t<tr><th scope=row>Loch Ness</th><td>7.45 </td><td>56.0 </td><td>39.0 </td><td>230  </td><td>132.0</td></tr>\n",
       "\t<tr><th scope=row>Loch Lomond</th><td>2.60 </td><td>71.0 </td><td>36.0 </td><td>190  </td><td> 37.0</td></tr>\n",
       "</tbody>\n",
       "</table>\n"
      ],
      "text/latex": [
       "\\begin{tabular}{r|lllll}\n",
       "  & Volume {[}\\$km\\textasciicircum{}3\\${]} & Area {[}\\$km\\textasciicircum{}2\\${]} & Length {[}\\$km\\${]} & Max depth {[}\\$m\\${]} & Mean Depth {[}\\$m\\${]}\\\\\n",
       "\\hline\n",
       "\tLoch Katrine & 0.77  & 12.4  & 12.9  & 151   &  43.4\\\\\n",
       "\tLoch Lochy & 1.07  & 16.0  & 16.0  & 162   &  70.0\\\\\n",
       "\tLoch Arkaig & 0.75  & 16.0  & 19.3  & 109   &  46.5\\\\\n",
       "\tLoch Ericht & 1.08  & 18.6  & 23.0  & 156   &  57.6\\\\\n",
       "\tLoch Rannoch & 0.97  & 19.0  & 15.7  & 134   &  51.0\\\\\n",
       "\tLoch Shiel & 0.79  & 19.5  & 28.0  & 128   &  40.0\\\\\n",
       "\tLoch Shin & 0.35  & 22.5  & 27.8  &  49   &  15.5\\\\\n",
       "\tLoch Tay & 1.60  & 26.4  & 23.0  & 150   &  60.6\\\\\n",
       "\tLoch Morar & 2.30  & 27.0  & 18.8  & 310   &  87.0\\\\\n",
       "\tLoch Maree & 1.09  & 28.6  & 20.0  & 114   &  38.0\\\\\n",
       "\tLoch Awe & 1.20  & 39.0  & 41.0  &  94   &  32.0\\\\\n",
       "\tLoch Ness & 7.45  & 56.0  & 39.0  & 230   & 132.0\\\\\n",
       "\tLoch Lomond & 2.60  & 71.0  & 36.0  & 190   &  37.0\\\\\n",
       "\\end{tabular}\n"
      ],
      "text/markdown": [
       "\n",
       "| <!--/--> | Volume [$km^3$] | Area [$km^2$] | Length [$km$] | Max depth [$m$] | Mean Depth [$m$] |\n",
       "|---|---|---|---|---|---|\n",
       "| Loch Katrine | 0.77  | 12.4  | 12.9  | 151   |  43.4 |\n",
       "| Loch Lochy | 1.07  | 16.0  | 16.0  | 162   |  70.0 |\n",
       "| Loch Arkaig | 0.75  | 16.0  | 19.3  | 109   |  46.5 |\n",
       "| Loch Ericht | 1.08  | 18.6  | 23.0  | 156   |  57.6 |\n",
       "| Loch Rannoch | 0.97  | 19.0  | 15.7  | 134   |  51.0 |\n",
       "| Loch Shiel | 0.79  | 19.5  | 28.0  | 128   |  40.0 |\n",
       "| Loch Shin | 0.35  | 22.5  | 27.8  |  49   |  15.5 |\n",
       "| Loch Tay | 1.60  | 26.4  | 23.0  | 150   |  60.6 |\n",
       "| Loch Morar | 2.30  | 27.0  | 18.8  | 310   |  87.0 |\n",
       "| Loch Maree | 1.09  | 28.6  | 20.0  | 114   |  38.0 |\n",
       "| Loch Awe | 1.20  | 39.0  | 41.0  |  94   |  32.0 |\n",
       "| Loch Ness | 7.45  | 56.0  | 39.0  | 230   | 132.0 |\n",
       "| Loch Lomond | 2.60  | 71.0  | 36.0  | 190   |  37.0 |\n",
       "\n"
      ],
      "text/plain": [
       "             Volume [$km^3$] Area [$km^2$] Length [$km$] Max depth [$m$]\n",
       "Loch Katrine 0.77            12.4          12.9          151            \n",
       "Loch Lochy   1.07            16.0          16.0          162            \n",
       "Loch Arkaig  0.75            16.0          19.3          109            \n",
       "Loch Ericht  1.08            18.6          23.0          156            \n",
       "Loch Rannoch 0.97            19.0          15.7          134            \n",
       "Loch Shiel   0.79            19.5          28.0          128            \n",
       "Loch Shin    0.35            22.5          27.8           49            \n",
       "Loch Tay     1.60            26.4          23.0          150            \n",
       "Loch Morar   2.30            27.0          18.8          310            \n",
       "Loch Maree   1.09            28.6          20.0          114            \n",
       "Loch Awe     1.20            39.0          41.0           94            \n",
       "Loch Ness    7.45            56.0          39.0          230            \n",
       "Loch Lomond  2.60            71.0          36.0          190            \n",
       "             Mean Depth [$m$]\n",
       "Loch Katrine  43.4           \n",
       "Loch Lochy    70.0           \n",
       "Loch Arkaig   46.5           \n",
       "Loch Ericht   57.6           \n",
       "Loch Rannoch  51.0           \n",
       "Loch Shiel    40.0           \n",
       "Loch Shin     15.5           \n",
       "Loch Tay      60.6           \n",
       "Loch Morar    87.0           \n",
       "Loch Maree    38.0           \n",
       "Loch Awe      32.0           \n",
       "Loch Ness    132.0           \n",
       "Loch Lomond   37.0           "
      ]
     },
     "metadata": {},
     "output_type": "display_data"
    }
   ],
   "source": [
    "new_scottish.lakes"
   ]
  },
  {
   "cell_type": "code",
   "execution_count": 16,
   "metadata": {},
   "outputs": [
    {
     "name": "stdout",
     "output_type": "stream",
     "text": [
      "[1] \"The two largest Areas are = \" \"56\"                          \n",
      "[3] \"71\"                          \n"
     ]
    }
   ],
   "source": [
    "print(c('The two largest Areas are = ', tail(new_scottish.lakes$'Area [$km^2$]', n = 2)))"
   ]
  },
  {
   "cell_type": "code",
   "execution_count": 17,
   "metadata": {},
   "outputs": [],
   "source": [
    "total_area <- sum(new_scottish.lakes$'Area [$km^2$]')"
   ]
  },
  {
   "cell_type": "code",
   "execution_count": 18,
   "metadata": {},
   "outputs": [
    {
     "name": "stdout",
     "output_type": "stream",
     "text": [
      "[1] \"The total area covered by water is = \"\n",
      "[2] \"372\"                                  \n"
     ]
    }
   ],
   "source": [
    "print(c('The total area covered by water is = ', total_area))"
   ]
  },
  {
   "cell_type": "markdown",
   "metadata": {},
   "source": [
    "## Exerice 2"
   ]
  },
  {
   "cell_type": "code",
   "execution_count": 19,
   "metadata": {},
   "outputs": [
    {
     "name": "stderr",
     "output_type": "stream",
     "text": [
      "Installing packages into 'C:/Users/delfina/Documents/R/win-library/3.6'\n",
      "(as 'lib' is unspecified)\n",
      "Warning message in install.packages(c(\"DAAG\", \"tibble\"), type = \"source\"):\n",
      "\"installation of package 'tibble' had non-zero exit status\""
     ]
    }
   ],
   "source": [
    "install.packages(c('DAAG','tibble'), type='source')"
   ]
  },
  {
   "cell_type": "code",
   "execution_count": 20,
   "metadata": {},
   "outputs": [
    {
     "name": "stderr",
     "output_type": "stream",
     "text": [
      "Loading required package: lattice\n"
     ]
    }
   ],
   "source": [
    "library(\"DAAG\")"
   ]
  },
  {
   "cell_type": "code",
   "execution_count": 21,
   "metadata": {},
   "outputs": [
    {
     "name": "stderr",
     "output_type": "stream",
     "text": [
      "Warning message:\n",
      "\"package 'tibble' was built under R version 3.6.3\""
     ]
    }
   ],
   "source": [
    "library(\"tibble\")"
   ]
  },
  {
   "cell_type": "code",
   "execution_count": 22,
   "metadata": {},
   "outputs": [],
   "source": [
    "?DAAG"
   ]
  },
  {
   "cell_type": "code",
   "execution_count": 23,
   "metadata": {},
   "outputs": [],
   "source": [
    "?tibble"
   ]
  },
  {
   "cell_type": "code",
   "execution_count": 24,
   "metadata": {},
   "outputs": [],
   "source": [
    "?ais"
   ]
  },
  {
   "cell_type": "code",
   "execution_count": 25,
   "metadata": {},
   "outputs": [
    {
     "name": "stderr",
     "output_type": "stream",
     "text": [
      "Warning message:\n",
      "\"`data_frame()` is deprecated, use `tibble()`.\n",
      "This warning is displayed once per session.\""
     ]
    }
   ],
   "source": [
    "#Creating the tibble of the data\n",
    "df <- tibble::data_frame(ais)"
   ]
  },
  {
   "cell_type": "code",
   "execution_count": 26,
   "metadata": {},
   "outputs": [
    {
     "name": "stdout",
     "output_type": "stream",
     "text": [
      "Classes 'tbl_df', 'tbl' and 'data.frame':\t202 obs. of  1 variable:\n",
      " $ ais:'data.frame':\t202 obs. of  13 variables:\n",
      "  ..$ rcc   : num  3.96 4.41 4.14 4.11 4.45 4.1 4.31 4.42 4.3 4.51 ...\n",
      "  ..$ wcc   : num  7.5 8.3 5 5.3 6.8 4.4 5.3 5.7 8.9 4.4 ...\n",
      "  ..$ hc    : num  37.5 38.2 36.4 37.3 41.5 37.4 39.6 39.9 41.1 41.6 ...\n",
      "  ..$ hg    : num  12.3 12.7 11.6 12.6 14 12.5 12.8 13.2 13.5 12.7 ...\n",
      "  ..$ ferr  : num  60 68 21 69 29 42 73 44 41 44 ...\n",
      "  ..$ bmi   : num  20.6 20.7 21.9 21.9 19 ...\n",
      "  ..$ ssf   : num  109.1 102.8 104.6 126.4 80.3 ...\n",
      "  ..$ pcBfat: num  19.8 21.3 19.9 23.7 17.6 ...\n",
      "  ..$ lbm   : num  63.3 58.5 55.4 57.2 53.2 ...\n",
      "  ..$ ht    : num  196 190 178 185 185 ...\n",
      "  ..$ wt    : num  78.9 74.4 69.1 74.9 64.6 63.7 75.2 62.3 66.5 62.9 ...\n",
      "  ..$ sex   : Factor w/ 2 levels \"f\",\"m\": 1 1 1 1 1 1 1 1 1 1 ...\n",
      "  ..$ sport : Factor w/ 10 levels \"B_Ball\",\"Field\",..: 1 1 1 1 1 1 1 1 1 1 ...\n"
     ]
    }
   ],
   "source": [
    "str(df)"
   ]
  },
  {
   "cell_type": "code",
   "execution_count": 27,
   "metadata": {},
   "outputs": [],
   "source": [
    "gender_sport = data_frame(df$ais$sex, df$ais$sport)"
   ]
  },
  {
   "cell_type": "code",
   "execution_count": 28,
   "metadata": {},
   "outputs": [
    {
     "data": {
      "text/html": [
       "<table>\n",
       "<thead><tr><th scope=col>df$ais$sex</th><th scope=col>df$ais$sport</th></tr></thead>\n",
       "<tbody>\n",
       "\t<tr><td>f     </td><td>B_Ball</td></tr>\n",
       "\t<tr><td>f     </td><td>B_Ball</td></tr>\n",
       "\t<tr><td>f     </td><td>B_Ball</td></tr>\n",
       "\t<tr><td>f     </td><td>B_Ball</td></tr>\n",
       "\t<tr><td>f     </td><td>B_Ball</td></tr>\n",
       "\t<tr><td>f     </td><td>B_Ball</td></tr>\n",
       "\t<tr><td>f     </td><td>B_Ball</td></tr>\n",
       "\t<tr><td>f     </td><td>B_Ball</td></tr>\n",
       "\t<tr><td>f     </td><td>B_Ball</td></tr>\n",
       "\t<tr><td>f     </td><td>B_Ball</td></tr>\n",
       "\t<tr><td>f     </td><td>B_Ball</td></tr>\n",
       "\t<tr><td>f     </td><td>B_Ball</td></tr>\n",
       "\t<tr><td>f     </td><td>B_Ball</td></tr>\n",
       "\t<tr><td>f     </td><td>Row   </td></tr>\n",
       "\t<tr><td>f     </td><td>Row   </td></tr>\n",
       "\t<tr><td>f     </td><td>Row   </td></tr>\n",
       "\t<tr><td>f     </td><td>Row   </td></tr>\n",
       "\t<tr><td>f     </td><td>Row   </td></tr>\n",
       "\t<tr><td>f     </td><td>Row   </td></tr>\n",
       "\t<tr><td>f     </td><td>Row   </td></tr>\n",
       "\t<tr><td>f     </td><td>Row   </td></tr>\n",
       "\t<tr><td>f     </td><td>Row   </td></tr>\n",
       "\t<tr><td>f     </td><td>Row   </td></tr>\n",
       "\t<tr><td>f     </td><td>Row   </td></tr>\n",
       "\t<tr><td>f     </td><td>Row   </td></tr>\n",
       "\t<tr><td>f     </td><td>Row   </td></tr>\n",
       "\t<tr><td>f     </td><td>Row   </td></tr>\n",
       "\t<tr><td>f     </td><td>Row   </td></tr>\n",
       "\t<tr><td>f     </td><td>Row   </td></tr>\n",
       "\t<tr><td>f     </td><td>Row   </td></tr>\n",
       "\t<tr><td>...</td><td>...</td></tr>\n",
       "\t<tr><td>m      </td><td>T_400m </td></tr>\n",
       "\t<tr><td>m      </td><td>T_Sprnt</td></tr>\n",
       "\t<tr><td>m      </td><td>T_400m </td></tr>\n",
       "\t<tr><td>m      </td><td>T_Sprnt</td></tr>\n",
       "\t<tr><td>m      </td><td>Field  </td></tr>\n",
       "\t<tr><td>m      </td><td>Field  </td></tr>\n",
       "\t<tr><td>m      </td><td>Field  </td></tr>\n",
       "\t<tr><td>m      </td><td>Field  </td></tr>\n",
       "\t<tr><td>m      </td><td>T_Sprnt</td></tr>\n",
       "\t<tr><td>m      </td><td>W_Polo </td></tr>\n",
       "\t<tr><td>m      </td><td>W_Polo </td></tr>\n",
       "\t<tr><td>m      </td><td>W_Polo </td></tr>\n",
       "\t<tr><td>m      </td><td>W_Polo </td></tr>\n",
       "\t<tr><td>m      </td><td>W_Polo </td></tr>\n",
       "\t<tr><td>m      </td><td>W_Polo </td></tr>\n",
       "\t<tr><td>m      </td><td>W_Polo </td></tr>\n",
       "\t<tr><td>m      </td><td>W_Polo </td></tr>\n",
       "\t<tr><td>m      </td><td>W_Polo </td></tr>\n",
       "\t<tr><td>m      </td><td>W_Polo </td></tr>\n",
       "\t<tr><td>m      </td><td>W_Polo </td></tr>\n",
       "\t<tr><td>m      </td><td>W_Polo </td></tr>\n",
       "\t<tr><td>m      </td><td>W_Polo </td></tr>\n",
       "\t<tr><td>m      </td><td>W_Polo </td></tr>\n",
       "\t<tr><td>m      </td><td>W_Polo </td></tr>\n",
       "\t<tr><td>m      </td><td>W_Polo </td></tr>\n",
       "\t<tr><td>m      </td><td>W_Polo </td></tr>\n",
       "\t<tr><td>m      </td><td>Tennis </td></tr>\n",
       "\t<tr><td>m      </td><td>Tennis </td></tr>\n",
       "\t<tr><td>m      </td><td>Tennis </td></tr>\n",
       "\t<tr><td>m      </td><td>Tennis </td></tr>\n",
       "</tbody>\n",
       "</table>\n"
      ],
      "text/latex": [
       "\\begin{tabular}{r|ll}\n",
       " df\\$ais\\$sex & df\\$ais\\$sport\\\\\n",
       "\\hline\n",
       "\t f        & B\\_Ball\\\\\n",
       "\t f        & B\\_Ball\\\\\n",
       "\t f        & B\\_Ball\\\\\n",
       "\t f        & B\\_Ball\\\\\n",
       "\t f        & B\\_Ball\\\\\n",
       "\t f        & B\\_Ball\\\\\n",
       "\t f        & B\\_Ball\\\\\n",
       "\t f        & B\\_Ball\\\\\n",
       "\t f        & B\\_Ball\\\\\n",
       "\t f        & B\\_Ball\\\\\n",
       "\t f        & B\\_Ball\\\\\n",
       "\t f        & B\\_Ball\\\\\n",
       "\t f        & B\\_Ball\\\\\n",
       "\t f      & Row   \\\\\n",
       "\t f      & Row   \\\\\n",
       "\t f      & Row   \\\\\n",
       "\t f      & Row   \\\\\n",
       "\t f      & Row   \\\\\n",
       "\t f      & Row   \\\\\n",
       "\t f      & Row   \\\\\n",
       "\t f      & Row   \\\\\n",
       "\t f      & Row   \\\\\n",
       "\t f      & Row   \\\\\n",
       "\t f      & Row   \\\\\n",
       "\t f      & Row   \\\\\n",
       "\t f      & Row   \\\\\n",
       "\t f      & Row   \\\\\n",
       "\t f      & Row   \\\\\n",
       "\t f      & Row   \\\\\n",
       "\t f      & Row   \\\\\n",
       "\t ... & ...\\\\\n",
       "\t m         & T\\_400m \\\\\n",
       "\t m         & T\\_Sprnt\\\\\n",
       "\t m         & T\\_400m \\\\\n",
       "\t m         & T\\_Sprnt\\\\\n",
       "\t m       & Field  \\\\\n",
       "\t m       & Field  \\\\\n",
       "\t m       & Field  \\\\\n",
       "\t m       & Field  \\\\\n",
       "\t m         & T\\_Sprnt\\\\\n",
       "\t m         & W\\_Polo \\\\\n",
       "\t m         & W\\_Polo \\\\\n",
       "\t m         & W\\_Polo \\\\\n",
       "\t m         & W\\_Polo \\\\\n",
       "\t m         & W\\_Polo \\\\\n",
       "\t m         & W\\_Polo \\\\\n",
       "\t m         & W\\_Polo \\\\\n",
       "\t m         & W\\_Polo \\\\\n",
       "\t m         & W\\_Polo \\\\\n",
       "\t m         & W\\_Polo \\\\\n",
       "\t m         & W\\_Polo \\\\\n",
       "\t m         & W\\_Polo \\\\\n",
       "\t m         & W\\_Polo \\\\\n",
       "\t m         & W\\_Polo \\\\\n",
       "\t m         & W\\_Polo \\\\\n",
       "\t m         & W\\_Polo \\\\\n",
       "\t m         & W\\_Polo \\\\\n",
       "\t m       & Tennis \\\\\n",
       "\t m       & Tennis \\\\\n",
       "\t m       & Tennis \\\\\n",
       "\t m       & Tennis \\\\\n",
       "\\end{tabular}\n"
      ],
      "text/markdown": [
       "\n",
       "| df$ais$sex | df$ais$sport |\n",
       "|---|---|\n",
       "| f      | B_Ball |\n",
       "| f      | B_Ball |\n",
       "| f      | B_Ball |\n",
       "| f      | B_Ball |\n",
       "| f      | B_Ball |\n",
       "| f      | B_Ball |\n",
       "| f      | B_Ball |\n",
       "| f      | B_Ball |\n",
       "| f      | B_Ball |\n",
       "| f      | B_Ball |\n",
       "| f      | B_Ball |\n",
       "| f      | B_Ball |\n",
       "| f      | B_Ball |\n",
       "| f      | Row    |\n",
       "| f      | Row    |\n",
       "| f      | Row    |\n",
       "| f      | Row    |\n",
       "| f      | Row    |\n",
       "| f      | Row    |\n",
       "| f      | Row    |\n",
       "| f      | Row    |\n",
       "| f      | Row    |\n",
       "| f      | Row    |\n",
       "| f      | Row    |\n",
       "| f      | Row    |\n",
       "| f      | Row    |\n",
       "| f      | Row    |\n",
       "| f      | Row    |\n",
       "| f      | Row    |\n",
       "| f      | Row    |\n",
       "| ... | ... |\n",
       "| m       | T_400m  |\n",
       "| m       | T_Sprnt |\n",
       "| m       | T_400m  |\n",
       "| m       | T_Sprnt |\n",
       "| m       | Field   |\n",
       "| m       | Field   |\n",
       "| m       | Field   |\n",
       "| m       | Field   |\n",
       "| m       | T_Sprnt |\n",
       "| m       | W_Polo  |\n",
       "| m       | W_Polo  |\n",
       "| m       | W_Polo  |\n",
       "| m       | W_Polo  |\n",
       "| m       | W_Polo  |\n",
       "| m       | W_Polo  |\n",
       "| m       | W_Polo  |\n",
       "| m       | W_Polo  |\n",
       "| m       | W_Polo  |\n",
       "| m       | W_Polo  |\n",
       "| m       | W_Polo  |\n",
       "| m       | W_Polo  |\n",
       "| m       | W_Polo  |\n",
       "| m       | W_Polo  |\n",
       "| m       | W_Polo  |\n",
       "| m       | W_Polo  |\n",
       "| m       | W_Polo  |\n",
       "| m       | Tennis  |\n",
       "| m       | Tennis  |\n",
       "| m       | Tennis  |\n",
       "| m       | Tennis  |\n",
       "\n"
      ],
      "text/plain": [
       "    df$ais$sex df$ais$sport\n",
       "1   f          B_Ball      \n",
       "2   f          B_Ball      \n",
       "3   f          B_Ball      \n",
       "4   f          B_Ball      \n",
       "5   f          B_Ball      \n",
       "6   f          B_Ball      \n",
       "7   f          B_Ball      \n",
       "8   f          B_Ball      \n",
       "9   f          B_Ball      \n",
       "10  f          B_Ball      \n",
       "11  f          B_Ball      \n",
       "12  f          B_Ball      \n",
       "13  f          B_Ball      \n",
       "14  f          Row         \n",
       "15  f          Row         \n",
       "16  f          Row         \n",
       "17  f          Row         \n",
       "18  f          Row         \n",
       "19  f          Row         \n",
       "20  f          Row         \n",
       "21  f          Row         \n",
       "22  f          Row         \n",
       "23  f          Row         \n",
       "24  f          Row         \n",
       "25  f          Row         \n",
       "26  f          Row         \n",
       "27  f          Row         \n",
       "28  f          Row         \n",
       "29  f          Row         \n",
       "30  f          Row         \n",
       "... ...        ...         \n",
       "173 m          T_400m      \n",
       "174 m          T_Sprnt     \n",
       "175 m          T_400m      \n",
       "176 m          T_Sprnt     \n",
       "177 m          Field       \n",
       "178 m          Field       \n",
       "179 m          Field       \n",
       "180 m          Field       \n",
       "181 m          T_Sprnt     \n",
       "182 m          W_Polo      \n",
       "183 m          W_Polo      \n",
       "184 m          W_Polo      \n",
       "185 m          W_Polo      \n",
       "186 m          W_Polo      \n",
       "187 m          W_Polo      \n",
       "188 m          W_Polo      \n",
       "189 m          W_Polo      \n",
       "190 m          W_Polo      \n",
       "191 m          W_Polo      \n",
       "192 m          W_Polo      \n",
       "193 m          W_Polo      \n",
       "194 m          W_Polo      \n",
       "195 m          W_Polo      \n",
       "196 m          W_Polo      \n",
       "197 m          W_Polo      \n",
       "198 m          W_Polo      \n",
       "199 m          Tennis      \n",
       "200 m          Tennis      \n",
       "201 m          Tennis      \n",
       "202 m          Tennis      "
      ]
     },
     "metadata": {},
     "output_type": "display_data"
    }
   ],
   "source": [
    "gender_sport"
   ]
  },
  {
   "cell_type": "code",
   "execution_count": 29,
   "metadata": {},
   "outputs": [
    {
     "data": {
      "image/png": "[encoded data removed]",
      "text/plain": [
       "plot without title"
      ]
     },
     "metadata": {},
     "output_type": "display_data"
    }
   ],
   "source": [
    "barplot(table(gender_sport) , beside = TRUE, col = c(\"lightblue\", \"lightcyan\"), ylim = c(0,25), cex.axis = 1, cex.names=0.7)\n",
    "legend(\"topright\", legend = rownames(table(gender_sport)), fill = c(\"lightblue\", \"lightcyan\"), ncol = 2, cex = 0.75)"
   ]
  },
  {
   "cell_type": "code",
   "execution_count": 30,
   "metadata": {},
   "outputs": [
    {
     "name": "stderr",
     "output_type": "stream",
     "text": [
      "Warning message:\n",
      "\"package 'ggplot2' was built under R version 3.6.3\""
     ]
    }
   ],
   "source": [
    "library(ggplot2)"
   ]
  },
  {
   "cell_type": "code",
   "execution_count": 31,
   "metadata": {},
   "outputs": [],
   "source": [
    "#ggplot(df$ais,aes(x=df$ais$sport))+geom_bar()+ggtitle(\"Sports vs Counts\")+ labs(y=\"Counts\", x = \"Sports  \")"
   ]
  },
  {
   "cell_type": "code",
   "execution_count": 32,
   "metadata": {},
   "outputs": [
    {
     "data": {
      "image/png": "[encoded data removed]",
      "text/plain": [
       "plot without title"
      ]
     },
     "metadata": {},
     "output_type": "display_data"
    }
   ],
   "source": [
    "#Let's do the same plot but now using ggplot\n",
    "ggplot(df$ais,aes(x=df$ais$sport, fill=df$ais$sex))+geom_bar(position=\"dodge\")+ggtitle(\"Sports vs Counts\")+ labs(y=\"Counts\", x = \"Sports \")+ labs(fill = \"Gender\")\n"
   ]
  },
  {
   "cell_type": "code",
   "execution_count": 33,
   "metadata": {},
   "outputs": [
    {
     "data": {
      "text/html": [
       "FALSE"
      ],
      "text/latex": [
       "FALSE"
      ],
      "text/markdown": [
       "FALSE"
      ],
      "text/plain": [
       "[1] FALSE"
      ]
     },
     "metadata": {},
     "output_type": "display_data"
    }
   ],
   "source": [
    "#2.2) Is there any column with missing numbers?\n",
    "any(is.na(df))"
   ]
  },
  {
   "cell_type": "code",
   "execution_count": 34,
   "metadata": {},
   "outputs": [
    {
     "data": {
      "text/html": [
       "FALSE"
      ],
      "text/latex": [
       "FALSE"
      ],
      "text/markdown": [
       "FALSE"
      ],
      "text/plain": [
       "[1] FALSE"
      ]
     },
     "metadata": {},
     "output_type": "display_data"
    }
   ],
   "source": [
    "any(is.na(df$ais))"
   ]
  },
  {
   "cell_type": "code",
   "execution_count": 35,
   "metadata": {},
   "outputs": [
    {
     "data": {
      "image/png": "[encoded data removed]",
      "text/plain": [
       "plot without title"
      ]
     },
     "metadata": {},
     "output_type": "display_data"
    }
   ],
   "source": [
    "#2.3) boxplots\n",
    "ggplot(df$ais,aes(x=df$ais$rcc,y=df$ais$sport))+geom_boxplot()+ggtitle(\"Red blood cell count vs Sports\")+ labs(y=\"Sports\", x = \"Red blood cell count\")\n"
   ]
  },
  {
   "cell_type": "code",
   "execution_count": 36,
   "metadata": {},
   "outputs": [
    {
     "data": {
      "image/png": "[encoded data removed]",
      "text/plain": [
       "plot without title"
      ]
     },
     "metadata": {},
     "output_type": "display_data"
    }
   ],
   "source": [
    "ggplot(df$ais,aes(x=df$ais$wcc,y=df$ais$sport))+geom_boxplot()+ggtitle(\"White blood cell count vs Sports\")+ labs(y=\"Sports\", x = \"White blood cell count\")"
   ]
  },
  {
   "cell_type": "code",
   "execution_count": 37,
   "metadata": {},
   "outputs": [
    {
     "data": {
      "image/png": "[encoded data removed]",
      "text/plain": [
       "plot without title"
      ]
     },
     "metadata": {},
     "output_type": "display_data"
    }
   ],
   "source": [
    "ggplot(df$ais,aes(x=df$ais$hc,y=df$ais$sport))+geom_boxplot()+ggtitle(\"Hematocrit vs Sports\")+ labs(y=\"Sports\", x = \"Hematocrit\")"
   ]
  },
  {
   "cell_type": "code",
   "execution_count": 38,
   "metadata": {},
   "outputs": [
    {
     "data": {
      "image/png": "[encoded data removed]",
      "text/plain": [
       "plot without title"
      ]
     },
     "metadata": {},
     "output_type": "display_data"
    }
   ],
   "source": [
    "ggplot(df$ais,aes(x=df$ais$hg,y=df$ais$sport))+geom_boxplot()+ggtitle(\"Hemaglobin vs Sports\")+ labs(y=\"Sports\", x = \"Hemaglobin\")\n"
   ]
  },
  {
   "cell_type": "code",
   "execution_count": 39,
   "metadata": {},
   "outputs": [
    {
     "data": {
      "image/png": "[encoded data removed]",
      "text/plain": [
       "plot without title"
      ]
     },
     "metadata": {},
     "output_type": "display_data"
    }
   ],
   "source": [
    "#2.4)  scatter plots\n",
    "ggplot(df$ais,aes(x=df$ais$hc,y=df$ais$hg,colour=df$ais$sex))+geom_point()+facet_wrap(~df$ais$sport,scales=\"free\") +ggtitle(\"Hematocrit vs Hemaglobin for differents sports\")+ labs( y=\"Hemaglobin \", x = \"Hematocrit  \") + labs(colour = \"Gender\")"
   ]
  },
  {
   "cell_type": "code",
   "execution_count": 40,
   "metadata": {},
   "outputs": [
    {
     "name": "stderr",
     "output_type": "stream",
     "text": [
      "Installing package into 'C:/Users/delfina/Documents/R/win-library/3.6'\n",
      "(as 'lib' is unspecified)\n"
     ]
    },
    {
     "name": "stdout",
     "output_type": "stream",
     "text": [
      "package 'ggExtra' successfully unpacked and MD5 sums checked\n",
      "\n",
      "The downloaded binary packages are in\n",
      "\tC:\\Users\\delfina\\AppData\\Local\\Temp\\RtmpExMg13\\downloaded_packages\n"
     ]
    }
   ],
   "source": [
    "install.packages(\"ggExtra\")"
   ]
  },
  {
   "cell_type": "code",
   "execution_count": 41,
   "metadata": {},
   "outputs": [
    {
     "name": "stderr",
     "output_type": "stream",
     "text": [
      "Warning message:\n",
      "\"package 'ggExtra' was built under R version 3.6.3\""
     ]
    }
   ],
   "source": [
    "library(\"ggExtra\")"
   ]
  },
  {
   "cell_type": "code",
   "execution_count": 42,
   "metadata": {},
   "outputs": [
    {
     "name": "stderr",
     "output_type": "stream",
     "text": [
      "`geom_smooth()` using formula 'y ~ x'\n",
      "`geom_smooth()` using formula 'y ~ x'\n",
      "`geom_smooth()` using formula 'y ~ x'\n"
     ]
    },
    {
     "data": {
      "image/png": "[encoded data removed]",
      "text/plain": [
       "plot without title"
      ]
     },
     "metadata": {},
     "output_type": "display_data"
    }
   ],
   "source": [
    "g <- ggplot(df$ais,aes(x=df$ais$hc,y=df$ais$hg))+geom_point()+geom_smooth(method=\"lm\")+ggtitle(\"Hematocrit vs Hemaglobin \")+ labs( y=\"Hemaglobin \", x = \"Hematocrit  \")\n",
    "ggMarginal(g, type = \"histogram\", fill=\"transparent\")\n",
    "#ggMarginal(g, type = \"boxplot\", fill=\"transparent\")"
   ]
  },
  {
   "cell_type": "code",
   "execution_count": 43,
   "metadata": {},
   "outputs": [
    {
     "name": "stderr",
     "output_type": "stream",
     "text": [
      "`geom_smooth()` using formula 'y ~ x'\n"
     ]
    },
    {
     "data": {
      "image/png": "[encoded data removed]",
      "text/plain": [
       "plot without title"
      ]
     },
     "metadata": {},
     "output_type": "display_data"
    }
   ],
   "source": [
    "ggplot(df$ais,aes(x=df$ais$hc,y=df$ais$hg,colour = df$ais$sex ))+geom_point()+geom_smooth(method=\"lm\")+ggtitle(\"Hematocrit vs Hemaglobin\")+ labs( y=\"Hemaglobin \", x = \"Hematocrit  \", colour=\"Gender\")\n"
   ]
  },
  {
   "cell_type": "code",
   "execution_count": 44,
   "metadata": {
    "scrolled": true
   },
   "outputs": [
    {
     "data": {
      "image/png": "[encoded data removed]",
      "text/plain": [
       "plot without title"
      ]
     },
     "metadata": {},
     "output_type": "display_data"
    }
   ],
   "source": [
    "ggplot(df$ais,aes(x=df$ais$wcc,y=df$ais$rcc,colour = df$ais$sex ))+geom_point()+ggtitle(\"While blood cell vs Red blood cell for differents sports\")+ labs( y=\"Red blood cell \", x = \"While blood cell\", colour=\"Gender\")+facet_wrap(~df$ais$sport,scales=\"free\")"
   ]
  },
  {
   "cell_type": "markdown",
   "metadata": {},
   "source": [
    "## Exercise 3"
   ]
  },
  {
   "cell_type": "code",
   "execution_count": 45,
   "metadata": {},
   "outputs": [],
   "source": [
    "needed_packages <- c('lubridate ', 'readxl ', 'curl ')"
   ]
  },
  {
   "cell_type": "code",
   "execution_count": 46,
   "metadata": {},
   "outputs": [],
   "source": [
    "already_installed <- needed_packages %in% installed.packages()\n"
   ]
  },
  {
   "cell_type": "code",
   "execution_count": 47,
   "metadata": {},
   "outputs": [
    {
     "name": "stderr",
     "output_type": "stream",
     "text": [
      "To be installed: lubridate \n",
      "Installing package into 'C:/Users/delfina/Documents/R/win-library/3.6'\n",
      "(as 'lib' is unspecified)\n",
      "Warning message:\n",
      "\"package 'lubridate ' is not available (for R version 3.6.1)\"To be installed: readxl \n",
      "Installing package into 'C:/Users/delfina/Documents/R/win-library/3.6'\n",
      "(as 'lib' is unspecified)\n",
      "Warning message:\n",
      "\"package 'readxl ' is not available (for R version 3.6.1)\"To be installed: curl \n",
      "Installing package into 'C:/Users/delfina/Documents/R/win-library/3.6'\n",
      "(as 'lib' is unspecified)\n",
      "Warning message:\n",
      "\"package 'curl ' is not available (for R version 3.6.1)\""
     ]
    }
   ],
   "source": [
    "for (pack in needed_packages[!already_installed]){message(paste(\"To be installed:\", pack, sep = \" \")) \n",
    "                                                  install.packages(pack)}\n"
   ]
  },
  {
   "cell_type": "code",
   "execution_count": 1,
   "metadata": {},
   "outputs": [
    {
     "name": "stderr",
     "output_type": "stream",
     "text": [
      "\n",
      "Attaching package: 'lubridate'\n",
      "\n",
      "The following object is masked from 'package:base':\n",
      "\n",
      "    date\n",
      "\n"
     ]
    }
   ],
   "source": [
    "library(lubridate)"
   ]
  },
  {
   "cell_type": "code",
   "execution_count": 2,
   "metadata": {},
   "outputs": [],
   "source": [
    "library(readxl)"
   ]
  },
  {
   "cell_type": "code",
   "execution_count": 3,
   "metadata": {},
   "outputs": [],
   "source": [
    "library(curl)"
   ]
  },
  {
   "cell_type": "code",
   "execution_count": 4,
   "metadata": {},
   "outputs": [
    {
     "name": "stderr",
     "output_type": "stream",
     "text": [
      "target: https://www.ecdc.europa.eu/sites/default/files/documents/COVID-19-geographic-disbtribution-worldwide-2020-06-15.xlsx\n"
     ]
    }
   ],
   "source": [
    "url <- \"https://www.ecdc.europa.eu/sites/default/files/documents/\"\n",
    "fname <- \"COVID-19-geographic-disbtribution-worldwide-\"\n",
    "date <- lubridate::today()-1\n",
    "ext = \".xlsx\"\n",
    "target <- paste(url , fname , date , ext , sep =\"\")\n",
    "message (\"target: \", target )\n",
    "tmp_file <- tempfile(\"data\", tmpdir = tempdir(), fileext = ext)\n",
    "tmp <- curl::curl_download(target, destfile = tmp_file)"
   ]
  },
  {
   "cell_type": "code",
   "execution_count": 5,
   "metadata": {},
   "outputs": [],
   "source": [
    "covid <- readxl::read_xlsx(tmp_file)"
   ]
  },
  {
   "cell_type": "code",
   "execution_count": 6,
   "metadata": {},
   "outputs": [
    {
     "data": {
      "text/html": [
       "<table>\n",
       "<thead><tr><th scope=col>dateRep</th><th scope=col>day</th><th scope=col>month</th><th scope=col>year</th><th scope=col>cases</th><th scope=col>deaths</th><th scope=col>countriesAndTerritories</th><th scope=col>geoId</th><th scope=col>countryterritoryCode</th><th scope=col>popData2018</th><th scope=col>continentExp</th></tr></thead>\n",
       "<tbody>\n",
       "\t<tr><td>2020-06-15 </td><td>15         </td><td>6          </td><td>2020       </td><td>664        </td><td>20         </td><td>Afghanistan</td><td>AF         </td><td>AFG        </td><td>37172386   </td><td>Asia       </td></tr>\n",
       "\t<tr><td>2020-06-14 </td><td>14         </td><td>6          </td><td>2020       </td><td>556        </td><td> 5         </td><td>Afghanistan</td><td>AF         </td><td>AFG        </td><td>37172386   </td><td>Asia       </td></tr>\n",
       "\t<tr><td>2020-06-13 </td><td>13         </td><td>6          </td><td>2020       </td><td>656        </td><td>20         </td><td>Afghanistan</td><td>AF         </td><td>AFG        </td><td>37172386   </td><td>Asia       </td></tr>\n",
       "\t<tr><td>2020-06-12 </td><td>12         </td><td>6          </td><td>2020       </td><td>747        </td><td>21         </td><td>Afghanistan</td><td>AF         </td><td>AFG        </td><td>37172386   </td><td>Asia       </td></tr>\n",
       "\t<tr><td>2020-06-11 </td><td>11         </td><td>6          </td><td>2020       </td><td>684        </td><td>21         </td><td>Afghanistan</td><td>AF         </td><td>AFG        </td><td>37172386   </td><td>Asia       </td></tr>\n",
       "\t<tr><td>2020-06-10 </td><td>10         </td><td>6          </td><td>2020       </td><td>542        </td><td>15         </td><td>Afghanistan</td><td>AF         </td><td>AFG        </td><td>37172386   </td><td>Asia       </td></tr>\n",
       "\t<tr><td>2020-06-09 </td><td> 9         </td><td>6          </td><td>2020       </td><td>575        </td><td>12         </td><td>Afghanistan</td><td>AF         </td><td>AFG        </td><td>37172386   </td><td>Asia       </td></tr>\n",
       "\t<tr><td>2020-06-08 </td><td> 8         </td><td>6          </td><td>2020       </td><td>791        </td><td>30         </td><td>Afghanistan</td><td>AF         </td><td>AFG        </td><td>37172386   </td><td>Asia       </td></tr>\n",
       "\t<tr><td>2020-06-07 </td><td> 7         </td><td>6          </td><td>2020       </td><td>582        </td><td>18         </td><td>Afghanistan</td><td>AF         </td><td>AFG        </td><td>37172386   </td><td>Asia       </td></tr>\n",
       "\t<tr><td>2020-06-06 </td><td> 6         </td><td>6          </td><td>2020       </td><td>915        </td><td> 9         </td><td>Afghanistan</td><td>AF         </td><td>AFG        </td><td>37172386   </td><td>Asia       </td></tr>\n",
       "\t<tr><td>2020-06-05 </td><td> 5         </td><td>6          </td><td>2020       </td><td>787        </td><td> 6         </td><td>Afghanistan</td><td>AF         </td><td>AFG        </td><td>37172386   </td><td>Asia       </td></tr>\n",
       "\t<tr><td>2020-06-04 </td><td> 4         </td><td>6          </td><td>2020       </td><td>758        </td><td>24         </td><td>Afghanistan</td><td>AF         </td><td>AFG        </td><td>37172386   </td><td>Asia       </td></tr>\n",
       "\t<tr><td>2020-06-03 </td><td> 3         </td><td>6          </td><td>2020       </td><td>759        </td><td> 5         </td><td>Afghanistan</td><td>AF         </td><td>AFG        </td><td>37172386   </td><td>Asia       </td></tr>\n",
       "\t<tr><td>2020-06-02 </td><td> 2         </td><td>6          </td><td>2020       </td><td>545        </td><td> 8         </td><td>Afghanistan</td><td>AF         </td><td>AFG        </td><td>37172386   </td><td>Asia       </td></tr>\n",
       "\t<tr><td>2020-06-01 </td><td> 1         </td><td>6          </td><td>2020       </td><td>680        </td><td> 8         </td><td>Afghanistan</td><td>AF         </td><td>AFG        </td><td>37172386   </td><td>Asia       </td></tr>\n",
       "\t<tr><td>2020-05-31 </td><td>31         </td><td>5          </td><td>2020       </td><td>866        </td><td> 3         </td><td>Afghanistan</td><td>AF         </td><td>AFG        </td><td>37172386   </td><td>Asia       </td></tr>\n",
       "\t<tr><td>2020-05-30 </td><td>30         </td><td>5          </td><td>2020       </td><td>623        </td><td>11         </td><td>Afghanistan</td><td>AF         </td><td>AFG        </td><td>37172386   </td><td>Asia       </td></tr>\n",
       "\t<tr><td>2020-05-29 </td><td>29         </td><td>5          </td><td>2020       </td><td>580        </td><td> 8         </td><td>Afghanistan</td><td>AF         </td><td>AFG        </td><td>37172386   </td><td>Asia       </td></tr>\n",
       "\t<tr><td>2020-05-28 </td><td>28         </td><td>5          </td><td>2020       </td><td>625        </td><td> 7         </td><td>Afghanistan</td><td>AF         </td><td>AFG        </td><td>37172386   </td><td>Asia       </td></tr>\n",
       "\t<tr><td>2020-05-27 </td><td>27         </td><td>5          </td><td>2020       </td><td>658        </td><td> 1         </td><td>Afghanistan</td><td>AF         </td><td>AFG        </td><td>37172386   </td><td>Asia       </td></tr>\n",
       "\t<tr><td>2020-05-26 </td><td>26         </td><td>5          </td><td>2020       </td><td>591        </td><td> 1         </td><td>Afghanistan</td><td>AF         </td><td>AFG        </td><td>37172386   </td><td>Asia       </td></tr>\n",
       "\t<tr><td>2020-05-25 </td><td>25         </td><td>5          </td><td>2020       </td><td>584        </td><td> 2         </td><td>Afghanistan</td><td>AF         </td><td>AFG        </td><td>37172386   </td><td>Asia       </td></tr>\n",
       "\t<tr><td>2020-05-24 </td><td>24         </td><td>5          </td><td>2020       </td><td>782        </td><td>11         </td><td>Afghanistan</td><td>AF         </td><td>AFG        </td><td>37172386   </td><td>Asia       </td></tr>\n",
       "\t<tr><td>2020-05-23 </td><td>23         </td><td>5          </td><td>2020       </td><td>540        </td><td>12         </td><td>Afghanistan</td><td>AF         </td><td>AFG        </td><td>37172386   </td><td>Asia       </td></tr>\n",
       "\t<tr><td>2020-05-22 </td><td>22         </td><td>5          </td><td>2020       </td><td>531        </td><td> 6         </td><td>Afghanistan</td><td>AF         </td><td>AFG        </td><td>37172386   </td><td>Asia       </td></tr>\n",
       "\t<tr><td>2020-05-21 </td><td>21         </td><td>5          </td><td>2020       </td><td>492        </td><td> 9         </td><td>Afghanistan</td><td>AF         </td><td>AFG        </td><td>37172386   </td><td>Asia       </td></tr>\n",
       "\t<tr><td>2020-05-20 </td><td>20         </td><td>5          </td><td>2020       </td><td>581        </td><td> 5         </td><td>Afghanistan</td><td>AF         </td><td>AFG        </td><td>37172386   </td><td>Asia       </td></tr>\n",
       "\t<tr><td>2020-05-19 </td><td>19         </td><td>5          </td><td>2020       </td><td>408        </td><td> 4         </td><td>Afghanistan</td><td>AF         </td><td>AFG        </td><td>37172386   </td><td>Asia       </td></tr>\n",
       "\t<tr><td>2020-05-18 </td><td>18         </td><td>5          </td><td>2020       </td><td>262        </td><td> 1         </td><td>Afghanistan</td><td>AF         </td><td>AFG        </td><td>37172386   </td><td>Asia       </td></tr>\n",
       "\t<tr><td>2020-05-17 </td><td>17         </td><td>5          </td><td>2020       </td><td>  0        </td><td> 0         </td><td>Afghanistan</td><td>AF         </td><td>AFG        </td><td>37172386   </td><td>Asia       </td></tr>\n",
       "\t<tr><td>...</td><td>...</td><td>...</td><td>...</td><td>...</td><td>...</td><td>...</td><td>...</td><td>...</td><td>...</td><td>...</td></tr>\n",
       "\t<tr><td>2020-04-19</td><td>19        </td><td>4         </td><td>2020      </td><td>1         </td><td>0         </td><td>Zimbabwe  </td><td>ZW        </td><td>ZWE       </td><td>14439018  </td><td>Africa    </td></tr>\n",
       "\t<tr><td>2020-04-18</td><td>18        </td><td>4         </td><td>2020      </td><td>0         </td><td>0         </td><td>Zimbabwe  </td><td>ZW        </td><td>ZWE       </td><td>14439018  </td><td>Africa    </td></tr>\n",
       "\t<tr><td>2020-04-17</td><td>17        </td><td>4         </td><td>2020      </td><td>1         </td><td>0         </td><td>Zimbabwe  </td><td>ZW        </td><td>ZWE       </td><td>14439018  </td><td>Africa    </td></tr>\n",
       "\t<tr><td>2020-04-16</td><td>16        </td><td>4         </td><td>2020      </td><td>6         </td><td>0         </td><td>Zimbabwe  </td><td>ZW        </td><td>ZWE       </td><td>14439018  </td><td>Africa    </td></tr>\n",
       "\t<tr><td>2020-04-15</td><td>15        </td><td>4         </td><td>2020      </td><td>0         </td><td>0         </td><td>Zimbabwe  </td><td>ZW        </td><td>ZWE       </td><td>14439018  </td><td>Africa    </td></tr>\n",
       "\t<tr><td>2020-04-14</td><td>14        </td><td>4         </td><td>2020      </td><td>3         </td><td>0         </td><td>Zimbabwe  </td><td>ZW        </td><td>ZWE       </td><td>14439018  </td><td>Africa    </td></tr>\n",
       "\t<tr><td>2020-04-13</td><td>13        </td><td>4         </td><td>2020      </td><td>0         </td><td>0         </td><td>Zimbabwe  </td><td>ZW        </td><td>ZWE       </td><td>14439018  </td><td>Africa    </td></tr>\n",
       "\t<tr><td>2020-04-12</td><td>12        </td><td>4         </td><td>2020      </td><td>3         </td><td>0         </td><td>Zimbabwe  </td><td>ZW        </td><td>ZWE       </td><td>14439018  </td><td>Africa    </td></tr>\n",
       "\t<tr><td>2020-04-11</td><td>11        </td><td>4         </td><td>2020      </td><td>0         </td><td>0         </td><td>Zimbabwe  </td><td>ZW        </td><td>ZWE       </td><td>14439018  </td><td>Africa    </td></tr>\n",
       "\t<tr><td>2020-04-10</td><td>10        </td><td>4         </td><td>2020      </td><td>0         </td><td>1         </td><td>Zimbabwe  </td><td>ZW        </td><td>ZWE       </td><td>14439018  </td><td>Africa    </td></tr>\n",
       "\t<tr><td>2020-04-09</td><td> 9        </td><td>4         </td><td>2020      </td><td>1         </td><td>1         </td><td>Zimbabwe  </td><td>ZW        </td><td>ZWE       </td><td>14439018  </td><td>Africa    </td></tr>\n",
       "\t<tr><td>2020-04-08</td><td> 8        </td><td>4         </td><td>2020      </td><td>1         </td><td>0         </td><td>Zimbabwe  </td><td>ZW        </td><td>ZWE       </td><td>14439018  </td><td>Africa    </td></tr>\n",
       "\t<tr><td>2020-04-07</td><td> 7        </td><td>4         </td><td>2020      </td><td>0         </td><td>0         </td><td>Zimbabwe  </td><td>ZW        </td><td>ZWE       </td><td>14439018  </td><td>Africa    </td></tr>\n",
       "\t<tr><td>2020-04-06</td><td> 6        </td><td>4         </td><td>2020      </td><td>0         </td><td>0         </td><td>Zimbabwe  </td><td>ZW        </td><td>ZWE       </td><td>14439018  </td><td>Africa    </td></tr>\n",
       "\t<tr><td>2020-04-05</td><td> 5        </td><td>4         </td><td>2020      </td><td>0         </td><td>0         </td><td>Zimbabwe  </td><td>ZW        </td><td>ZWE       </td><td>14439018  </td><td>Africa    </td></tr>\n",
       "\t<tr><td>2020-04-04</td><td> 4        </td><td>4         </td><td>2020      </td><td>1         </td><td>0         </td><td>Zimbabwe  </td><td>ZW        </td><td>ZWE       </td><td>14439018  </td><td>Africa    </td></tr>\n",
       "\t<tr><td>2020-04-03</td><td> 3        </td><td>4         </td><td>2020      </td><td>0         </td><td>0         </td><td>Zimbabwe  </td><td>ZW        </td><td>ZWE       </td><td>14439018  </td><td>Africa    </td></tr>\n",
       "\t<tr><td>2020-04-02</td><td> 2        </td><td>4         </td><td>2020      </td><td>0         </td><td>0         </td><td>Zimbabwe  </td><td>ZW        </td><td>ZWE       </td><td>14439018  </td><td>Africa    </td></tr>\n",
       "\t<tr><td>2020-04-01</td><td> 1        </td><td>4         </td><td>2020      </td><td>1         </td><td>0         </td><td>Zimbabwe  </td><td>ZW        </td><td>ZWE       </td><td>14439018  </td><td>Africa    </td></tr>\n",
       "\t<tr><td>2020-03-31</td><td>31        </td><td>3         </td><td>2020      </td><td>0         </td><td>0         </td><td>Zimbabwe  </td><td>ZW        </td><td>ZWE       </td><td>14439018  </td><td>Africa    </td></tr>\n",
       "\t<tr><td>2020-03-30</td><td>30        </td><td>3         </td><td>2020      </td><td>0         </td><td>0         </td><td>Zimbabwe  </td><td>ZW        </td><td>ZWE       </td><td>14439018  </td><td>Africa    </td></tr>\n",
       "\t<tr><td>2020-03-29</td><td>29        </td><td>3         </td><td>2020      </td><td>2         </td><td>0         </td><td>Zimbabwe  </td><td>ZW        </td><td>ZWE       </td><td>14439018  </td><td>Africa    </td></tr>\n",
       "\t<tr><td>2020-03-28</td><td>28        </td><td>3         </td><td>2020      </td><td>2         </td><td>0         </td><td>Zimbabwe  </td><td>ZW        </td><td>ZWE       </td><td>14439018  </td><td>Africa    </td></tr>\n",
       "\t<tr><td>2020-03-27</td><td>27        </td><td>3         </td><td>2020      </td><td>0         </td><td>0         </td><td>Zimbabwe  </td><td>ZW        </td><td>ZWE       </td><td>14439018  </td><td>Africa    </td></tr>\n",
       "\t<tr><td>2020-03-26</td><td>26        </td><td>3         </td><td>2020      </td><td>1         </td><td>0         </td><td>Zimbabwe  </td><td>ZW        </td><td>ZWE       </td><td>14439018  </td><td>Africa    </td></tr>\n",
       "\t<tr><td>2020-03-25</td><td>25        </td><td>3         </td><td>2020      </td><td>0         </td><td>0         </td><td>Zimbabwe  </td><td>ZW        </td><td>ZWE       </td><td>14439018  </td><td>Africa    </td></tr>\n",
       "\t<tr><td>2020-03-24</td><td>24        </td><td>3         </td><td>2020      </td><td>0         </td><td>1         </td><td>Zimbabwe  </td><td>ZW        </td><td>ZWE       </td><td>14439018  </td><td>Africa    </td></tr>\n",
       "\t<tr><td>2020-03-23</td><td>23        </td><td>3         </td><td>2020      </td><td>0         </td><td>0         </td><td>Zimbabwe  </td><td>ZW        </td><td>ZWE       </td><td>14439018  </td><td>Africa    </td></tr>\n",
       "\t<tr><td>2020-03-22</td><td>22        </td><td>3         </td><td>2020      </td><td>1         </td><td>0         </td><td>Zimbabwe  </td><td>ZW        </td><td>ZWE       </td><td>14439018  </td><td>Africa    </td></tr>\n",
       "\t<tr><td>2020-03-21</td><td>21        </td><td>3         </td><td>2020      </td><td>1         </td><td>0         </td><td>Zimbabwe  </td><td>ZW        </td><td>ZWE       </td><td>14439018  </td><td>Africa    </td></tr>\n",
       "</tbody>\n",
       "</table>\n"
      ],
      "text/latex": [
       "\\begin{tabular}{r|lllllllllll}\n",
       " dateRep & day & month & year & cases & deaths & countriesAndTerritories & geoId & countryterritoryCode & popData2018 & continentExp\\\\\n",
       "\\hline\n",
       "\t 2020-06-15  & 15          & 6           & 2020        & 664         & 20          & Afghanistan & AF          & AFG         & 37172386    & Asia       \\\\\n",
       "\t 2020-06-14  & 14          & 6           & 2020        & 556         &  5          & Afghanistan & AF          & AFG         & 37172386    & Asia       \\\\\n",
       "\t 2020-06-13  & 13          & 6           & 2020        & 656         & 20          & Afghanistan & AF          & AFG         & 37172386    & Asia       \\\\\n",
       "\t 2020-06-12  & 12          & 6           & 2020        & 747         & 21          & Afghanistan & AF          & AFG         & 37172386    & Asia       \\\\\n",
       "\t 2020-06-11  & 11          & 6           & 2020        & 684         & 21          & Afghanistan & AF          & AFG         & 37172386    & Asia       \\\\\n",
       "\t 2020-06-10  & 10          & 6           & 2020        & 542         & 15          & Afghanistan & AF          & AFG         & 37172386    & Asia       \\\\\n",
       "\t 2020-06-09  &  9          & 6           & 2020        & 575         & 12          & Afghanistan & AF          & AFG         & 37172386    & Asia       \\\\\n",
       "\t 2020-06-08  &  8          & 6           & 2020        & 791         & 30          & Afghanistan & AF          & AFG         & 37172386    & Asia       \\\\\n",
       "\t 2020-06-07  &  7          & 6           & 2020        & 582         & 18          & Afghanistan & AF          & AFG         & 37172386    & Asia       \\\\\n",
       "\t 2020-06-06  &  6          & 6           & 2020        & 915         &  9          & Afghanistan & AF          & AFG         & 37172386    & Asia       \\\\\n",
       "\t 2020-06-05  &  5          & 6           & 2020        & 787         &  6          & Afghanistan & AF          & AFG         & 37172386    & Asia       \\\\\n",
       "\t 2020-06-04  &  4          & 6           & 2020        & 758         & 24          & Afghanistan & AF          & AFG         & 37172386    & Asia       \\\\\n",
       "\t 2020-06-03  &  3          & 6           & 2020        & 759         &  5          & Afghanistan & AF          & AFG         & 37172386    & Asia       \\\\\n",
       "\t 2020-06-02  &  2          & 6           & 2020        & 545         &  8          & Afghanistan & AF          & AFG         & 37172386    & Asia       \\\\\n",
       "\t 2020-06-01  &  1          & 6           & 2020        & 680         &  8          & Afghanistan & AF          & AFG         & 37172386    & Asia       \\\\\n",
       "\t 2020-05-31  & 31          & 5           & 2020        & 866         &  3          & Afghanistan & AF          & AFG         & 37172386    & Asia       \\\\\n",
       "\t 2020-05-30  & 30          & 5           & 2020        & 623         & 11          & Afghanistan & AF          & AFG         & 37172386    & Asia       \\\\\n",
       "\t 2020-05-29  & 29          & 5           & 2020        & 580         &  8          & Afghanistan & AF          & AFG         & 37172386    & Asia       \\\\\n",
       "\t 2020-05-28  & 28          & 5           & 2020        & 625         &  7          & Afghanistan & AF          & AFG         & 37172386    & Asia       \\\\\n",
       "\t 2020-05-27  & 27          & 5           & 2020        & 658         &  1          & Afghanistan & AF          & AFG         & 37172386    & Asia       \\\\\n",
       "\t 2020-05-26  & 26          & 5           & 2020        & 591         &  1          & Afghanistan & AF          & AFG         & 37172386    & Asia       \\\\\n",
       "\t 2020-05-25  & 25          & 5           & 2020        & 584         &  2          & Afghanistan & AF          & AFG         & 37172386    & Asia       \\\\\n",
       "\t 2020-05-24  & 24          & 5           & 2020        & 782         & 11          & Afghanistan & AF          & AFG         & 37172386    & Asia       \\\\\n",
       "\t 2020-05-23  & 23          & 5           & 2020        & 540         & 12          & Afghanistan & AF          & AFG         & 37172386    & Asia       \\\\\n",
       "\t 2020-05-22  & 22          & 5           & 2020        & 531         &  6          & Afghanistan & AF          & AFG         & 37172386    & Asia       \\\\\n",
       "\t 2020-05-21  & 21          & 5           & 2020        & 492         &  9          & Afghanistan & AF          & AFG         & 37172386    & Asia       \\\\\n",
       "\t 2020-05-20  & 20          & 5           & 2020        & 581         &  5          & Afghanistan & AF          & AFG         & 37172386    & Asia       \\\\\n",
       "\t 2020-05-19  & 19          & 5           & 2020        & 408         &  4          & Afghanistan & AF          & AFG         & 37172386    & Asia       \\\\\n",
       "\t 2020-05-18  & 18          & 5           & 2020        & 262         &  1          & Afghanistan & AF          & AFG         & 37172386    & Asia       \\\\\n",
       "\t 2020-05-17  & 17          & 5           & 2020        &   0         &  0          & Afghanistan & AF          & AFG         & 37172386    & Asia       \\\\\n",
       "\t ... & ... & ... & ... & ... & ... & ... & ... & ... & ... & ...\\\\\n",
       "\t 2020-04-19 & 19         & 4          & 2020       & 1          & 0          & Zimbabwe   & ZW         & ZWE        & 14439018   & Africa    \\\\\n",
       "\t 2020-04-18 & 18         & 4          & 2020       & 0          & 0          & Zimbabwe   & ZW         & ZWE        & 14439018   & Africa    \\\\\n",
       "\t 2020-04-17 & 17         & 4          & 2020       & 1          & 0          & Zimbabwe   & ZW         & ZWE        & 14439018   & Africa    \\\\\n",
       "\t 2020-04-16 & 16         & 4          & 2020       & 6          & 0          & Zimbabwe   & ZW         & ZWE        & 14439018   & Africa    \\\\\n",
       "\t 2020-04-15 & 15         & 4          & 2020       & 0          & 0          & Zimbabwe   & ZW         & ZWE        & 14439018   & Africa    \\\\\n",
       "\t 2020-04-14 & 14         & 4          & 2020       & 3          & 0          & Zimbabwe   & ZW         & ZWE        & 14439018   & Africa    \\\\\n",
       "\t 2020-04-13 & 13         & 4          & 2020       & 0          & 0          & Zimbabwe   & ZW         & ZWE        & 14439018   & Africa    \\\\\n",
       "\t 2020-04-12 & 12         & 4          & 2020       & 3          & 0          & Zimbabwe   & ZW         & ZWE        & 14439018   & Africa    \\\\\n",
       "\t 2020-04-11 & 11         & 4          & 2020       & 0          & 0          & Zimbabwe   & ZW         & ZWE        & 14439018   & Africa    \\\\\n",
       "\t 2020-04-10 & 10         & 4          & 2020       & 0          & 1          & Zimbabwe   & ZW         & ZWE        & 14439018   & Africa    \\\\\n",
       "\t 2020-04-09 &  9         & 4          & 2020       & 1          & 1          & Zimbabwe   & ZW         & ZWE        & 14439018   & Africa    \\\\\n",
       "\t 2020-04-08 &  8         & 4          & 2020       & 1          & 0          & Zimbabwe   & ZW         & ZWE        & 14439018   & Africa    \\\\\n",
       "\t 2020-04-07 &  7         & 4          & 2020       & 0          & 0          & Zimbabwe   & ZW         & ZWE        & 14439018   & Africa    \\\\\n",
       "\t 2020-04-06 &  6         & 4          & 2020       & 0          & 0          & Zimbabwe   & ZW         & ZWE        & 14439018   & Africa    \\\\\n",
       "\t 2020-04-05 &  5         & 4          & 2020       & 0          & 0          & Zimbabwe   & ZW         & ZWE        & 14439018   & Africa    \\\\\n",
       "\t 2020-04-04 &  4         & 4          & 2020       & 1          & 0          & Zimbabwe   & ZW         & ZWE        & 14439018   & Africa    \\\\\n",
       "\t 2020-04-03 &  3         & 4          & 2020       & 0          & 0          & Zimbabwe   & ZW         & ZWE        & 14439018   & Africa    \\\\\n",
       "\t 2020-04-02 &  2         & 4          & 2020       & 0          & 0          & Zimbabwe   & ZW         & ZWE        & 14439018   & Africa    \\\\\n",
       "\t 2020-04-01 &  1         & 4          & 2020       & 1          & 0          & Zimbabwe   & ZW         & ZWE        & 14439018   & Africa    \\\\\n",
       "\t 2020-03-31 & 31         & 3          & 2020       & 0          & 0          & Zimbabwe   & ZW         & ZWE        & 14439018   & Africa    \\\\\n",
       "\t 2020-03-30 & 30         & 3          & 2020       & 0          & 0          & Zimbabwe   & ZW         & ZWE        & 14439018   & Africa    \\\\\n",
       "\t 2020-03-29 & 29         & 3          & 2020       & 2          & 0          & Zimbabwe   & ZW         & ZWE        & 14439018   & Africa    \\\\\n",
       "\t 2020-03-28 & 28         & 3          & 2020       & 2          & 0          & Zimbabwe   & ZW         & ZWE        & 14439018   & Africa    \\\\\n",
       "\t 2020-03-27 & 27         & 3          & 2020       & 0          & 0          & Zimbabwe   & ZW         & ZWE        & 14439018   & Africa    \\\\\n",
       "\t 2020-03-26 & 26         & 3          & 2020       & 1          & 0          & Zimbabwe   & ZW         & ZWE        & 14439018   & Africa    \\\\\n",
       "\t 2020-03-25 & 25         & 3          & 2020       & 0          & 0          & Zimbabwe   & ZW         & ZWE        & 14439018   & Africa    \\\\\n",
       "\t 2020-03-24 & 24         & 3          & 2020       & 0          & 1          & Zimbabwe   & ZW         & ZWE        & 14439018   & Africa    \\\\\n",
       "\t 2020-03-23 & 23         & 3          & 2020       & 0          & 0          & Zimbabwe   & ZW         & ZWE        & 14439018   & Africa    \\\\\n",
       "\t 2020-03-22 & 22         & 3          & 2020       & 1          & 0          & Zimbabwe   & ZW         & ZWE        & 14439018   & Africa    \\\\\n",
       "\t 2020-03-21 & 21         & 3          & 2020       & 1          & 0          & Zimbabwe   & ZW         & ZWE        & 14439018   & Africa    \\\\\n",
       "\\end{tabular}\n"
      ],
      "text/markdown": [
       "\n",
       "| dateRep | day | month | year | cases | deaths | countriesAndTerritories | geoId | countryterritoryCode | popData2018 | continentExp |\n",
       "|---|---|---|---|---|---|---|---|---|---|---|\n",
       "| 2020-06-15  | 15          | 6           | 2020        | 664         | 20          | Afghanistan | AF          | AFG         | 37172386    | Asia        |\n",
       "| 2020-06-14  | 14          | 6           | 2020        | 556         |  5          | Afghanistan | AF          | AFG         | 37172386    | Asia        |\n",
       "| 2020-06-13  | 13          | 6           | 2020        | 656         | 20          | Afghanistan | AF          | AFG         | 37172386    | Asia        |\n",
       "| 2020-06-12  | 12          | 6           | 2020        | 747         | 21          | Afghanistan | AF          | AFG         | 37172386    | Asia        |\n",
       "| 2020-06-11  | 11          | 6           | 2020        | 684         | 21          | Afghanistan | AF          | AFG         | 37172386    | Asia        |\n",
       "| 2020-06-10  | 10          | 6           | 2020        | 542         | 15          | Afghanistan | AF          | AFG         | 37172386    | Asia        |\n",
       "| 2020-06-09  |  9          | 6           | 2020        | 575         | 12          | Afghanistan | AF          | AFG         | 37172386    | Asia        |\n",
       "| 2020-06-08  |  8          | 6           | 2020        | 791         | 30          | Afghanistan | AF          | AFG         | 37172386    | Asia        |\n",
       "| 2020-06-07  |  7          | 6           | 2020        | 582         | 18          | Afghanistan | AF          | AFG         | 37172386    | Asia        |\n",
       "| 2020-06-06  |  6          | 6           | 2020        | 915         |  9          | Afghanistan | AF          | AFG         | 37172386    | Asia        |\n",
       "| 2020-06-05  |  5          | 6           | 2020        | 787         |  6          | Afghanistan | AF          | AFG         | 37172386    | Asia        |\n",
       "| 2020-06-04  |  4          | 6           | 2020        | 758         | 24          | Afghanistan | AF          | AFG         | 37172386    | Asia        |\n",
       "| 2020-06-03  |  3          | 6           | 2020        | 759         |  5          | Afghanistan | AF          | AFG         | 37172386    | Asia        |\n",
       "| 2020-06-02  |  2          | 6           | 2020        | 545         |  8          | Afghanistan | AF          | AFG         | 37172386    | Asia        |\n",
       "| 2020-06-01  |  1          | 6           | 2020        | 680         |  8          | Afghanistan | AF          | AFG         | 37172386    | Asia        |\n",
       "| 2020-05-31  | 31          | 5           | 2020        | 866         |  3          | Afghanistan | AF          | AFG         | 37172386    | Asia        |\n",
       "| 2020-05-30  | 30          | 5           | 2020        | 623         | 11          | Afghanistan | AF          | AFG         | 37172386    | Asia        |\n",
       "| 2020-05-29  | 29          | 5           | 2020        | 580         |  8          | Afghanistan | AF          | AFG         | 37172386    | Asia        |\n",
       "| 2020-05-28  | 28          | 5           | 2020        | 625         |  7          | Afghanistan | AF          | AFG         | 37172386    | Asia        |\n",
       "| 2020-05-27  | 27          | 5           | 2020        | 658         |  1          | Afghanistan | AF          | AFG         | 37172386    | Asia        |\n",
       "| 2020-05-26  | 26          | 5           | 2020        | 591         |  1          | Afghanistan | AF          | AFG         | 37172386    | Asia        |\n",
       "| 2020-05-25  | 25          | 5           | 2020        | 584         |  2          | Afghanistan | AF          | AFG         | 37172386    | Asia        |\n",
       "| 2020-05-24  | 24          | 5           | 2020        | 782         | 11          | Afghanistan | AF          | AFG         | 37172386    | Asia        |\n",
       "| 2020-05-23  | 23          | 5           | 2020        | 540         | 12          | Afghanistan | AF          | AFG         | 37172386    | Asia        |\n",
       "| 2020-05-22  | 22          | 5           | 2020        | 531         |  6          | Afghanistan | AF          | AFG         | 37172386    | Asia        |\n",
       "| 2020-05-21  | 21          | 5           | 2020        | 492         |  9          | Afghanistan | AF          | AFG         | 37172386    | Asia        |\n",
       "| 2020-05-20  | 20          | 5           | 2020        | 581         |  5          | Afghanistan | AF          | AFG         | 37172386    | Asia        |\n",
       "| 2020-05-19  | 19          | 5           | 2020        | 408         |  4          | Afghanistan | AF          | AFG         | 37172386    | Asia        |\n",
       "| 2020-05-18  | 18          | 5           | 2020        | 262         |  1          | Afghanistan | AF          | AFG         | 37172386    | Asia        |\n",
       "| 2020-05-17  | 17          | 5           | 2020        |   0         |  0          | Afghanistan | AF          | AFG         | 37172386    | Asia        |\n",
       "| ... | ... | ... | ... | ... | ... | ... | ... | ... | ... | ... |\n",
       "| 2020-04-19 | 19         | 4          | 2020       | 1          | 0          | Zimbabwe   | ZW         | ZWE        | 14439018   | Africa     |\n",
       "| 2020-04-18 | 18         | 4          | 2020       | 0          | 0          | Zimbabwe   | ZW         | ZWE        | 14439018   | Africa     |\n",
       "| 2020-04-17 | 17         | 4          | 2020       | 1          | 0          | Zimbabwe   | ZW         | ZWE        | 14439018   | Africa     |\n",
       "| 2020-04-16 | 16         | 4          | 2020       | 6          | 0          | Zimbabwe   | ZW         | ZWE        | 14439018   | Africa     |\n",
       "| 2020-04-15 | 15         | 4          | 2020       | 0          | 0          | Zimbabwe   | ZW         | ZWE        | 14439018   | Africa     |\n",
       "| 2020-04-14 | 14         | 4          | 2020       | 3          | 0          | Zimbabwe   | ZW         | ZWE        | 14439018   | Africa     |\n",
       "| 2020-04-13 | 13         | 4          | 2020       | 0          | 0          | Zimbabwe   | ZW         | ZWE        | 14439018   | Africa     |\n",
       "| 2020-04-12 | 12         | 4          | 2020       | 3          | 0          | Zimbabwe   | ZW         | ZWE        | 14439018   | Africa     |\n",
       "| 2020-04-11 | 11         | 4          | 2020       | 0          | 0          | Zimbabwe   | ZW         | ZWE        | 14439018   | Africa     |\n",
       "| 2020-04-10 | 10         | 4          | 2020       | 0          | 1          | Zimbabwe   | ZW         | ZWE        | 14439018   | Africa     |\n",
       "| 2020-04-09 |  9         | 4          | 2020       | 1          | 1          | Zimbabwe   | ZW         | ZWE        | 14439018   | Africa     |\n",
       "| 2020-04-08 |  8         | 4          | 2020       | 1          | 0          | Zimbabwe   | ZW         | ZWE        | 14439018   | Africa     |\n",
       "| 2020-04-07 |  7         | 4          | 2020       | 0          | 0          | Zimbabwe   | ZW         | ZWE        | 14439018   | Africa     |\n",
       "| 2020-04-06 |  6         | 4          | 2020       | 0          | 0          | Zimbabwe   | ZW         | ZWE        | 14439018   | Africa     |\n",
       "| 2020-04-05 |  5         | 4          | 2020       | 0          | 0          | Zimbabwe   | ZW         | ZWE        | 14439018   | Africa     |\n",
       "| 2020-04-04 |  4         | 4          | 2020       | 1          | 0          | Zimbabwe   | ZW         | ZWE        | 14439018   | Africa     |\n",
       "| 2020-04-03 |  3         | 4          | 2020       | 0          | 0          | Zimbabwe   | ZW         | ZWE        | 14439018   | Africa     |\n",
       "| 2020-04-02 |  2         | 4          | 2020       | 0          | 0          | Zimbabwe   | ZW         | ZWE        | 14439018   | Africa     |\n",
       "| 2020-04-01 |  1         | 4          | 2020       | 1          | 0          | Zimbabwe   | ZW         | ZWE        | 14439018   | Africa     |\n",
       "| 2020-03-31 | 31         | 3          | 2020       | 0          | 0          | Zimbabwe   | ZW         | ZWE        | 14439018   | Africa     |\n",
       "| 2020-03-30 | 30         | 3          | 2020       | 0          | 0          | Zimbabwe   | ZW         | ZWE        | 14439018   | Africa     |\n",
       "| 2020-03-29 | 29         | 3          | 2020       | 2          | 0          | Zimbabwe   | ZW         | ZWE        | 14439018   | Africa     |\n",
       "| 2020-03-28 | 28         | 3          | 2020       | 2          | 0          | Zimbabwe   | ZW         | ZWE        | 14439018   | Africa     |\n",
       "| 2020-03-27 | 27         | 3          | 2020       | 0          | 0          | Zimbabwe   | ZW         | ZWE        | 14439018   | Africa     |\n",
       "| 2020-03-26 | 26         | 3          | 2020       | 1          | 0          | Zimbabwe   | ZW         | ZWE        | 14439018   | Africa     |\n",
       "| 2020-03-25 | 25         | 3          | 2020       | 0          | 0          | Zimbabwe   | ZW         | ZWE        | 14439018   | Africa     |\n",
       "| 2020-03-24 | 24         | 3          | 2020       | 0          | 1          | Zimbabwe   | ZW         | ZWE        | 14439018   | Africa     |\n",
       "| 2020-03-23 | 23         | 3          | 2020       | 0          | 0          | Zimbabwe   | ZW         | ZWE        | 14439018   | Africa     |\n",
       "| 2020-03-22 | 22         | 3          | 2020       | 1          | 0          | Zimbabwe   | ZW         | ZWE        | 14439018   | Africa     |\n",
       "| 2020-03-21 | 21         | 3          | 2020       | 1          | 0          | Zimbabwe   | ZW         | ZWE        | 14439018   | Africa     |\n",
       "\n"
      ],
      "text/plain": [
       "      dateRep    day month year cases deaths countriesAndTerritories geoId\n",
       "1     2020-06-15 15  6     2020 664   20     Afghanistan             AF   \n",
       "2     2020-06-14 14  6     2020 556    5     Afghanistan             AF   \n",
       "3     2020-06-13 13  6     2020 656   20     Afghanistan             AF   \n",
       "4     2020-06-12 12  6     2020 747   21     Afghanistan             AF   \n",
       "5     2020-06-11 11  6     2020 684   21     Afghanistan             AF   \n",
       "6     2020-06-10 10  6     2020 542   15     Afghanistan             AF   \n",
       "7     2020-06-09  9  6     2020 575   12     Afghanistan             AF   \n",
       "8     2020-06-08  8  6     2020 791   30     Afghanistan             AF   \n",
       "9     2020-06-07  7  6     2020 582   18     Afghanistan             AF   \n",
       "10    2020-06-06  6  6     2020 915    9     Afghanistan             AF   \n",
       "11    2020-06-05  5  6     2020 787    6     Afghanistan             AF   \n",
       "12    2020-06-04  4  6     2020 758   24     Afghanistan             AF   \n",
       "13    2020-06-03  3  6     2020 759    5     Afghanistan             AF   \n",
       "14    2020-06-02  2  6     2020 545    8     Afghanistan             AF   \n",
       "15    2020-06-01  1  6     2020 680    8     Afghanistan             AF   \n",
       "16    2020-05-31 31  5     2020 866    3     Afghanistan             AF   \n",
       "17    2020-05-30 30  5     2020 623   11     Afghanistan             AF   \n",
       "18    2020-05-29 29  5     2020 580    8     Afghanistan             AF   \n",
       "19    2020-05-28 28  5     2020 625    7     Afghanistan             AF   \n",
       "20    2020-05-27 27  5     2020 658    1     Afghanistan             AF   \n",
       "21    2020-05-26 26  5     2020 591    1     Afghanistan             AF   \n",
       "22    2020-05-25 25  5     2020 584    2     Afghanistan             AF   \n",
       "23    2020-05-24 24  5     2020 782   11     Afghanistan             AF   \n",
       "24    2020-05-23 23  5     2020 540   12     Afghanistan             AF   \n",
       "25    2020-05-22 22  5     2020 531    6     Afghanistan             AF   \n",
       "26    2020-05-21 21  5     2020 492    9     Afghanistan             AF   \n",
       "27    2020-05-20 20  5     2020 581    5     Afghanistan             AF   \n",
       "28    2020-05-19 19  5     2020 408    4     Afghanistan             AF   \n",
       "29    2020-05-18 18  5     2020 262    1     Afghanistan             AF   \n",
       "30    2020-05-17 17  5     2020   0    0     Afghanistan             AF   \n",
       "...   ...        ... ...   ...  ...   ...    ...                     ...  \n",
       "23608 2020-04-19 19  4     2020 1     0      Zimbabwe                ZW   \n",
       "23609 2020-04-18 18  4     2020 0     0      Zimbabwe                ZW   \n",
       "23610 2020-04-17 17  4     2020 1     0      Zimbabwe                ZW   \n",
       "23611 2020-04-16 16  4     2020 6     0      Zimbabwe                ZW   \n",
       "23612 2020-04-15 15  4     2020 0     0      Zimbabwe                ZW   \n",
       "23613 2020-04-14 14  4     2020 3     0      Zimbabwe                ZW   \n",
       "23614 2020-04-13 13  4     2020 0     0      Zimbabwe                ZW   \n",
       "23615 2020-04-12 12  4     2020 3     0      Zimbabwe                ZW   \n",
       "23616 2020-04-11 11  4     2020 0     0      Zimbabwe                ZW   \n",
       "23617 2020-04-10 10  4     2020 0     1      Zimbabwe                ZW   \n",
       "23618 2020-04-09  9  4     2020 1     1      Zimbabwe                ZW   \n",
       "23619 2020-04-08  8  4     2020 1     0      Zimbabwe                ZW   \n",
       "23620 2020-04-07  7  4     2020 0     0      Zimbabwe                ZW   \n",
       "23621 2020-04-06  6  4     2020 0     0      Zimbabwe                ZW   \n",
       "23622 2020-04-05  5  4     2020 0     0      Zimbabwe                ZW   \n",
       "23623 2020-04-04  4  4     2020 1     0      Zimbabwe                ZW   \n",
       "23624 2020-04-03  3  4     2020 0     0      Zimbabwe                ZW   \n",
       "23625 2020-04-02  2  4     2020 0     0      Zimbabwe                ZW   \n",
       "23626 2020-04-01  1  4     2020 1     0      Zimbabwe                ZW   \n",
       "23627 2020-03-31 31  3     2020 0     0      Zimbabwe                ZW   \n",
       "23628 2020-03-30 30  3     2020 0     0      Zimbabwe                ZW   \n",
       "23629 2020-03-29 29  3     2020 2     0      Zimbabwe                ZW   \n",
       "23630 2020-03-28 28  3     2020 2     0      Zimbabwe                ZW   \n",
       "23631 2020-03-27 27  3     2020 0     0      Zimbabwe                ZW   \n",
       "23632 2020-03-26 26  3     2020 1     0      Zimbabwe                ZW   \n",
       "23633 2020-03-25 25  3     2020 0     0      Zimbabwe                ZW   \n",
       "23634 2020-03-24 24  3     2020 0     1      Zimbabwe                ZW   \n",
       "23635 2020-03-23 23  3     2020 0     0      Zimbabwe                ZW   \n",
       "23636 2020-03-22 22  3     2020 1     0      Zimbabwe                ZW   \n",
       "23637 2020-03-21 21  3     2020 1     0      Zimbabwe                ZW   \n",
       "      countryterritoryCode popData2018 continentExp\n",
       "1     AFG                  37172386    Asia        \n",
       "2     AFG                  37172386    Asia        \n",
       "3     AFG                  37172386    Asia        \n",
       "4     AFG                  37172386    Asia        \n",
       "5     AFG                  37172386    Asia        \n",
       "6     AFG                  37172386    Asia        \n",
       "7     AFG                  37172386    Asia        \n",
       "8     AFG                  37172386    Asia        \n",
       "9     AFG                  37172386    Asia        \n",
       "10    AFG                  37172386    Asia        \n",
       "11    AFG                  37172386    Asia        \n",
       "12    AFG                  37172386    Asia        \n",
       "13    AFG                  37172386    Asia        \n",
       "14    AFG                  37172386    Asia        \n",
       "15    AFG                  37172386    Asia        \n",
       "16    AFG                  37172386    Asia        \n",
       "17    AFG                  37172386    Asia        \n",
       "18    AFG                  37172386    Asia        \n",
       "19    AFG                  37172386    Asia        \n",
       "20    AFG                  37172386    Asia        \n",
       "21    AFG                  37172386    Asia        \n",
       "22    AFG                  37172386    Asia        \n",
       "23    AFG                  37172386    Asia        \n",
       "24    AFG                  37172386    Asia        \n",
       "25    AFG                  37172386    Asia        \n",
       "26    AFG                  37172386    Asia        \n",
       "27    AFG                  37172386    Asia        \n",
       "28    AFG                  37172386    Asia        \n",
       "29    AFG                  37172386    Asia        \n",
       "30    AFG                  37172386    Asia        \n",
       "...   ...                  ...         ...         \n",
       "23608 ZWE                  14439018    Africa      \n",
       "23609 ZWE                  14439018    Africa      \n",
       "23610 ZWE                  14439018    Africa      \n",
       "23611 ZWE                  14439018    Africa      \n",
       "23612 ZWE                  14439018    Africa      \n",
       "23613 ZWE                  14439018    Africa      \n",
       "23614 ZWE                  14439018    Africa      \n",
       "23615 ZWE                  14439018    Africa      \n",
       "23616 ZWE                  14439018    Africa      \n",
       "23617 ZWE                  14439018    Africa      \n",
       "23618 ZWE                  14439018    Africa      \n",
       "23619 ZWE                  14439018    Africa      \n",
       "23620 ZWE                  14439018    Africa      \n",
       "23621 ZWE                  14439018    Africa      \n",
       "23622 ZWE                  14439018    Africa      \n",
       "23623 ZWE                  14439018    Africa      \n",
       "23624 ZWE                  14439018    Africa      \n",
       "23625 ZWE                  14439018    Africa      \n",
       "23626 ZWE                  14439018    Africa      \n",
       "23627 ZWE                  14439018    Africa      \n",
       "23628 ZWE                  14439018    Africa      \n",
       "23629 ZWE                  14439018    Africa      \n",
       "23630 ZWE                  14439018    Africa      \n",
       "23631 ZWE                  14439018    Africa      \n",
       "23632 ZWE                  14439018    Africa      \n",
       "23633 ZWE                  14439018    Africa      \n",
       "23634 ZWE                  14439018    Africa      \n",
       "23635 ZWE                  14439018    Africa      \n",
       "23636 ZWE                  14439018    Africa      \n",
       "23637 ZWE                  14439018    Africa      "
      ]
     },
     "metadata": {},
     "output_type": "display_data"
    }
   ],
   "source": [
    "covid"
   ]
  },
  {
   "cell_type": "code",
   "execution_count": 7,
   "metadata": {},
   "outputs": [
    {
     "name": "stdout",
     "output_type": "stream",
     "text": [
      "Classes 'tbl_df', 'tbl' and 'data.frame':\t23637 obs. of  11 variables:\n",
      " $ dateRep                : POSIXct, format: \"2020-06-15\" \"2020-06-14\" ...\n",
      " $ day                    : num  15 14 13 12 11 10 9 8 7 6 ...\n",
      " $ month                  : num  6 6 6 6 6 6 6 6 6 6 ...\n",
      " $ year                   : num  2020 2020 2020 2020 2020 2020 2020 2020 2020 2020 ...\n",
      " $ cases                  : num  664 556 656 747 684 542 575 791 582 915 ...\n",
      " $ deaths                 : num  20 5 20 21 21 15 12 30 18 9 ...\n",
      " $ countriesAndTerritories: chr  \"Afghanistan\" \"Afghanistan\" \"Afghanistan\" \"Afghanistan\" ...\n",
      " $ geoId                  : chr  \"AF\" \"AF\" \"AF\" \"AF\" ...\n",
      " $ countryterritoryCode   : chr  \"AFG\" \"AFG\" \"AFG\" \"AFG\" ...\n",
      " $ popData2018            : num  37172386 37172386 37172386 37172386 37172386 ...\n",
      " $ continentExp           : chr  \"Asia\" \"Asia\" \"Asia\" \"Asia\" ...\n"
     ]
    }
   ],
   "source": [
    "str(covid)"
   ]
  },
  {
   "cell_type": "code",
   "execution_count": 8,
   "metadata": {},
   "outputs": [
    {
     "data": {
      "text/html": [
       "<table>\n",
       "<thead><tr><th scope=col>dateRep</th><th scope=col>day</th><th scope=col>month</th><th scope=col>year</th><th scope=col>cases</th><th scope=col>deaths</th><th scope=col>countriesAndTerritories</th><th scope=col>geoId</th><th scope=col>countryterritoryCode</th><th scope=col>popData2018</th><th scope=col>continentExp</th></tr></thead>\n",
       "<tbody>\n",
       "\t<tr><td>2020-06-15 </td><td>15         </td><td>6          </td><td>2020       </td><td>664        </td><td>20         </td><td>Afghanistan</td><td>AF         </td><td>AFG        </td><td>37172386   </td><td>Asia       </td></tr>\n",
       "\t<tr><td>2020-06-14 </td><td>14         </td><td>6          </td><td>2020       </td><td>556        </td><td> 5         </td><td>Afghanistan</td><td>AF         </td><td>AFG        </td><td>37172386   </td><td>Asia       </td></tr>\n",
       "\t<tr><td>2020-06-13 </td><td>13         </td><td>6          </td><td>2020       </td><td>656        </td><td>20         </td><td>Afghanistan</td><td>AF         </td><td>AFG        </td><td>37172386   </td><td>Asia       </td></tr>\n",
       "\t<tr><td>2020-06-12 </td><td>12         </td><td>6          </td><td>2020       </td><td>747        </td><td>21         </td><td>Afghanistan</td><td>AF         </td><td>AFG        </td><td>37172386   </td><td>Asia       </td></tr>\n",
       "\t<tr><td>2020-06-11 </td><td>11         </td><td>6          </td><td>2020       </td><td>684        </td><td>21         </td><td>Afghanistan</td><td>AF         </td><td>AFG        </td><td>37172386   </td><td>Asia       </td></tr>\n",
       "\t<tr><td>2020-06-10 </td><td>10         </td><td>6          </td><td>2020       </td><td>542        </td><td>15         </td><td>Afghanistan</td><td>AF         </td><td>AFG        </td><td>37172386   </td><td>Asia       </td></tr>\n",
       "</tbody>\n",
       "</table>\n"
      ],
      "text/latex": [
       "\\begin{tabular}{r|lllllllllll}\n",
       " dateRep & day & month & year & cases & deaths & countriesAndTerritories & geoId & countryterritoryCode & popData2018 & continentExp\\\\\n",
       "\\hline\n",
       "\t 2020-06-15  & 15          & 6           & 2020        & 664         & 20          & Afghanistan & AF          & AFG         & 37172386    & Asia       \\\\\n",
       "\t 2020-06-14  & 14          & 6           & 2020        & 556         &  5          & Afghanistan & AF          & AFG         & 37172386    & Asia       \\\\\n",
       "\t 2020-06-13  & 13          & 6           & 2020        & 656         & 20          & Afghanistan & AF          & AFG         & 37172386    & Asia       \\\\\n",
       "\t 2020-06-12  & 12          & 6           & 2020        & 747         & 21          & Afghanistan & AF          & AFG         & 37172386    & Asia       \\\\\n",
       "\t 2020-06-11  & 11          & 6           & 2020        & 684         & 21          & Afghanistan & AF          & AFG         & 37172386    & Asia       \\\\\n",
       "\t 2020-06-10  & 10          & 6           & 2020        & 542         & 15          & Afghanistan & AF          & AFG         & 37172386    & Asia       \\\\\n",
       "\\end{tabular}\n"
      ],
      "text/markdown": [
       "\n",
       "| dateRep | day | month | year | cases | deaths | countriesAndTerritories | geoId | countryterritoryCode | popData2018 | continentExp |\n",
       "|---|---|---|---|---|---|---|---|---|---|---|\n",
       "| 2020-06-15  | 15          | 6           | 2020        | 664         | 20          | Afghanistan | AF          | AFG         | 37172386    | Asia        |\n",
       "| 2020-06-14  | 14          | 6           | 2020        | 556         |  5          | Afghanistan | AF          | AFG         | 37172386    | Asia        |\n",
       "| 2020-06-13  | 13          | 6           | 2020        | 656         | 20          | Afghanistan | AF          | AFG         | 37172386    | Asia        |\n",
       "| 2020-06-12  | 12          | 6           | 2020        | 747         | 21          | Afghanistan | AF          | AFG         | 37172386    | Asia        |\n",
       "| 2020-06-11  | 11          | 6           | 2020        | 684         | 21          | Afghanistan | AF          | AFG         | 37172386    | Asia        |\n",
       "| 2020-06-10  | 10          | 6           | 2020        | 542         | 15          | Afghanistan | AF          | AFG         | 37172386    | Asia        |\n",
       "\n"
      ],
      "text/plain": [
       "  dateRep    day month year cases deaths countriesAndTerritories geoId\n",
       "1 2020-06-15 15  6     2020 664   20     Afghanistan             AF   \n",
       "2 2020-06-14 14  6     2020 556    5     Afghanistan             AF   \n",
       "3 2020-06-13 13  6     2020 656   20     Afghanistan             AF   \n",
       "4 2020-06-12 12  6     2020 747   21     Afghanistan             AF   \n",
       "5 2020-06-11 11  6     2020 684   21     Afghanistan             AF   \n",
       "6 2020-06-10 10  6     2020 542   15     Afghanistan             AF   \n",
       "  countryterritoryCode popData2018 continentExp\n",
       "1 AFG                  37172386    Asia        \n",
       "2 AFG                  37172386    Asia        \n",
       "3 AFG                  37172386    Asia        \n",
       "4 AFG                  37172386    Asia        \n",
       "5 AFG                  37172386    Asia        \n",
       "6 AFG                  37172386    Asia        "
      ]
     },
     "metadata": {},
     "output_type": "display_data"
    }
   ],
   "source": [
    "head(covid)"
   ]
  },
  {
   "cell_type": "code",
   "execution_count": 9,
   "metadata": {},
   "outputs": [
    {
     "data": {
      "text/html": [
       "<table>\n",
       "<thead><tr><th scope=col>dateRep</th><th scope=col>day</th><th scope=col>month</th><th scope=col>year</th><th scope=col>cases</th><th scope=col>deaths</th><th scope=col>countriesAndTerritories</th><th scope=col>geoId</th><th scope=col>countryterritoryCode</th><th scope=col>popData2018</th><th scope=col>continentExp</th></tr></thead>\n",
       "<tbody>\n",
       "\t<tr><td>2020-03-26</td><td>26        </td><td>3         </td><td>2020      </td><td>1         </td><td>0         </td><td>Zimbabwe  </td><td>ZW        </td><td>ZWE       </td><td>14439018  </td><td>Africa    </td></tr>\n",
       "\t<tr><td>2020-03-25</td><td>25        </td><td>3         </td><td>2020      </td><td>0         </td><td>0         </td><td>Zimbabwe  </td><td>ZW        </td><td>ZWE       </td><td>14439018  </td><td>Africa    </td></tr>\n",
       "\t<tr><td>2020-03-24</td><td>24        </td><td>3         </td><td>2020      </td><td>0         </td><td>1         </td><td>Zimbabwe  </td><td>ZW        </td><td>ZWE       </td><td>14439018  </td><td>Africa    </td></tr>\n",
       "\t<tr><td>2020-03-23</td><td>23        </td><td>3         </td><td>2020      </td><td>0         </td><td>0         </td><td>Zimbabwe  </td><td>ZW        </td><td>ZWE       </td><td>14439018  </td><td>Africa    </td></tr>\n",
       "\t<tr><td>2020-03-22</td><td>22        </td><td>3         </td><td>2020      </td><td>1         </td><td>0         </td><td>Zimbabwe  </td><td>ZW        </td><td>ZWE       </td><td>14439018  </td><td>Africa    </td></tr>\n",
       "\t<tr><td>2020-03-21</td><td>21        </td><td>3         </td><td>2020      </td><td>1         </td><td>0         </td><td>Zimbabwe  </td><td>ZW        </td><td>ZWE       </td><td>14439018  </td><td>Africa    </td></tr>\n",
       "</tbody>\n",
       "</table>\n"
      ],
      "text/latex": [
       "\\begin{tabular}{r|lllllllllll}\n",
       " dateRep & day & month & year & cases & deaths & countriesAndTerritories & geoId & countryterritoryCode & popData2018 & continentExp\\\\\n",
       "\\hline\n",
       "\t 2020-03-26 & 26         & 3          & 2020       & 1          & 0          & Zimbabwe   & ZW         & ZWE        & 14439018   & Africa    \\\\\n",
       "\t 2020-03-25 & 25         & 3          & 2020       & 0          & 0          & Zimbabwe   & ZW         & ZWE        & 14439018   & Africa    \\\\\n",
       "\t 2020-03-24 & 24         & 3          & 2020       & 0          & 1          & Zimbabwe   & ZW         & ZWE        & 14439018   & Africa    \\\\\n",
       "\t 2020-03-23 & 23         & 3          & 2020       & 0          & 0          & Zimbabwe   & ZW         & ZWE        & 14439018   & Africa    \\\\\n",
       "\t 2020-03-22 & 22         & 3          & 2020       & 1          & 0          & Zimbabwe   & ZW         & ZWE        & 14439018   & Africa    \\\\\n",
       "\t 2020-03-21 & 21         & 3          & 2020       & 1          & 0          & Zimbabwe   & ZW         & ZWE        & 14439018   & Africa    \\\\\n",
       "\\end{tabular}\n"
      ],
      "text/markdown": [
       "\n",
       "| dateRep | day | month | year | cases | deaths | countriesAndTerritories | geoId | countryterritoryCode | popData2018 | continentExp |\n",
       "|---|---|---|---|---|---|---|---|---|---|---|\n",
       "| 2020-03-26 | 26         | 3          | 2020       | 1          | 0          | Zimbabwe   | ZW         | ZWE        | 14439018   | Africa     |\n",
       "| 2020-03-25 | 25         | 3          | 2020       | 0          | 0          | Zimbabwe   | ZW         | ZWE        | 14439018   | Africa     |\n",
       "| 2020-03-24 | 24         | 3          | 2020       | 0          | 1          | Zimbabwe   | ZW         | ZWE        | 14439018   | Africa     |\n",
       "| 2020-03-23 | 23         | 3          | 2020       | 0          | 0          | Zimbabwe   | ZW         | ZWE        | 14439018   | Africa     |\n",
       "| 2020-03-22 | 22         | 3          | 2020       | 1          | 0          | Zimbabwe   | ZW         | ZWE        | 14439018   | Africa     |\n",
       "| 2020-03-21 | 21         | 3          | 2020       | 1          | 0          | Zimbabwe   | ZW         | ZWE        | 14439018   | Africa     |\n",
       "\n"
      ],
      "text/plain": [
       "  dateRep    day month year cases deaths countriesAndTerritories geoId\n",
       "1 2020-03-26 26  3     2020 1     0      Zimbabwe                ZW   \n",
       "2 2020-03-25 25  3     2020 0     0      Zimbabwe                ZW   \n",
       "3 2020-03-24 24  3     2020 0     1      Zimbabwe                ZW   \n",
       "4 2020-03-23 23  3     2020 0     0      Zimbabwe                ZW   \n",
       "5 2020-03-22 22  3     2020 1     0      Zimbabwe                ZW   \n",
       "6 2020-03-21 21  3     2020 1     0      Zimbabwe                ZW   \n",
       "  countryterritoryCode popData2018 continentExp\n",
       "1 ZWE                  14439018    Africa      \n",
       "2 ZWE                  14439018    Africa      \n",
       "3 ZWE                  14439018    Africa      \n",
       "4 ZWE                  14439018    Africa      \n",
       "5 ZWE                  14439018    Africa      \n",
       "6 ZWE                  14439018    Africa      "
      ]
     },
     "metadata": {},
     "output_type": "display_data"
    }
   ],
   "source": [
    "tail(covid)"
   ]
  },
  {
   "cell_type": "code",
   "execution_count": 10,
   "metadata": {},
   "outputs": [],
   "source": [
    "last_covid <- covid[covid$dateRep >= max(covid$dateRep)-1, ]"
   ]
  },
  {
   "cell_type": "code",
   "execution_count": 11,
   "metadata": {},
   "outputs": [
    {
     "data": {
      "text/html": [
       "<table>\n",
       "<thead><tr><th scope=col>dateRep</th><th scope=col>day</th><th scope=col>month</th><th scope=col>year</th><th scope=col>cases</th><th scope=col>deaths</th><th scope=col>countriesAndTerritories</th><th scope=col>geoId</th><th scope=col>countryterritoryCode</th><th scope=col>popData2018</th><th scope=col>continentExp</th></tr></thead>\n",
       "<tbody>\n",
       "\t<tr><td>2020-06-15                       </td><td>15                               </td><td>6                                </td><td>2020                             </td><td>  664                            </td><td> 20                              </td><td>Afghanistan                      </td><td>AF                               </td><td>AFG                              </td><td> 37172386                        </td><td>Asia                             </td></tr>\n",
       "\t<tr><td>2020-06-15                       </td><td>15                               </td><td>6                                </td><td>2020                             </td><td>   57                            </td><td>  0                              </td><td>Albania                          </td><td>AL                               </td><td>ALB                              </td><td>  2866376                        </td><td>Europe                           </td></tr>\n",
       "\t<tr><td>2020-06-15                       </td><td>15                               </td><td>6                                </td><td>2020                             </td><td>  109                            </td><td>  7                              </td><td>Algeria                          </td><td>DZ                               </td><td>DZA                              </td><td> 42228429                        </td><td>Africa                           </td></tr>\n",
       "\t<tr><td>2020-06-15                       </td><td>15                               </td><td>6                                </td><td>2020                             </td><td>    0                            </td><td>  0                              </td><td>Andorra                          </td><td>AD                               </td><td>AND                              </td><td>    77006                        </td><td>Europe                           </td></tr>\n",
       "\t<tr><td>2020-06-15                       </td><td>15                               </td><td>6                                </td><td>2020                             </td><td>    2                            </td><td>  0                              </td><td>Angola                           </td><td>AO                               </td><td>AGO                              </td><td> 30809762                        </td><td>Africa                           </td></tr>\n",
       "\t<tr><td>2020-06-15                       </td><td>15                               </td><td>6                                </td><td>2020                             </td><td>    0                            </td><td>  0                              </td><td>Anguilla                         </td><td>AI                               </td><td>NA                               </td><td>       NA                        </td><td>America                          </td></tr>\n",
       "\t<tr><td>2020-06-15                       </td><td>15                               </td><td>6                                </td><td>2020                             </td><td>    0                            </td><td>  0                              </td><td>Antigua_and_Barbuda              </td><td>AG                               </td><td>ATG                              </td><td>    96286                        </td><td>America                          </td></tr>\n",
       "\t<tr><td>2020-06-15                       </td><td>15                               </td><td>6                                </td><td>2020                             </td><td> 1282                            </td><td> 18                              </td><td>Argentina                        </td><td>AR                               </td><td>ARG                              </td><td> 44494502                        </td><td>America                          </td></tr>\n",
       "\t<tr><td>2020-06-15                       </td><td>15                               </td><td>6                                </td><td>2020                             </td><td>  663                            </td><td>  5                              </td><td>Armenia                          </td><td>AM                               </td><td>ARM                              </td><td>  2951776                        </td><td>Europe                           </td></tr>\n",
       "\t<tr><td>2020-06-15                       </td><td>15                               </td><td>6                                </td><td>2020                             </td><td>    0                            </td><td>  0                              </td><td>Aruba                            </td><td>AW                               </td><td>ABW                              </td><td>   105845                        </td><td>America                          </td></tr>\n",
       "\t<tr><td>2020-06-15                       </td><td>15                               </td><td>6                                </td><td>2020                             </td><td>   18                            </td><td>  0                              </td><td>Australia                        </td><td>AU                               </td><td>AUS                              </td><td> 24992369                        </td><td>Oceania                          </td></tr>\n",
       "\t<tr><td>2020-06-15                       </td><td>15                               </td><td>6                                </td><td>2020                             </td><td>   24                            </td><td>  0                              </td><td>Austria                          </td><td>AT                               </td><td>AUT                              </td><td>  8847037                        </td><td>Europe                           </td></tr>\n",
       "\t<tr><td>2020-06-15                       </td><td>15                               </td><td>6                                </td><td>2020                             </td><td>  387                            </td><td>  4                              </td><td>Azerbaijan                       </td><td>AZ                               </td><td>AZE                              </td><td>  9942334                        </td><td>Europe                           </td></tr>\n",
       "\t<tr><td>2020-06-15                       </td><td>15                               </td><td>6                                </td><td>2020                             </td><td>    0                            </td><td>  0                              </td><td>Bahamas                          </td><td>BS                               </td><td>BHS                              </td><td>   385640                        </td><td>America                          </td></tr>\n",
       "\t<tr><td>2020-06-15                       </td><td>15                               </td><td>6                                </td><td>2020                             </td><td>    0                            </td><td>  4                              </td><td>Bahrain                          </td><td>BH                               </td><td>BHR                              </td><td>  1569439                        </td><td>Asia                             </td></tr>\n",
       "\t<tr><td>2020-06-15                       </td><td>15                               </td><td>6                                </td><td>2020                             </td><td> 3141                            </td><td> 32                              </td><td>Bangladesh                       </td><td>BD                               </td><td>BGD                              </td><td>161356039                        </td><td>Asia                             </td></tr>\n",
       "\t<tr><td>2020-06-15                       </td><td>15                               </td><td>6                                </td><td>2020                             </td><td>    0                            </td><td>  0                              </td><td>Barbados                         </td><td>BB                               </td><td>BRB                              </td><td>   286641                        </td><td>America                          </td></tr>\n",
       "\t<tr><td>2020-06-15                       </td><td>15                               </td><td>6                                </td><td>2020                             </td><td>  732                            </td><td>  5                              </td><td>Belarus                          </td><td>BY                               </td><td>BLR                              </td><td>  9485386                        </td><td>Europe                           </td></tr>\n",
       "\t<tr><td>2020-06-15                       </td><td>15                               </td><td>6                                </td><td>2020                             </td><td>  111                            </td><td>  5                              </td><td>Belgium                          </td><td>BE                               </td><td>BEL                              </td><td> 11422068                        </td><td>Europe                           </td></tr>\n",
       "\t<tr><td>2020-06-15                       </td><td>15                               </td><td>6                                </td><td>2020                             </td><td>    1                            </td><td>  0                              </td><td>Belize                           </td><td>BZ                               </td><td>BLZ                              </td><td>   383071                        </td><td>America                          </td></tr>\n",
       "\t<tr><td>2020-06-15                       </td><td>15                               </td><td>6                                </td><td>2020                             </td><td>   58                            </td><td>  1                              </td><td>Benin                            </td><td>BJ                               </td><td>BEN                              </td><td> 11485048                        </td><td>Africa                           </td></tr>\n",
       "\t<tr><td>2020-06-15                       </td><td>15                               </td><td>6                                </td><td>2020                             </td><td>    0                            </td><td>  0                              </td><td>Bermuda                          </td><td>BM                               </td><td>BMU                              </td><td>    63968                        </td><td>America                          </td></tr>\n",
       "\t<tr><td>2020-06-15                       </td><td>15                               </td><td>6                                </td><td>2020                             </td><td>    0                            </td><td>  0                              </td><td>Bhutan                           </td><td>BT                               </td><td>BTN                              </td><td>   754394                        </td><td>Asia                             </td></tr>\n",
       "\t<tr><td>2020-06-15                       </td><td>15                               </td><td>6                                </td><td>2020                             </td><td>  617                            </td><td> 26                              </td><td>Bolivia                          </td><td>BO                               </td><td>BOL                              </td><td> 11353142                        </td><td>America                          </td></tr>\n",
       "\t<tr><td>2020-06-15                       </td><td>15                               </td><td>6                                </td><td>2020                             </td><td>    0                            </td><td>  0                              </td><td>Bonaire, Saint Eustatius and Saba</td><td>BQ                               </td><td>NA                               </td><td>       NA                        </td><td>America                          </td></tr>\n",
       "\t<tr><td>2020-06-15                       </td><td>15                               </td><td>6                                </td><td>2020                             </td><td>    0                            </td><td>  0                              </td><td>Bosnia_and_Herzegovina           </td><td>BA                               </td><td>BIH                              </td><td>  3323929                        </td><td>Europe                           </td></tr>\n",
       "\t<tr><td>2020-06-15                       </td><td>15                               </td><td>6                                </td><td>2020                             </td><td>    0                            </td><td>  0                              </td><td>Botswana                         </td><td>BW                               </td><td>BWA                              </td><td>  2254126                        </td><td>Africa                           </td></tr>\n",
       "\t<tr><td>2020-06-15                       </td><td>15                               </td><td>6                                </td><td>2020                             </td><td>17110                            </td><td>612                              </td><td>Brazil                           </td><td>BR                               </td><td>BRA                              </td><td>209469333                        </td><td>America                          </td></tr>\n",
       "\t<tr><td>2020-06-15                       </td><td>15                               </td><td>6                                </td><td>2020                             </td><td>    0                            </td><td>  0                              </td><td>British_Virgin_Islands           </td><td>VG                               </td><td>VGB                              </td><td>    29802                        </td><td>America                          </td></tr>\n",
       "\t<tr><td>2020-06-15                       </td><td>15                               </td><td>6                                </td><td>2020                             </td><td>    0                            </td><td>  0                              </td><td>Brunei_Darussalam                </td><td>BN                               </td><td>BRN                              </td><td>   428962                        </td><td>Asia                             </td></tr>\n",
       "\t<tr><td>...</td><td>...</td><td>...</td><td>...</td><td>...</td><td>...</td><td>...</td><td>...</td><td>...</td><td>...</td><td>...</td></tr>\n",
       "\t<tr><td>2020-06-15                  </td><td>15                          </td><td>6                           </td><td>2020                        </td><td>    5                       </td><td>  0                         </td><td>Sri_Lanka                   </td><td>LK                          </td><td>LKA                         </td><td> 21670000                   </td><td>Asia                        </td></tr>\n",
       "\t<tr><td>2020-06-15                  </td><td>15                          </td><td>6                           </td><td>2020                        </td><td>  341                       </td><td> 26                         </td><td>Sudan                       </td><td>SD                          </td><td>SDN                         </td><td> 41801533                   </td><td>Africa                      </td></tr>\n",
       "\t<tr><td>2020-06-15                  </td><td>15                          </td><td>6                           </td><td>2020                        </td><td>   12                       </td><td>  0                         </td><td>Suriname                    </td><td>SR                          </td><td>SUR                         </td><td>   575991                   </td><td>America                     </td></tr>\n",
       "\t<tr><td>2020-06-15                  </td><td>15                          </td><td>6                           </td><td>2020                        </td><td>  683                       </td><td>  0                         </td><td>Sweden                      </td><td>SE                          </td><td>SWE                         </td><td> 10183175                   </td><td>Europe                      </td></tr>\n",
       "\t<tr><td>2020-06-15                  </td><td>15                          </td><td>6                           </td><td>2020                        </td><td>   23                       </td><td>  0                         </td><td>Switzerland                 </td><td>CH                          </td><td>CHE                         </td><td>  8516543                   </td><td>Europe                      </td></tr>\n",
       "\t<tr><td>2020-06-15                  </td><td>15                          </td><td>6                           </td><td>2020                        </td><td>    7                       </td><td>  0                         </td><td>Syria                       </td><td>SY                          </td><td>SYR                         </td><td> 16906283                   </td><td>Asia                        </td></tr>\n",
       "\t<tr><td>2020-06-15                  </td><td>15                          </td><td>6                           </td><td>2020                        </td><td>    0                       </td><td>  0                         </td><td>Taiwan                      </td><td>TW                          </td><td>TWN                         </td><td> 23780452                   </td><td>Asia                        </td></tr>\n",
       "\t<tr><td>2020-06-15                  </td><td>15                          </td><td>6                           </td><td>2020                        </td><td>   64                       </td><td>  0                         </td><td>Tajikistan                  </td><td>TJ                          </td><td>TJK                         </td><td>  9100837                   </td><td>Asia                        </td></tr>\n",
       "\t<tr><td>2020-06-15                  </td><td>15                          </td><td>6                           </td><td>2020                        </td><td>    1                       </td><td>  0                         </td><td>Thailand                    </td><td>TH                          </td><td>THA                         </td><td> 69428524                   </td><td>Asia                        </td></tr>\n",
       "\t<tr><td>2020-06-15                  </td><td>15                          </td><td>6                           </td><td>2020                        </td><td>    0                       </td><td>  0                         </td><td>Timor_Leste                 </td><td>TL                          </td><td>TLS                         </td><td>  1267972                   </td><td>Asia                        </td></tr>\n",
       "\t<tr><td>2020-06-15                  </td><td>15                          </td><td>6                           </td><td>2020                        </td><td>    1                       </td><td>  0                         </td><td>Togo                        </td><td>TG                          </td><td>TGO                         </td><td>  7889094                   </td><td>Africa                      </td></tr>\n",
       "\t<tr><td>2020-06-15                  </td><td>15                          </td><td>6                           </td><td>2020                        </td><td>    6                       </td><td>  0                         </td><td>Trinidad_and_Tobago         </td><td>TT                          </td><td>TTO                         </td><td>  1389858                   </td><td>America                     </td></tr>\n",
       "\t<tr><td>2020-06-15                  </td><td>15                          </td><td>6                           </td><td>2020                        </td><td>    2                       </td><td>  0                         </td><td>Tunisia                     </td><td>TN                          </td><td>TUN                         </td><td> 11565204                   </td><td>Africa                      </td></tr>\n",
       "\t<tr><td>2020-06-15                  </td><td>15                          </td><td>6                           </td><td>2020                        </td><td> 1562                       </td><td> 15                         </td><td>Turkey                      </td><td>TR                          </td><td>TUR                         </td><td> 82319724                   </td><td>Asia                        </td></tr>\n",
       "\t<tr><td>2020-06-15                  </td><td>15                          </td><td>6                           </td><td>2020                        </td><td>    0                       </td><td>  0                         </td><td>Turks_and_Caicos_islands    </td><td>TC                          </td><td>TCA                         </td><td>    31458                   </td><td>America                     </td></tr>\n",
       "\t<tr><td>2020-06-15                  </td><td>15                          </td><td>6                           </td><td>2020                        </td><td>   11                       </td><td>  0                         </td><td>Uganda                      </td><td>UG                          </td><td>UGA                         </td><td> 42723139                   </td><td>Africa                      </td></tr>\n",
       "\t<tr><td>2020-06-15                  </td><td>15                          </td><td>6                           </td><td>2020                        </td><td>  648                       </td><td>  9                         </td><td>Ukraine                     </td><td>UA                          </td><td>UKR                         </td><td> 44622516                   </td><td>Europe                      </td></tr>\n",
       "\t<tr><td>2020-06-15                  </td><td>15                          </td><td>6                           </td><td>2020                        </td><td>  394                       </td><td>  1                         </td><td>United_Arab_Emirates        </td><td>AE                          </td><td>ARE                         </td><td>  9630959                   </td><td>Asia                        </td></tr>\n",
       "\t<tr><td>2020-06-15                  </td><td>15                          </td><td>6                           </td><td>2020                        </td><td> 1514                       </td><td> 36                         </td><td>United_Kingdom              </td><td>UK                          </td><td>GBR                         </td><td> 66488991                   </td><td>Europe                      </td></tr>\n",
       "\t<tr><td>2020-06-15                  </td><td>15                          </td><td>6                           </td><td>2020                        </td><td>    0                       </td><td>  0                         </td><td>United_Republic_of_Tanzania </td><td>TZ                          </td><td>TZA                         </td><td> 56318348                   </td><td>Africa                      </td></tr>\n",
       "\t<tr><td>2020-06-15                  </td><td>15                          </td><td>6                           </td><td>2020                        </td><td>19543                       </td><td>296                         </td><td>United_States_of_America    </td><td>US                          </td><td>USA                         </td><td>327167434                   </td><td>America                     </td></tr>\n",
       "\t<tr><td>2020-06-15                  </td><td>15                          </td><td>6                           </td><td>2020                        </td><td>    1                       </td><td>  0                         </td><td>United_States_Virgin_Islands</td><td>VI                          </td><td>VIR                         </td><td>   106977                   </td><td>America                     </td></tr>\n",
       "\t<tr><td>2020-06-15                  </td><td>15                          </td><td>6                           </td><td>2020                        </td><td>    1                       </td><td>  0                         </td><td>Uruguay                     </td><td>UY                          </td><td>URY                         </td><td>  3449299                   </td><td>America                     </td></tr>\n",
       "\t<tr><td>2020-06-15                  </td><td>15                          </td><td>6                           </td><td>2020                        </td><td>  109                       </td><td>  0                         </td><td>Uzbekistan                  </td><td>UZ                          </td><td>UZB                         </td><td> 32955400                   </td><td>Asia                        </td></tr>\n",
       "\t<tr><td>2020-06-15                  </td><td>15                          </td><td>6                           </td><td>2020                        </td><td>   74                       </td><td>  1                         </td><td>Venezuela                   </td><td>VE                          </td><td>VEN                         </td><td> 28870195                   </td><td>America                     </td></tr>\n",
       "\t<tr><td>2020-06-15                  </td><td>15                          </td><td>6                           </td><td>2020                        </td><td>    0                       </td><td>  0                         </td><td>Vietnam                     </td><td>VN                          </td><td>VNM                         </td><td> 95540395                   </td><td>Asia                        </td></tr>\n",
       "\t<tr><td>2020-06-15                  </td><td>15                          </td><td>6                           </td><td>2020                        </td><td>    0                       </td><td>  0                         </td><td>Western_Sahara              </td><td>EH                          </td><td>NA                          </td><td>       NA                   </td><td>Africa                      </td></tr>\n",
       "\t<tr><td>2020-06-15                  </td><td>15                          </td><td>6                           </td><td>2020                        </td><td>   23                       </td><td>  4                         </td><td>Yemen                       </td><td>YE                          </td><td>YEM                         </td><td> 28498687                   </td><td>Asia                        </td></tr>\n",
       "\t<tr><td>2020-06-15                  </td><td>15                          </td><td>6                           </td><td>2020                        </td><td>    1                       </td><td>  1                         </td><td>Zambia                      </td><td>ZM                          </td><td>ZMB                         </td><td> 17351822                   </td><td>Africa                      </td></tr>\n",
       "\t<tr><td>2020-06-15                  </td><td>15                          </td><td>6                           </td><td>2020                        </td><td>   27                       </td><td>  0                         </td><td>Zimbabwe                    </td><td>ZW                          </td><td>ZWE                         </td><td> 14439018                   </td><td>Africa                      </td></tr>\n",
       "</tbody>\n",
       "</table>\n"
      ],
      "text/latex": [
       "\\begin{tabular}{r|lllllllllll}\n",
       " dateRep & day & month & year & cases & deaths & countriesAndTerritories & geoId & countryterritoryCode & popData2018 & continentExp\\\\\n",
       "\\hline\n",
       "\t 2020-06-15                        & 15                                & 6                                 & 2020                              &   664                             &  20                               & Afghanistan                       & AF                                & AFG                               &  37172386                         & Asia                             \\\\\n",
       "\t 2020-06-15                        & 15                                & 6                                 & 2020                              &    57                             &   0                               & Albania                           & AL                                & ALB                               &   2866376                         & Europe                           \\\\\n",
       "\t 2020-06-15                        & 15                                & 6                                 & 2020                              &   109                             &   7                               & Algeria                           & DZ                                & DZA                               &  42228429                         & Africa                           \\\\\n",
       "\t 2020-06-15                        & 15                                & 6                                 & 2020                              &     0                             &   0                               & Andorra                           & AD                                & AND                               &     77006                         & Europe                           \\\\\n",
       "\t 2020-06-15                        & 15                                & 6                                 & 2020                              &     2                             &   0                               & Angola                            & AO                                & AGO                               &  30809762                         & Africa                           \\\\\n",
       "\t 2020-06-15                        & 15                                & 6                                 & 2020                              &     0                             &   0                               & Anguilla                          & AI                                & NA                                &        NA                         & America                          \\\\\n",
       "\t 2020-06-15                            & 15                                    & 6                                     & 2020                                  &     0                                 &   0                                   & Antigua\\_and\\_Barbuda               & AG                                    & ATG                                   &     96286                             & America                              \\\\\n",
       "\t 2020-06-15                        & 15                                & 6                                 & 2020                              &  1282                             &  18                               & Argentina                         & AR                                & ARG                               &  44494502                         & America                          \\\\\n",
       "\t 2020-06-15                        & 15                                & 6                                 & 2020                              &   663                             &   5                               & Armenia                           & AM                                & ARM                               &   2951776                         & Europe                           \\\\\n",
       "\t 2020-06-15                        & 15                                & 6                                 & 2020                              &     0                             &   0                               & Aruba                             & AW                                & ABW                               &    105845                         & America                          \\\\\n",
       "\t 2020-06-15                        & 15                                & 6                                 & 2020                              &    18                             &   0                               & Australia                         & AU                                & AUS                               &  24992369                         & Oceania                          \\\\\n",
       "\t 2020-06-15                        & 15                                & 6                                 & 2020                              &    24                             &   0                               & Austria                           & AT                                & AUT                               &   8847037                         & Europe                           \\\\\n",
       "\t 2020-06-15                        & 15                                & 6                                 & 2020                              &   387                             &   4                               & Azerbaijan                        & AZ                                & AZE                               &   9942334                         & Europe                           \\\\\n",
       "\t 2020-06-15                        & 15                                & 6                                 & 2020                              &     0                             &   0                               & Bahamas                           & BS                                & BHS                               &    385640                         & America                          \\\\\n",
       "\t 2020-06-15                        & 15                                & 6                                 & 2020                              &     0                             &   4                               & Bahrain                           & BH                                & BHR                               &   1569439                         & Asia                             \\\\\n",
       "\t 2020-06-15                        & 15                                & 6                                 & 2020                              &  3141                             &  32                               & Bangladesh                        & BD                                & BGD                               & 161356039                         & Asia                             \\\\\n",
       "\t 2020-06-15                        & 15                                & 6                                 & 2020                              &     0                             &   0                               & Barbados                          & BB                                & BRB                               &    286641                         & America                          \\\\\n",
       "\t 2020-06-15                        & 15                                & 6                                 & 2020                              &   732                             &   5                               & Belarus                           & BY                                & BLR                               &   9485386                         & Europe                           \\\\\n",
       "\t 2020-06-15                        & 15                                & 6                                 & 2020                              &   111                             &   5                               & Belgium                           & BE                                & BEL                               &  11422068                         & Europe                           \\\\\n",
       "\t 2020-06-15                        & 15                                & 6                                 & 2020                              &     1                             &   0                               & Belize                            & BZ                                & BLZ                               &    383071                         & America                          \\\\\n",
       "\t 2020-06-15                        & 15                                & 6                                 & 2020                              &    58                             &   1                               & Benin                             & BJ                                & BEN                               &  11485048                         & Africa                           \\\\\n",
       "\t 2020-06-15                        & 15                                & 6                                 & 2020                              &     0                             &   0                               & Bermuda                           & BM                                & BMU                               &     63968                         & America                          \\\\\n",
       "\t 2020-06-15                        & 15                                & 6                                 & 2020                              &     0                             &   0                               & Bhutan                            & BT                                & BTN                               &    754394                         & Asia                             \\\\\n",
       "\t 2020-06-15                        & 15                                & 6                                 & 2020                              &   617                             &  26                               & Bolivia                           & BO                                & BOL                               &  11353142                         & America                          \\\\\n",
       "\t 2020-06-15                        & 15                                & 6                                 & 2020                              &     0                             &   0                               & Bonaire, Saint Eustatius and Saba & BQ                                & NA                                &        NA                         & America                          \\\\\n",
       "\t 2020-06-15                            & 15                                    & 6                                     & 2020                                  &     0                                 &   0                                   & Bosnia\\_and\\_Herzegovina            & BA                                    & BIH                                   &   3323929                             & Europe                               \\\\\n",
       "\t 2020-06-15                        & 15                                & 6                                 & 2020                              &     0                             &   0                               & Botswana                          & BW                                & BWA                               &   2254126                         & Africa                           \\\\\n",
       "\t 2020-06-15                        & 15                                & 6                                 & 2020                              & 17110                             & 612                               & Brazil                            & BR                                & BRA                               & 209469333                         & America                          \\\\\n",
       "\t 2020-06-15                            & 15                                    & 6                                     & 2020                                  &     0                                 &   0                                   & British\\_Virgin\\_Islands            & VG                                    & VGB                                   &     29802                             & America                              \\\\\n",
       "\t 2020-06-15                          & 15                                  & 6                                   & 2020                                &     0                               &   0                                 & Brunei\\_Darussalam                 & BN                                  & BRN                                 &    428962                           & Asia                               \\\\\n",
       "\t ... & ... & ... & ... & ... & ... & ... & ... & ... & ... & ...\\\\\n",
       "\t 2020-06-15                     & 15                             & 6                              & 2020                           &     5                          &   0                            & Sri\\_Lanka                    & LK                             & LKA                            &  21670000                      & Asia                          \\\\\n",
       "\t 2020-06-15                   & 15                           & 6                            & 2020                         &   341                        &  26                          & Sudan                        & SD                           & SDN                          &  41801533                    & Africa                      \\\\\n",
       "\t 2020-06-15                   & 15                           & 6                            & 2020                         &    12                        &   0                          & Suriname                     & SR                           & SUR                          &    575991                    & America                     \\\\\n",
       "\t 2020-06-15                   & 15                           & 6                            & 2020                         &   683                        &   0                          & Sweden                       & SE                           & SWE                          &  10183175                    & Europe                      \\\\\n",
       "\t 2020-06-15                   & 15                           & 6                            & 2020                         &    23                        &   0                          & Switzerland                  & CH                           & CHE                          &   8516543                    & Europe                      \\\\\n",
       "\t 2020-06-15                   & 15                           & 6                            & 2020                         &     7                        &   0                          & Syria                        & SY                           & SYR                          &  16906283                    & Asia                        \\\\\n",
       "\t 2020-06-15                   & 15                           & 6                            & 2020                         &     0                        &   0                          & Taiwan                       & TW                           & TWN                          &  23780452                    & Asia                        \\\\\n",
       "\t 2020-06-15                   & 15                           & 6                            & 2020                         &    64                        &   0                          & Tajikistan                   & TJ                           & TJK                          &   9100837                    & Asia                        \\\\\n",
       "\t 2020-06-15                   & 15                           & 6                            & 2020                         &     1                        &   0                          & Thailand                     & TH                           & THA                          &  69428524                    & Asia                        \\\\\n",
       "\t 2020-06-15                     & 15                             & 6                              & 2020                           &     0                          &   0                            & Timor\\_Leste                  & TL                             & TLS                            &   1267972                      & Asia                          \\\\\n",
       "\t 2020-06-15                   & 15                           & 6                            & 2020                         &     1                        &   0                          & Togo                         & TG                           & TGO                          &   7889094                    & Africa                      \\\\\n",
       "\t 2020-06-15                       & 15                               & 6                                & 2020                             &     6                            &   0                              & Trinidad\\_and\\_Tobago          & TT                               & TTO                              &   1389858                        & America                         \\\\\n",
       "\t 2020-06-15                   & 15                           & 6                            & 2020                         &     2                        &   0                          & Tunisia                      & TN                           & TUN                          &  11565204                    & Africa                      \\\\\n",
       "\t 2020-06-15                   & 15                           & 6                            & 2020                         &  1562                        &  15                          & Turkey                       & TR                           & TUR                          &  82319724                    & Asia                        \\\\\n",
       "\t 2020-06-15                         & 15                                 & 6                                  & 2020                               &     0                              &   0                                & Turks\\_and\\_Caicos\\_islands     & TC                                 & TCA                                &     31458                          & America                           \\\\\n",
       "\t 2020-06-15                   & 15                           & 6                            & 2020                         &    11                        &   0                          & Uganda                       & UG                           & UGA                          &  42723139                    & Africa                      \\\\\n",
       "\t 2020-06-15                   & 15                           & 6                            & 2020                         &   648                        &   9                          & Ukraine                      & UA                           & UKR                          &  44622516                    & Europe                      \\\\\n",
       "\t 2020-06-15                       & 15                               & 6                                & 2020                             &   394                            &   1                              & United\\_Arab\\_Emirates         & AE                               & ARE                              &   9630959                        & Asia                            \\\\\n",
       "\t 2020-06-15                     & 15                             & 6                              & 2020                           &  1514                          &  36                            & United\\_Kingdom               & UK                             & GBR                            &  66488991                      & Europe                        \\\\\n",
       "\t 2020-06-15                         & 15                                 & 6                                  & 2020                               &     0                              &   0                                & United\\_Republic\\_of\\_Tanzania  & TZ                                 & TZA                                &  56318348                          & Africa                            \\\\\n",
       "\t 2020-06-15                         & 15                                 & 6                                  & 2020                               & 19543                              & 296                                & United\\_States\\_of\\_America     & US                                 & USA                                & 327167434                          & America                           \\\\\n",
       "\t 2020-06-15                         & 15                                 & 6                                  & 2020                               &     1                              &   0                                & United\\_States\\_Virgin\\_Islands & VI                                 & VIR                                &    106977                          & America                           \\\\\n",
       "\t 2020-06-15                   & 15                           & 6                            & 2020                         &     1                        &   0                          & Uruguay                      & UY                           & URY                          &   3449299                    & America                     \\\\\n",
       "\t 2020-06-15                   & 15                           & 6                            & 2020                         &   109                        &   0                          & Uzbekistan                   & UZ                           & UZB                          &  32955400                    & Asia                        \\\\\n",
       "\t 2020-06-15                   & 15                           & 6                            & 2020                         &    74                        &   1                          & Venezuela                    & VE                           & VEN                          &  28870195                    & America                     \\\\\n",
       "\t 2020-06-15                   & 15                           & 6                            & 2020                         &     0                        &   0                          & Vietnam                      & VN                           & VNM                          &  95540395                    & Asia                        \\\\\n",
       "\t 2020-06-15                     & 15                             & 6                              & 2020                           &     0                          &   0                            & Western\\_Sahara               & EH                             & NA                             &        NA                      & Africa                        \\\\\n",
       "\t 2020-06-15                   & 15                           & 6                            & 2020                         &    23                        &   4                          & Yemen                        & YE                           & YEM                          &  28498687                    & Asia                        \\\\\n",
       "\t 2020-06-15                   & 15                           & 6                            & 2020                         &     1                        &   1                          & Zambia                       & ZM                           & ZMB                          &  17351822                    & Africa                      \\\\\n",
       "\t 2020-06-15                   & 15                           & 6                            & 2020                         &    27                        &   0                          & Zimbabwe                     & ZW                           & ZWE                          &  14439018                    & Africa                      \\\\\n",
       "\\end{tabular}\n"
      ],
      "text/markdown": [
       "\n",
       "| dateRep | day | month | year | cases | deaths | countriesAndTerritories | geoId | countryterritoryCode | popData2018 | continentExp |\n",
       "|---|---|---|---|---|---|---|---|---|---|---|\n",
       "| 2020-06-15                        | 15                                | 6                                 | 2020                              |   664                             |  20                               | Afghanistan                       | AF                                | AFG                               |  37172386                         | Asia                              |\n",
       "| 2020-06-15                        | 15                                | 6                                 | 2020                              |    57                             |   0                               | Albania                           | AL                                | ALB                               |   2866376                         | Europe                            |\n",
       "| 2020-06-15                        | 15                                | 6                                 | 2020                              |   109                             |   7                               | Algeria                           | DZ                                | DZA                               |  42228429                         | Africa                            |\n",
       "| 2020-06-15                        | 15                                | 6                                 | 2020                              |     0                             |   0                               | Andorra                           | AD                                | AND                               |     77006                         | Europe                            |\n",
       "| 2020-06-15                        | 15                                | 6                                 | 2020                              |     2                             |   0                               | Angola                            | AO                                | AGO                               |  30809762                         | Africa                            |\n",
       "| 2020-06-15                        | 15                                | 6                                 | 2020                              |     0                             |   0                               | Anguilla                          | AI                                | NA                                |        NA                         | America                           |\n",
       "| 2020-06-15                        | 15                                | 6                                 | 2020                              |     0                             |   0                               | Antigua_and_Barbuda               | AG                                | ATG                               |     96286                         | America                           |\n",
       "| 2020-06-15                        | 15                                | 6                                 | 2020                              |  1282                             |  18                               | Argentina                         | AR                                | ARG                               |  44494502                         | America                           |\n",
       "| 2020-06-15                        | 15                                | 6                                 | 2020                              |   663                             |   5                               | Armenia                           | AM                                | ARM                               |   2951776                         | Europe                            |\n",
       "| 2020-06-15                        | 15                                | 6                                 | 2020                              |     0                             |   0                               | Aruba                             | AW                                | ABW                               |    105845                         | America                           |\n",
       "| 2020-06-15                        | 15                                | 6                                 | 2020                              |    18                             |   0                               | Australia                         | AU                                | AUS                               |  24992369                         | Oceania                           |\n",
       "| 2020-06-15                        | 15                                | 6                                 | 2020                              |    24                             |   0                               | Austria                           | AT                                | AUT                               |   8847037                         | Europe                            |\n",
       "| 2020-06-15                        | 15                                | 6                                 | 2020                              |   387                             |   4                               | Azerbaijan                        | AZ                                | AZE                               |   9942334                         | Europe                            |\n",
       "| 2020-06-15                        | 15                                | 6                                 | 2020                              |     0                             |   0                               | Bahamas                           | BS                                | BHS                               |    385640                         | America                           |\n",
       "| 2020-06-15                        | 15                                | 6                                 | 2020                              |     0                             |   4                               | Bahrain                           | BH                                | BHR                               |   1569439                         | Asia                              |\n",
       "| 2020-06-15                        | 15                                | 6                                 | 2020                              |  3141                             |  32                               | Bangladesh                        | BD                                | BGD                               | 161356039                         | Asia                              |\n",
       "| 2020-06-15                        | 15                                | 6                                 | 2020                              |     0                             |   0                               | Barbados                          | BB                                | BRB                               |    286641                         | America                           |\n",
       "| 2020-06-15                        | 15                                | 6                                 | 2020                              |   732                             |   5                               | Belarus                           | BY                                | BLR                               |   9485386                         | Europe                            |\n",
       "| 2020-06-15                        | 15                                | 6                                 | 2020                              |   111                             |   5                               | Belgium                           | BE                                | BEL                               |  11422068                         | Europe                            |\n",
       "| 2020-06-15                        | 15                                | 6                                 | 2020                              |     1                             |   0                               | Belize                            | BZ                                | BLZ                               |    383071                         | America                           |\n",
       "| 2020-06-15                        | 15                                | 6                                 | 2020                              |    58                             |   1                               | Benin                             | BJ                                | BEN                               |  11485048                         | Africa                            |\n",
       "| 2020-06-15                        | 15                                | 6                                 | 2020                              |     0                             |   0                               | Bermuda                           | BM                                | BMU                               |     63968                         | America                           |\n",
       "| 2020-06-15                        | 15                                | 6                                 | 2020                              |     0                             |   0                               | Bhutan                            | BT                                | BTN                               |    754394                         | Asia                              |\n",
       "| 2020-06-15                        | 15                                | 6                                 | 2020                              |   617                             |  26                               | Bolivia                           | BO                                | BOL                               |  11353142                         | America                           |\n",
       "| 2020-06-15                        | 15                                | 6                                 | 2020                              |     0                             |   0                               | Bonaire, Saint Eustatius and Saba | BQ                                | NA                                |        NA                         | America                           |\n",
       "| 2020-06-15                        | 15                                | 6                                 | 2020                              |     0                             |   0                               | Bosnia_and_Herzegovina            | BA                                | BIH                               |   3323929                         | Europe                            |\n",
       "| 2020-06-15                        | 15                                | 6                                 | 2020                              |     0                             |   0                               | Botswana                          | BW                                | BWA                               |   2254126                         | Africa                            |\n",
       "| 2020-06-15                        | 15                                | 6                                 | 2020                              | 17110                             | 612                               | Brazil                            | BR                                | BRA                               | 209469333                         | America                           |\n",
       "| 2020-06-15                        | 15                                | 6                                 | 2020                              |     0                             |   0                               | British_Virgin_Islands            | VG                                | VGB                               |     29802                         | America                           |\n",
       "| 2020-06-15                        | 15                                | 6                                 | 2020                              |     0                             |   0                               | Brunei_Darussalam                 | BN                                | BRN                               |    428962                         | Asia                              |\n",
       "| ... | ... | ... | ... | ... | ... | ... | ... | ... | ... | ... |\n",
       "| 2020-06-15                   | 15                           | 6                            | 2020                         |     5                        |   0                          | Sri_Lanka                    | LK                           | LKA                          |  21670000                    | Asia                         |\n",
       "| 2020-06-15                   | 15                           | 6                            | 2020                         |   341                        |  26                          | Sudan                        | SD                           | SDN                          |  41801533                    | Africa                       |\n",
       "| 2020-06-15                   | 15                           | 6                            | 2020                         |    12                        |   0                          | Suriname                     | SR                           | SUR                          |    575991                    | America                      |\n",
       "| 2020-06-15                   | 15                           | 6                            | 2020                         |   683                        |   0                          | Sweden                       | SE                           | SWE                          |  10183175                    | Europe                       |\n",
       "| 2020-06-15                   | 15                           | 6                            | 2020                         |    23                        |   0                          | Switzerland                  | CH                           | CHE                          |   8516543                    | Europe                       |\n",
       "| 2020-06-15                   | 15                           | 6                            | 2020                         |     7                        |   0                          | Syria                        | SY                           | SYR                          |  16906283                    | Asia                         |\n",
       "| 2020-06-15                   | 15                           | 6                            | 2020                         |     0                        |   0                          | Taiwan                       | TW                           | TWN                          |  23780452                    | Asia                         |\n",
       "| 2020-06-15                   | 15                           | 6                            | 2020                         |    64                        |   0                          | Tajikistan                   | TJ                           | TJK                          |   9100837                    | Asia                         |\n",
       "| 2020-06-15                   | 15                           | 6                            | 2020                         |     1                        |   0                          | Thailand                     | TH                           | THA                          |  69428524                    | Asia                         |\n",
       "| 2020-06-15                   | 15                           | 6                            | 2020                         |     0                        |   0                          | Timor_Leste                  | TL                           | TLS                          |   1267972                    | Asia                         |\n",
       "| 2020-06-15                   | 15                           | 6                            | 2020                         |     1                        |   0                          | Togo                         | TG                           | TGO                          |   7889094                    | Africa                       |\n",
       "| 2020-06-15                   | 15                           | 6                            | 2020                         |     6                        |   0                          | Trinidad_and_Tobago          | TT                           | TTO                          |   1389858                    | America                      |\n",
       "| 2020-06-15                   | 15                           | 6                            | 2020                         |     2                        |   0                          | Tunisia                      | TN                           | TUN                          |  11565204                    | Africa                       |\n",
       "| 2020-06-15                   | 15                           | 6                            | 2020                         |  1562                        |  15                          | Turkey                       | TR                           | TUR                          |  82319724                    | Asia                         |\n",
       "| 2020-06-15                   | 15                           | 6                            | 2020                         |     0                        |   0                          | Turks_and_Caicos_islands     | TC                           | TCA                          |     31458                    | America                      |\n",
       "| 2020-06-15                   | 15                           | 6                            | 2020                         |    11                        |   0                          | Uganda                       | UG                           | UGA                          |  42723139                    | Africa                       |\n",
       "| 2020-06-15                   | 15                           | 6                            | 2020                         |   648                        |   9                          | Ukraine                      | UA                           | UKR                          |  44622516                    | Europe                       |\n",
       "| 2020-06-15                   | 15                           | 6                            | 2020                         |   394                        |   1                          | United_Arab_Emirates         | AE                           | ARE                          |   9630959                    | Asia                         |\n",
       "| 2020-06-15                   | 15                           | 6                            | 2020                         |  1514                        |  36                          | United_Kingdom               | UK                           | GBR                          |  66488991                    | Europe                       |\n",
       "| 2020-06-15                   | 15                           | 6                            | 2020                         |     0                        |   0                          | United_Republic_of_Tanzania  | TZ                           | TZA                          |  56318348                    | Africa                       |\n",
       "| 2020-06-15                   | 15                           | 6                            | 2020                         | 19543                        | 296                          | United_States_of_America     | US                           | USA                          | 327167434                    | America                      |\n",
       "| 2020-06-15                   | 15                           | 6                            | 2020                         |     1                        |   0                          | United_States_Virgin_Islands | VI                           | VIR                          |    106977                    | America                      |\n",
       "| 2020-06-15                   | 15                           | 6                            | 2020                         |     1                        |   0                          | Uruguay                      | UY                           | URY                          |   3449299                    | America                      |\n",
       "| 2020-06-15                   | 15                           | 6                            | 2020                         |   109                        |   0                          | Uzbekistan                   | UZ                           | UZB                          |  32955400                    | Asia                         |\n",
       "| 2020-06-15                   | 15                           | 6                            | 2020                         |    74                        |   1                          | Venezuela                    | VE                           | VEN                          |  28870195                    | America                      |\n",
       "| 2020-06-15                   | 15                           | 6                            | 2020                         |     0                        |   0                          | Vietnam                      | VN                           | VNM                          |  95540395                    | Asia                         |\n",
       "| 2020-06-15                   | 15                           | 6                            | 2020                         |     0                        |   0                          | Western_Sahara               | EH                           | NA                           |        NA                    | Africa                       |\n",
       "| 2020-06-15                   | 15                           | 6                            | 2020                         |    23                        |   4                          | Yemen                        | YE                           | YEM                          |  28498687                    | Asia                         |\n",
       "| 2020-06-15                   | 15                           | 6                            | 2020                         |     1                        |   1                          | Zambia                       | ZM                           | ZMB                          |  17351822                    | Africa                       |\n",
       "| 2020-06-15                   | 15                           | 6                            | 2020                         |    27                        |   0                          | Zimbabwe                     | ZW                           | ZWE                          |  14439018                    | Africa                       |\n",
       "\n"
      ],
      "text/plain": [
       "    dateRep    day month year cases deaths countriesAndTerritories          \n",
       "1   2020-06-15 15  6     2020   664  20    Afghanistan                      \n",
       "2   2020-06-15 15  6     2020    57   0    Albania                          \n",
       "3   2020-06-15 15  6     2020   109   7    Algeria                          \n",
       "4   2020-06-15 15  6     2020     0   0    Andorra                          \n",
       "5   2020-06-15 15  6     2020     2   0    Angola                           \n",
       "6   2020-06-15 15  6     2020     0   0    Anguilla                         \n",
       "7   2020-06-15 15  6     2020     0   0    Antigua_and_Barbuda              \n",
       "8   2020-06-15 15  6     2020  1282  18    Argentina                        \n",
       "9   2020-06-15 15  6     2020   663   5    Armenia                          \n",
       "10  2020-06-15 15  6     2020     0   0    Aruba                            \n",
       "11  2020-06-15 15  6     2020    18   0    Australia                        \n",
       "12  2020-06-15 15  6     2020    24   0    Austria                          \n",
       "13  2020-06-15 15  6     2020   387   4    Azerbaijan                       \n",
       "14  2020-06-15 15  6     2020     0   0    Bahamas                          \n",
       "15  2020-06-15 15  6     2020     0   4    Bahrain                          \n",
       "16  2020-06-15 15  6     2020  3141  32    Bangladesh                       \n",
       "17  2020-06-15 15  6     2020     0   0    Barbados                         \n",
       "18  2020-06-15 15  6     2020   732   5    Belarus                          \n",
       "19  2020-06-15 15  6     2020   111   5    Belgium                          \n",
       "20  2020-06-15 15  6     2020     1   0    Belize                           \n",
       "21  2020-06-15 15  6     2020    58   1    Benin                            \n",
       "22  2020-06-15 15  6     2020     0   0    Bermuda                          \n",
       "23  2020-06-15 15  6     2020     0   0    Bhutan                           \n",
       "24  2020-06-15 15  6     2020   617  26    Bolivia                          \n",
       "25  2020-06-15 15  6     2020     0   0    Bonaire, Saint Eustatius and Saba\n",
       "26  2020-06-15 15  6     2020     0   0    Bosnia_and_Herzegovina           \n",
       "27  2020-06-15 15  6     2020     0   0    Botswana                         \n",
       "28  2020-06-15 15  6     2020 17110 612    Brazil                           \n",
       "29  2020-06-15 15  6     2020     0   0    British_Virgin_Islands           \n",
       "30  2020-06-15 15  6     2020     0   0    Brunei_Darussalam                \n",
       "... ...        ... ...   ...  ...   ...    ...                              \n",
       "179 2020-06-15 15  6     2020     5   0    Sri_Lanka                        \n",
       "180 2020-06-15 15  6     2020   341  26    Sudan                            \n",
       "181 2020-06-15 15  6     2020    12   0    Suriname                         \n",
       "182 2020-06-15 15  6     2020   683   0    Sweden                           \n",
       "183 2020-06-15 15  6     2020    23   0    Switzerland                      \n",
       "184 2020-06-15 15  6     2020     7   0    Syria                            \n",
       "185 2020-06-15 15  6     2020     0   0    Taiwan                           \n",
       "186 2020-06-15 15  6     2020    64   0    Tajikistan                       \n",
       "187 2020-06-15 15  6     2020     1   0    Thailand                         \n",
       "188 2020-06-15 15  6     2020     0   0    Timor_Leste                      \n",
       "189 2020-06-15 15  6     2020     1   0    Togo                             \n",
       "190 2020-06-15 15  6     2020     6   0    Trinidad_and_Tobago              \n",
       "191 2020-06-15 15  6     2020     2   0    Tunisia                          \n",
       "192 2020-06-15 15  6     2020  1562  15    Turkey                           \n",
       "193 2020-06-15 15  6     2020     0   0    Turks_and_Caicos_islands         \n",
       "194 2020-06-15 15  6     2020    11   0    Uganda                           \n",
       "195 2020-06-15 15  6     2020   648   9    Ukraine                          \n",
       "196 2020-06-15 15  6     2020   394   1    United_Arab_Emirates             \n",
       "197 2020-06-15 15  6     2020  1514  36    United_Kingdom                   \n",
       "198 2020-06-15 15  6     2020     0   0    United_Republic_of_Tanzania      \n",
       "199 2020-06-15 15  6     2020 19543 296    United_States_of_America         \n",
       "200 2020-06-15 15  6     2020     1   0    United_States_Virgin_Islands     \n",
       "201 2020-06-15 15  6     2020     1   0    Uruguay                          \n",
       "202 2020-06-15 15  6     2020   109   0    Uzbekistan                       \n",
       "203 2020-06-15 15  6     2020    74   1    Venezuela                        \n",
       "204 2020-06-15 15  6     2020     0   0    Vietnam                          \n",
       "205 2020-06-15 15  6     2020     0   0    Western_Sahara                   \n",
       "206 2020-06-15 15  6     2020    23   4    Yemen                            \n",
       "207 2020-06-15 15  6     2020     1   1    Zambia                           \n",
       "208 2020-06-15 15  6     2020    27   0    Zimbabwe                         \n",
       "    geoId countryterritoryCode popData2018 continentExp\n",
       "1   AF    AFG                   37172386   Asia        \n",
       "2   AL    ALB                    2866376   Europe      \n",
       "3   DZ    DZA                   42228429   Africa      \n",
       "4   AD    AND                      77006   Europe      \n",
       "5   AO    AGO                   30809762   Africa      \n",
       "6   AI    NA                          NA   America     \n",
       "7   AG    ATG                      96286   America     \n",
       "8   AR    ARG                   44494502   America     \n",
       "9   AM    ARM                    2951776   Europe      \n",
       "10  AW    ABW                     105845   America     \n",
       "11  AU    AUS                   24992369   Oceania     \n",
       "12  AT    AUT                    8847037   Europe      \n",
       "13  AZ    AZE                    9942334   Europe      \n",
       "14  BS    BHS                     385640   America     \n",
       "15  BH    BHR                    1569439   Asia        \n",
       "16  BD    BGD                  161356039   Asia        \n",
       "17  BB    BRB                     286641   America     \n",
       "18  BY    BLR                    9485386   Europe      \n",
       "19  BE    BEL                   11422068   Europe      \n",
       "20  BZ    BLZ                     383071   America     \n",
       "21  BJ    BEN                   11485048   Africa      \n",
       "22  BM    BMU                      63968   America     \n",
       "23  BT    BTN                     754394   Asia        \n",
       "24  BO    BOL                   11353142   America     \n",
       "25  BQ    NA                          NA   America     \n",
       "26  BA    BIH                    3323929   Europe      \n",
       "27  BW    BWA                    2254126   Africa      \n",
       "28  BR    BRA                  209469333   America     \n",
       "29  VG    VGB                      29802   America     \n",
       "30  BN    BRN                     428962   Asia        \n",
       "... ...   ...                  ...         ...         \n",
       "179 LK    LKA                   21670000   Asia        \n",
       "180 SD    SDN                   41801533   Africa      \n",
       "181 SR    SUR                     575991   America     \n",
       "182 SE    SWE                   10183175   Europe      \n",
       "183 CH    CHE                    8516543   Europe      \n",
       "184 SY    SYR                   16906283   Asia        \n",
       "185 TW    TWN                   23780452   Asia        \n",
       "186 TJ    TJK                    9100837   Asia        \n",
       "187 TH    THA                   69428524   Asia        \n",
       "188 TL    TLS                    1267972   Asia        \n",
       "189 TG    TGO                    7889094   Africa      \n",
       "190 TT    TTO                    1389858   America     \n",
       "191 TN    TUN                   11565204   Africa      \n",
       "192 TR    TUR                   82319724   Asia        \n",
       "193 TC    TCA                      31458   America     \n",
       "194 UG    UGA                   42723139   Africa      \n",
       "195 UA    UKR                   44622516   Europe      \n",
       "196 AE    ARE                    9630959   Asia        \n",
       "197 UK    GBR                   66488991   Europe      \n",
       "198 TZ    TZA                   56318348   Africa      \n",
       "199 US    USA                  327167434   America     \n",
       "200 VI    VIR                     106977   America     \n",
       "201 UY    URY                    3449299   America     \n",
       "202 UZ    UZB                   32955400   Asia        \n",
       "203 VE    VEN                   28870195   America     \n",
       "204 VN    VNM                   95540395   Asia        \n",
       "205 EH    NA                          NA   Africa      \n",
       "206 YE    YEM                   28498687   Asia        \n",
       "207 ZM    ZMB                   17351822   Africa      \n",
       "208 ZW    ZWE                   14439018   Africa      "
      ]
     },
     "metadata": {},
     "output_type": "display_data"
    }
   ],
   "source": [
    "last_covid"
   ]
  },
  {
   "cell_type": "code",
   "execution_count": 12,
   "metadata": {},
   "outputs": [
    {
     "data": {
      "text/html": [
       "<table>\n",
       "<thead><tr><th scope=col>dateRep</th><th scope=col>day</th><th scope=col>month</th><th scope=col>year</th><th scope=col>cases</th><th scope=col>deaths</th><th scope=col>countriesAndTerritories</th><th scope=col>geoId</th><th scope=col>countryterritoryCode</th><th scope=col>popData2018</th><th scope=col>continentExp</th></tr></thead>\n",
       "<tbody>\n",
       "\t<tr><td>2020-06-15              </td><td>15                      </td><td>6                       </td><td>2020                    </td><td>17110                   </td><td>612                     </td><td>Brazil                  </td><td>BR                      </td><td>BRA                     </td><td> 209469333              </td><td>America                 </td></tr>\n",
       "\t<tr><td>2020-06-15              </td><td>15                      </td><td>6                       </td><td>2020                    </td><td>11502                   </td><td>325                     </td><td>India                   </td><td>IN                      </td><td>IND                     </td><td>1352617328              </td><td>Asia                    </td></tr>\n",
       "\t<tr><td>2020-06-15              </td><td>15                      </td><td>6                       </td><td>2020                    </td><td>19543                   </td><td>296                     </td><td>United_States_of_America</td><td>US                      </td><td>USA                     </td><td> 327167434              </td><td>America                 </td></tr>\n",
       "\t<tr><td>2020-06-15              </td><td>15                      </td><td>6                       </td><td>2020                    </td><td> 4147                   </td><td>269                     </td><td>Mexico                  </td><td>MX                      </td><td>MEX                     </td><td> 126190788              </td><td>America                 </td></tr>\n",
       "\t<tr><td>2020-06-15              </td><td>15                      </td><td>6                       </td><td>2020                    </td><td> 6938                   </td><td>222                     </td><td>Chile                   </td><td>CL                      </td><td>CHL                     </td><td>  18729160              </td><td>America                 </td></tr>\n",
       "\t<tr><td>2020-06-15              </td><td>15                      </td><td>6                       </td><td>2020                    </td><td> 4604                   </td><td>190                     </td><td>Peru                    </td><td>PE                      </td><td>PER                     </td><td>  31989256              </td><td>America                 </td></tr>\n",
       "\t<tr><td>2020-06-15              </td><td>15                      </td><td>6                       </td><td>2020                    </td><td> 8835                   </td><td>119                     </td><td>Russia                  </td><td>RU                      </td><td>RUS                     </td><td> 144478050              </td><td>Europe                  </td></tr>\n",
       "\t<tr><td>2020-06-15              </td><td>15                      </td><td>6                       </td><td>2020                    </td><td> 2472                   </td><td>107                     </td><td>Iran                    </td><td>IR                      </td><td>IRN                     </td><td>  81800269              </td><td>Asia                    </td></tr>\n",
       "\t<tr><td>2020-06-15              </td><td>15                      </td><td>6                       </td><td>2020                    </td><td> 5248                   </td><td> 97                     </td><td>Pakistan                </td><td>PK                      </td><td>PAK                     </td><td> 212215030              </td><td>Asia                    </td></tr>\n",
       "\t<tr><td>2020-06-15              </td><td>15                      </td><td>6                       </td><td>2020                    </td><td> 1618                   </td><td> 91                     </td><td>Egypt                   </td><td>EG                      </td><td>EGY                     </td><td>  98423595              </td><td>Africa                  </td></tr>\n",
       "\t<tr><td>2020-06-15              </td><td>15                      </td><td>6                       </td><td>2020                    </td><td> 2193                   </td><td> 75                     </td><td>Colombia                </td><td>CO                      </td><td>COL                     </td><td>  49648685              </td><td>America                 </td></tr>\n",
       "\t<tr><td>2020-06-15              </td><td>15                      </td><td>6                       </td><td>2020                    </td><td> 1259                   </td><td> 58                     </td><td>Iraq                    </td><td>IQ                      </td><td>IRQ                     </td><td>  38433600              </td><td>Asia                    </td></tr>\n",
       "\t<tr><td>2020-06-15              </td><td>15                      </td><td>6                       </td><td>2020                    </td><td> 4302                   </td><td> 57                     </td><td>South_Africa            </td><td>ZA                      </td><td>ZAF                     </td><td>  57779622              </td><td>Africa                  </td></tr>\n",
       "\t<tr><td>2020-06-15              </td><td>15                      </td><td>6                       </td><td>2020                    </td><td>  338                   </td><td> 44                     </td><td>Italy                   </td><td>IT                      </td><td>ITA                     </td><td>  60431283              </td><td>Europe                  </td></tr>\n",
       "\t<tr><td>2020-06-15              </td><td>15                      </td><td>6                       </td><td>2020                    </td><td>  857                   </td><td> 43                     </td><td>Indonesia               </td><td>ID                      </td><td>IDN                     </td><td> 267663435              </td><td>Asia                    </td></tr>\n",
       "\t<tr><td>2020-06-15              </td><td>15                      </td><td>6                       </td><td>2020                    </td><td> 4233                   </td><td> 40                     </td><td>Saudi_Arabia            </td><td>SA                      </td><td>SAU                     </td><td>  33699947              </td><td>Asia                    </td></tr>\n",
       "\t<tr><td>2020-06-15              </td><td>15                      </td><td>6                       </td><td>2020                    </td><td>  377                   </td><td> 39                     </td><td>Canada                  </td><td>CA                      </td><td>CAN                     </td><td>  37058856              </td><td>America                 </td></tr>\n",
       "\t<tr><td>2020-06-15              </td><td>15                      </td><td>6                       </td><td>2020                    </td><td> 1514                   </td><td> 36                     </td><td>United_Kingdom          </td><td>UK                      </td><td>GBR                     </td><td>  66488991              </td><td>Europe                  </td></tr>\n",
       "\t<tr><td>2020-06-15              </td><td>15                      </td><td>6                       </td><td>2020                    </td><td> 3141                   </td><td> 32                     </td><td>Bangladesh              </td><td>BD                      </td><td>BGD                     </td><td> 161356039              </td><td>Asia                    </td></tr>\n",
       "\t<tr><td>2020-06-15              </td><td>15                      </td><td>6                       </td><td>2020                    </td><td>  617                   </td><td> 26                     </td><td>Bolivia                 </td><td>BO                      </td><td>BOL                     </td><td>  11353142              </td><td>America                 </td></tr>\n",
       "\t<tr><td>2020-06-15              </td><td>15                      </td><td>6                       </td><td>2020                    </td><td>  341                   </td><td> 26                     </td><td>Sudan                   </td><td>SD                      </td><td>SDN                     </td><td>  41801533              </td><td>Africa                  </td></tr>\n",
       "\t<tr><td>2020-06-15              </td><td>15                      </td><td>6                       </td><td>2020                    </td><td>  395                   </td><td> 22                     </td><td>Ecuador                 </td><td>EC                      </td><td>ECU                     </td><td>  17084357              </td><td>America                 </td></tr>\n",
       "\t<tr><td>2020-06-15              </td><td>15                      </td><td>6                       </td><td>2020                    </td><td>  664                   </td><td> 20                     </td><td>Afghanistan             </td><td>AF                      </td><td>AFG                     </td><td>  37172386              </td><td>Asia                    </td></tr>\n",
       "\t<tr><td>2020-06-15              </td><td>15                      </td><td>6                       </td><td>2020                    </td><td>  320                   </td><td> 19                     </td><td>Romania                 </td><td>RO                      </td><td>ROU                     </td><td>  19473936              </td><td>Europe                  </td></tr>\n",
       "\t<tr><td>2020-06-15              </td><td>15                      </td><td>6                       </td><td>2020                    </td><td> 1282                   </td><td> 18                     </td><td>Argentina               </td><td>AR                      </td><td>ARG                     </td><td>  44494502              </td><td>America                 </td></tr>\n",
       "\t<tr><td>2020-06-15              </td><td>15                      </td><td>6                       </td><td>2020                    </td><td>  354                   </td><td> 17                     </td><td>Guatemala               </td><td>GT                      </td><td>GTM                     </td><td>  17247807              </td><td>America                 </td></tr>\n",
       "\t<tr><td>2020-06-15              </td><td>15                      </td><td>6                       </td><td>2020                    </td><td>  390                   </td><td> 15                     </td><td>Dominican_Republic      </td><td>DO                      </td><td>DOM                     </td><td>  10627165              </td><td>America                 </td></tr>\n",
       "\t<tr><td>2020-06-15              </td><td>15                      </td><td>6                       </td><td>2020                    </td><td> 1562                   </td><td> 15                     </td><td>Turkey                  </td><td>TR                      </td><td>TUR                     </td><td>  82319724              </td><td>Asia                    </td></tr>\n",
       "\t<tr><td>2020-06-15              </td><td>15                      </td><td>6                       </td><td>2020                    </td><td>  538                   </td><td> 14                     </td><td>Philippines             </td><td>PH                      </td><td>PHL                     </td><td> 106651922              </td><td>Asia                    </td></tr>\n",
       "\t<tr><td>2020-06-15              </td><td>15                      </td><td>6                       </td><td>2020                    </td><td>  344                   </td><td> 13                     </td><td>Mauritania              </td><td>MR                      </td><td>MRT                     </td><td>   4403319              </td><td>Africa                  </td></tr>\n",
       "\t<tr><td>...</td><td>...</td><td>...</td><td>...</td><td>...</td><td>...</td><td>...</td><td>...</td><td>...</td><td>...</td><td>...</td></tr>\n",
       "\t<tr><td>2020-06-15                  </td><td>15                          </td><td>6                           </td><td>2020                        </td><td> 94                         </td><td>0                           </td><td>Senegal                     </td><td>SN                          </td><td>SEN                         </td><td>15854360                    </td><td>Africa                      </td></tr>\n",
       "\t<tr><td>2020-06-15                  </td><td>15                          </td><td>6                           </td><td>2020                        </td><td>  0                         </td><td>0                           </td><td>Seychelles                  </td><td>SC                          </td><td>SYC                         </td><td>   96762                    </td><td>Africa                      </td></tr>\n",
       "\t<tr><td>2020-06-15                  </td><td>15                          </td><td>6                           </td><td>2020                        </td><td> 37                         </td><td>0                           </td><td>Sierra_Leone                </td><td>SL                          </td><td>SLE                         </td><td> 7650154                    </td><td>Africa                      </td></tr>\n",
       "\t<tr><td>2020-06-15                  </td><td>15                          </td><td>6                           </td><td>2020                        </td><td>407                         </td><td>0                           </td><td>Singapore                   </td><td>SG                          </td><td>SGP                         </td><td> 5638676                    </td><td>Asia                        </td></tr>\n",
       "\t<tr><td>2020-06-15                  </td><td>15                          </td><td>6                           </td><td>2020                        </td><td>  0                         </td><td>0                           </td><td>Sint_Maarten                </td><td>SX                          </td><td>SXM                         </td><td>   41486                    </td><td>America                     </td></tr>\n",
       "\t<tr><td>2020-06-15                  </td><td>15                          </td><td>6                           </td><td>2020                        </td><td>  3                         </td><td>0                           </td><td>Slovakia                    </td><td>SK                          </td><td>SVK                         </td><td> 5447011                    </td><td>Europe                      </td></tr>\n",
       "\t<tr><td>2020-06-15                  </td><td>15                          </td><td>6                           </td><td>2020                        </td><td>  3                         </td><td>0                           </td><td>Slovenia                    </td><td>SI                          </td><td>SVN                         </td><td> 2067372                    </td><td>Europe                      </td></tr>\n",
       "\t<tr><td>2020-06-15                  </td><td>15                          </td><td>6                           </td><td>2020                        </td><td> 37                         </td><td>0                           </td><td>South_Korea                 </td><td>KR                          </td><td>KOR                         </td><td>51635256                    </td><td>Asia                        </td></tr>\n",
       "\t<tr><td>2020-06-15                  </td><td>15                          </td><td>6                           </td><td>2020                        </td><td>  0                         </td><td>0                           </td><td>South_Sudan                 </td><td>SS                          </td><td>SSD                         </td><td>10975920                    </td><td>Africa                      </td></tr>\n",
       "\t<tr><td>2020-06-15                  </td><td>15                          </td><td>6                           </td><td>2020                        </td><td>  5                         </td><td>0                           </td><td>Sri_Lanka                   </td><td>LK                          </td><td>LKA                         </td><td>21670000                    </td><td>Asia                        </td></tr>\n",
       "\t<tr><td>2020-06-15                  </td><td>15                          </td><td>6                           </td><td>2020                        </td><td> 12                         </td><td>0                           </td><td>Suriname                    </td><td>SR                          </td><td>SUR                         </td><td>  575991                    </td><td>America                     </td></tr>\n",
       "\t<tr><td>2020-06-15                  </td><td>15                          </td><td>6                           </td><td>2020                        </td><td>683                         </td><td>0                           </td><td>Sweden                      </td><td>SE                          </td><td>SWE                         </td><td>10183175                    </td><td>Europe                      </td></tr>\n",
       "\t<tr><td>2020-06-15                  </td><td>15                          </td><td>6                           </td><td>2020                        </td><td> 23                         </td><td>0                           </td><td>Switzerland                 </td><td>CH                          </td><td>CHE                         </td><td> 8516543                    </td><td>Europe                      </td></tr>\n",
       "\t<tr><td>2020-06-15                  </td><td>15                          </td><td>6                           </td><td>2020                        </td><td>  7                         </td><td>0                           </td><td>Syria                       </td><td>SY                          </td><td>SYR                         </td><td>16906283                    </td><td>Asia                        </td></tr>\n",
       "\t<tr><td>2020-06-15                  </td><td>15                          </td><td>6                           </td><td>2020                        </td><td>  0                         </td><td>0                           </td><td>Taiwan                      </td><td>TW                          </td><td>TWN                         </td><td>23780452                    </td><td>Asia                        </td></tr>\n",
       "\t<tr><td>2020-06-15                  </td><td>15                          </td><td>6                           </td><td>2020                        </td><td> 64                         </td><td>0                           </td><td>Tajikistan                  </td><td>TJ                          </td><td>TJK                         </td><td> 9100837                    </td><td>Asia                        </td></tr>\n",
       "\t<tr><td>2020-06-15                  </td><td>15                          </td><td>6                           </td><td>2020                        </td><td>  1                         </td><td>0                           </td><td>Thailand                    </td><td>TH                          </td><td>THA                         </td><td>69428524                    </td><td>Asia                        </td></tr>\n",
       "\t<tr><td>2020-06-15                  </td><td>15                          </td><td>6                           </td><td>2020                        </td><td>  0                         </td><td>0                           </td><td>Timor_Leste                 </td><td>TL                          </td><td>TLS                         </td><td> 1267972                    </td><td>Asia                        </td></tr>\n",
       "\t<tr><td>2020-06-15                  </td><td>15                          </td><td>6                           </td><td>2020                        </td><td>  1                         </td><td>0                           </td><td>Togo                        </td><td>TG                          </td><td>TGO                         </td><td> 7889094                    </td><td>Africa                      </td></tr>\n",
       "\t<tr><td>2020-06-15                  </td><td>15                          </td><td>6                           </td><td>2020                        </td><td>  6                         </td><td>0                           </td><td>Trinidad_and_Tobago         </td><td>TT                          </td><td>TTO                         </td><td> 1389858                    </td><td>America                     </td></tr>\n",
       "\t<tr><td>2020-06-15                  </td><td>15                          </td><td>6                           </td><td>2020                        </td><td>  2                         </td><td>0                           </td><td>Tunisia                     </td><td>TN                          </td><td>TUN                         </td><td>11565204                    </td><td>Africa                      </td></tr>\n",
       "\t<tr><td>2020-06-15                  </td><td>15                          </td><td>6                           </td><td>2020                        </td><td>  0                         </td><td>0                           </td><td>Turks_and_Caicos_islands    </td><td>TC                          </td><td>TCA                         </td><td>   31458                    </td><td>America                     </td></tr>\n",
       "\t<tr><td>2020-06-15                  </td><td>15                          </td><td>6                           </td><td>2020                        </td><td> 11                         </td><td>0                           </td><td>Uganda                      </td><td>UG                          </td><td>UGA                         </td><td>42723139                    </td><td>Africa                      </td></tr>\n",
       "\t<tr><td>2020-06-15                  </td><td>15                          </td><td>6                           </td><td>2020                        </td><td>  0                         </td><td>0                           </td><td>United_Republic_of_Tanzania </td><td>TZ                          </td><td>TZA                         </td><td>56318348                    </td><td>Africa                      </td></tr>\n",
       "\t<tr><td>2020-06-15                  </td><td>15                          </td><td>6                           </td><td>2020                        </td><td>  1                         </td><td>0                           </td><td>United_States_Virgin_Islands</td><td>VI                          </td><td>VIR                         </td><td>  106977                    </td><td>America                     </td></tr>\n",
       "\t<tr><td>2020-06-15                  </td><td>15                          </td><td>6                           </td><td>2020                        </td><td>  1                         </td><td>0                           </td><td>Uruguay                     </td><td>UY                          </td><td>URY                         </td><td> 3449299                    </td><td>America                     </td></tr>\n",
       "\t<tr><td>2020-06-15                  </td><td>15                          </td><td>6                           </td><td>2020                        </td><td>109                         </td><td>0                           </td><td>Uzbekistan                  </td><td>UZ                          </td><td>UZB                         </td><td>32955400                    </td><td>Asia                        </td></tr>\n",
       "\t<tr><td>2020-06-15                  </td><td>15                          </td><td>6                           </td><td>2020                        </td><td>  0                         </td><td>0                           </td><td>Vietnam                     </td><td>VN                          </td><td>VNM                         </td><td>95540395                    </td><td>Asia                        </td></tr>\n",
       "\t<tr><td>2020-06-15                  </td><td>15                          </td><td>6                           </td><td>2020                        </td><td>  0                         </td><td>0                           </td><td>Western_Sahara              </td><td>EH                          </td><td>NA                          </td><td>      NA                    </td><td>Africa                      </td></tr>\n",
       "\t<tr><td>2020-06-15                  </td><td>15                          </td><td>6                           </td><td>2020                        </td><td> 27                         </td><td>0                           </td><td>Zimbabwe                    </td><td>ZW                          </td><td>ZWE                         </td><td>14439018                    </td><td>Africa                      </td></tr>\n",
       "</tbody>\n",
       "</table>\n"
      ],
      "text/latex": [
       "\\begin{tabular}{r|lllllllllll}\n",
       " dateRep & day & month & year & cases & deaths & countriesAndTerritories & geoId & countryterritoryCode & popData2018 & continentExp\\\\\n",
       "\\hline\n",
       "\t 2020-06-15               & 15                       & 6                        & 2020                     & 17110                    & 612                      & Brazil                   & BR                       & BRA                      &  209469333               & America                 \\\\\n",
       "\t 2020-06-15               & 15                       & 6                        & 2020                     & 11502                    & 325                      & India                    & IN                       & IND                      & 1352617328               & Asia                    \\\\\n",
       "\t 2020-06-15                     & 15                             & 6                              & 2020                           & 19543                          & 296                            & United\\_States\\_of\\_America & US                             & USA                            &  327167434                     & America                       \\\\\n",
       "\t 2020-06-15               & 15                       & 6                        & 2020                     &  4147                    & 269                      & Mexico                   & MX                       & MEX                      &  126190788               & America                 \\\\\n",
       "\t 2020-06-15               & 15                       & 6                        & 2020                     &  6938                    & 222                      & Chile                    & CL                       & CHL                      &   18729160               & America                 \\\\\n",
       "\t 2020-06-15               & 15                       & 6                        & 2020                     &  4604                    & 190                      & Peru                     & PE                       & PER                      &   31989256               & America                 \\\\\n",
       "\t 2020-06-15               & 15                       & 6                        & 2020                     &  8835                    & 119                      & Russia                   & RU                       & RUS                      &  144478050               & Europe                  \\\\\n",
       "\t 2020-06-15               & 15                       & 6                        & 2020                     &  2472                    & 107                      & Iran                     & IR                       & IRN                      &   81800269               & Asia                    \\\\\n",
       "\t 2020-06-15               & 15                       & 6                        & 2020                     &  5248                    &  97                      & Pakistan                 & PK                       & PAK                      &  212215030               & Asia                    \\\\\n",
       "\t 2020-06-15               & 15                       & 6                        & 2020                     &  1618                    &  91                      & Egypt                    & EG                       & EGY                      &   98423595               & Africa                  \\\\\n",
       "\t 2020-06-15               & 15                       & 6                        & 2020                     &  2193                    &  75                      & Colombia                 & CO                       & COL                      &   49648685               & America                 \\\\\n",
       "\t 2020-06-15               & 15                       & 6                        & 2020                     &  1259                    &  58                      & Iraq                     & IQ                       & IRQ                      &   38433600               & Asia                    \\\\\n",
       "\t 2020-06-15                 & 15                         & 6                          & 2020                       &  4302                      &  57                        & South\\_Africa             & ZA                         & ZAF                        &   57779622                 & Africa                    \\\\\n",
       "\t 2020-06-15               & 15                       & 6                        & 2020                     &   338                    &  44                      & Italy                    & IT                       & ITA                      &   60431283               & Europe                  \\\\\n",
       "\t 2020-06-15               & 15                       & 6                        & 2020                     &   857                    &  43                      & Indonesia                & ID                       & IDN                      &  267663435               & Asia                    \\\\\n",
       "\t 2020-06-15                 & 15                         & 6                          & 2020                       &  4233                      &  40                        & Saudi\\_Arabia             & SA                         & SAU                        &   33699947                 & Asia                      \\\\\n",
       "\t 2020-06-15               & 15                       & 6                        & 2020                     &   377                    &  39                      & Canada                   & CA                       & CAN                      &   37058856               & America                 \\\\\n",
       "\t 2020-06-15                 & 15                         & 6                          & 2020                       &  1514                      &  36                        & United\\_Kingdom           & UK                         & GBR                        &   66488991                 & Europe                    \\\\\n",
       "\t 2020-06-15               & 15                       & 6                        & 2020                     &  3141                    &  32                      & Bangladesh               & BD                       & BGD                      &  161356039               & Asia                    \\\\\n",
       "\t 2020-06-15               & 15                       & 6                        & 2020                     &   617                    &  26                      & Bolivia                  & BO                       & BOL                      &   11353142               & America                 \\\\\n",
       "\t 2020-06-15               & 15                       & 6                        & 2020                     &   341                    &  26                      & Sudan                    & SD                       & SDN                      &   41801533               & Africa                  \\\\\n",
       "\t 2020-06-15               & 15                       & 6                        & 2020                     &   395                    &  22                      & Ecuador                  & EC                       & ECU                      &   17084357               & America                 \\\\\n",
       "\t 2020-06-15               & 15                       & 6                        & 2020                     &   664                    &  20                      & Afghanistan              & AF                       & AFG                      &   37172386               & Asia                    \\\\\n",
       "\t 2020-06-15               & 15                       & 6                        & 2020                     &   320                    &  19                      & Romania                  & RO                       & ROU                      &   19473936               & Europe                  \\\\\n",
       "\t 2020-06-15               & 15                       & 6                        & 2020                     &  1282                    &  18                      & Argentina                & AR                       & ARG                      &   44494502               & America                 \\\\\n",
       "\t 2020-06-15               & 15                       & 6                        & 2020                     &   354                    &  17                      & Guatemala                & GT                       & GTM                      &   17247807               & America                 \\\\\n",
       "\t 2020-06-15                 & 15                         & 6                          & 2020                       &   390                      &  15                        & Dominican\\_Republic       & DO                         & DOM                        &   10627165                 & America                   \\\\\n",
       "\t 2020-06-15               & 15                       & 6                        & 2020                     &  1562                    &  15                      & Turkey                   & TR                       & TUR                      &   82319724               & Asia                    \\\\\n",
       "\t 2020-06-15               & 15                       & 6                        & 2020                     &   538                    &  14                      & Philippines              & PH                       & PHL                      &  106651922               & Asia                    \\\\\n",
       "\t 2020-06-15               & 15                       & 6                        & 2020                     &   344                    &  13                      & Mauritania               & MR                       & MRT                      &    4403319               & Africa                  \\\\\n",
       "\t ... & ... & ... & ... & ... & ... & ... & ... & ... & ... & ...\\\\\n",
       "\t 2020-06-15                   & 15                           & 6                            & 2020                         &  94                          & 0                            & Senegal                      & SN                           & SEN                          & 15854360                     & Africa                      \\\\\n",
       "\t 2020-06-15                   & 15                           & 6                            & 2020                         &   0                          & 0                            & Seychelles                   & SC                           & SYC                          &    96762                     & Africa                      \\\\\n",
       "\t 2020-06-15                     & 15                             & 6                              & 2020                           &  37                            & 0                              & Sierra\\_Leone                 & SL                             & SLE                            &  7650154                       & Africa                        \\\\\n",
       "\t 2020-06-15                   & 15                           & 6                            & 2020                         & 407                          & 0                            & Singapore                    & SG                           & SGP                          &  5638676                     & Asia                        \\\\\n",
       "\t 2020-06-15                     & 15                             & 6                              & 2020                           &   0                            & 0                              & Sint\\_Maarten                 & SX                             & SXM                            &    41486                       & America                       \\\\\n",
       "\t 2020-06-15                   & 15                           & 6                            & 2020                         &   3                          & 0                            & Slovakia                     & SK                           & SVK                          &  5447011                     & Europe                      \\\\\n",
       "\t 2020-06-15                   & 15                           & 6                            & 2020                         &   3                          & 0                            & Slovenia                     & SI                           & SVN                          &  2067372                     & Europe                      \\\\\n",
       "\t 2020-06-15                     & 15                             & 6                              & 2020                           &  37                            & 0                              & South\\_Korea                  & KR                             & KOR                            & 51635256                       & Asia                          \\\\\n",
       "\t 2020-06-15                     & 15                             & 6                              & 2020                           &   0                            & 0                              & South\\_Sudan                  & SS                             & SSD                            & 10975920                       & Africa                        \\\\\n",
       "\t 2020-06-15                     & 15                             & 6                              & 2020                           &   5                            & 0                              & Sri\\_Lanka                    & LK                             & LKA                            & 21670000                       & Asia                          \\\\\n",
       "\t 2020-06-15                   & 15                           & 6                            & 2020                         &  12                          & 0                            & Suriname                     & SR                           & SUR                          &   575991                     & America                     \\\\\n",
       "\t 2020-06-15                   & 15                           & 6                            & 2020                         & 683                          & 0                            & Sweden                       & SE                           & SWE                          & 10183175                     & Europe                      \\\\\n",
       "\t 2020-06-15                   & 15                           & 6                            & 2020                         &  23                          & 0                            & Switzerland                  & CH                           & CHE                          &  8516543                     & Europe                      \\\\\n",
       "\t 2020-06-15                   & 15                           & 6                            & 2020                         &   7                          & 0                            & Syria                        & SY                           & SYR                          & 16906283                     & Asia                        \\\\\n",
       "\t 2020-06-15                   & 15                           & 6                            & 2020                         &   0                          & 0                            & Taiwan                       & TW                           & TWN                          & 23780452                     & Asia                        \\\\\n",
       "\t 2020-06-15                   & 15                           & 6                            & 2020                         &  64                          & 0                            & Tajikistan                   & TJ                           & TJK                          &  9100837                     & Asia                        \\\\\n",
       "\t 2020-06-15                   & 15                           & 6                            & 2020                         &   1                          & 0                            & Thailand                     & TH                           & THA                          & 69428524                     & Asia                        \\\\\n",
       "\t 2020-06-15                     & 15                             & 6                              & 2020                           &   0                            & 0                              & Timor\\_Leste                  & TL                             & TLS                            &  1267972                       & Asia                          \\\\\n",
       "\t 2020-06-15                   & 15                           & 6                            & 2020                         &   1                          & 0                            & Togo                         & TG                           & TGO                          &  7889094                     & Africa                      \\\\\n",
       "\t 2020-06-15                       & 15                               & 6                                & 2020                             &   6                              & 0                                & Trinidad\\_and\\_Tobago          & TT                               & TTO                              &  1389858                         & America                         \\\\\n",
       "\t 2020-06-15                   & 15                           & 6                            & 2020                         &   2                          & 0                            & Tunisia                      & TN                           & TUN                          & 11565204                     & Africa                      \\\\\n",
       "\t 2020-06-15                         & 15                                 & 6                                  & 2020                               &   0                                & 0                                  & Turks\\_and\\_Caicos\\_islands     & TC                                 & TCA                                &    31458                           & America                           \\\\\n",
       "\t 2020-06-15                   & 15                           & 6                            & 2020                         &  11                          & 0                            & Uganda                       & UG                           & UGA                          & 42723139                     & Africa                      \\\\\n",
       "\t 2020-06-15                         & 15                                 & 6                                  & 2020                               &   0                                & 0                                  & United\\_Republic\\_of\\_Tanzania  & TZ                                 & TZA                                & 56318348                           & Africa                            \\\\\n",
       "\t 2020-06-15                         & 15                                 & 6                                  & 2020                               &   1                                & 0                                  & United\\_States\\_Virgin\\_Islands & VI                                 & VIR                                &   106977                           & America                           \\\\\n",
       "\t 2020-06-15                   & 15                           & 6                            & 2020                         &   1                          & 0                            & Uruguay                      & UY                           & URY                          &  3449299                     & America                     \\\\\n",
       "\t 2020-06-15                   & 15                           & 6                            & 2020                         & 109                          & 0                            & Uzbekistan                   & UZ                           & UZB                          & 32955400                     & Asia                        \\\\\n",
       "\t 2020-06-15                   & 15                           & 6                            & 2020                         &   0                          & 0                            & Vietnam                      & VN                           & VNM                          & 95540395                     & Asia                        \\\\\n",
       "\t 2020-06-15                     & 15                             & 6                              & 2020                           &   0                            & 0                              & Western\\_Sahara               & EH                             & NA                             &       NA                       & Africa                        \\\\\n",
       "\t 2020-06-15                   & 15                           & 6                            & 2020                         &  27                          & 0                            & Zimbabwe                     & ZW                           & ZWE                          & 14439018                     & Africa                      \\\\\n",
       "\\end{tabular}\n"
      ],
      "text/markdown": [
       "\n",
       "| dateRep | day | month | year | cases | deaths | countriesAndTerritories | geoId | countryterritoryCode | popData2018 | continentExp |\n",
       "|---|---|---|---|---|---|---|---|---|---|---|\n",
       "| 2020-06-15               | 15                       | 6                        | 2020                     | 17110                    | 612                      | Brazil                   | BR                       | BRA                      |  209469333               | America                  |\n",
       "| 2020-06-15               | 15                       | 6                        | 2020                     | 11502                    | 325                      | India                    | IN                       | IND                      | 1352617328               | Asia                     |\n",
       "| 2020-06-15               | 15                       | 6                        | 2020                     | 19543                    | 296                      | United_States_of_America | US                       | USA                      |  327167434               | America                  |\n",
       "| 2020-06-15               | 15                       | 6                        | 2020                     |  4147                    | 269                      | Mexico                   | MX                       | MEX                      |  126190788               | America                  |\n",
       "| 2020-06-15               | 15                       | 6                        | 2020                     |  6938                    | 222                      | Chile                    | CL                       | CHL                      |   18729160               | America                  |\n",
       "| 2020-06-15               | 15                       | 6                        | 2020                     |  4604                    | 190                      | Peru                     | PE                       | PER                      |   31989256               | America                  |\n",
       "| 2020-06-15               | 15                       | 6                        | 2020                     |  8835                    | 119                      | Russia                   | RU                       | RUS                      |  144478050               | Europe                   |\n",
       "| 2020-06-15               | 15                       | 6                        | 2020                     |  2472                    | 107                      | Iran                     | IR                       | IRN                      |   81800269               | Asia                     |\n",
       "| 2020-06-15               | 15                       | 6                        | 2020                     |  5248                    |  97                      | Pakistan                 | PK                       | PAK                      |  212215030               | Asia                     |\n",
       "| 2020-06-15               | 15                       | 6                        | 2020                     |  1618                    |  91                      | Egypt                    | EG                       | EGY                      |   98423595               | Africa                   |\n",
       "| 2020-06-15               | 15                       | 6                        | 2020                     |  2193                    |  75                      | Colombia                 | CO                       | COL                      |   49648685               | America                  |\n",
       "| 2020-06-15               | 15                       | 6                        | 2020                     |  1259                    |  58                      | Iraq                     | IQ                       | IRQ                      |   38433600               | Asia                     |\n",
       "| 2020-06-15               | 15                       | 6                        | 2020                     |  4302                    |  57                      | South_Africa             | ZA                       | ZAF                      |   57779622               | Africa                   |\n",
       "| 2020-06-15               | 15                       | 6                        | 2020                     |   338                    |  44                      | Italy                    | IT                       | ITA                      |   60431283               | Europe                   |\n",
       "| 2020-06-15               | 15                       | 6                        | 2020                     |   857                    |  43                      | Indonesia                | ID                       | IDN                      |  267663435               | Asia                     |\n",
       "| 2020-06-15               | 15                       | 6                        | 2020                     |  4233                    |  40                      | Saudi_Arabia             | SA                       | SAU                      |   33699947               | Asia                     |\n",
       "| 2020-06-15               | 15                       | 6                        | 2020                     |   377                    |  39                      | Canada                   | CA                       | CAN                      |   37058856               | America                  |\n",
       "| 2020-06-15               | 15                       | 6                        | 2020                     |  1514                    |  36                      | United_Kingdom           | UK                       | GBR                      |   66488991               | Europe                   |\n",
       "| 2020-06-15               | 15                       | 6                        | 2020                     |  3141                    |  32                      | Bangladesh               | BD                       | BGD                      |  161356039               | Asia                     |\n",
       "| 2020-06-15               | 15                       | 6                        | 2020                     |   617                    |  26                      | Bolivia                  | BO                       | BOL                      |   11353142               | America                  |\n",
       "| 2020-06-15               | 15                       | 6                        | 2020                     |   341                    |  26                      | Sudan                    | SD                       | SDN                      |   41801533               | Africa                   |\n",
       "| 2020-06-15               | 15                       | 6                        | 2020                     |   395                    |  22                      | Ecuador                  | EC                       | ECU                      |   17084357               | America                  |\n",
       "| 2020-06-15               | 15                       | 6                        | 2020                     |   664                    |  20                      | Afghanistan              | AF                       | AFG                      |   37172386               | Asia                     |\n",
       "| 2020-06-15               | 15                       | 6                        | 2020                     |   320                    |  19                      | Romania                  | RO                       | ROU                      |   19473936               | Europe                   |\n",
       "| 2020-06-15               | 15                       | 6                        | 2020                     |  1282                    |  18                      | Argentina                | AR                       | ARG                      |   44494502               | America                  |\n",
       "| 2020-06-15               | 15                       | 6                        | 2020                     |   354                    |  17                      | Guatemala                | GT                       | GTM                      |   17247807               | America                  |\n",
       "| 2020-06-15               | 15                       | 6                        | 2020                     |   390                    |  15                      | Dominican_Republic       | DO                       | DOM                      |   10627165               | America                  |\n",
       "| 2020-06-15               | 15                       | 6                        | 2020                     |  1562                    |  15                      | Turkey                   | TR                       | TUR                      |   82319724               | Asia                     |\n",
       "| 2020-06-15               | 15                       | 6                        | 2020                     |   538                    |  14                      | Philippines              | PH                       | PHL                      |  106651922               | Asia                     |\n",
       "| 2020-06-15               | 15                       | 6                        | 2020                     |   344                    |  13                      | Mauritania               | MR                       | MRT                      |    4403319               | Africa                   |\n",
       "| ... | ... | ... | ... | ... | ... | ... | ... | ... | ... | ... |\n",
       "| 2020-06-15                   | 15                           | 6                            | 2020                         |  94                          | 0                            | Senegal                      | SN                           | SEN                          | 15854360                     | Africa                       |\n",
       "| 2020-06-15                   | 15                           | 6                            | 2020                         |   0                          | 0                            | Seychelles                   | SC                           | SYC                          |    96762                     | Africa                       |\n",
       "| 2020-06-15                   | 15                           | 6                            | 2020                         |  37                          | 0                            | Sierra_Leone                 | SL                           | SLE                          |  7650154                     | Africa                       |\n",
       "| 2020-06-15                   | 15                           | 6                            | 2020                         | 407                          | 0                            | Singapore                    | SG                           | SGP                          |  5638676                     | Asia                         |\n",
       "| 2020-06-15                   | 15                           | 6                            | 2020                         |   0                          | 0                            | Sint_Maarten                 | SX                           | SXM                          |    41486                     | America                      |\n",
       "| 2020-06-15                   | 15                           | 6                            | 2020                         |   3                          | 0                            | Slovakia                     | SK                           | SVK                          |  5447011                     | Europe                       |\n",
       "| 2020-06-15                   | 15                           | 6                            | 2020                         |   3                          | 0                            | Slovenia                     | SI                           | SVN                          |  2067372                     | Europe                       |\n",
       "| 2020-06-15                   | 15                           | 6                            | 2020                         |  37                          | 0                            | South_Korea                  | KR                           | KOR                          | 51635256                     | Asia                         |\n",
       "| 2020-06-15                   | 15                           | 6                            | 2020                         |   0                          | 0                            | South_Sudan                  | SS                           | SSD                          | 10975920                     | Africa                       |\n",
       "| 2020-06-15                   | 15                           | 6                            | 2020                         |   5                          | 0                            | Sri_Lanka                    | LK                           | LKA                          | 21670000                     | Asia                         |\n",
       "| 2020-06-15                   | 15                           | 6                            | 2020                         |  12                          | 0                            | Suriname                     | SR                           | SUR                          |   575991                     | America                      |\n",
       "| 2020-06-15                   | 15                           | 6                            | 2020                         | 683                          | 0                            | Sweden                       | SE                           | SWE                          | 10183175                     | Europe                       |\n",
       "| 2020-06-15                   | 15                           | 6                            | 2020                         |  23                          | 0                            | Switzerland                  | CH                           | CHE                          |  8516543                     | Europe                       |\n",
       "| 2020-06-15                   | 15                           | 6                            | 2020                         |   7                          | 0                            | Syria                        | SY                           | SYR                          | 16906283                     | Asia                         |\n",
       "| 2020-06-15                   | 15                           | 6                            | 2020                         |   0                          | 0                            | Taiwan                       | TW                           | TWN                          | 23780452                     | Asia                         |\n",
       "| 2020-06-15                   | 15                           | 6                            | 2020                         |  64                          | 0                            | Tajikistan                   | TJ                           | TJK                          |  9100837                     | Asia                         |\n",
       "| 2020-06-15                   | 15                           | 6                            | 2020                         |   1                          | 0                            | Thailand                     | TH                           | THA                          | 69428524                     | Asia                         |\n",
       "| 2020-06-15                   | 15                           | 6                            | 2020                         |   0                          | 0                            | Timor_Leste                  | TL                           | TLS                          |  1267972                     | Asia                         |\n",
       "| 2020-06-15                   | 15                           | 6                            | 2020                         |   1                          | 0                            | Togo                         | TG                           | TGO                          |  7889094                     | Africa                       |\n",
       "| 2020-06-15                   | 15                           | 6                            | 2020                         |   6                          | 0                            | Trinidad_and_Tobago          | TT                           | TTO                          |  1389858                     | America                      |\n",
       "| 2020-06-15                   | 15                           | 6                            | 2020                         |   2                          | 0                            | Tunisia                      | TN                           | TUN                          | 11565204                     | Africa                       |\n",
       "| 2020-06-15                   | 15                           | 6                            | 2020                         |   0                          | 0                            | Turks_and_Caicos_islands     | TC                           | TCA                          |    31458                     | America                      |\n",
       "| 2020-06-15                   | 15                           | 6                            | 2020                         |  11                          | 0                            | Uganda                       | UG                           | UGA                          | 42723139                     | Africa                       |\n",
       "| 2020-06-15                   | 15                           | 6                            | 2020                         |   0                          | 0                            | United_Republic_of_Tanzania  | TZ                           | TZA                          | 56318348                     | Africa                       |\n",
       "| 2020-06-15                   | 15                           | 6                            | 2020                         |   1                          | 0                            | United_States_Virgin_Islands | VI                           | VIR                          |   106977                     | America                      |\n",
       "| 2020-06-15                   | 15                           | 6                            | 2020                         |   1                          | 0                            | Uruguay                      | UY                           | URY                          |  3449299                     | America                      |\n",
       "| 2020-06-15                   | 15                           | 6                            | 2020                         | 109                          | 0                            | Uzbekistan                   | UZ                           | UZB                          | 32955400                     | Asia                         |\n",
       "| 2020-06-15                   | 15                           | 6                            | 2020                         |   0                          | 0                            | Vietnam                      | VN                           | VNM                          | 95540395                     | Asia                         |\n",
       "| 2020-06-15                   | 15                           | 6                            | 2020                         |   0                          | 0                            | Western_Sahara               | EH                           | NA                           |       NA                     | Africa                       |\n",
       "| 2020-06-15                   | 15                           | 6                            | 2020                         |  27                          | 0                            | Zimbabwe                     | ZW                           | ZWE                          | 14439018                     | Africa                       |\n",
       "\n"
      ],
      "text/plain": [
       "    dateRep    day month year cases deaths countriesAndTerritories      geoId\n",
       "1   2020-06-15 15  6     2020 17110 612    Brazil                       BR   \n",
       "2   2020-06-15 15  6     2020 11502 325    India                        IN   \n",
       "3   2020-06-15 15  6     2020 19543 296    United_States_of_America     US   \n",
       "4   2020-06-15 15  6     2020  4147 269    Mexico                       MX   \n",
       "5   2020-06-15 15  6     2020  6938 222    Chile                        CL   \n",
       "6   2020-06-15 15  6     2020  4604 190    Peru                         PE   \n",
       "7   2020-06-15 15  6     2020  8835 119    Russia                       RU   \n",
       "8   2020-06-15 15  6     2020  2472 107    Iran                         IR   \n",
       "9   2020-06-15 15  6     2020  5248  97    Pakistan                     PK   \n",
       "10  2020-06-15 15  6     2020  1618  91    Egypt                        EG   \n",
       "11  2020-06-15 15  6     2020  2193  75    Colombia                     CO   \n",
       "12  2020-06-15 15  6     2020  1259  58    Iraq                         IQ   \n",
       "13  2020-06-15 15  6     2020  4302  57    South_Africa                 ZA   \n",
       "14  2020-06-15 15  6     2020   338  44    Italy                        IT   \n",
       "15  2020-06-15 15  6     2020   857  43    Indonesia                    ID   \n",
       "16  2020-06-15 15  6     2020  4233  40    Saudi_Arabia                 SA   \n",
       "17  2020-06-15 15  6     2020   377  39    Canada                       CA   \n",
       "18  2020-06-15 15  6     2020  1514  36    United_Kingdom               UK   \n",
       "19  2020-06-15 15  6     2020  3141  32    Bangladesh                   BD   \n",
       "20  2020-06-15 15  6     2020   617  26    Bolivia                      BO   \n",
       "21  2020-06-15 15  6     2020   341  26    Sudan                        SD   \n",
       "22  2020-06-15 15  6     2020   395  22    Ecuador                      EC   \n",
       "23  2020-06-15 15  6     2020   664  20    Afghanistan                  AF   \n",
       "24  2020-06-15 15  6     2020   320  19    Romania                      RO   \n",
       "25  2020-06-15 15  6     2020  1282  18    Argentina                    AR   \n",
       "26  2020-06-15 15  6     2020   354  17    Guatemala                    GT   \n",
       "27  2020-06-15 15  6     2020   390  15    Dominican_Republic           DO   \n",
       "28  2020-06-15 15  6     2020  1562  15    Turkey                       TR   \n",
       "29  2020-06-15 15  6     2020   538  14    Philippines                  PH   \n",
       "30  2020-06-15 15  6     2020   344  13    Mauritania                   MR   \n",
       "... ...        ... ...   ...  ...   ...    ...                          ...  \n",
       "179 2020-06-15 15  6     2020  94   0      Senegal                      SN   \n",
       "180 2020-06-15 15  6     2020   0   0      Seychelles                   SC   \n",
       "181 2020-06-15 15  6     2020  37   0      Sierra_Leone                 SL   \n",
       "182 2020-06-15 15  6     2020 407   0      Singapore                    SG   \n",
       "183 2020-06-15 15  6     2020   0   0      Sint_Maarten                 SX   \n",
       "184 2020-06-15 15  6     2020   3   0      Slovakia                     SK   \n",
       "185 2020-06-15 15  6     2020   3   0      Slovenia                     SI   \n",
       "186 2020-06-15 15  6     2020  37   0      South_Korea                  KR   \n",
       "187 2020-06-15 15  6     2020   0   0      South_Sudan                  SS   \n",
       "188 2020-06-15 15  6     2020   5   0      Sri_Lanka                    LK   \n",
       "189 2020-06-15 15  6     2020  12   0      Suriname                     SR   \n",
       "190 2020-06-15 15  6     2020 683   0      Sweden                       SE   \n",
       "191 2020-06-15 15  6     2020  23   0      Switzerland                  CH   \n",
       "192 2020-06-15 15  6     2020   7   0      Syria                        SY   \n",
       "193 2020-06-15 15  6     2020   0   0      Taiwan                       TW   \n",
       "194 2020-06-15 15  6     2020  64   0      Tajikistan                   TJ   \n",
       "195 2020-06-15 15  6     2020   1   0      Thailand                     TH   \n",
       "196 2020-06-15 15  6     2020   0   0      Timor_Leste                  TL   \n",
       "197 2020-06-15 15  6     2020   1   0      Togo                         TG   \n",
       "198 2020-06-15 15  6     2020   6   0      Trinidad_and_Tobago          TT   \n",
       "199 2020-06-15 15  6     2020   2   0      Tunisia                      TN   \n",
       "200 2020-06-15 15  6     2020   0   0      Turks_and_Caicos_islands     TC   \n",
       "201 2020-06-15 15  6     2020  11   0      Uganda                       UG   \n",
       "202 2020-06-15 15  6     2020   0   0      United_Republic_of_Tanzania  TZ   \n",
       "203 2020-06-15 15  6     2020   1   0      United_States_Virgin_Islands VI   \n",
       "204 2020-06-15 15  6     2020   1   0      Uruguay                      UY   \n",
       "205 2020-06-15 15  6     2020 109   0      Uzbekistan                   UZ   \n",
       "206 2020-06-15 15  6     2020   0   0      Vietnam                      VN   \n",
       "207 2020-06-15 15  6     2020   0   0      Western_Sahara               EH   \n",
       "208 2020-06-15 15  6     2020  27   0      Zimbabwe                     ZW   \n",
       "    countryterritoryCode popData2018 continentExp\n",
       "1   BRA                   209469333  America     \n",
       "2   IND                  1352617328  Asia        \n",
       "3   USA                   327167434  America     \n",
       "4   MEX                   126190788  America     \n",
       "5   CHL                    18729160  America     \n",
       "6   PER                    31989256  America     \n",
       "7   RUS                   144478050  Europe      \n",
       "8   IRN                    81800269  Asia        \n",
       "9   PAK                   212215030  Asia        \n",
       "10  EGY                    98423595  Africa      \n",
       "11  COL                    49648685  America     \n",
       "12  IRQ                    38433600  Asia        \n",
       "13  ZAF                    57779622  Africa      \n",
       "14  ITA                    60431283  Europe      \n",
       "15  IDN                   267663435  Asia        \n",
       "16  SAU                    33699947  Asia        \n",
       "17  CAN                    37058856  America     \n",
       "18  GBR                    66488991  Europe      \n",
       "19  BGD                   161356039  Asia        \n",
       "20  BOL                    11353142  America     \n",
       "21  SDN                    41801533  Africa      \n",
       "22  ECU                    17084357  America     \n",
       "23  AFG                    37172386  Asia        \n",
       "24  ROU                    19473936  Europe      \n",
       "25  ARG                    44494502  America     \n",
       "26  GTM                    17247807  America     \n",
       "27  DOM                    10627165  America     \n",
       "28  TUR                    82319724  Asia        \n",
       "29  PHL                   106651922  Asia        \n",
       "30  MRT                     4403319  Africa      \n",
       "... ...                  ...         ...         \n",
       "179 SEN                  15854360    Africa      \n",
       "180 SYC                     96762    Africa      \n",
       "181 SLE                   7650154    Africa      \n",
       "182 SGP                   5638676    Asia        \n",
       "183 SXM                     41486    America     \n",
       "184 SVK                   5447011    Europe      \n",
       "185 SVN                   2067372    Europe      \n",
       "186 KOR                  51635256    Asia        \n",
       "187 SSD                  10975920    Africa      \n",
       "188 LKA                  21670000    Asia        \n",
       "189 SUR                    575991    America     \n",
       "190 SWE                  10183175    Europe      \n",
       "191 CHE                   8516543    Europe      \n",
       "192 SYR                  16906283    Asia        \n",
       "193 TWN                  23780452    Asia        \n",
       "194 TJK                   9100837    Asia        \n",
       "195 THA                  69428524    Asia        \n",
       "196 TLS                   1267972    Asia        \n",
       "197 TGO                   7889094    Africa      \n",
       "198 TTO                   1389858    America     \n",
       "199 TUN                  11565204    Africa      \n",
       "200 TCA                     31458    America     \n",
       "201 UGA                  42723139    Africa      \n",
       "202 TZA                  56318348    Africa      \n",
       "203 VIR                    106977    America     \n",
       "204 URY                   3449299    America     \n",
       "205 UZB                  32955400    Asia        \n",
       "206 VNM                  95540395    Asia        \n",
       "207 NA                         NA    Africa      \n",
       "208 ZWE                  14439018    Africa      "
      ]
     },
     "metadata": {},
     "output_type": "display_data"
    }
   ],
   "source": [
    "deaths <- last_covid[order(last_covid$deaths, decreasing = TRUE), ]\n",
    "deaths"
   ]
  },
  {
   "cell_type": "code",
   "execution_count": 13,
   "metadata": {},
   "outputs": [],
   "source": [
    "deaths_200 <- deaths[deaths$deaths >= 200, ]"
   ]
  },
  {
   "cell_type": "code",
   "execution_count": 14,
   "metadata": {},
   "outputs": [
    {
     "data": {
      "text/html": [
       "<table>\n",
       "<thead><tr><th scope=col>dateRep</th><th scope=col>day</th><th scope=col>month</th><th scope=col>year</th><th scope=col>cases</th><th scope=col>deaths</th><th scope=col>countriesAndTerritories</th><th scope=col>geoId</th><th scope=col>countryterritoryCode</th><th scope=col>popData2018</th><th scope=col>continentExp</th></tr></thead>\n",
       "<tbody>\n",
       "\t<tr><td>2020-06-15              </td><td>15                      </td><td>6                       </td><td>2020                    </td><td>17110                   </td><td>612                     </td><td>Brazil                  </td><td>BR                      </td><td>BRA                     </td><td> 209469333              </td><td>America                 </td></tr>\n",
       "\t<tr><td>2020-06-15              </td><td>15                      </td><td>6                       </td><td>2020                    </td><td>11502                   </td><td>325                     </td><td>India                   </td><td>IN                      </td><td>IND                     </td><td>1352617328              </td><td>Asia                    </td></tr>\n",
       "\t<tr><td>2020-06-15              </td><td>15                      </td><td>6                       </td><td>2020                    </td><td>19543                   </td><td>296                     </td><td>United_States_of_America</td><td>US                      </td><td>USA                     </td><td> 327167434              </td><td>America                 </td></tr>\n",
       "\t<tr><td>2020-06-15              </td><td>15                      </td><td>6                       </td><td>2020                    </td><td> 4147                   </td><td>269                     </td><td>Mexico                  </td><td>MX                      </td><td>MEX                     </td><td> 126190788              </td><td>America                 </td></tr>\n",
       "\t<tr><td>2020-06-15              </td><td>15                      </td><td>6                       </td><td>2020                    </td><td> 6938                   </td><td>222                     </td><td>Chile                   </td><td>CL                      </td><td>CHL                     </td><td>  18729160              </td><td>America                 </td></tr>\n",
       "</tbody>\n",
       "</table>\n"
      ],
      "text/latex": [
       "\\begin{tabular}{r|lllllllllll}\n",
       " dateRep & day & month & year & cases & deaths & countriesAndTerritories & geoId & countryterritoryCode & popData2018 & continentExp\\\\\n",
       "\\hline\n",
       "\t 2020-06-15               & 15                       & 6                        & 2020                     & 17110                    & 612                      & Brazil                   & BR                       & BRA                      &  209469333               & America                 \\\\\n",
       "\t 2020-06-15               & 15                       & 6                        & 2020                     & 11502                    & 325                      & India                    & IN                       & IND                      & 1352617328               & Asia                    \\\\\n",
       "\t 2020-06-15                     & 15                             & 6                              & 2020                           & 19543                          & 296                            & United\\_States\\_of\\_America & US                             & USA                            &  327167434                     & America                       \\\\\n",
       "\t 2020-06-15               & 15                       & 6                        & 2020                     &  4147                    & 269                      & Mexico                   & MX                       & MEX                      &  126190788               & America                 \\\\\n",
       "\t 2020-06-15               & 15                       & 6                        & 2020                     &  6938                    & 222                      & Chile                    & CL                       & CHL                      &   18729160               & America                 \\\\\n",
       "\\end{tabular}\n"
      ],
      "text/markdown": [
       "\n",
       "| dateRep | day | month | year | cases | deaths | countriesAndTerritories | geoId | countryterritoryCode | popData2018 | continentExp |\n",
       "|---|---|---|---|---|---|---|---|---|---|---|\n",
       "| 2020-06-15               | 15                       | 6                        | 2020                     | 17110                    | 612                      | Brazil                   | BR                       | BRA                      |  209469333               | America                  |\n",
       "| 2020-06-15               | 15                       | 6                        | 2020                     | 11502                    | 325                      | India                    | IN                       | IND                      | 1352617328               | Asia                     |\n",
       "| 2020-06-15               | 15                       | 6                        | 2020                     | 19543                    | 296                      | United_States_of_America | US                       | USA                      |  327167434               | America                  |\n",
       "| 2020-06-15               | 15                       | 6                        | 2020                     |  4147                    | 269                      | Mexico                   | MX                       | MEX                      |  126190788               | America                  |\n",
       "| 2020-06-15               | 15                       | 6                        | 2020                     |  6938                    | 222                      | Chile                    | CL                       | CHL                      |   18729160               | America                  |\n",
       "\n"
      ],
      "text/plain": [
       "  dateRep    day month year cases deaths countriesAndTerritories  geoId\n",
       "1 2020-06-15 15  6     2020 17110 612    Brazil                   BR   \n",
       "2 2020-06-15 15  6     2020 11502 325    India                    IN   \n",
       "3 2020-06-15 15  6     2020 19543 296    United_States_of_America US   \n",
       "4 2020-06-15 15  6     2020  4147 269    Mexico                   MX   \n",
       "5 2020-06-15 15  6     2020  6938 222    Chile                    CL   \n",
       "  countryterritoryCode popData2018 continentExp\n",
       "1 BRA                   209469333  America     \n",
       "2 IND                  1352617328  Asia        \n",
       "3 USA                   327167434  America     \n",
       "4 MEX                   126190788  America     \n",
       "5 CHL                    18729160  America     "
      ]
     },
     "metadata": {},
     "output_type": "display_data"
    }
   ],
   "source": [
    "deaths_200"
   ]
  },
  {
   "cell_type": "code",
   "execution_count": 15,
   "metadata": {},
   "outputs": [
    {
     "data": {
      "text/html": [
       "<table>\n",
       "<thead><tr><th scope=col>dateRep</th><th scope=col>day</th><th scope=col>month</th><th scope=col>year</th><th scope=col>cases</th><th scope=col>deaths</th><th scope=col>countriesAndTerritories</th><th scope=col>geoId</th><th scope=col>countryterritoryCode</th><th scope=col>popData2018</th><th scope=col>continentExp</th></tr></thead>\n",
       "<tbody>\n",
       "\t<tr><td>2020-06-15              </td><td>15                      </td><td>6                       </td><td>2020                    </td><td>19543                   </td><td>296                     </td><td>United_States_of_America</td><td>US                      </td><td>USA                     </td><td> 327167434              </td><td>America                 </td></tr>\n",
       "\t<tr><td>2020-06-15              </td><td>15                      </td><td>6                       </td><td>2020                    </td><td>17110                   </td><td>612                     </td><td>Brazil                  </td><td>BR                      </td><td>BRA                     </td><td> 209469333              </td><td>America                 </td></tr>\n",
       "\t<tr><td>2020-06-15              </td><td>15                      </td><td>6                       </td><td>2020                    </td><td>11502                   </td><td>325                     </td><td>India                   </td><td>IN                      </td><td>IND                     </td><td>1352617328              </td><td>Asia                    </td></tr>\n",
       "\t<tr><td>2020-06-15              </td><td>15                      </td><td>6                       </td><td>2020                    </td><td> 8835                   </td><td>119                     </td><td>Russia                  </td><td>RU                      </td><td>RUS                     </td><td> 144478050              </td><td>Europe                  </td></tr>\n",
       "\t<tr><td>2020-06-15              </td><td>15                      </td><td>6                       </td><td>2020                    </td><td> 6938                   </td><td>222                     </td><td>Chile                   </td><td>CL                      </td><td>CHL                     </td><td>  18729160              </td><td>America                 </td></tr>\n",
       "\t<tr><td>2020-06-15              </td><td>15                      </td><td>6                       </td><td>2020                    </td><td> 5248                   </td><td> 97                     </td><td>Pakistan                </td><td>PK                      </td><td>PAK                     </td><td> 212215030              </td><td>Asia                    </td></tr>\n",
       "\t<tr><td>2020-06-15              </td><td>15                      </td><td>6                       </td><td>2020                    </td><td> 4604                   </td><td>190                     </td><td>Peru                    </td><td>PE                      </td><td>PER                     </td><td>  31989256              </td><td>America                 </td></tr>\n",
       "\t<tr><td>2020-06-15              </td><td>15                      </td><td>6                       </td><td>2020                    </td><td> 4302                   </td><td> 57                     </td><td>South_Africa            </td><td>ZA                      </td><td>ZAF                     </td><td>  57779622              </td><td>Africa                  </td></tr>\n",
       "\t<tr><td>2020-06-15              </td><td>15                      </td><td>6                       </td><td>2020                    </td><td> 4233                   </td><td> 40                     </td><td>Saudi_Arabia            </td><td>SA                      </td><td>SAU                     </td><td>  33699947              </td><td>Asia                    </td></tr>\n",
       "\t<tr><td>2020-06-15              </td><td>15                      </td><td>6                       </td><td>2020                    </td><td> 4147                   </td><td>269                     </td><td>Mexico                  </td><td>MX                      </td><td>MEX                     </td><td> 126190788              </td><td>America                 </td></tr>\n",
       "\t<tr><td>2020-06-15              </td><td>15                      </td><td>6                       </td><td>2020                    </td><td> 3141                   </td><td> 32                     </td><td>Bangladesh              </td><td>BD                      </td><td>BGD                     </td><td> 161356039              </td><td>Asia                    </td></tr>\n",
       "\t<tr><td>2020-06-15              </td><td>15                      </td><td>6                       </td><td>2020                    </td><td> 2472                   </td><td>107                     </td><td>Iran                    </td><td>IR                      </td><td>IRN                     </td><td>  81800269              </td><td>Asia                    </td></tr>\n",
       "\t<tr><td>2020-06-15              </td><td>15                      </td><td>6                       </td><td>2020                    </td><td> 2193                   </td><td> 75                     </td><td>Colombia                </td><td>CO                      </td><td>COL                     </td><td>  49648685              </td><td>America                 </td></tr>\n",
       "\t<tr><td>2020-06-15              </td><td>15                      </td><td>6                       </td><td>2020                    </td><td> 1618                   </td><td> 91                     </td><td>Egypt                   </td><td>EG                      </td><td>EGY                     </td><td>  98423595              </td><td>Africa                  </td></tr>\n",
       "\t<tr><td>2020-06-15              </td><td>15                      </td><td>6                       </td><td>2020                    </td><td> 1562                   </td><td> 15                     </td><td>Turkey                  </td><td>TR                      </td><td>TUR                     </td><td>  82319724              </td><td>Asia                    </td></tr>\n",
       "\t<tr><td>2020-06-15              </td><td>15                      </td><td>6                       </td><td>2020                    </td><td> 1514                   </td><td> 36                     </td><td>United_Kingdom          </td><td>UK                      </td><td>GBR                     </td><td>  66488991              </td><td>Europe                  </td></tr>\n",
       "\t<tr><td>2020-06-15              </td><td>15                      </td><td>6                       </td><td>2020                    </td><td> 1404                   </td><td>  5                     </td><td>Oman                    </td><td>OM                      </td><td>OMN                     </td><td>   4829483              </td><td>Asia                    </td></tr>\n",
       "\t<tr><td>2020-06-15              </td><td>15                      </td><td>6                       </td><td>2020                    </td><td> 1282                   </td><td> 18                     </td><td>Argentina               </td><td>AR                      </td><td>ARG                     </td><td>  44494502              </td><td>America                 </td></tr>\n",
       "\t<tr><td>2020-06-15              </td><td>15                      </td><td>6                       </td><td>2020                    </td><td> 1259                   </td><td> 58                     </td><td>Iraq                    </td><td>IQ                      </td><td>IRQ                     </td><td>  38433600              </td><td>Asia                    </td></tr>\n",
       "\t<tr><td>2020-06-15              </td><td>15                      </td><td>6                       </td><td>2020                    </td><td> 1186                   </td><td>  3                     </td><td>Qatar                   </td><td>QA                      </td><td>QAT                     </td><td>   2781677              </td><td>Asia                    </td></tr>\n",
       "\t<tr><td>2020-06-15              </td><td>15                      </td><td>6                       </td><td>2020                    </td><td>  857                   </td><td> 43                     </td><td>Indonesia               </td><td>ID                      </td><td>IDN                     </td><td> 267663435              </td><td>Asia                    </td></tr>\n",
       "\t<tr><td>2020-06-15              </td><td>15                      </td><td>6                       </td><td>2020                    </td><td>  732                   </td><td>  5                     </td><td>Belarus                 </td><td>BY                      </td><td>BLR                     </td><td>   9485386              </td><td>Europe                  </td></tr>\n",
       "\t<tr><td>2020-06-15              </td><td>15                      </td><td>6                       </td><td>2020                    </td><td>  683                   </td><td>  0                     </td><td>Sweden                  </td><td>SE                      </td><td>SWE                     </td><td>  10183175              </td><td>Europe                  </td></tr>\n",
       "\t<tr><td>2020-06-15              </td><td>15                      </td><td>6                       </td><td>2020                    </td><td>  664                   </td><td> 20                     </td><td>Afghanistan             </td><td>AF                      </td><td>AFG                     </td><td>  37172386              </td><td>Asia                    </td></tr>\n",
       "\t<tr><td>2020-06-15              </td><td>15                      </td><td>6                       </td><td>2020                    </td><td>  663                   </td><td>  5                     </td><td>Armenia                 </td><td>AM                      </td><td>ARM                     </td><td>   2951776              </td><td>Europe                  </td></tr>\n",
       "\t<tr><td>2020-06-15              </td><td>15                      </td><td>6                       </td><td>2020                    </td><td>  648                   </td><td>  9                     </td><td>Ukraine                 </td><td>UA                      </td><td>UKR                     </td><td>  44622516              </td><td>Europe                  </td></tr>\n",
       "\t<tr><td>2020-06-15              </td><td>15                      </td><td>6                       </td><td>2020                    </td><td>  627                   </td><td>  8                     </td><td>Panama                  </td><td>PA                      </td><td>PAN                     </td><td>   4176873              </td><td>America                 </td></tr>\n",
       "\t<tr><td>2020-06-15              </td><td>15                      </td><td>6                       </td><td>2020                    </td><td>  617                   </td><td> 26                     </td><td>Bolivia                 </td><td>BO                      </td><td>BOL                     </td><td>  11353142              </td><td>America                 </td></tr>\n",
       "\t<tr><td>2020-06-15              </td><td>15                      </td><td>6                       </td><td>2020                    </td><td>  542                   </td><td>  3                     </td><td>Ghana                   </td><td>GH                      </td><td>GHA                     </td><td>  29767108              </td><td>Africa                  </td></tr>\n",
       "\t<tr><td>2020-06-15              </td><td>15                      </td><td>6                       </td><td>2020                    </td><td>  538                   </td><td> 14                     </td><td>Philippines             </td><td>PH                      </td><td>PHL                     </td><td> 106651922              </td><td>Asia                    </td></tr>\n",
       "\t<tr><td>...</td><td>...</td><td>...</td><td>...</td><td>...</td><td>...</td><td>...</td><td>...</td><td>...</td><td>...</td><td>...</td></tr>\n",
       "\t<tr><td>2020-06-15                      </td><td>15                              </td><td>6                               </td><td>2020                            </td><td>0                               </td><td>0                               </td><td>Lesotho                         </td><td>LS                              </td><td>LSO                             </td><td> 2108132                        </td><td>Africa                          </td></tr>\n",
       "\t<tr><td>2020-06-15                      </td><td>15                              </td><td>6                               </td><td>2020                            </td><td>0                               </td><td>0                               </td><td>Libya                           </td><td>LY                              </td><td>LBY                             </td><td> 6678567                        </td><td>Africa                          </td></tr>\n",
       "\t<tr><td>2020-06-15                      </td><td>15                              </td><td>6                               </td><td>2020                            </td><td>0                               </td><td>0                               </td><td>Liechtenstein                   </td><td>LI                              </td><td>LIE                             </td><td>   37910                        </td><td>Europe                          </td></tr>\n",
       "\t<tr><td>2020-06-15                      </td><td>15                              </td><td>6                               </td><td>2020                            </td><td>0                               </td><td>0                               </td><td>Malta                           </td><td>MT                              </td><td>MLT                             </td><td>  483530                        </td><td>Europe                          </td></tr>\n",
       "\t<tr><td>2020-06-15                      </td><td>15                              </td><td>6                               </td><td>2020                            </td><td>0                               </td><td>0                               </td><td>Mauritius                       </td><td>MU                              </td><td>MUS                             </td><td> 1265303                        </td><td>Africa                          </td></tr>\n",
       "\t<tr><td>2020-06-15                      </td><td>15                              </td><td>6                               </td><td>2020                            </td><td>0                               </td><td>0                               </td><td>Monaco                          </td><td>MC                              </td><td>MCO                             </td><td>   38682                        </td><td>Europe                          </td></tr>\n",
       "\t<tr><td>2020-06-15                      </td><td>15                              </td><td>6                               </td><td>2020                            </td><td>0                               </td><td>0                               </td><td>Mongolia                        </td><td>MN                              </td><td>MNG                             </td><td> 3170208                        </td><td>Asia                            </td></tr>\n",
       "\t<tr><td>2020-06-15                      </td><td>15                              </td><td>6                               </td><td>2020                            </td><td>0                               </td><td>0                               </td><td>Montserrat                      </td><td>MS                              </td><td>MSR                             </td><td>    5900                        </td><td>America                         </td></tr>\n",
       "\t<tr><td>2020-06-15                      </td><td>15                              </td><td>6                               </td><td>2020                            </td><td>0                               </td><td>0                               </td><td>Namibia                         </td><td>NA                              </td><td>NAM                             </td><td> 2448255                        </td><td>Africa                          </td></tr>\n",
       "\t<tr><td>2020-06-15                      </td><td>15                              </td><td>6                               </td><td>2020                            </td><td>0                               </td><td>0                               </td><td>New_Caledonia                   </td><td>NC                              </td><td>NCL                             </td><td>  284060                        </td><td>Oceania                         </td></tr>\n",
       "\t<tr><td>2020-06-15                      </td><td>15                              </td><td>6                               </td><td>2020                            </td><td>0                               </td><td>0                               </td><td>New_Zealand                     </td><td>NZ                              </td><td>NZL                             </td><td> 4885500                        </td><td>Oceania                         </td></tr>\n",
       "\t<tr><td>2020-06-15                      </td><td>15                              </td><td>6                               </td><td>2020                            </td><td>0                               </td><td>0                               </td><td>Nicaragua                       </td><td>NI                              </td><td>NIC                             </td><td> 6465513                        </td><td>America                         </td></tr>\n",
       "\t<tr><td>2020-06-15                      </td><td>15                              </td><td>6                               </td><td>2020                            </td><td>0                               </td><td>0                               </td><td>Niger                           </td><td>NE                              </td><td>NER                             </td><td>22442948                        </td><td>Africa                          </td></tr>\n",
       "\t<tr><td>2020-06-15                      </td><td>15                              </td><td>6                               </td><td>2020                            </td><td>0                               </td><td>0                               </td><td>Northern_Mariana_Islands        </td><td>MP                              </td><td>MNP                             </td><td>   56882                        </td><td>Oceania                         </td></tr>\n",
       "\t<tr><td>2020-06-15                      </td><td>15                              </td><td>6                               </td><td>2020                            </td><td>0                               </td><td>0                               </td><td>Norway                          </td><td>NO                              </td><td>NOR                             </td><td> 5314336                        </td><td>Europe                          </td></tr>\n",
       "\t<tr><td>2020-06-15                      </td><td>15                              </td><td>6                               </td><td>2020                            </td><td>0                               </td><td>0                               </td><td>Palestine                       </td><td>PS                              </td><td>PSE                             </td><td> 4569087                        </td><td>Asia                            </td></tr>\n",
       "\t<tr><td>2020-06-15                      </td><td>15                              </td><td>6                               </td><td>2020                            </td><td>0                               </td><td>0                               </td><td>Papua_New_Guinea                </td><td>PG                              </td><td>PNG                             </td><td> 8606316                        </td><td>Oceania                         </td></tr>\n",
       "\t<tr><td>2020-06-15                      </td><td>15                              </td><td>6                               </td><td>2020                            </td><td>0                               </td><td>0                               </td><td>Saint_Kitts_and_Nevis           </td><td>KN                              </td><td>KNA                             </td><td>   52441                        </td><td>America                         </td></tr>\n",
       "\t<tr><td>2020-06-15                      </td><td>15                              </td><td>6                               </td><td>2020                            </td><td>0                               </td><td>0                               </td><td>Saint_Lucia                     </td><td>LC                              </td><td>LCA                             </td><td>  181889                        </td><td>America                         </td></tr>\n",
       "\t<tr><td>2020-06-15                      </td><td>15                              </td><td>6                               </td><td>2020                            </td><td>0                               </td><td>0                               </td><td>Saint_Vincent_and_the_Grenadines</td><td>VC                              </td><td>VCT                             </td><td>  110210                        </td><td>America                         </td></tr>\n",
       "\t<tr><td>2020-06-15                      </td><td>15                              </td><td>6                               </td><td>2020                            </td><td>0                               </td><td>0                               </td><td>San_Marino                      </td><td>SM                              </td><td>SMR                             </td><td>   33785                        </td><td>Europe                          </td></tr>\n",
       "\t<tr><td>2020-06-15                      </td><td>15                              </td><td>6                               </td><td>2020                            </td><td>0                               </td><td>0                               </td><td>Seychelles                      </td><td>SC                              </td><td>SYC                             </td><td>   96762                        </td><td>Africa                          </td></tr>\n",
       "\t<tr><td>2020-06-15                      </td><td>15                              </td><td>6                               </td><td>2020                            </td><td>0                               </td><td>0                               </td><td>Sint_Maarten                    </td><td>SX                              </td><td>SXM                             </td><td>   41486                        </td><td>America                         </td></tr>\n",
       "\t<tr><td>2020-06-15                      </td><td>15                              </td><td>6                               </td><td>2020                            </td><td>0                               </td><td>0                               </td><td>South_Sudan                     </td><td>SS                              </td><td>SSD                             </td><td>10975920                        </td><td>Africa                          </td></tr>\n",
       "\t<tr><td>2020-06-15                      </td><td>15                              </td><td>6                               </td><td>2020                            </td><td>0                               </td><td>0                               </td><td>Taiwan                          </td><td>TW                              </td><td>TWN                             </td><td>23780452                        </td><td>Asia                            </td></tr>\n",
       "\t<tr><td>2020-06-15                      </td><td>15                              </td><td>6                               </td><td>2020                            </td><td>0                               </td><td>0                               </td><td>Timor_Leste                     </td><td>TL                              </td><td>TLS                             </td><td> 1267972                        </td><td>Asia                            </td></tr>\n",
       "\t<tr><td>2020-06-15                      </td><td>15                              </td><td>6                               </td><td>2020                            </td><td>0                               </td><td>0                               </td><td>Turks_and_Caicos_islands        </td><td>TC                              </td><td>TCA                             </td><td>   31458                        </td><td>America                         </td></tr>\n",
       "\t<tr><td>2020-06-15                      </td><td>15                              </td><td>6                               </td><td>2020                            </td><td>0                               </td><td>0                               </td><td>United_Republic_of_Tanzania     </td><td>TZ                              </td><td>TZA                             </td><td>56318348                        </td><td>Africa                          </td></tr>\n",
       "\t<tr><td>2020-06-15                      </td><td>15                              </td><td>6                               </td><td>2020                            </td><td>0                               </td><td>0                               </td><td>Vietnam                         </td><td>VN                              </td><td>VNM                             </td><td>95540395                        </td><td>Asia                            </td></tr>\n",
       "\t<tr><td>2020-06-15                      </td><td>15                              </td><td>6                               </td><td>2020                            </td><td>0                               </td><td>0                               </td><td>Western_Sahara                  </td><td>EH                              </td><td>NA                              </td><td>      NA                        </td><td>Africa                          </td></tr>\n",
       "</tbody>\n",
       "</table>\n"
      ],
      "text/latex": [
       "\\begin{tabular}{r|lllllllllll}\n",
       " dateRep & day & month & year & cases & deaths & countriesAndTerritories & geoId & countryterritoryCode & popData2018 & continentExp\\\\\n",
       "\\hline\n",
       "\t 2020-06-15                     & 15                             & 6                              & 2020                           & 19543                          & 296                            & United\\_States\\_of\\_America & US                             & USA                            &  327167434                     & America                       \\\\\n",
       "\t 2020-06-15               & 15                       & 6                        & 2020                     & 17110                    & 612                      & Brazil                   & BR                       & BRA                      &  209469333               & America                 \\\\\n",
       "\t 2020-06-15               & 15                       & 6                        & 2020                     & 11502                    & 325                      & India                    & IN                       & IND                      & 1352617328               & Asia                    \\\\\n",
       "\t 2020-06-15               & 15                       & 6                        & 2020                     &  8835                    & 119                      & Russia                   & RU                       & RUS                      &  144478050               & Europe                  \\\\\n",
       "\t 2020-06-15               & 15                       & 6                        & 2020                     &  6938                    & 222                      & Chile                    & CL                       & CHL                      &   18729160               & America                 \\\\\n",
       "\t 2020-06-15               & 15                       & 6                        & 2020                     &  5248                    &  97                      & Pakistan                 & PK                       & PAK                      &  212215030               & Asia                    \\\\\n",
       "\t 2020-06-15               & 15                       & 6                        & 2020                     &  4604                    & 190                      & Peru                     & PE                       & PER                      &   31989256               & America                 \\\\\n",
       "\t 2020-06-15                 & 15                         & 6                          & 2020                       &  4302                      &  57                        & South\\_Africa             & ZA                         & ZAF                        &   57779622                 & Africa                    \\\\\n",
       "\t 2020-06-15                 & 15                         & 6                          & 2020                       &  4233                      &  40                        & Saudi\\_Arabia             & SA                         & SAU                        &   33699947                 & Asia                      \\\\\n",
       "\t 2020-06-15               & 15                       & 6                        & 2020                     &  4147                    & 269                      & Mexico                   & MX                       & MEX                      &  126190788               & America                 \\\\\n",
       "\t 2020-06-15               & 15                       & 6                        & 2020                     &  3141                    &  32                      & Bangladesh               & BD                       & BGD                      &  161356039               & Asia                    \\\\\n",
       "\t 2020-06-15               & 15                       & 6                        & 2020                     &  2472                    & 107                      & Iran                     & IR                       & IRN                      &   81800269               & Asia                    \\\\\n",
       "\t 2020-06-15               & 15                       & 6                        & 2020                     &  2193                    &  75                      & Colombia                 & CO                       & COL                      &   49648685               & America                 \\\\\n",
       "\t 2020-06-15               & 15                       & 6                        & 2020                     &  1618                    &  91                      & Egypt                    & EG                       & EGY                      &   98423595               & Africa                  \\\\\n",
       "\t 2020-06-15               & 15                       & 6                        & 2020                     &  1562                    &  15                      & Turkey                   & TR                       & TUR                      &   82319724               & Asia                    \\\\\n",
       "\t 2020-06-15                 & 15                         & 6                          & 2020                       &  1514                      &  36                        & United\\_Kingdom           & UK                         & GBR                        &   66488991                 & Europe                    \\\\\n",
       "\t 2020-06-15               & 15                       & 6                        & 2020                     &  1404                    &   5                      & Oman                     & OM                       & OMN                      &    4829483               & Asia                    \\\\\n",
       "\t 2020-06-15               & 15                       & 6                        & 2020                     &  1282                    &  18                      & Argentina                & AR                       & ARG                      &   44494502               & America                 \\\\\n",
       "\t 2020-06-15               & 15                       & 6                        & 2020                     &  1259                    &  58                      & Iraq                     & IQ                       & IRQ                      &   38433600               & Asia                    \\\\\n",
       "\t 2020-06-15               & 15                       & 6                        & 2020                     &  1186                    &   3                      & Qatar                    & QA                       & QAT                      &    2781677               & Asia                    \\\\\n",
       "\t 2020-06-15               & 15                       & 6                        & 2020                     &   857                    &  43                      & Indonesia                & ID                       & IDN                      &  267663435               & Asia                    \\\\\n",
       "\t 2020-06-15               & 15                       & 6                        & 2020                     &   732                    &   5                      & Belarus                  & BY                       & BLR                      &    9485386               & Europe                  \\\\\n",
       "\t 2020-06-15               & 15                       & 6                        & 2020                     &   683                    &   0                      & Sweden                   & SE                       & SWE                      &   10183175               & Europe                  \\\\\n",
       "\t 2020-06-15               & 15                       & 6                        & 2020                     &   664                    &  20                      & Afghanistan              & AF                       & AFG                      &   37172386               & Asia                    \\\\\n",
       "\t 2020-06-15               & 15                       & 6                        & 2020                     &   663                    &   5                      & Armenia                  & AM                       & ARM                      &    2951776               & Europe                  \\\\\n",
       "\t 2020-06-15               & 15                       & 6                        & 2020                     &   648                    &   9                      & Ukraine                  & UA                       & UKR                      &   44622516               & Europe                  \\\\\n",
       "\t 2020-06-15               & 15                       & 6                        & 2020                     &   627                    &   8                      & Panama                   & PA                       & PAN                      &    4176873               & America                 \\\\\n",
       "\t 2020-06-15               & 15                       & 6                        & 2020                     &   617                    &  26                      & Bolivia                  & BO                       & BOL                      &   11353142               & America                 \\\\\n",
       "\t 2020-06-15               & 15                       & 6                        & 2020                     &   542                    &   3                      & Ghana                    & GH                       & GHA                      &   29767108               & Africa                  \\\\\n",
       "\t 2020-06-15               & 15                       & 6                        & 2020                     &   538                    &  14                      & Philippines              & PH                       & PHL                      &  106651922               & Asia                    \\\\\n",
       "\t ... & ... & ... & ... & ... & ... & ... & ... & ... & ... & ...\\\\\n",
       "\t 2020-06-15                       & 15                               & 6                                & 2020                             & 0                                & 0                                & Lesotho                          & LS                               & LSO                              &  2108132                         & Africa                          \\\\\n",
       "\t 2020-06-15                       & 15                               & 6                                & 2020                             & 0                                & 0                                & Libya                            & LY                               & LBY                              &  6678567                         & Africa                          \\\\\n",
       "\t 2020-06-15                       & 15                               & 6                                & 2020                             & 0                                & 0                                & Liechtenstein                    & LI                               & LIE                              &    37910                         & Europe                          \\\\\n",
       "\t 2020-06-15                       & 15                               & 6                                & 2020                             & 0                                & 0                                & Malta                            & MT                               & MLT                              &   483530                         & Europe                          \\\\\n",
       "\t 2020-06-15                       & 15                               & 6                                & 2020                             & 0                                & 0                                & Mauritius                        & MU                               & MUS                              &  1265303                         & Africa                          \\\\\n",
       "\t 2020-06-15                       & 15                               & 6                                & 2020                             & 0                                & 0                                & Monaco                           & MC                               & MCO                              &    38682                         & Europe                          \\\\\n",
       "\t 2020-06-15                       & 15                               & 6                                & 2020                             & 0                                & 0                                & Mongolia                         & MN                               & MNG                              &  3170208                         & Asia                            \\\\\n",
       "\t 2020-06-15                       & 15                               & 6                                & 2020                             & 0                                & 0                                & Montserrat                       & MS                               & MSR                              &     5900                         & America                         \\\\\n",
       "\t 2020-06-15                       & 15                               & 6                                & 2020                             & 0                                & 0                                & Namibia                          & NA                               & NAM                              &  2448255                         & Africa                          \\\\\n",
       "\t 2020-06-15                         & 15                                 & 6                                  & 2020                               & 0                                  & 0                                  & New\\_Caledonia                    & NC                                 & NCL                                &   284060                           & Oceania                           \\\\\n",
       "\t 2020-06-15                         & 15                                 & 6                                  & 2020                               & 0                                  & 0                                  & New\\_Zealand                      & NZ                                 & NZL                                &  4885500                           & Oceania                           \\\\\n",
       "\t 2020-06-15                       & 15                               & 6                                & 2020                             & 0                                & 0                                & Nicaragua                        & NI                               & NIC                              &  6465513                         & America                         \\\\\n",
       "\t 2020-06-15                       & 15                               & 6                                & 2020                             & 0                                & 0                                & Niger                            & NE                               & NER                              & 22442948                         & Africa                          \\\\\n",
       "\t 2020-06-15                           & 15                                   & 6                                    & 2020                                 & 0                                    & 0                                    & Northern\\_Mariana\\_Islands         & MP                                   & MNP                                  &    56882                             & Oceania                             \\\\\n",
       "\t 2020-06-15                       & 15                               & 6                                & 2020                             & 0                                & 0                                & Norway                           & NO                               & NOR                              &  5314336                         & Europe                          \\\\\n",
       "\t 2020-06-15                       & 15                               & 6                                & 2020                             & 0                                & 0                                & Palestine                        & PS                               & PSE                              &  4569087                         & Asia                            \\\\\n",
       "\t 2020-06-15                           & 15                                   & 6                                    & 2020                                 & 0                                    & 0                                    & Papua\\_New\\_Guinea                 & PG                                   & PNG                                  &  8606316                             & Oceania                             \\\\\n",
       "\t 2020-06-15                             & 15                                     & 6                                      & 2020                                   & 0                                      & 0                                      & Saint\\_Kitts\\_and\\_Nevis            & KN                                     & KNA                                    &    52441                               & America                               \\\\\n",
       "\t 2020-06-15                         & 15                                 & 6                                  & 2020                               & 0                                  & 0                                  & Saint\\_Lucia                      & LC                                 & LCA                                &   181889                           & America                           \\\\\n",
       "\t 2020-06-15                               & 15                                       & 6                                        & 2020                                     & 0                                        & 0                                        & Saint\\_Vincent\\_and\\_the\\_Grenadines & VC                                       & VCT                                      &   110210                                 & America                                 \\\\\n",
       "\t 2020-06-15                         & 15                                 & 6                                  & 2020                               & 0                                  & 0                                  & San\\_Marino                       & SM                                 & SMR                                &    33785                           & Europe                            \\\\\n",
       "\t 2020-06-15                       & 15                               & 6                                & 2020                             & 0                                & 0                                & Seychelles                       & SC                               & SYC                              &    96762                         & Africa                          \\\\\n",
       "\t 2020-06-15                         & 15                                 & 6                                  & 2020                               & 0                                  & 0                                  & Sint\\_Maarten                     & SX                                 & SXM                                &    41486                           & America                           \\\\\n",
       "\t 2020-06-15                         & 15                                 & 6                                  & 2020                               & 0                                  & 0                                  & South\\_Sudan                      & SS                                 & SSD                                & 10975920                           & Africa                            \\\\\n",
       "\t 2020-06-15                       & 15                               & 6                                & 2020                             & 0                                & 0                                & Taiwan                           & TW                               & TWN                              & 23780452                         & Asia                            \\\\\n",
       "\t 2020-06-15                         & 15                                 & 6                                  & 2020                               & 0                                  & 0                                  & Timor\\_Leste                      & TL                                 & TLS                                &  1267972                           & Asia                              \\\\\n",
       "\t 2020-06-15                             & 15                                     & 6                                      & 2020                                   & 0                                      & 0                                      & Turks\\_and\\_Caicos\\_islands         & TC                                     & TCA                                    &    31458                               & America                               \\\\\n",
       "\t 2020-06-15                             & 15                                     & 6                                      & 2020                                   & 0                                      & 0                                      & United\\_Republic\\_of\\_Tanzania      & TZ                                     & TZA                                    & 56318348                               & Africa                                \\\\\n",
       "\t 2020-06-15                       & 15                               & 6                                & 2020                             & 0                                & 0                                & Vietnam                          & VN                               & VNM                              & 95540395                         & Asia                            \\\\\n",
       "\t 2020-06-15                         & 15                                 & 6                                  & 2020                               & 0                                  & 0                                  & Western\\_Sahara                   & EH                                 & NA                                 &       NA                           & Africa                            \\\\\n",
       "\\end{tabular}\n"
      ],
      "text/markdown": [
       "\n",
       "| dateRep | day | month | year | cases | deaths | countriesAndTerritories | geoId | countryterritoryCode | popData2018 | continentExp |\n",
       "|---|---|---|---|---|---|---|---|---|---|---|\n",
       "| 2020-06-15               | 15                       | 6                        | 2020                     | 19543                    | 296                      | United_States_of_America | US                       | USA                      |  327167434               | America                  |\n",
       "| 2020-06-15               | 15                       | 6                        | 2020                     | 17110                    | 612                      | Brazil                   | BR                       | BRA                      |  209469333               | America                  |\n",
       "| 2020-06-15               | 15                       | 6                        | 2020                     | 11502                    | 325                      | India                    | IN                       | IND                      | 1352617328               | Asia                     |\n",
       "| 2020-06-15               | 15                       | 6                        | 2020                     |  8835                    | 119                      | Russia                   | RU                       | RUS                      |  144478050               | Europe                   |\n",
       "| 2020-06-15               | 15                       | 6                        | 2020                     |  6938                    | 222                      | Chile                    | CL                       | CHL                      |   18729160               | America                  |\n",
       "| 2020-06-15               | 15                       | 6                        | 2020                     |  5248                    |  97                      | Pakistan                 | PK                       | PAK                      |  212215030               | Asia                     |\n",
       "| 2020-06-15               | 15                       | 6                        | 2020                     |  4604                    | 190                      | Peru                     | PE                       | PER                      |   31989256               | America                  |\n",
       "| 2020-06-15               | 15                       | 6                        | 2020                     |  4302                    |  57                      | South_Africa             | ZA                       | ZAF                      |   57779622               | Africa                   |\n",
       "| 2020-06-15               | 15                       | 6                        | 2020                     |  4233                    |  40                      | Saudi_Arabia             | SA                       | SAU                      |   33699947               | Asia                     |\n",
       "| 2020-06-15               | 15                       | 6                        | 2020                     |  4147                    | 269                      | Mexico                   | MX                       | MEX                      |  126190788               | America                  |\n",
       "| 2020-06-15               | 15                       | 6                        | 2020                     |  3141                    |  32                      | Bangladesh               | BD                       | BGD                      |  161356039               | Asia                     |\n",
       "| 2020-06-15               | 15                       | 6                        | 2020                     |  2472                    | 107                      | Iran                     | IR                       | IRN                      |   81800269               | Asia                     |\n",
       "| 2020-06-15               | 15                       | 6                        | 2020                     |  2193                    |  75                      | Colombia                 | CO                       | COL                      |   49648685               | America                  |\n",
       "| 2020-06-15               | 15                       | 6                        | 2020                     |  1618                    |  91                      | Egypt                    | EG                       | EGY                      |   98423595               | Africa                   |\n",
       "| 2020-06-15               | 15                       | 6                        | 2020                     |  1562                    |  15                      | Turkey                   | TR                       | TUR                      |   82319724               | Asia                     |\n",
       "| 2020-06-15               | 15                       | 6                        | 2020                     |  1514                    |  36                      | United_Kingdom           | UK                       | GBR                      |   66488991               | Europe                   |\n",
       "| 2020-06-15               | 15                       | 6                        | 2020                     |  1404                    |   5                      | Oman                     | OM                       | OMN                      |    4829483               | Asia                     |\n",
       "| 2020-06-15               | 15                       | 6                        | 2020                     |  1282                    |  18                      | Argentina                | AR                       | ARG                      |   44494502               | America                  |\n",
       "| 2020-06-15               | 15                       | 6                        | 2020                     |  1259                    |  58                      | Iraq                     | IQ                       | IRQ                      |   38433600               | Asia                     |\n",
       "| 2020-06-15               | 15                       | 6                        | 2020                     |  1186                    |   3                      | Qatar                    | QA                       | QAT                      |    2781677               | Asia                     |\n",
       "| 2020-06-15               | 15                       | 6                        | 2020                     |   857                    |  43                      | Indonesia                | ID                       | IDN                      |  267663435               | Asia                     |\n",
       "| 2020-06-15               | 15                       | 6                        | 2020                     |   732                    |   5                      | Belarus                  | BY                       | BLR                      |    9485386               | Europe                   |\n",
       "| 2020-06-15               | 15                       | 6                        | 2020                     |   683                    |   0                      | Sweden                   | SE                       | SWE                      |   10183175               | Europe                   |\n",
       "| 2020-06-15               | 15                       | 6                        | 2020                     |   664                    |  20                      | Afghanistan              | AF                       | AFG                      |   37172386               | Asia                     |\n",
       "| 2020-06-15               | 15                       | 6                        | 2020                     |   663                    |   5                      | Armenia                  | AM                       | ARM                      |    2951776               | Europe                   |\n",
       "| 2020-06-15               | 15                       | 6                        | 2020                     |   648                    |   9                      | Ukraine                  | UA                       | UKR                      |   44622516               | Europe                   |\n",
       "| 2020-06-15               | 15                       | 6                        | 2020                     |   627                    |   8                      | Panama                   | PA                       | PAN                      |    4176873               | America                  |\n",
       "| 2020-06-15               | 15                       | 6                        | 2020                     |   617                    |  26                      | Bolivia                  | BO                       | BOL                      |   11353142               | America                  |\n",
       "| 2020-06-15               | 15                       | 6                        | 2020                     |   542                    |   3                      | Ghana                    | GH                       | GHA                      |   29767108               | Africa                   |\n",
       "| 2020-06-15               | 15                       | 6                        | 2020                     |   538                    |  14                      | Philippines              | PH                       | PHL                      |  106651922               | Asia                     |\n",
       "| ... | ... | ... | ... | ... | ... | ... | ... | ... | ... | ... |\n",
       "| 2020-06-15                       | 15                               | 6                                | 2020                             | 0                                | 0                                | Lesotho                          | LS                               | LSO                              |  2108132                         | Africa                           |\n",
       "| 2020-06-15                       | 15                               | 6                                | 2020                             | 0                                | 0                                | Libya                            | LY                               | LBY                              |  6678567                         | Africa                           |\n",
       "| 2020-06-15                       | 15                               | 6                                | 2020                             | 0                                | 0                                | Liechtenstein                    | LI                               | LIE                              |    37910                         | Europe                           |\n",
       "| 2020-06-15                       | 15                               | 6                                | 2020                             | 0                                | 0                                | Malta                            | MT                               | MLT                              |   483530                         | Europe                           |\n",
       "| 2020-06-15                       | 15                               | 6                                | 2020                             | 0                                | 0                                | Mauritius                        | MU                               | MUS                              |  1265303                         | Africa                           |\n",
       "| 2020-06-15                       | 15                               | 6                                | 2020                             | 0                                | 0                                | Monaco                           | MC                               | MCO                              |    38682                         | Europe                           |\n",
       "| 2020-06-15                       | 15                               | 6                                | 2020                             | 0                                | 0                                | Mongolia                         | MN                               | MNG                              |  3170208                         | Asia                             |\n",
       "| 2020-06-15                       | 15                               | 6                                | 2020                             | 0                                | 0                                | Montserrat                       | MS                               | MSR                              |     5900                         | America                          |\n",
       "| 2020-06-15                       | 15                               | 6                                | 2020                             | 0                                | 0                                | Namibia                          | NA                               | NAM                              |  2448255                         | Africa                           |\n",
       "| 2020-06-15                       | 15                               | 6                                | 2020                             | 0                                | 0                                | New_Caledonia                    | NC                               | NCL                              |   284060                         | Oceania                          |\n",
       "| 2020-06-15                       | 15                               | 6                                | 2020                             | 0                                | 0                                | New_Zealand                      | NZ                               | NZL                              |  4885500                         | Oceania                          |\n",
       "| 2020-06-15                       | 15                               | 6                                | 2020                             | 0                                | 0                                | Nicaragua                        | NI                               | NIC                              |  6465513                         | America                          |\n",
       "| 2020-06-15                       | 15                               | 6                                | 2020                             | 0                                | 0                                | Niger                            | NE                               | NER                              | 22442948                         | Africa                           |\n",
       "| 2020-06-15                       | 15                               | 6                                | 2020                             | 0                                | 0                                | Northern_Mariana_Islands         | MP                               | MNP                              |    56882                         | Oceania                          |\n",
       "| 2020-06-15                       | 15                               | 6                                | 2020                             | 0                                | 0                                | Norway                           | NO                               | NOR                              |  5314336                         | Europe                           |\n",
       "| 2020-06-15                       | 15                               | 6                                | 2020                             | 0                                | 0                                | Palestine                        | PS                               | PSE                              |  4569087                         | Asia                             |\n",
       "| 2020-06-15                       | 15                               | 6                                | 2020                             | 0                                | 0                                | Papua_New_Guinea                 | PG                               | PNG                              |  8606316                         | Oceania                          |\n",
       "| 2020-06-15                       | 15                               | 6                                | 2020                             | 0                                | 0                                | Saint_Kitts_and_Nevis            | KN                               | KNA                              |    52441                         | America                          |\n",
       "| 2020-06-15                       | 15                               | 6                                | 2020                             | 0                                | 0                                | Saint_Lucia                      | LC                               | LCA                              |   181889                         | America                          |\n",
       "| 2020-06-15                       | 15                               | 6                                | 2020                             | 0                                | 0                                | Saint_Vincent_and_the_Grenadines | VC                               | VCT                              |   110210                         | America                          |\n",
       "| 2020-06-15                       | 15                               | 6                                | 2020                             | 0                                | 0                                | San_Marino                       | SM                               | SMR                              |    33785                         | Europe                           |\n",
       "| 2020-06-15                       | 15                               | 6                                | 2020                             | 0                                | 0                                | Seychelles                       | SC                               | SYC                              |    96762                         | Africa                           |\n",
       "| 2020-06-15                       | 15                               | 6                                | 2020                             | 0                                | 0                                | Sint_Maarten                     | SX                               | SXM                              |    41486                         | America                          |\n",
       "| 2020-06-15                       | 15                               | 6                                | 2020                             | 0                                | 0                                | South_Sudan                      | SS                               | SSD                              | 10975920                         | Africa                           |\n",
       "| 2020-06-15                       | 15                               | 6                                | 2020                             | 0                                | 0                                | Taiwan                           | TW                               | TWN                              | 23780452                         | Asia                             |\n",
       "| 2020-06-15                       | 15                               | 6                                | 2020                             | 0                                | 0                                | Timor_Leste                      | TL                               | TLS                              |  1267972                         | Asia                             |\n",
       "| 2020-06-15                       | 15                               | 6                                | 2020                             | 0                                | 0                                | Turks_and_Caicos_islands         | TC                               | TCA                              |    31458                         | America                          |\n",
       "| 2020-06-15                       | 15                               | 6                                | 2020                             | 0                                | 0                                | United_Republic_of_Tanzania      | TZ                               | TZA                              | 56318348                         | Africa                           |\n",
       "| 2020-06-15                       | 15                               | 6                                | 2020                             | 0                                | 0                                | Vietnam                          | VN                               | VNM                              | 95540395                         | Asia                             |\n",
       "| 2020-06-15                       | 15                               | 6                                | 2020                             | 0                                | 0                                | Western_Sahara                   | EH                               | NA                               |       NA                         | Africa                           |\n",
       "\n"
      ],
      "text/plain": [
       "    dateRep    day month year cases deaths countriesAndTerritories         \n",
       "1   2020-06-15 15  6     2020 19543 296    United_States_of_America        \n",
       "2   2020-06-15 15  6     2020 17110 612    Brazil                          \n",
       "3   2020-06-15 15  6     2020 11502 325    India                           \n",
       "4   2020-06-15 15  6     2020  8835 119    Russia                          \n",
       "5   2020-06-15 15  6     2020  6938 222    Chile                           \n",
       "6   2020-06-15 15  6     2020  5248  97    Pakistan                        \n",
       "7   2020-06-15 15  6     2020  4604 190    Peru                            \n",
       "8   2020-06-15 15  6     2020  4302  57    South_Africa                    \n",
       "9   2020-06-15 15  6     2020  4233  40    Saudi_Arabia                    \n",
       "10  2020-06-15 15  6     2020  4147 269    Mexico                          \n",
       "11  2020-06-15 15  6     2020  3141  32    Bangladesh                      \n",
       "12  2020-06-15 15  6     2020  2472 107    Iran                            \n",
       "13  2020-06-15 15  6     2020  2193  75    Colombia                        \n",
       "14  2020-06-15 15  6     2020  1618  91    Egypt                           \n",
       "15  2020-06-15 15  6     2020  1562  15    Turkey                          \n",
       "16  2020-06-15 15  6     2020  1514  36    United_Kingdom                  \n",
       "17  2020-06-15 15  6     2020  1404   5    Oman                            \n",
       "18  2020-06-15 15  6     2020  1282  18    Argentina                       \n",
       "19  2020-06-15 15  6     2020  1259  58    Iraq                            \n",
       "20  2020-06-15 15  6     2020  1186   3    Qatar                           \n",
       "21  2020-06-15 15  6     2020   857  43    Indonesia                       \n",
       "22  2020-06-15 15  6     2020   732   5    Belarus                         \n",
       "23  2020-06-15 15  6     2020   683   0    Sweden                          \n",
       "24  2020-06-15 15  6     2020   664  20    Afghanistan                     \n",
       "25  2020-06-15 15  6     2020   663   5    Armenia                         \n",
       "26  2020-06-15 15  6     2020   648   9    Ukraine                         \n",
       "27  2020-06-15 15  6     2020   627   8    Panama                          \n",
       "28  2020-06-15 15  6     2020   617  26    Bolivia                         \n",
       "29  2020-06-15 15  6     2020   542   3    Ghana                           \n",
       "30  2020-06-15 15  6     2020   538  14    Philippines                     \n",
       "... ...        ... ...   ...  ...   ...    ...                             \n",
       "179 2020-06-15 15  6     2020 0     0      Lesotho                         \n",
       "180 2020-06-15 15  6     2020 0     0      Libya                           \n",
       "181 2020-06-15 15  6     2020 0     0      Liechtenstein                   \n",
       "182 2020-06-15 15  6     2020 0     0      Malta                           \n",
       "183 2020-06-15 15  6     2020 0     0      Mauritius                       \n",
       "184 2020-06-15 15  6     2020 0     0      Monaco                          \n",
       "185 2020-06-15 15  6     2020 0     0      Mongolia                        \n",
       "186 2020-06-15 15  6     2020 0     0      Montserrat                      \n",
       "187 2020-06-15 15  6     2020 0     0      Namibia                         \n",
       "188 2020-06-15 15  6     2020 0     0      New_Caledonia                   \n",
       "189 2020-06-15 15  6     2020 0     0      New_Zealand                     \n",
       "190 2020-06-15 15  6     2020 0     0      Nicaragua                       \n",
       "191 2020-06-15 15  6     2020 0     0      Niger                           \n",
       "192 2020-06-15 15  6     2020 0     0      Northern_Mariana_Islands        \n",
       "193 2020-06-15 15  6     2020 0     0      Norway                          \n",
       "194 2020-06-15 15  6     2020 0     0      Palestine                       \n",
       "195 2020-06-15 15  6     2020 0     0      Papua_New_Guinea                \n",
       "196 2020-06-15 15  6     2020 0     0      Saint_Kitts_and_Nevis           \n",
       "197 2020-06-15 15  6     2020 0     0      Saint_Lucia                     \n",
       "198 2020-06-15 15  6     2020 0     0      Saint_Vincent_and_the_Grenadines\n",
       "199 2020-06-15 15  6     2020 0     0      San_Marino                      \n",
       "200 2020-06-15 15  6     2020 0     0      Seychelles                      \n",
       "201 2020-06-15 15  6     2020 0     0      Sint_Maarten                    \n",
       "202 2020-06-15 15  6     2020 0     0      South_Sudan                     \n",
       "203 2020-06-15 15  6     2020 0     0      Taiwan                          \n",
       "204 2020-06-15 15  6     2020 0     0      Timor_Leste                     \n",
       "205 2020-06-15 15  6     2020 0     0      Turks_and_Caicos_islands        \n",
       "206 2020-06-15 15  6     2020 0     0      United_Republic_of_Tanzania     \n",
       "207 2020-06-15 15  6     2020 0     0      Vietnam                         \n",
       "208 2020-06-15 15  6     2020 0     0      Western_Sahara                  \n",
       "    geoId countryterritoryCode popData2018 continentExp\n",
       "1   US    USA                   327167434  America     \n",
       "2   BR    BRA                   209469333  America     \n",
       "3   IN    IND                  1352617328  Asia        \n",
       "4   RU    RUS                   144478050  Europe      \n",
       "5   CL    CHL                    18729160  America     \n",
       "6   PK    PAK                   212215030  Asia        \n",
       "7   PE    PER                    31989256  America     \n",
       "8   ZA    ZAF                    57779622  Africa      \n",
       "9   SA    SAU                    33699947  Asia        \n",
       "10  MX    MEX                   126190788  America     \n",
       "11  BD    BGD                   161356039  Asia        \n",
       "12  IR    IRN                    81800269  Asia        \n",
       "13  CO    COL                    49648685  America     \n",
       "14  EG    EGY                    98423595  Africa      \n",
       "15  TR    TUR                    82319724  Asia        \n",
       "16  UK    GBR                    66488991  Europe      \n",
       "17  OM    OMN                     4829483  Asia        \n",
       "18  AR    ARG                    44494502  America     \n",
       "19  IQ    IRQ                    38433600  Asia        \n",
       "20  QA    QAT                     2781677  Asia        \n",
       "21  ID    IDN                   267663435  Asia        \n",
       "22  BY    BLR                     9485386  Europe      \n",
       "23  SE    SWE                    10183175  Europe      \n",
       "24  AF    AFG                    37172386  Asia        \n",
       "25  AM    ARM                     2951776  Europe      \n",
       "26  UA    UKR                    44622516  Europe      \n",
       "27  PA    PAN                     4176873  America     \n",
       "28  BO    BOL                    11353142  America     \n",
       "29  GH    GHA                    29767108  Africa      \n",
       "30  PH    PHL                   106651922  Asia        \n",
       "... ...   ...                  ...         ...         \n",
       "179 LS    LSO                   2108132    Africa      \n",
       "180 LY    LBY                   6678567    Africa      \n",
       "181 LI    LIE                     37910    Europe      \n",
       "182 MT    MLT                    483530    Europe      \n",
       "183 MU    MUS                   1265303    Africa      \n",
       "184 MC    MCO                     38682    Europe      \n",
       "185 MN    MNG                   3170208    Asia        \n",
       "186 MS    MSR                      5900    America     \n",
       "187 NA    NAM                   2448255    Africa      \n",
       "188 NC    NCL                    284060    Oceania     \n",
       "189 NZ    NZL                   4885500    Oceania     \n",
       "190 NI    NIC                   6465513    America     \n",
       "191 NE    NER                  22442948    Africa      \n",
       "192 MP    MNP                     56882    Oceania     \n",
       "193 NO    NOR                   5314336    Europe      \n",
       "194 PS    PSE                   4569087    Asia        \n",
       "195 PG    PNG                   8606316    Oceania     \n",
       "196 KN    KNA                     52441    America     \n",
       "197 LC    LCA                    181889    America     \n",
       "198 VC    VCT                    110210    America     \n",
       "199 SM    SMR                     33785    Europe      \n",
       "200 SC    SYC                     96762    Africa      \n",
       "201 SX    SXM                     41486    America     \n",
       "202 SS    SSD                  10975920    Africa      \n",
       "203 TW    TWN                  23780452    Asia        \n",
       "204 TL    TLS                   1267972    Asia        \n",
       "205 TC    TCA                     31458    America     \n",
       "206 TZ    TZA                  56318348    Africa      \n",
       "207 VN    VNM                  95540395    Asia        \n",
       "208 EH    NA                         NA    Africa      "
      ]
     },
     "metadata": {},
     "output_type": "display_data"
    }
   ],
   "source": [
    "cases <- last_covid[order(last_covid$cases, decreasing = TRUE), ]\n",
    "cases"
   ]
  },
  {
   "cell_type": "code",
   "execution_count": 16,
   "metadata": {},
   "outputs": [],
   "source": [
    "cases_200 <- cases[cases$cases >= 200, ]"
   ]
  },
  {
   "cell_type": "code",
   "execution_count": 17,
   "metadata": {},
   "outputs": [
    {
     "data": {
      "text/html": [
       "<table>\n",
       "<thead><tr><th scope=col>dateRep</th><th scope=col>day</th><th scope=col>month</th><th scope=col>year</th><th scope=col>cases</th><th scope=col>deaths</th><th scope=col>countriesAndTerritories</th><th scope=col>geoId</th><th scope=col>countryterritoryCode</th><th scope=col>popData2018</th><th scope=col>continentExp</th></tr></thead>\n",
       "<tbody>\n",
       "\t<tr><td>2020-06-15              </td><td>15                      </td><td>6                       </td><td>2020                    </td><td>19543                   </td><td>296                     </td><td>United_States_of_America</td><td>US                      </td><td>USA                     </td><td> 327167434              </td><td>America                 </td></tr>\n",
       "\t<tr><td>2020-06-15              </td><td>15                      </td><td>6                       </td><td>2020                    </td><td>17110                   </td><td>612                     </td><td>Brazil                  </td><td>BR                      </td><td>BRA                     </td><td> 209469333              </td><td>America                 </td></tr>\n",
       "\t<tr><td>2020-06-15              </td><td>15                      </td><td>6                       </td><td>2020                    </td><td>11502                   </td><td>325                     </td><td>India                   </td><td>IN                      </td><td>IND                     </td><td>1352617328              </td><td>Asia                    </td></tr>\n",
       "\t<tr><td>2020-06-15              </td><td>15                      </td><td>6                       </td><td>2020                    </td><td> 8835                   </td><td>119                     </td><td>Russia                  </td><td>RU                      </td><td>RUS                     </td><td> 144478050              </td><td>Europe                  </td></tr>\n",
       "\t<tr><td>2020-06-15              </td><td>15                      </td><td>6                       </td><td>2020                    </td><td> 6938                   </td><td>222                     </td><td>Chile                   </td><td>CL                      </td><td>CHL                     </td><td>  18729160              </td><td>America                 </td></tr>\n",
       "\t<tr><td>2020-06-15              </td><td>15                      </td><td>6                       </td><td>2020                    </td><td> 5248                   </td><td> 97                     </td><td>Pakistan                </td><td>PK                      </td><td>PAK                     </td><td> 212215030              </td><td>Asia                    </td></tr>\n",
       "\t<tr><td>2020-06-15              </td><td>15                      </td><td>6                       </td><td>2020                    </td><td> 4604                   </td><td>190                     </td><td>Peru                    </td><td>PE                      </td><td>PER                     </td><td>  31989256              </td><td>America                 </td></tr>\n",
       "\t<tr><td>2020-06-15              </td><td>15                      </td><td>6                       </td><td>2020                    </td><td> 4302                   </td><td> 57                     </td><td>South_Africa            </td><td>ZA                      </td><td>ZAF                     </td><td>  57779622              </td><td>Africa                  </td></tr>\n",
       "\t<tr><td>2020-06-15              </td><td>15                      </td><td>6                       </td><td>2020                    </td><td> 4233                   </td><td> 40                     </td><td>Saudi_Arabia            </td><td>SA                      </td><td>SAU                     </td><td>  33699947              </td><td>Asia                    </td></tr>\n",
       "\t<tr><td>2020-06-15              </td><td>15                      </td><td>6                       </td><td>2020                    </td><td> 4147                   </td><td>269                     </td><td>Mexico                  </td><td>MX                      </td><td>MEX                     </td><td> 126190788              </td><td>America                 </td></tr>\n",
       "\t<tr><td>2020-06-15              </td><td>15                      </td><td>6                       </td><td>2020                    </td><td> 3141                   </td><td> 32                     </td><td>Bangladesh              </td><td>BD                      </td><td>BGD                     </td><td> 161356039              </td><td>Asia                    </td></tr>\n",
       "\t<tr><td>2020-06-15              </td><td>15                      </td><td>6                       </td><td>2020                    </td><td> 2472                   </td><td>107                     </td><td>Iran                    </td><td>IR                      </td><td>IRN                     </td><td>  81800269              </td><td>Asia                    </td></tr>\n",
       "\t<tr><td>2020-06-15              </td><td>15                      </td><td>6                       </td><td>2020                    </td><td> 2193                   </td><td> 75                     </td><td>Colombia                </td><td>CO                      </td><td>COL                     </td><td>  49648685              </td><td>America                 </td></tr>\n",
       "\t<tr><td>2020-06-15              </td><td>15                      </td><td>6                       </td><td>2020                    </td><td> 1618                   </td><td> 91                     </td><td>Egypt                   </td><td>EG                      </td><td>EGY                     </td><td>  98423595              </td><td>Africa                  </td></tr>\n",
       "\t<tr><td>2020-06-15              </td><td>15                      </td><td>6                       </td><td>2020                    </td><td> 1562                   </td><td> 15                     </td><td>Turkey                  </td><td>TR                      </td><td>TUR                     </td><td>  82319724              </td><td>Asia                    </td></tr>\n",
       "\t<tr><td>2020-06-15              </td><td>15                      </td><td>6                       </td><td>2020                    </td><td> 1514                   </td><td> 36                     </td><td>United_Kingdom          </td><td>UK                      </td><td>GBR                     </td><td>  66488991              </td><td>Europe                  </td></tr>\n",
       "\t<tr><td>2020-06-15              </td><td>15                      </td><td>6                       </td><td>2020                    </td><td> 1404                   </td><td>  5                     </td><td>Oman                    </td><td>OM                      </td><td>OMN                     </td><td>   4829483              </td><td>Asia                    </td></tr>\n",
       "\t<tr><td>2020-06-15              </td><td>15                      </td><td>6                       </td><td>2020                    </td><td> 1282                   </td><td> 18                     </td><td>Argentina               </td><td>AR                      </td><td>ARG                     </td><td>  44494502              </td><td>America                 </td></tr>\n",
       "\t<tr><td>2020-06-15              </td><td>15                      </td><td>6                       </td><td>2020                    </td><td> 1259                   </td><td> 58                     </td><td>Iraq                    </td><td>IQ                      </td><td>IRQ                     </td><td>  38433600              </td><td>Asia                    </td></tr>\n",
       "\t<tr><td>2020-06-15              </td><td>15                      </td><td>6                       </td><td>2020                    </td><td> 1186                   </td><td>  3                     </td><td>Qatar                   </td><td>QA                      </td><td>QAT                     </td><td>   2781677              </td><td>Asia                    </td></tr>\n",
       "\t<tr><td>2020-06-15              </td><td>15                      </td><td>6                       </td><td>2020                    </td><td>  857                   </td><td> 43                     </td><td>Indonesia               </td><td>ID                      </td><td>IDN                     </td><td> 267663435              </td><td>Asia                    </td></tr>\n",
       "\t<tr><td>2020-06-15              </td><td>15                      </td><td>6                       </td><td>2020                    </td><td>  732                   </td><td>  5                     </td><td>Belarus                 </td><td>BY                      </td><td>BLR                     </td><td>   9485386              </td><td>Europe                  </td></tr>\n",
       "\t<tr><td>2020-06-15              </td><td>15                      </td><td>6                       </td><td>2020                    </td><td>  683                   </td><td>  0                     </td><td>Sweden                  </td><td>SE                      </td><td>SWE                     </td><td>  10183175              </td><td>Europe                  </td></tr>\n",
       "\t<tr><td>2020-06-15              </td><td>15                      </td><td>6                       </td><td>2020                    </td><td>  664                   </td><td> 20                     </td><td>Afghanistan             </td><td>AF                      </td><td>AFG                     </td><td>  37172386              </td><td>Asia                    </td></tr>\n",
       "\t<tr><td>2020-06-15              </td><td>15                      </td><td>6                       </td><td>2020                    </td><td>  663                   </td><td>  5                     </td><td>Armenia                 </td><td>AM                      </td><td>ARM                     </td><td>   2951776              </td><td>Europe                  </td></tr>\n",
       "\t<tr><td>2020-06-15              </td><td>15                      </td><td>6                       </td><td>2020                    </td><td>  648                   </td><td>  9                     </td><td>Ukraine                 </td><td>UA                      </td><td>UKR                     </td><td>  44622516              </td><td>Europe                  </td></tr>\n",
       "\t<tr><td>2020-06-15              </td><td>15                      </td><td>6                       </td><td>2020                    </td><td>  627                   </td><td>  8                     </td><td>Panama                  </td><td>PA                      </td><td>PAN                     </td><td>   4176873              </td><td>America                 </td></tr>\n",
       "\t<tr><td>2020-06-15              </td><td>15                      </td><td>6                       </td><td>2020                    </td><td>  617                   </td><td> 26                     </td><td>Bolivia                 </td><td>BO                      </td><td>BOL                     </td><td>  11353142              </td><td>America                 </td></tr>\n",
       "\t<tr><td>2020-06-15              </td><td>15                      </td><td>6                       </td><td>2020                    </td><td>  542                   </td><td>  3                     </td><td>Ghana                   </td><td>GH                      </td><td>GHA                     </td><td>  29767108              </td><td>Africa                  </td></tr>\n",
       "\t<tr><td>2020-06-15              </td><td>15                      </td><td>6                       </td><td>2020                    </td><td>  538                   </td><td> 14                     </td><td>Philippines             </td><td>PH                      </td><td>PHL                     </td><td> 106651922              </td><td>Asia                    </td></tr>\n",
       "\t<tr><td>2020-06-15              </td><td>15                      </td><td>6                       </td><td>2020                    </td><td>  454                   </td><td>  7                     </td><td>Kuwait                  </td><td>KW                      </td><td>KWT                     </td><td>   4137309              </td><td>Asia                    </td></tr>\n",
       "\t<tr><td>2020-06-15              </td><td>15                      </td><td>6                       </td><td>2020                    </td><td>  425                   </td><td>  1                     </td><td>Nepal                   </td><td>NP                      </td><td>NPL                     </td><td>  28087871              </td><td>Asia                    </td></tr>\n",
       "\t<tr><td>2020-06-15              </td><td>15                      </td><td>6                       </td><td>2020                    </td><td>  407                   </td><td>  9                     </td><td>France                  </td><td>FR                      </td><td>FRA                     </td><td>  66987244              </td><td>Europe                  </td></tr>\n",
       "\t<tr><td>2020-06-15              </td><td>15                      </td><td>6                       </td><td>2020                    </td><td>  407                   </td><td>  0                     </td><td>Singapore               </td><td>SG                      </td><td>SGP                     </td><td>   5638676              </td><td>Asia                    </td></tr>\n",
       "\t<tr><td>2020-06-15              </td><td>15                      </td><td>6                       </td><td>2020                    </td><td>  403                   </td><td>  2                     </td><td>Honduras                </td><td>HN                      </td><td>HND                     </td><td>   9587522              </td><td>America                 </td></tr>\n",
       "\t<tr><td>2020-06-15              </td><td>15                      </td><td>6                       </td><td>2020                    </td><td>  403                   </td><td> 13                     </td><td>Nigeria                 </td><td>NG                      </td><td>NGA                     </td><td> 195874740              </td><td>Africa                  </td></tr>\n",
       "\t<tr><td>2020-06-15              </td><td>15                      </td><td>6                       </td><td>2020                    </td><td>  395                   </td><td> 22                     </td><td>Ecuador                 </td><td>EC                      </td><td>ECU                     </td><td>  17084357              </td><td>America                 </td></tr>\n",
       "\t<tr><td>2020-06-15              </td><td>15                      </td><td>6                       </td><td>2020                    </td><td>  394                   </td><td>  1                     </td><td>United_Arab_Emirates    </td><td>AE                      </td><td>ARE                     </td><td>   9630959              </td><td>Asia                    </td></tr>\n",
       "\t<tr><td>2020-06-15              </td><td>15                      </td><td>6                       </td><td>2020                    </td><td>  390                   </td><td> 15                     </td><td>Dominican_Republic      </td><td>DO                      </td><td>DOM                     </td><td>  10627165              </td><td>America                 </td></tr>\n",
       "\t<tr><td>2020-06-15              </td><td>15                      </td><td>6                       </td><td>2020                    </td><td>  387                   </td><td>  4                     </td><td>Azerbaijan              </td><td>AZ                      </td><td>AZE                     </td><td>   9942334              </td><td>Europe                  </td></tr>\n",
       "\t<tr><td>2020-06-15              </td><td>15                      </td><td>6                       </td><td>2020                    </td><td>  377                   </td><td> 39                     </td><td>Canada                  </td><td>CA                      </td><td>CAN                     </td><td>  37058856              </td><td>America                 </td></tr>\n",
       "\t<tr><td>2020-06-15              </td><td>15                      </td><td>6                       </td><td>2020                    </td><td>  375                   </td><td> 10                     </td><td>Poland                  </td><td>PL                      </td><td>POL                     </td><td>  37978548              </td><td>Europe                  </td></tr>\n",
       "\t<tr><td>2020-06-15              </td><td>15                      </td><td>6                       </td><td>2020                    </td><td>  354                   </td><td> 17                     </td><td>Guatemala               </td><td>GT                      </td><td>GTM                     </td><td>  17247807              </td><td>America                 </td></tr>\n",
       "\t<tr><td>2020-06-15              </td><td>15                      </td><td>6                       </td><td>2020                    </td><td>  344                   </td><td> 13                     </td><td>Mauritania              </td><td>MR                      </td><td>MRT                     </td><td>   4403319              </td><td>Africa                  </td></tr>\n",
       "\t<tr><td>2020-06-15              </td><td>15                      </td><td>6                       </td><td>2020                    </td><td>  341                   </td><td> 26                     </td><td>Sudan                   </td><td>SD                      </td><td>SDN                     </td><td>  41801533              </td><td>Africa                  </td></tr>\n",
       "\t<tr><td>2020-06-15              </td><td>15                      </td><td>6                       </td><td>2020                    </td><td>  338                   </td><td> 44                     </td><td>Italy                   </td><td>IT                      </td><td>ITA                     </td><td>  60431283              </td><td>Europe                  </td></tr>\n",
       "\t<tr><td>2020-06-15              </td><td>15                      </td><td>6                       </td><td>2020                    </td><td>  320                   </td><td> 19                     </td><td>Romania                 </td><td>RO                      </td><td>ROU                     </td><td>  19473936              </td><td>Europe                  </td></tr>\n",
       "\t<tr><td>2020-06-15              </td><td>15                      </td><td>6                       </td><td>2020                    </td><td>  313                   </td><td>  4                     </td><td>Kazakhstan              </td><td>KZ                      </td><td>KAZ                     </td><td>  18276499              </td><td>Asia                    </td></tr>\n",
       "\t<tr><td>2020-06-15              </td><td>15                      </td><td>6                       </td><td>2020                    </td><td>  292                   </td><td>  1                     </td><td>Cameroon                </td><td>CM                      </td><td>CMR                     </td><td>  25216237              </td><td>Africa                  </td></tr>\n",
       "\t<tr><td>2020-06-15              </td><td>15                      </td><td>6                       </td><td>2020                    </td><td>  281                   </td><td>  8                     </td><td>Moldova                 </td><td>MD                      </td><td>MDA                     </td><td>   3545883              </td><td>Europe                  </td></tr>\n",
       "\t<tr><td>2020-06-15              </td><td>15                      </td><td>6                       </td><td>2020                    </td><td>  236                   </td><td>  0                     </td><td>Cote_dIvoire            </td><td>CI                      </td><td>CIV                     </td><td>  25069229              </td><td>Africa                  </td></tr>\n",
       "\t<tr><td>2020-06-15              </td><td>15                      </td><td>6                       </td><td>2020                    </td><td>  227                   </td><td>  5                     </td><td>Portugal                </td><td>PT                      </td><td>PRT                     </td><td>  10281762              </td><td>Europe                  </td></tr>\n",
       "</tbody>\n",
       "</table>\n"
      ],
      "text/latex": [
       "\\begin{tabular}{r|lllllllllll}\n",
       " dateRep & day & month & year & cases & deaths & countriesAndTerritories & geoId & countryterritoryCode & popData2018 & continentExp\\\\\n",
       "\\hline\n",
       "\t 2020-06-15                     & 15                             & 6                              & 2020                           & 19543                          & 296                            & United\\_States\\_of\\_America & US                             & USA                            &  327167434                     & America                       \\\\\n",
       "\t 2020-06-15               & 15                       & 6                        & 2020                     & 17110                    & 612                      & Brazil                   & BR                       & BRA                      &  209469333               & America                 \\\\\n",
       "\t 2020-06-15               & 15                       & 6                        & 2020                     & 11502                    & 325                      & India                    & IN                       & IND                      & 1352617328               & Asia                    \\\\\n",
       "\t 2020-06-15               & 15                       & 6                        & 2020                     &  8835                    & 119                      & Russia                   & RU                       & RUS                      &  144478050               & Europe                  \\\\\n",
       "\t 2020-06-15               & 15                       & 6                        & 2020                     &  6938                    & 222                      & Chile                    & CL                       & CHL                      &   18729160               & America                 \\\\\n",
       "\t 2020-06-15               & 15                       & 6                        & 2020                     &  5248                    &  97                      & Pakistan                 & PK                       & PAK                      &  212215030               & Asia                    \\\\\n",
       "\t 2020-06-15               & 15                       & 6                        & 2020                     &  4604                    & 190                      & Peru                     & PE                       & PER                      &   31989256               & America                 \\\\\n",
       "\t 2020-06-15                 & 15                         & 6                          & 2020                       &  4302                      &  57                        & South\\_Africa             & ZA                         & ZAF                        &   57779622                 & Africa                    \\\\\n",
       "\t 2020-06-15                 & 15                         & 6                          & 2020                       &  4233                      &  40                        & Saudi\\_Arabia             & SA                         & SAU                        &   33699947                 & Asia                      \\\\\n",
       "\t 2020-06-15               & 15                       & 6                        & 2020                     &  4147                    & 269                      & Mexico                   & MX                       & MEX                      &  126190788               & America                 \\\\\n",
       "\t 2020-06-15               & 15                       & 6                        & 2020                     &  3141                    &  32                      & Bangladesh               & BD                       & BGD                      &  161356039               & Asia                    \\\\\n",
       "\t 2020-06-15               & 15                       & 6                        & 2020                     &  2472                    & 107                      & Iran                     & IR                       & IRN                      &   81800269               & Asia                    \\\\\n",
       "\t 2020-06-15               & 15                       & 6                        & 2020                     &  2193                    &  75                      & Colombia                 & CO                       & COL                      &   49648685               & America                 \\\\\n",
       "\t 2020-06-15               & 15                       & 6                        & 2020                     &  1618                    &  91                      & Egypt                    & EG                       & EGY                      &   98423595               & Africa                  \\\\\n",
       "\t 2020-06-15               & 15                       & 6                        & 2020                     &  1562                    &  15                      & Turkey                   & TR                       & TUR                      &   82319724               & Asia                    \\\\\n",
       "\t 2020-06-15                 & 15                         & 6                          & 2020                       &  1514                      &  36                        & United\\_Kingdom           & UK                         & GBR                        &   66488991                 & Europe                    \\\\\n",
       "\t 2020-06-15               & 15                       & 6                        & 2020                     &  1404                    &   5                      & Oman                     & OM                       & OMN                      &    4829483               & Asia                    \\\\\n",
       "\t 2020-06-15               & 15                       & 6                        & 2020                     &  1282                    &  18                      & Argentina                & AR                       & ARG                      &   44494502               & America                 \\\\\n",
       "\t 2020-06-15               & 15                       & 6                        & 2020                     &  1259                    &  58                      & Iraq                     & IQ                       & IRQ                      &   38433600               & Asia                    \\\\\n",
       "\t 2020-06-15               & 15                       & 6                        & 2020                     &  1186                    &   3                      & Qatar                    & QA                       & QAT                      &    2781677               & Asia                    \\\\\n",
       "\t 2020-06-15               & 15                       & 6                        & 2020                     &   857                    &  43                      & Indonesia                & ID                       & IDN                      &  267663435               & Asia                    \\\\\n",
       "\t 2020-06-15               & 15                       & 6                        & 2020                     &   732                    &   5                      & Belarus                  & BY                       & BLR                      &    9485386               & Europe                  \\\\\n",
       "\t 2020-06-15               & 15                       & 6                        & 2020                     &   683                    &   0                      & Sweden                   & SE                       & SWE                      &   10183175               & Europe                  \\\\\n",
       "\t 2020-06-15               & 15                       & 6                        & 2020                     &   664                    &  20                      & Afghanistan              & AF                       & AFG                      &   37172386               & Asia                    \\\\\n",
       "\t 2020-06-15               & 15                       & 6                        & 2020                     &   663                    &   5                      & Armenia                  & AM                       & ARM                      &    2951776               & Europe                  \\\\\n",
       "\t 2020-06-15               & 15                       & 6                        & 2020                     &   648                    &   9                      & Ukraine                  & UA                       & UKR                      &   44622516               & Europe                  \\\\\n",
       "\t 2020-06-15               & 15                       & 6                        & 2020                     &   627                    &   8                      & Panama                   & PA                       & PAN                      &    4176873               & America                 \\\\\n",
       "\t 2020-06-15               & 15                       & 6                        & 2020                     &   617                    &  26                      & Bolivia                  & BO                       & BOL                      &   11353142               & America                 \\\\\n",
       "\t 2020-06-15               & 15                       & 6                        & 2020                     &   542                    &   3                      & Ghana                    & GH                       & GHA                      &   29767108               & Africa                  \\\\\n",
       "\t 2020-06-15               & 15                       & 6                        & 2020                     &   538                    &  14                      & Philippines              & PH                       & PHL                      &  106651922               & Asia                    \\\\\n",
       "\t 2020-06-15               & 15                       & 6                        & 2020                     &   454                    &   7                      & Kuwait                   & KW                       & KWT                      &    4137309               & Asia                    \\\\\n",
       "\t 2020-06-15               & 15                       & 6                        & 2020                     &   425                    &   1                      & Nepal                    & NP                       & NPL                      &   28087871               & Asia                    \\\\\n",
       "\t 2020-06-15               & 15                       & 6                        & 2020                     &   407                    &   9                      & France                   & FR                       & FRA                      &   66987244               & Europe                  \\\\\n",
       "\t 2020-06-15               & 15                       & 6                        & 2020                     &   407                    &   0                      & Singapore                & SG                       & SGP                      &    5638676               & Asia                    \\\\\n",
       "\t 2020-06-15               & 15                       & 6                        & 2020                     &   403                    &   2                      & Honduras                 & HN                       & HND                      &    9587522               & America                 \\\\\n",
       "\t 2020-06-15               & 15                       & 6                        & 2020                     &   403                    &  13                      & Nigeria                  & NG                       & NGA                      &  195874740               & Africa                  \\\\\n",
       "\t 2020-06-15               & 15                       & 6                        & 2020                     &   395                    &  22                      & Ecuador                  & EC                       & ECU                      &   17084357               & America                 \\\\\n",
       "\t 2020-06-15                   & 15                           & 6                            & 2020                         &   394                        &   1                          & United\\_Arab\\_Emirates     & AE                           & ARE                          &    9630959                   & Asia                        \\\\\n",
       "\t 2020-06-15                 & 15                         & 6                          & 2020                       &   390                      &  15                        & Dominican\\_Republic       & DO                         & DOM                        &   10627165                 & America                   \\\\\n",
       "\t 2020-06-15               & 15                       & 6                        & 2020                     &   387                    &   4                      & Azerbaijan               & AZ                       & AZE                      &    9942334               & Europe                  \\\\\n",
       "\t 2020-06-15               & 15                       & 6                        & 2020                     &   377                    &  39                      & Canada                   & CA                       & CAN                      &   37058856               & America                 \\\\\n",
       "\t 2020-06-15               & 15                       & 6                        & 2020                     &   375                    &  10                      & Poland                   & PL                       & POL                      &   37978548               & Europe                  \\\\\n",
       "\t 2020-06-15               & 15                       & 6                        & 2020                     &   354                    &  17                      & Guatemala                & GT                       & GTM                      &   17247807               & America                 \\\\\n",
       "\t 2020-06-15               & 15                       & 6                        & 2020                     &   344                    &  13                      & Mauritania               & MR                       & MRT                      &    4403319               & Africa                  \\\\\n",
       "\t 2020-06-15               & 15                       & 6                        & 2020                     &   341                    &  26                      & Sudan                    & SD                       & SDN                      &   41801533               & Africa                  \\\\\n",
       "\t 2020-06-15               & 15                       & 6                        & 2020                     &   338                    &  44                      & Italy                    & IT                       & ITA                      &   60431283               & Europe                  \\\\\n",
       "\t 2020-06-15               & 15                       & 6                        & 2020                     &   320                    &  19                      & Romania                  & RO                       & ROU                      &   19473936               & Europe                  \\\\\n",
       "\t 2020-06-15               & 15                       & 6                        & 2020                     &   313                    &   4                      & Kazakhstan               & KZ                       & KAZ                      &   18276499               & Asia                    \\\\\n",
       "\t 2020-06-15               & 15                       & 6                        & 2020                     &   292                    &   1                      & Cameroon                 & CM                       & CMR                      &   25216237               & Africa                  \\\\\n",
       "\t 2020-06-15               & 15                       & 6                        & 2020                     &   281                    &   8                      & Moldova                  & MD                       & MDA                      &    3545883               & Europe                  \\\\\n",
       "\t 2020-06-15                 & 15                         & 6                          & 2020                       &   236                      &   0                        & Cote\\_dIvoire             & CI                         & CIV                        &   25069229                 & Africa                    \\\\\n",
       "\t 2020-06-15               & 15                       & 6                        & 2020                     &   227                    &   5                      & Portugal                 & PT                       & PRT                      &   10281762               & Europe                  \\\\\n",
       "\\end{tabular}\n"
      ],
      "text/markdown": [
       "\n",
       "| dateRep | day | month | year | cases | deaths | countriesAndTerritories | geoId | countryterritoryCode | popData2018 | continentExp |\n",
       "|---|---|---|---|---|---|---|---|---|---|---|\n",
       "| 2020-06-15               | 15                       | 6                        | 2020                     | 19543                    | 296                      | United_States_of_America | US                       | USA                      |  327167434               | America                  |\n",
       "| 2020-06-15               | 15                       | 6                        | 2020                     | 17110                    | 612                      | Brazil                   | BR                       | BRA                      |  209469333               | America                  |\n",
       "| 2020-06-15               | 15                       | 6                        | 2020                     | 11502                    | 325                      | India                    | IN                       | IND                      | 1352617328               | Asia                     |\n",
       "| 2020-06-15               | 15                       | 6                        | 2020                     |  8835                    | 119                      | Russia                   | RU                       | RUS                      |  144478050               | Europe                   |\n",
       "| 2020-06-15               | 15                       | 6                        | 2020                     |  6938                    | 222                      | Chile                    | CL                       | CHL                      |   18729160               | America                  |\n",
       "| 2020-06-15               | 15                       | 6                        | 2020                     |  5248                    |  97                      | Pakistan                 | PK                       | PAK                      |  212215030               | Asia                     |\n",
       "| 2020-06-15               | 15                       | 6                        | 2020                     |  4604                    | 190                      | Peru                     | PE                       | PER                      |   31989256               | America                  |\n",
       "| 2020-06-15               | 15                       | 6                        | 2020                     |  4302                    |  57                      | South_Africa             | ZA                       | ZAF                      |   57779622               | Africa                   |\n",
       "| 2020-06-15               | 15                       | 6                        | 2020                     |  4233                    |  40                      | Saudi_Arabia             | SA                       | SAU                      |   33699947               | Asia                     |\n",
       "| 2020-06-15               | 15                       | 6                        | 2020                     |  4147                    | 269                      | Mexico                   | MX                       | MEX                      |  126190788               | America                  |\n",
       "| 2020-06-15               | 15                       | 6                        | 2020                     |  3141                    |  32                      | Bangladesh               | BD                       | BGD                      |  161356039               | Asia                     |\n",
       "| 2020-06-15               | 15                       | 6                        | 2020                     |  2472                    | 107                      | Iran                     | IR                       | IRN                      |   81800269               | Asia                     |\n",
       "| 2020-06-15               | 15                       | 6                        | 2020                     |  2193                    |  75                      | Colombia                 | CO                       | COL                      |   49648685               | America                  |\n",
       "| 2020-06-15               | 15                       | 6                        | 2020                     |  1618                    |  91                      | Egypt                    | EG                       | EGY                      |   98423595               | Africa                   |\n",
       "| 2020-06-15               | 15                       | 6                        | 2020                     |  1562                    |  15                      | Turkey                   | TR                       | TUR                      |   82319724               | Asia                     |\n",
       "| 2020-06-15               | 15                       | 6                        | 2020                     |  1514                    |  36                      | United_Kingdom           | UK                       | GBR                      |   66488991               | Europe                   |\n",
       "| 2020-06-15               | 15                       | 6                        | 2020                     |  1404                    |   5                      | Oman                     | OM                       | OMN                      |    4829483               | Asia                     |\n",
       "| 2020-06-15               | 15                       | 6                        | 2020                     |  1282                    |  18                      | Argentina                | AR                       | ARG                      |   44494502               | America                  |\n",
       "| 2020-06-15               | 15                       | 6                        | 2020                     |  1259                    |  58                      | Iraq                     | IQ                       | IRQ                      |   38433600               | Asia                     |\n",
       "| 2020-06-15               | 15                       | 6                        | 2020                     |  1186                    |   3                      | Qatar                    | QA                       | QAT                      |    2781677               | Asia                     |\n",
       "| 2020-06-15               | 15                       | 6                        | 2020                     |   857                    |  43                      | Indonesia                | ID                       | IDN                      |  267663435               | Asia                     |\n",
       "| 2020-06-15               | 15                       | 6                        | 2020                     |   732                    |   5                      | Belarus                  | BY                       | BLR                      |    9485386               | Europe                   |\n",
       "| 2020-06-15               | 15                       | 6                        | 2020                     |   683                    |   0                      | Sweden                   | SE                       | SWE                      |   10183175               | Europe                   |\n",
       "| 2020-06-15               | 15                       | 6                        | 2020                     |   664                    |  20                      | Afghanistan              | AF                       | AFG                      |   37172386               | Asia                     |\n",
       "| 2020-06-15               | 15                       | 6                        | 2020                     |   663                    |   5                      | Armenia                  | AM                       | ARM                      |    2951776               | Europe                   |\n",
       "| 2020-06-15               | 15                       | 6                        | 2020                     |   648                    |   9                      | Ukraine                  | UA                       | UKR                      |   44622516               | Europe                   |\n",
       "| 2020-06-15               | 15                       | 6                        | 2020                     |   627                    |   8                      | Panama                   | PA                       | PAN                      |    4176873               | America                  |\n",
       "| 2020-06-15               | 15                       | 6                        | 2020                     |   617                    |  26                      | Bolivia                  | BO                       | BOL                      |   11353142               | America                  |\n",
       "| 2020-06-15               | 15                       | 6                        | 2020                     |   542                    |   3                      | Ghana                    | GH                       | GHA                      |   29767108               | Africa                   |\n",
       "| 2020-06-15               | 15                       | 6                        | 2020                     |   538                    |  14                      | Philippines              | PH                       | PHL                      |  106651922               | Asia                     |\n",
       "| 2020-06-15               | 15                       | 6                        | 2020                     |   454                    |   7                      | Kuwait                   | KW                       | KWT                      |    4137309               | Asia                     |\n",
       "| 2020-06-15               | 15                       | 6                        | 2020                     |   425                    |   1                      | Nepal                    | NP                       | NPL                      |   28087871               | Asia                     |\n",
       "| 2020-06-15               | 15                       | 6                        | 2020                     |   407                    |   9                      | France                   | FR                       | FRA                      |   66987244               | Europe                   |\n",
       "| 2020-06-15               | 15                       | 6                        | 2020                     |   407                    |   0                      | Singapore                | SG                       | SGP                      |    5638676               | Asia                     |\n",
       "| 2020-06-15               | 15                       | 6                        | 2020                     |   403                    |   2                      | Honduras                 | HN                       | HND                      |    9587522               | America                  |\n",
       "| 2020-06-15               | 15                       | 6                        | 2020                     |   403                    |  13                      | Nigeria                  | NG                       | NGA                      |  195874740               | Africa                   |\n",
       "| 2020-06-15               | 15                       | 6                        | 2020                     |   395                    |  22                      | Ecuador                  | EC                       | ECU                      |   17084357               | America                  |\n",
       "| 2020-06-15               | 15                       | 6                        | 2020                     |   394                    |   1                      | United_Arab_Emirates     | AE                       | ARE                      |    9630959               | Asia                     |\n",
       "| 2020-06-15               | 15                       | 6                        | 2020                     |   390                    |  15                      | Dominican_Republic       | DO                       | DOM                      |   10627165               | America                  |\n",
       "| 2020-06-15               | 15                       | 6                        | 2020                     |   387                    |   4                      | Azerbaijan               | AZ                       | AZE                      |    9942334               | Europe                   |\n",
       "| 2020-06-15               | 15                       | 6                        | 2020                     |   377                    |  39                      | Canada                   | CA                       | CAN                      |   37058856               | America                  |\n",
       "| 2020-06-15               | 15                       | 6                        | 2020                     |   375                    |  10                      | Poland                   | PL                       | POL                      |   37978548               | Europe                   |\n",
       "| 2020-06-15               | 15                       | 6                        | 2020                     |   354                    |  17                      | Guatemala                | GT                       | GTM                      |   17247807               | America                  |\n",
       "| 2020-06-15               | 15                       | 6                        | 2020                     |   344                    |  13                      | Mauritania               | MR                       | MRT                      |    4403319               | Africa                   |\n",
       "| 2020-06-15               | 15                       | 6                        | 2020                     |   341                    |  26                      | Sudan                    | SD                       | SDN                      |   41801533               | Africa                   |\n",
       "| 2020-06-15               | 15                       | 6                        | 2020                     |   338                    |  44                      | Italy                    | IT                       | ITA                      |   60431283               | Europe                   |\n",
       "| 2020-06-15               | 15                       | 6                        | 2020                     |   320                    |  19                      | Romania                  | RO                       | ROU                      |   19473936               | Europe                   |\n",
       "| 2020-06-15               | 15                       | 6                        | 2020                     |   313                    |   4                      | Kazakhstan               | KZ                       | KAZ                      |   18276499               | Asia                     |\n",
       "| 2020-06-15               | 15                       | 6                        | 2020                     |   292                    |   1                      | Cameroon                 | CM                       | CMR                      |   25216237               | Africa                   |\n",
       "| 2020-06-15               | 15                       | 6                        | 2020                     |   281                    |   8                      | Moldova                  | MD                       | MDA                      |    3545883               | Europe                   |\n",
       "| 2020-06-15               | 15                       | 6                        | 2020                     |   236                    |   0                      | Cote_dIvoire             | CI                       | CIV                      |   25069229               | Africa                   |\n",
       "| 2020-06-15               | 15                       | 6                        | 2020                     |   227                    |   5                      | Portugal                 | PT                       | PRT                      |   10281762               | Europe                   |\n",
       "\n"
      ],
      "text/plain": [
       "   dateRep    day month year cases deaths countriesAndTerritories  geoId\n",
       "1  2020-06-15 15  6     2020 19543 296    United_States_of_America US   \n",
       "2  2020-06-15 15  6     2020 17110 612    Brazil                   BR   \n",
       "3  2020-06-15 15  6     2020 11502 325    India                    IN   \n",
       "4  2020-06-15 15  6     2020  8835 119    Russia                   RU   \n",
       "5  2020-06-15 15  6     2020  6938 222    Chile                    CL   \n",
       "6  2020-06-15 15  6     2020  5248  97    Pakistan                 PK   \n",
       "7  2020-06-15 15  6     2020  4604 190    Peru                     PE   \n",
       "8  2020-06-15 15  6     2020  4302  57    South_Africa             ZA   \n",
       "9  2020-06-15 15  6     2020  4233  40    Saudi_Arabia             SA   \n",
       "10 2020-06-15 15  6     2020  4147 269    Mexico                   MX   \n",
       "11 2020-06-15 15  6     2020  3141  32    Bangladesh               BD   \n",
       "12 2020-06-15 15  6     2020  2472 107    Iran                     IR   \n",
       "13 2020-06-15 15  6     2020  2193  75    Colombia                 CO   \n",
       "14 2020-06-15 15  6     2020  1618  91    Egypt                    EG   \n",
       "15 2020-06-15 15  6     2020  1562  15    Turkey                   TR   \n",
       "16 2020-06-15 15  6     2020  1514  36    United_Kingdom           UK   \n",
       "17 2020-06-15 15  6     2020  1404   5    Oman                     OM   \n",
       "18 2020-06-15 15  6     2020  1282  18    Argentina                AR   \n",
       "19 2020-06-15 15  6     2020  1259  58    Iraq                     IQ   \n",
       "20 2020-06-15 15  6     2020  1186   3    Qatar                    QA   \n",
       "21 2020-06-15 15  6     2020   857  43    Indonesia                ID   \n",
       "22 2020-06-15 15  6     2020   732   5    Belarus                  BY   \n",
       "23 2020-06-15 15  6     2020   683   0    Sweden                   SE   \n",
       "24 2020-06-15 15  6     2020   664  20    Afghanistan              AF   \n",
       "25 2020-06-15 15  6     2020   663   5    Armenia                  AM   \n",
       "26 2020-06-15 15  6     2020   648   9    Ukraine                  UA   \n",
       "27 2020-06-15 15  6     2020   627   8    Panama                   PA   \n",
       "28 2020-06-15 15  6     2020   617  26    Bolivia                  BO   \n",
       "29 2020-06-15 15  6     2020   542   3    Ghana                    GH   \n",
       "30 2020-06-15 15  6     2020   538  14    Philippines              PH   \n",
       "31 2020-06-15 15  6     2020   454   7    Kuwait                   KW   \n",
       "32 2020-06-15 15  6     2020   425   1    Nepal                    NP   \n",
       "33 2020-06-15 15  6     2020   407   9    France                   FR   \n",
       "34 2020-06-15 15  6     2020   407   0    Singapore                SG   \n",
       "35 2020-06-15 15  6     2020   403   2    Honduras                 HN   \n",
       "36 2020-06-15 15  6     2020   403  13    Nigeria                  NG   \n",
       "37 2020-06-15 15  6     2020   395  22    Ecuador                  EC   \n",
       "38 2020-06-15 15  6     2020   394   1    United_Arab_Emirates     AE   \n",
       "39 2020-06-15 15  6     2020   390  15    Dominican_Republic       DO   \n",
       "40 2020-06-15 15  6     2020   387   4    Azerbaijan               AZ   \n",
       "41 2020-06-15 15  6     2020   377  39    Canada                   CA   \n",
       "42 2020-06-15 15  6     2020   375  10    Poland                   PL   \n",
       "43 2020-06-15 15  6     2020   354  17    Guatemala                GT   \n",
       "44 2020-06-15 15  6     2020   344  13    Mauritania               MR   \n",
       "45 2020-06-15 15  6     2020   341  26    Sudan                    SD   \n",
       "46 2020-06-15 15  6     2020   338  44    Italy                    IT   \n",
       "47 2020-06-15 15  6     2020   320  19    Romania                  RO   \n",
       "48 2020-06-15 15  6     2020   313   4    Kazakhstan               KZ   \n",
       "49 2020-06-15 15  6     2020   292   1    Cameroon                 CM   \n",
       "50 2020-06-15 15  6     2020   281   8    Moldova                  MD   \n",
       "51 2020-06-15 15  6     2020   236   0    Cote_dIvoire             CI   \n",
       "52 2020-06-15 15  6     2020   227   5    Portugal                 PT   \n",
       "   countryterritoryCode popData2018 continentExp\n",
       "1  USA                   327167434  America     \n",
       "2  BRA                   209469333  America     \n",
       "3  IND                  1352617328  Asia        \n",
       "4  RUS                   144478050  Europe      \n",
       "5  CHL                    18729160  America     \n",
       "6  PAK                   212215030  Asia        \n",
       "7  PER                    31989256  America     \n",
       "8  ZAF                    57779622  Africa      \n",
       "9  SAU                    33699947  Asia        \n",
       "10 MEX                   126190788  America     \n",
       "11 BGD                   161356039  Asia        \n",
       "12 IRN                    81800269  Asia        \n",
       "13 COL                    49648685  America     \n",
       "14 EGY                    98423595  Africa      \n",
       "15 TUR                    82319724  Asia        \n",
       "16 GBR                    66488991  Europe      \n",
       "17 OMN                     4829483  Asia        \n",
       "18 ARG                    44494502  America     \n",
       "19 IRQ                    38433600  Asia        \n",
       "20 QAT                     2781677  Asia        \n",
       "21 IDN                   267663435  Asia        \n",
       "22 BLR                     9485386  Europe      \n",
       "23 SWE                    10183175  Europe      \n",
       "24 AFG                    37172386  Asia        \n",
       "25 ARM                     2951776  Europe      \n",
       "26 UKR                    44622516  Europe      \n",
       "27 PAN                     4176873  America     \n",
       "28 BOL                    11353142  America     \n",
       "29 GHA                    29767108  Africa      \n",
       "30 PHL                   106651922  Asia        \n",
       "31 KWT                     4137309  Asia        \n",
       "32 NPL                    28087871  Asia        \n",
       "33 FRA                    66987244  Europe      \n",
       "34 SGP                     5638676  Asia        \n",
       "35 HND                     9587522  America     \n",
       "36 NGA                   195874740  Africa      \n",
       "37 ECU                    17084357  America     \n",
       "38 ARE                     9630959  Asia        \n",
       "39 DOM                    10627165  America     \n",
       "40 AZE                     9942334  Europe      \n",
       "41 CAN                    37058856  America     \n",
       "42 POL                    37978548  Europe      \n",
       "43 GTM                    17247807  America     \n",
       "44 MRT                     4403319  Africa      \n",
       "45 SDN                    41801533  Africa      \n",
       "46 ITA                    60431283  Europe      \n",
       "47 ROU                    19473936  Europe      \n",
       "48 KAZ                    18276499  Asia        \n",
       "49 CMR                    25216237  Africa      \n",
       "50 MDA                     3545883  Europe      \n",
       "51 CIV                    25069229  Africa      \n",
       "52 PRT                    10281762  Europe      "
      ]
     },
     "metadata": {},
     "output_type": "display_data"
    }
   ],
   "source": [
    "cases_200"
   ]
  },
  {
   "cell_type": "code",
   "execution_count": 18,
   "metadata": {},
   "outputs": [],
   "source": [
    "top_countries <- cases_200$countriesAndTerritories[c(1:10)]"
   ]
  },
  {
   "cell_type": "code",
   "execution_count": 19,
   "metadata": {},
   "outputs": [
    {
     "data": {
      "text/html": [
       "<ol class=list-inline>\n",
       "\t<li>'United_States_of_America'</li>\n",
       "\t<li>'Brazil'</li>\n",
       "\t<li>'India'</li>\n",
       "\t<li>'Russia'</li>\n",
       "\t<li>'Chile'</li>\n",
       "\t<li>'Pakistan'</li>\n",
       "\t<li>'Peru'</li>\n",
       "\t<li>'South_Africa'</li>\n",
       "\t<li>'Saudi_Arabia'</li>\n",
       "\t<li>'Mexico'</li>\n",
       "</ol>\n"
      ],
      "text/latex": [
       "\\begin{enumerate*}\n",
       "\\item 'United\\_States\\_of\\_America'\n",
       "\\item 'Brazil'\n",
       "\\item 'India'\n",
       "\\item 'Russia'\n",
       "\\item 'Chile'\n",
       "\\item 'Pakistan'\n",
       "\\item 'Peru'\n",
       "\\item 'South\\_Africa'\n",
       "\\item 'Saudi\\_Arabia'\n",
       "\\item 'Mexico'\n",
       "\\end{enumerate*}\n"
      ],
      "text/markdown": [
       "1. 'United_States_of_America'\n",
       "2. 'Brazil'\n",
       "3. 'India'\n",
       "4. 'Russia'\n",
       "5. 'Chile'\n",
       "6. 'Pakistan'\n",
       "7. 'Peru'\n",
       "8. 'South_Africa'\n",
       "9. 'Saudi_Arabia'\n",
       "10. 'Mexico'\n",
       "\n",
       "\n"
      ],
      "text/plain": [
       " [1] \"United_States_of_America\" \"Brazil\"                  \n",
       " [3] \"India\"                    \"Russia\"                  \n",
       " [5] \"Chile\"                    \"Pakistan\"                \n",
       " [7] \"Peru\"                     \"South_Africa\"            \n",
       " [9] \"Saudi_Arabia\"             \"Mexico\"                  "
      ]
     },
     "metadata": {},
     "output_type": "display_data"
    }
   ],
   "source": [
    "top_countries"
   ]
  },
  {
   "cell_type": "code",
   "execution_count": 20,
   "metadata": {},
   "outputs": [],
   "source": [
    "time <- covid[covid$countriesAndTerritories == countries[1], ]$dateRep\n",
    "count_1 <- covid[covid$countriesAndTerritories == countries[1], ]$cases\n",
    "count_2 <- covid[covid$countriesAndTerritories == countries[2], ]$cases\n",
    "count_3 <- covid[covid$countriesAndTerritories == countries[3], ]$cases\n",
    "count_4 <- covid[covid$countriesAndTerritories == countries[4], ]$cases\n",
    "count_5 <- covid[covid$countriesAndTerritories == countries[5], ]$cases\n",
    "count_6 <- covid[covid$countriesAndTerritories == countries[6], ]$cases\n",
    "count_7 <- covid[covid$countriesAndTerritories == countries[7], ]$cases\n",
    "count_8 <- covid[covid$countriesAndTerritories == countries[8], ]$cases\n",
    "count_9 <- covid[covid$countriesAndTerritories == countries[9], ]$cases\n",
    "count_10 <- covid[covid$countriesAndTerritories == countries[10], ]$cases"
   ]
  },
  {
   "cell_type": "code",
   "execution_count": 21,
   "metadata": {},
   "outputs": [],
   "source": [
    "count_8_ <- c(count_8, rep(0, 99-25))"
   ]
  },
  {
   "cell_type": "code",
   "execution_count": 22,
   "metadata": {},
   "outputs": [
    {
     "name": "stderr",
     "output_type": "stream",
     "text": [
      "Warning message:\n",
      "\"`data_frame()` is deprecated, use `tibble()`.\n",
      "This warning is displayed once per session.\""
     ]
    },
    {
     "ename": "ERROR",
     "evalue": "Error: Tibble columns must have consistent lengths, only values of length one are recycled:\n* Length 167: Column `count_2`\n* Length 168: Columns `time`, `count_1`, `count_3`, `count_4`, `count_5`, ... (and 5 more)\n",
     "output_type": "error",
     "traceback": [
      "Error: Tibble columns must have consistent lengths, only values of length one are recycled:\n* Length 167: Column `count_2`\n* Length 168: Columns `time`, `count_1`, `count_3`, `count_4`, `count_5`, ... (and 5 more)\nTraceback:\n",
      "1. tibble::data_frame(time, count_1, count_2, count_3, count_4, \n .     count_5, count_6, count_7, count_8_, count_9, count_10)",
      "2. tibble(!!!quos(...))",
      "3. lst_to_tibble(xlq$output, .rows, .name_repair, lengths = xlq$lengths)",
      "4. recycle_columns(x, .rows, lengths)",
      "5. abort(error_inconsistent_cols(.rows, names(x), lengths, \"`.rows` argument\"))",
      "6. signal_abort(cnd)"
     ]
    }
   ],
   "source": [
    "datos <- tibble::data_frame(time, count_1, count_2, count_3, count_4, count_5, count_6, count_7,count_8_, count_9, count_10)"
   ]
  },
  {
   "cell_type": "code",
   "execution_count": 23,
   "metadata": {},
   "outputs": [
    {
     "ename": "ERROR",
     "evalue": "Error in head(datos): objeto 'datos' no encontrado\n",
     "output_type": "error",
     "traceback": [
      "Error in head(datos): objeto 'datos' no encontrado\nTraceback:\n",
      "1. head(datos)"
     ]
    }
   ],
   "source": [
    "head(datos)"
   ]
  },
  {
   "cell_type": "code",
   "execution_count": 24,
   "metadata": {},
   "outputs": [
    {
     "ename": "ERROR",
     "evalue": "Error in colnames(datos) <- c(\"time\", top_countries): objeto 'datos' no encontrado\n",
     "output_type": "error",
     "traceback": [
      "Error in colnames(datos) <- c(\"time\", top_countries): objeto 'datos' no encontrado\nTraceback:\n"
     ]
    }
   ],
   "source": [
    "colnames(datos) <- c('time', top_countries)"
   ]
  },
  {
   "cell_type": "code",
   "execution_count": 25,
   "metadata": {},
   "outputs": [
    {
     "ename": "ERROR",
     "evalue": "Error in head(datos): objeto 'datos' no encontrado\n",
     "output_type": "error",
     "traceback": [
      "Error in head(datos): objeto 'datos' no encontrado\nTraceback:\n",
      "1. head(datos)"
     ]
    }
   ],
   "source": [
    "head(datos)"
   ]
  },
  {
   "cell_type": "code",
   "execution_count": 26,
   "metadata": {},
   "outputs": [
    {
     "ename": "ERROR",
     "evalue": "Error in ggplot(datos, aes(x = time)): no se pudo encontrar la función \"ggplot\"\n",
     "output_type": "error",
     "traceback": [
      "Error in ggplot(datos, aes(x = time)): no se pudo encontrar la función \"ggplot\"\nTraceback:\n"
     ]
    }
   ],
   "source": [
    "sp <- ggplot(datos, aes(x=time)) + geom_line(aes(y = count_1, col = top_countries[1])) \n",
    "sp <- sp + geom_line(aes(y = count_2, col = top_countries[2])) \n",
    "sp <- sp  + geom_line(aes(y = count_3, col = top_countries[3])) + geom_line(aes(y = count_4, col = top_countries[4]))\n",
    "sp <- sp  + geom_line(aes(y = count_5, col = top_countries[5])) + geom_line(aes(y = count_6 ,col = top_countries[6]))\n",
    "sp <- sp  + geom_line(aes(y = count_7, col = top_countries[7])) \n",
    "sp <- sp  + geom_line(aes(y = count_8_, col = top_countries[8])) \n",
    "sp <- sp  + geom_line(aes(y = count_9, col = top_countries[9])) + geom_line(aes(y = count_10, col = top_countries[10]))\n",
    "sp + labs(y=\"Cases\", x = \"Time\", col = 'Countries')"
   ]
  },
  {
   "cell_type": "code",
   "execution_count": 27,
   "metadata": {},
   "outputs": [],
   "source": [
    "time <- covid[covid$countriesAndTerritories == countries[1], ]$dateRep\n",
    "count_1D <- covid[covid$countriesAndTerritories == countries[1], ]$deaths\n",
    "count_2D <- covid[covid$countriesAndTerritories == countries[2], ]$deaths\n",
    "count_3D <- covid[covid$countriesAndTerritories == countries[3], ]$deaths\n",
    "count_4D <- covid[covid$countriesAndTerritories == countries[4], ]$deaths\n",
    "count_5D <- covid[covid$countriesAndTerritories == countries[5], ]$deaths\n",
    "count_6D <- covid[covid$countriesAndTerritories == countries[6], ]$deaths\n",
    "count_7D <- covid[covid$countriesAndTerritories == countries[7], ]$deaths\n",
    "count_8D <- covid[covid$countriesAndTerritories == countries[8], ]$deaths\n",
    "count_9D <- covid[covid$countriesAndTerritories == countries[9], ]$deaths\n",
    "count_10D <- covid[covid$countriesAndTerritories == countries[10], ]$deaths"
   ]
  },
  {
   "cell_type": "code",
   "execution_count": 28,
   "metadata": {},
   "outputs": [],
   "source": [
    "count_8D_ <- c(count_8D, rep(0, 99-25))"
   ]
  },
  {
   "cell_type": "code",
   "execution_count": 29,
   "metadata": {},
   "outputs": [
    {
     "ename": "ERROR",
     "evalue": "Error: Tibble columns must have consistent lengths, only values of length one are recycled:\n* Length 167: Column `count_2D`\n* Length 168: Columns `time`, `count_1D`, `count_3D`, `count_4D`, `count_5D`, ... (and 5 more)\n",
     "output_type": "error",
     "traceback": [
      "Error: Tibble columns must have consistent lengths, only values of length one are recycled:\n* Length 167: Column `count_2D`\n* Length 168: Columns `time`, `count_1D`, `count_3D`, `count_4D`, `count_5D`, ... (and 5 more)\nTraceback:\n",
      "1. tibble::data_frame(time, count_1D, count_2D, count_3D, count_4D, \n .     count_5D, count_6D, count_7D, count_8D_, count_9D, count_10D)",
      "2. tibble(!!!quos(...))",
      "3. lst_to_tibble(xlq$output, .rows, .name_repair, lengths = xlq$lengths)",
      "4. recycle_columns(x, .rows, lengths)",
      "5. abort(error_inconsistent_cols(.rows, names(x), lengths, \"`.rows` argument\"))",
      "6. signal_abort(cnd)"
     ]
    }
   ],
   "source": [
    "datosd <- tibble::data_frame(time, count_1D, count_2D, count_3D, count_4D, count_5D, count_6D, count_7D,count_8D_, count_9D, count_10D)"
   ]
  },
  {
   "cell_type": "code",
   "execution_count": 30,
   "metadata": {},
   "outputs": [
    {
     "ename": "ERROR",
     "evalue": "Error in colnames(datosd) <- c(\"time\", top_countries): objeto 'datosd' no encontrado\n",
     "output_type": "error",
     "traceback": [
      "Error in colnames(datosd) <- c(\"time\", top_countries): objeto 'datosd' no encontrado\nTraceback:\n"
     ]
    }
   ],
   "source": [
    "colnames(datosd) <- c('time', top_countries)"
   ]
  },
  {
   "cell_type": "code",
   "execution_count": 31,
   "metadata": {
    "scrolled": true
   },
   "outputs": [
    {
     "ename": "ERROR",
     "evalue": "Error in head(datosd): objeto 'datosd' no encontrado\n",
     "output_type": "error",
     "traceback": [
      "Error in head(datosd): objeto 'datosd' no encontrado\nTraceback:\n",
      "1. head(datosd)"
     ]
    }
   ],
   "source": [
    "head(datosd)"
   ]
  },
  {
   "cell_type": "code",
   "execution_count": 32,
   "metadata": {},
   "outputs": [
    {
     "ename": "ERROR",
     "evalue": "Error in ggplot(datosd, aes(x = time)): no se pudo encontrar la función \"ggplot\"\n",
     "output_type": "error",
     "traceback": [
      "Error in ggplot(datosd, aes(x = time)): no se pudo encontrar la función \"ggplot\"\nTraceback:\n"
     ]
    }
   ],
   "source": [
    "sp <- ggplot(datosd, aes(x=time)) + geom_line(aes(y = count_1D, col = top_countries[1])) \n",
    "sp <- sp + geom_line(aes(y = count_2D, col = top_countries[2])) \n",
    "sp <- sp  + geom_line(aes(y = count_3D, col = top_countries[3])) + geom_line(aes(y = count_4D, col = top_countries[4]))\n",
    "sp <- sp  + geom_line(aes(y = count_5D, col = top_countries[5])) + geom_line(aes(y = count_6D ,col = top_countries[6]))\n",
    "sp <- sp  + geom_line(aes(y = count_7D, col = top_countries[7])) \n",
    "sp <- sp  + geom_line(aes(y = count_8D_, col = top_countries[8])) \n",
    "sp <- sp  + geom_line(aes(y = count_9D, col = top_countries[9])) + geom_line(aes(y = count_10D, col = top_countries[10]))\n",
    "sp + labs(y=\"Deaths\", x = \"Time\", col = 'Countries')"
   ]
  },
  {
   "cell_type": "code",
   "execution_count": 33,
   "metadata": {},
   "outputs": [],
   "source": [
    "sub1 <- subset(covid, covid$countriesAndTerritories == top_countries[1] | covid$countriesAndTerritories == top_countries[2] | covid$countriesAndTerritories == top_countries[3]| covid$countriesAndTerritories == top_countries[4]| covid$countriesAndTerritories == top_countries[5]| covid$countriesAndTerritories == top_countries[6]| covid$countriesAndTerritories == top_countries[7]| covid$countriesAndTerritories == top_countries[8]| covid$countriesAndTerritories == top_countries[9]| covid$countriesAndTerritories == top_countries[10] )\n"
   ]
  },
  {
   "cell_type": "code",
   "execution_count": 34,
   "metadata": {},
   "outputs": [
    {
     "data": {
      "text/html": [
       "<table>\n",
       "<thead><tr><th scope=col>dateRep</th><th scope=col>day</th><th scope=col>month</th><th scope=col>year</th><th scope=col>cases</th><th scope=col>deaths</th><th scope=col>countriesAndTerritories</th><th scope=col>geoId</th><th scope=col>countryterritoryCode</th><th scope=col>popData2018</th><th scope=col>continentExp</th></tr></thead>\n",
       "<tbody>\n",
       "\t<tr><td>2020-06-15</td><td>15        </td><td>6         </td><td>2020      </td><td>17110     </td><td> 612      </td><td>Brazil    </td><td>BR        </td><td>BRA       </td><td>209469333 </td><td>America   </td></tr>\n",
       "\t<tr><td>2020-06-14</td><td>14        </td><td>6         </td><td>2020      </td><td>21704     </td><td> 892      </td><td>Brazil    </td><td>BR        </td><td>BRA       </td><td>209469333 </td><td>America   </td></tr>\n",
       "\t<tr><td>2020-06-13</td><td>13        </td><td>6         </td><td>2020      </td><td>25982     </td><td> 909      </td><td>Brazil    </td><td>BR        </td><td>BRA       </td><td>209469333 </td><td>America   </td></tr>\n",
       "\t<tr><td>2020-06-12</td><td>12        </td><td>6         </td><td>2020      </td><td>30412     </td><td>1239      </td><td>Brazil    </td><td>BR        </td><td>BRA       </td><td>209469333 </td><td>America   </td></tr>\n",
       "\t<tr><td>2020-06-11</td><td>11        </td><td>6         </td><td>2020      </td><td>32913     </td><td>1274      </td><td>Brazil    </td><td>BR        </td><td>BRA       </td><td>209469333 </td><td>America   </td></tr>\n",
       "\t<tr><td>2020-06-10</td><td>10        </td><td>6         </td><td>2020      </td><td>32091     </td><td>1272      </td><td>Brazil    </td><td>BR        </td><td>BRA       </td><td>209469333 </td><td>America   </td></tr>\n",
       "\t<tr><td>2020-06-09</td><td> 9        </td><td>6         </td><td>2020      </td><td>15654     </td><td> 679      </td><td>Brazil    </td><td>BR        </td><td>BRA       </td><td>209469333 </td><td>America   </td></tr>\n",
       "\t<tr><td>2020-06-08</td><td> 8        </td><td>6         </td><td>2020      </td><td>18921     </td><td> 525      </td><td>Brazil    </td><td>BR        </td><td>BRA       </td><td>209469333 </td><td>America   </td></tr>\n",
       "\t<tr><td>2020-06-07</td><td> 7        </td><td>6         </td><td>2020      </td><td>27075     </td><td> 904      </td><td>Brazil    </td><td>BR        </td><td>BRA       </td><td>209469333 </td><td>America   </td></tr>\n",
       "\t<tr><td>2020-06-06</td><td> 6        </td><td>6         </td><td>2020      </td><td>30830     </td><td>1005      </td><td>Brazil    </td><td>BR        </td><td>BRA       </td><td>209469333 </td><td>America   </td></tr>\n",
       "\t<tr><td>2020-06-05</td><td> 5        </td><td>6         </td><td>2020      </td><td>30916     </td><td>1473      </td><td>Brazil    </td><td>BR        </td><td>BRA       </td><td>209469333 </td><td>America   </td></tr>\n",
       "\t<tr><td>2020-06-04</td><td> 4        </td><td>6         </td><td>2020      </td><td>28633     </td><td>1349      </td><td>Brazil    </td><td>BR        </td><td>BRA       </td><td>209469333 </td><td>America   </td></tr>\n",
       "\t<tr><td>2020-06-03</td><td> 3        </td><td>6         </td><td>2020      </td><td>28936     </td><td>1262      </td><td>Brazil    </td><td>BR        </td><td>BRA       </td><td>209469333 </td><td>America   </td></tr>\n",
       "\t<tr><td>2020-06-02</td><td> 2        </td><td>6         </td><td>2020      </td><td>11598     </td><td> 623      </td><td>Brazil    </td><td>BR        </td><td>BRA       </td><td>209469333 </td><td>America   </td></tr>\n",
       "\t<tr><td>2020-06-01</td><td> 1        </td><td>6         </td><td>2020      </td><td>16409     </td><td> 480      </td><td>Brazil    </td><td>BR        </td><td>BRA       </td><td>209469333 </td><td>America   </td></tr>\n",
       "\t<tr><td>2020-05-31</td><td>31        </td><td>5         </td><td>2020      </td><td>33274     </td><td> 956      </td><td>Brazil    </td><td>BR        </td><td>BRA       </td><td>209469333 </td><td>America   </td></tr>\n",
       "\t<tr><td>2020-05-30</td><td>30        </td><td>5         </td><td>2020      </td><td>26928     </td><td>1124      </td><td>Brazil    </td><td>BR        </td><td>BRA       </td><td>209469333 </td><td>America   </td></tr>\n",
       "\t<tr><td>2020-05-29</td><td>29        </td><td>5         </td><td>2020      </td><td>26417     </td><td>1156      </td><td>Brazil    </td><td>BR        </td><td>BRA       </td><td>209469333 </td><td>America   </td></tr>\n",
       "\t<tr><td>2020-05-28</td><td>28        </td><td>5         </td><td>2020      </td><td>20599     </td><td>1086      </td><td>Brazil    </td><td>BR        </td><td>BRA       </td><td>209469333 </td><td>America   </td></tr>\n",
       "\t<tr><td>2020-05-27</td><td>27        </td><td>5         </td><td>2020      </td><td>16324     </td><td>1039      </td><td>Brazil    </td><td>BR        </td><td>BRA       </td><td>209469333 </td><td>America   </td></tr>\n",
       "\t<tr><td>2020-05-26</td><td>26        </td><td>5         </td><td>2020      </td><td>11687     </td><td> 807      </td><td>Brazil    </td><td>BR        </td><td>BRA       </td><td>209469333 </td><td>America   </td></tr>\n",
       "\t<tr><td>2020-05-25</td><td>25        </td><td>5         </td><td>2020      </td><td>15813     </td><td> 653      </td><td>Brazil    </td><td>BR        </td><td>BRA       </td><td>209469333 </td><td>America   </td></tr>\n",
       "\t<tr><td>2020-05-24</td><td>24        </td><td>5         </td><td>2020      </td><td>16508     </td><td> 965      </td><td>Brazil    </td><td>BR        </td><td>BRA       </td><td>209469333 </td><td>America   </td></tr>\n",
       "\t<tr><td>2020-05-23</td><td>23        </td><td>5         </td><td>2020      </td><td>20803     </td><td>1001      </td><td>Brazil    </td><td>BR        </td><td>BRA       </td><td>209469333 </td><td>America   </td></tr>\n",
       "\t<tr><td>2020-05-22</td><td>22        </td><td>5         </td><td>2020      </td><td>18508     </td><td>1188      </td><td>Brazil    </td><td>BR        </td><td>BRA       </td><td>209469333 </td><td>America   </td></tr>\n",
       "\t<tr><td>2020-05-21</td><td>21        </td><td>5         </td><td>2020      </td><td>19951     </td><td> 888      </td><td>Brazil    </td><td>BR        </td><td>BRA       </td><td>209469333 </td><td>America   </td></tr>\n",
       "\t<tr><td>2020-05-20</td><td>20        </td><td>5         </td><td>2020      </td><td>17408     </td><td>1179      </td><td>Brazil    </td><td>BR        </td><td>BRA       </td><td>209469333 </td><td>America   </td></tr>\n",
       "\t<tr><td>2020-05-19</td><td>19        </td><td>5         </td><td>2020      </td><td>13140     </td><td> 674      </td><td>Brazil    </td><td>BR        </td><td>BRA       </td><td>209469333 </td><td>America   </td></tr>\n",
       "\t<tr><td>2020-05-18</td><td>18        </td><td>5         </td><td>2020      </td><td> 7938     </td><td> 485      </td><td>Brazil    </td><td>BR        </td><td>BRA       </td><td>209469333 </td><td>America   </td></tr>\n",
       "\t<tr><td>2020-05-17</td><td>17        </td><td>5         </td><td>2020      </td><td>14919     </td><td> 816      </td><td>Brazil    </td><td>BR        </td><td>BRA       </td><td>209469333 </td><td>America   </td></tr>\n",
       "\t<tr><td>...</td><td>...</td><td>...</td><td>...</td><td>...</td><td>...</td><td>...</td><td>...</td><td>...</td><td>...</td><td>...</td></tr>\n",
       "\t<tr><td>2020-01-29              </td><td>29                      </td><td> 1                      </td><td>2020                    </td><td>0                       </td><td>0                       </td><td>United_States_of_America</td><td>US                      </td><td>USA                     </td><td>327167434               </td><td>America                 </td></tr>\n",
       "\t<tr><td>2020-01-28              </td><td>28                      </td><td> 1                      </td><td>2020                    </td><td>0                       </td><td>0                       </td><td>United_States_of_America</td><td>US                      </td><td>USA                     </td><td>327167434               </td><td>America                 </td></tr>\n",
       "\t<tr><td>2020-01-27              </td><td>27                      </td><td> 1                      </td><td>2020                    </td><td>3                       </td><td>0                       </td><td>United_States_of_America</td><td>US                      </td><td>USA                     </td><td>327167434               </td><td>America                 </td></tr>\n",
       "\t<tr><td>2020-01-26              </td><td>26                      </td><td> 1                      </td><td>2020                    </td><td>0                       </td><td>0                       </td><td>United_States_of_America</td><td>US                      </td><td>USA                     </td><td>327167434               </td><td>America                 </td></tr>\n",
       "\t<tr><td>2020-01-25              </td><td>25                      </td><td> 1                      </td><td>2020                    </td><td>1                       </td><td>0                       </td><td>United_States_of_America</td><td>US                      </td><td>USA                     </td><td>327167434               </td><td>America                 </td></tr>\n",
       "\t<tr><td>2020-01-24              </td><td>24                      </td><td> 1                      </td><td>2020                    </td><td>0                       </td><td>0                       </td><td>United_States_of_America</td><td>US                      </td><td>USA                     </td><td>327167434               </td><td>America                 </td></tr>\n",
       "\t<tr><td>2020-01-23              </td><td>23                      </td><td> 1                      </td><td>2020                    </td><td>0                       </td><td>0                       </td><td>United_States_of_America</td><td>US                      </td><td>USA                     </td><td>327167434               </td><td>America                 </td></tr>\n",
       "\t<tr><td>2020-01-22              </td><td>22                      </td><td> 1                      </td><td>2020                    </td><td>0                       </td><td>0                       </td><td>United_States_of_America</td><td>US                      </td><td>USA                     </td><td>327167434               </td><td>America                 </td></tr>\n",
       "\t<tr><td>2020-01-21              </td><td>21                      </td><td> 1                      </td><td>2020                    </td><td>1                       </td><td>0                       </td><td>United_States_of_America</td><td>US                      </td><td>USA                     </td><td>327167434               </td><td>America                 </td></tr>\n",
       "\t<tr><td>2020-01-20              </td><td>20                      </td><td> 1                      </td><td>2020                    </td><td>0                       </td><td>0                       </td><td>United_States_of_America</td><td>US                      </td><td>USA                     </td><td>327167434               </td><td>America                 </td></tr>\n",
       "\t<tr><td>2020-01-19              </td><td>19                      </td><td> 1                      </td><td>2020                    </td><td>0                       </td><td>0                       </td><td>United_States_of_America</td><td>US                      </td><td>USA                     </td><td>327167434               </td><td>America                 </td></tr>\n",
       "\t<tr><td>2020-01-18              </td><td>18                      </td><td> 1                      </td><td>2020                    </td><td>0                       </td><td>0                       </td><td>United_States_of_America</td><td>US                      </td><td>USA                     </td><td>327167434               </td><td>America                 </td></tr>\n",
       "\t<tr><td>2020-01-17              </td><td>17                      </td><td> 1                      </td><td>2020                    </td><td>0                       </td><td>0                       </td><td>United_States_of_America</td><td>US                      </td><td>USA                     </td><td>327167434               </td><td>America                 </td></tr>\n",
       "\t<tr><td>2020-01-16              </td><td>16                      </td><td> 1                      </td><td>2020                    </td><td>0                       </td><td>0                       </td><td>United_States_of_America</td><td>US                      </td><td>USA                     </td><td>327167434               </td><td>America                 </td></tr>\n",
       "\t<tr><td>2020-01-15              </td><td>15                      </td><td> 1                      </td><td>2020                    </td><td>0                       </td><td>0                       </td><td>United_States_of_America</td><td>US                      </td><td>USA                     </td><td>327167434               </td><td>America                 </td></tr>\n",
       "\t<tr><td>2020-01-14              </td><td>14                      </td><td> 1                      </td><td>2020                    </td><td>0                       </td><td>0                       </td><td>United_States_of_America</td><td>US                      </td><td>USA                     </td><td>327167434               </td><td>America                 </td></tr>\n",
       "\t<tr><td>2020-01-13              </td><td>13                      </td><td> 1                      </td><td>2020                    </td><td>0                       </td><td>0                       </td><td>United_States_of_America</td><td>US                      </td><td>USA                     </td><td>327167434               </td><td>America                 </td></tr>\n",
       "\t<tr><td>2020-01-12              </td><td>12                      </td><td> 1                      </td><td>2020                    </td><td>0                       </td><td>0                       </td><td>United_States_of_America</td><td>US                      </td><td>USA                     </td><td>327167434               </td><td>America                 </td></tr>\n",
       "\t<tr><td>2020-01-11              </td><td>11                      </td><td> 1                      </td><td>2020                    </td><td>0                       </td><td>0                       </td><td>United_States_of_America</td><td>US                      </td><td>USA                     </td><td>327167434               </td><td>America                 </td></tr>\n",
       "\t<tr><td>2020-01-10              </td><td>10                      </td><td> 1                      </td><td>2020                    </td><td>0                       </td><td>0                       </td><td>United_States_of_America</td><td>US                      </td><td>USA                     </td><td>327167434               </td><td>America                 </td></tr>\n",
       "\t<tr><td>2020-01-09              </td><td> 9                      </td><td> 1                      </td><td>2020                    </td><td>0                       </td><td>0                       </td><td>United_States_of_America</td><td>US                      </td><td>USA                     </td><td>327167434               </td><td>America                 </td></tr>\n",
       "\t<tr><td>2020-01-08              </td><td> 8                      </td><td> 1                      </td><td>2020                    </td><td>0                       </td><td>0                       </td><td>United_States_of_America</td><td>US                      </td><td>USA                     </td><td>327167434               </td><td>America                 </td></tr>\n",
       "\t<tr><td>2020-01-07              </td><td> 7                      </td><td> 1                      </td><td>2020                    </td><td>0                       </td><td>0                       </td><td>United_States_of_America</td><td>US                      </td><td>USA                     </td><td>327167434               </td><td>America                 </td></tr>\n",
       "\t<tr><td>2020-01-06              </td><td> 6                      </td><td> 1                      </td><td>2020                    </td><td>0                       </td><td>0                       </td><td>United_States_of_America</td><td>US                      </td><td>USA                     </td><td>327167434               </td><td>America                 </td></tr>\n",
       "\t<tr><td>2020-01-05              </td><td> 5                      </td><td> 1                      </td><td>2020                    </td><td>0                       </td><td>0                       </td><td>United_States_of_America</td><td>US                      </td><td>USA                     </td><td>327167434               </td><td>America                 </td></tr>\n",
       "\t<tr><td>2020-01-04              </td><td> 4                      </td><td> 1                      </td><td>2020                    </td><td>0                       </td><td>0                       </td><td>United_States_of_America</td><td>US                      </td><td>USA                     </td><td>327167434               </td><td>America                 </td></tr>\n",
       "\t<tr><td>2020-01-03              </td><td> 3                      </td><td> 1                      </td><td>2020                    </td><td>0                       </td><td>0                       </td><td>United_States_of_America</td><td>US                      </td><td>USA                     </td><td>327167434               </td><td>America                 </td></tr>\n",
       "\t<tr><td>2020-01-02              </td><td> 2                      </td><td> 1                      </td><td>2020                    </td><td>0                       </td><td>0                       </td><td>United_States_of_America</td><td>US                      </td><td>USA                     </td><td>327167434               </td><td>America                 </td></tr>\n",
       "\t<tr><td>2020-01-01              </td><td> 1                      </td><td> 1                      </td><td>2020                    </td><td>0                       </td><td>0                       </td><td>United_States_of_America</td><td>US                      </td><td>USA                     </td><td>327167434               </td><td>America                 </td></tr>\n",
       "\t<tr><td>2019-12-31              </td><td>31                      </td><td>12                      </td><td>2019                    </td><td>0                       </td><td>0                       </td><td>United_States_of_America</td><td>US                      </td><td>USA                     </td><td>327167434               </td><td>America                 </td></tr>\n",
       "</tbody>\n",
       "</table>\n"
      ],
      "text/latex": [
       "\\begin{tabular}{r|lllllllllll}\n",
       " dateRep & day & month & year & cases & deaths & countriesAndTerritories & geoId & countryterritoryCode & popData2018 & continentExp\\\\\n",
       "\\hline\n",
       "\t 2020-06-15 & 15         & 6          & 2020       & 17110      &  612       & Brazil     & BR         & BRA        & 209469333  & America   \\\\\n",
       "\t 2020-06-14 & 14         & 6          & 2020       & 21704      &  892       & Brazil     & BR         & BRA        & 209469333  & America   \\\\\n",
       "\t 2020-06-13 & 13         & 6          & 2020       & 25982      &  909       & Brazil     & BR         & BRA        & 209469333  & America   \\\\\n",
       "\t 2020-06-12 & 12         & 6          & 2020       & 30412      & 1239       & Brazil     & BR         & BRA        & 209469333  & America   \\\\\n",
       "\t 2020-06-11 & 11         & 6          & 2020       & 32913      & 1274       & Brazil     & BR         & BRA        & 209469333  & America   \\\\\n",
       "\t 2020-06-10 & 10         & 6          & 2020       & 32091      & 1272       & Brazil     & BR         & BRA        & 209469333  & America   \\\\\n",
       "\t 2020-06-09 &  9         & 6          & 2020       & 15654      &  679       & Brazil     & BR         & BRA        & 209469333  & America   \\\\\n",
       "\t 2020-06-08 &  8         & 6          & 2020       & 18921      &  525       & Brazil     & BR         & BRA        & 209469333  & America   \\\\\n",
       "\t 2020-06-07 &  7         & 6          & 2020       & 27075      &  904       & Brazil     & BR         & BRA        & 209469333  & America   \\\\\n",
       "\t 2020-06-06 &  6         & 6          & 2020       & 30830      & 1005       & Brazil     & BR         & BRA        & 209469333  & America   \\\\\n",
       "\t 2020-06-05 &  5         & 6          & 2020       & 30916      & 1473       & Brazil     & BR         & BRA        & 209469333  & America   \\\\\n",
       "\t 2020-06-04 &  4         & 6          & 2020       & 28633      & 1349       & Brazil     & BR         & BRA        & 209469333  & America   \\\\\n",
       "\t 2020-06-03 &  3         & 6          & 2020       & 28936      & 1262       & Brazil     & BR         & BRA        & 209469333  & America   \\\\\n",
       "\t 2020-06-02 &  2         & 6          & 2020       & 11598      &  623       & Brazil     & BR         & BRA        & 209469333  & America   \\\\\n",
       "\t 2020-06-01 &  1         & 6          & 2020       & 16409      &  480       & Brazil     & BR         & BRA        & 209469333  & America   \\\\\n",
       "\t 2020-05-31 & 31         & 5          & 2020       & 33274      &  956       & Brazil     & BR         & BRA        & 209469333  & America   \\\\\n",
       "\t 2020-05-30 & 30         & 5          & 2020       & 26928      & 1124       & Brazil     & BR         & BRA        & 209469333  & America   \\\\\n",
       "\t 2020-05-29 & 29         & 5          & 2020       & 26417      & 1156       & Brazil     & BR         & BRA        & 209469333  & America   \\\\\n",
       "\t 2020-05-28 & 28         & 5          & 2020       & 20599      & 1086       & Brazil     & BR         & BRA        & 209469333  & America   \\\\\n",
       "\t 2020-05-27 & 27         & 5          & 2020       & 16324      & 1039       & Brazil     & BR         & BRA        & 209469333  & America   \\\\\n",
       "\t 2020-05-26 & 26         & 5          & 2020       & 11687      &  807       & Brazil     & BR         & BRA        & 209469333  & America   \\\\\n",
       "\t 2020-05-25 & 25         & 5          & 2020       & 15813      &  653       & Brazil     & BR         & BRA        & 209469333  & America   \\\\\n",
       "\t 2020-05-24 & 24         & 5          & 2020       & 16508      &  965       & Brazil     & BR         & BRA        & 209469333  & America   \\\\\n",
       "\t 2020-05-23 & 23         & 5          & 2020       & 20803      & 1001       & Brazil     & BR         & BRA        & 209469333  & America   \\\\\n",
       "\t 2020-05-22 & 22         & 5          & 2020       & 18508      & 1188       & Brazil     & BR         & BRA        & 209469333  & America   \\\\\n",
       "\t 2020-05-21 & 21         & 5          & 2020       & 19951      &  888       & Brazil     & BR         & BRA        & 209469333  & America   \\\\\n",
       "\t 2020-05-20 & 20         & 5          & 2020       & 17408      & 1179       & Brazil     & BR         & BRA        & 209469333  & America   \\\\\n",
       "\t 2020-05-19 & 19         & 5          & 2020       & 13140      &  674       & Brazil     & BR         & BRA        & 209469333  & America   \\\\\n",
       "\t 2020-05-18 & 18         & 5          & 2020       &  7938      &  485       & Brazil     & BR         & BRA        & 209469333  & America   \\\\\n",
       "\t 2020-05-17 & 17         & 5          & 2020       & 14919      &  816       & Brazil     & BR         & BRA        & 209469333  & America   \\\\\n",
       "\t ... & ... & ... & ... & ... & ... & ... & ... & ... & ... & ...\\\\\n",
       "\t 2020-01-29                     & 29                             &  1                             & 2020                           & 0                              & 0                              & United\\_States\\_of\\_America & US                             & USA                            & 327167434                      & America                       \\\\\n",
       "\t 2020-01-28                     & 28                             &  1                             & 2020                           & 0                              & 0                              & United\\_States\\_of\\_America & US                             & USA                            & 327167434                      & America                       \\\\\n",
       "\t 2020-01-27                     & 27                             &  1                             & 2020                           & 3                              & 0                              & United\\_States\\_of\\_America & US                             & USA                            & 327167434                      & America                       \\\\\n",
       "\t 2020-01-26                     & 26                             &  1                             & 2020                           & 0                              & 0                              & United\\_States\\_of\\_America & US                             & USA                            & 327167434                      & America                       \\\\\n",
       "\t 2020-01-25                     & 25                             &  1                             & 2020                           & 1                              & 0                              & United\\_States\\_of\\_America & US                             & USA                            & 327167434                      & America                       \\\\\n",
       "\t 2020-01-24                     & 24                             &  1                             & 2020                           & 0                              & 0                              & United\\_States\\_of\\_America & US                             & USA                            & 327167434                      & America                       \\\\\n",
       "\t 2020-01-23                     & 23                             &  1                             & 2020                           & 0                              & 0                              & United\\_States\\_of\\_America & US                             & USA                            & 327167434                      & America                       \\\\\n",
       "\t 2020-01-22                     & 22                             &  1                             & 2020                           & 0                              & 0                              & United\\_States\\_of\\_America & US                             & USA                            & 327167434                      & America                       \\\\\n",
       "\t 2020-01-21                     & 21                             &  1                             & 2020                           & 1                              & 0                              & United\\_States\\_of\\_America & US                             & USA                            & 327167434                      & America                       \\\\\n",
       "\t 2020-01-20                     & 20                             &  1                             & 2020                           & 0                              & 0                              & United\\_States\\_of\\_America & US                             & USA                            & 327167434                      & America                       \\\\\n",
       "\t 2020-01-19                     & 19                             &  1                             & 2020                           & 0                              & 0                              & United\\_States\\_of\\_America & US                             & USA                            & 327167434                      & America                       \\\\\n",
       "\t 2020-01-18                     & 18                             &  1                             & 2020                           & 0                              & 0                              & United\\_States\\_of\\_America & US                             & USA                            & 327167434                      & America                       \\\\\n",
       "\t 2020-01-17                     & 17                             &  1                             & 2020                           & 0                              & 0                              & United\\_States\\_of\\_America & US                             & USA                            & 327167434                      & America                       \\\\\n",
       "\t 2020-01-16                     & 16                             &  1                             & 2020                           & 0                              & 0                              & United\\_States\\_of\\_America & US                             & USA                            & 327167434                      & America                       \\\\\n",
       "\t 2020-01-15                     & 15                             &  1                             & 2020                           & 0                              & 0                              & United\\_States\\_of\\_America & US                             & USA                            & 327167434                      & America                       \\\\\n",
       "\t 2020-01-14                     & 14                             &  1                             & 2020                           & 0                              & 0                              & United\\_States\\_of\\_America & US                             & USA                            & 327167434                      & America                       \\\\\n",
       "\t 2020-01-13                     & 13                             &  1                             & 2020                           & 0                              & 0                              & United\\_States\\_of\\_America & US                             & USA                            & 327167434                      & America                       \\\\\n",
       "\t 2020-01-12                     & 12                             &  1                             & 2020                           & 0                              & 0                              & United\\_States\\_of\\_America & US                             & USA                            & 327167434                      & America                       \\\\\n",
       "\t 2020-01-11                     & 11                             &  1                             & 2020                           & 0                              & 0                              & United\\_States\\_of\\_America & US                             & USA                            & 327167434                      & America                       \\\\\n",
       "\t 2020-01-10                     & 10                             &  1                             & 2020                           & 0                              & 0                              & United\\_States\\_of\\_America & US                             & USA                            & 327167434                      & America                       \\\\\n",
       "\t 2020-01-09                     &  9                             &  1                             & 2020                           & 0                              & 0                              & United\\_States\\_of\\_America & US                             & USA                            & 327167434                      & America                       \\\\\n",
       "\t 2020-01-08                     &  8                             &  1                             & 2020                           & 0                              & 0                              & United\\_States\\_of\\_America & US                             & USA                            & 327167434                      & America                       \\\\\n",
       "\t 2020-01-07                     &  7                             &  1                             & 2020                           & 0                              & 0                              & United\\_States\\_of\\_America & US                             & USA                            & 327167434                      & America                       \\\\\n",
       "\t 2020-01-06                     &  6                             &  1                             & 2020                           & 0                              & 0                              & United\\_States\\_of\\_America & US                             & USA                            & 327167434                      & America                       \\\\\n",
       "\t 2020-01-05                     &  5                             &  1                             & 2020                           & 0                              & 0                              & United\\_States\\_of\\_America & US                             & USA                            & 327167434                      & America                       \\\\\n",
       "\t 2020-01-04                     &  4                             &  1                             & 2020                           & 0                              & 0                              & United\\_States\\_of\\_America & US                             & USA                            & 327167434                      & America                       \\\\\n",
       "\t 2020-01-03                     &  3                             &  1                             & 2020                           & 0                              & 0                              & United\\_States\\_of\\_America & US                             & USA                            & 327167434                      & America                       \\\\\n",
       "\t 2020-01-02                     &  2                             &  1                             & 2020                           & 0                              & 0                              & United\\_States\\_of\\_America & US                             & USA                            & 327167434                      & America                       \\\\\n",
       "\t 2020-01-01                     &  1                             &  1                             & 2020                           & 0                              & 0                              & United\\_States\\_of\\_America & US                             & USA                            & 327167434                      & America                       \\\\\n",
       "\t 2019-12-31                     & 31                             & 12                             & 2019                           & 0                              & 0                              & United\\_States\\_of\\_America & US                             & USA                            & 327167434                      & America                       \\\\\n",
       "\\end{tabular}\n"
      ],
      "text/markdown": [
       "\n",
       "| dateRep | day | month | year | cases | deaths | countriesAndTerritories | geoId | countryterritoryCode | popData2018 | continentExp |\n",
       "|---|---|---|---|---|---|---|---|---|---|---|\n",
       "| 2020-06-15 | 15         | 6          | 2020       | 17110      |  612       | Brazil     | BR         | BRA        | 209469333  | America    |\n",
       "| 2020-06-14 | 14         | 6          | 2020       | 21704      |  892       | Brazil     | BR         | BRA        | 209469333  | America    |\n",
       "| 2020-06-13 | 13         | 6          | 2020       | 25982      |  909       | Brazil     | BR         | BRA        | 209469333  | America    |\n",
       "| 2020-06-12 | 12         | 6          | 2020       | 30412      | 1239       | Brazil     | BR         | BRA        | 209469333  | America    |\n",
       "| 2020-06-11 | 11         | 6          | 2020       | 32913      | 1274       | Brazil     | BR         | BRA        | 209469333  | America    |\n",
       "| 2020-06-10 | 10         | 6          | 2020       | 32091      | 1272       | Brazil     | BR         | BRA        | 209469333  | America    |\n",
       "| 2020-06-09 |  9         | 6          | 2020       | 15654      |  679       | Brazil     | BR         | BRA        | 209469333  | America    |\n",
       "| 2020-06-08 |  8         | 6          | 2020       | 18921      |  525       | Brazil     | BR         | BRA        | 209469333  | America    |\n",
       "| 2020-06-07 |  7         | 6          | 2020       | 27075      |  904       | Brazil     | BR         | BRA        | 209469333  | America    |\n",
       "| 2020-06-06 |  6         | 6          | 2020       | 30830      | 1005       | Brazil     | BR         | BRA        | 209469333  | America    |\n",
       "| 2020-06-05 |  5         | 6          | 2020       | 30916      | 1473       | Brazil     | BR         | BRA        | 209469333  | America    |\n",
       "| 2020-06-04 |  4         | 6          | 2020       | 28633      | 1349       | Brazil     | BR         | BRA        | 209469333  | America    |\n",
       "| 2020-06-03 |  3         | 6          | 2020       | 28936      | 1262       | Brazil     | BR         | BRA        | 209469333  | America    |\n",
       "| 2020-06-02 |  2         | 6          | 2020       | 11598      |  623       | Brazil     | BR         | BRA        | 209469333  | America    |\n",
       "| 2020-06-01 |  1         | 6          | 2020       | 16409      |  480       | Brazil     | BR         | BRA        | 209469333  | America    |\n",
       "| 2020-05-31 | 31         | 5          | 2020       | 33274      |  956       | Brazil     | BR         | BRA        | 209469333  | America    |\n",
       "| 2020-05-30 | 30         | 5          | 2020       | 26928      | 1124       | Brazil     | BR         | BRA        | 209469333  | America    |\n",
       "| 2020-05-29 | 29         | 5          | 2020       | 26417      | 1156       | Brazil     | BR         | BRA        | 209469333  | America    |\n",
       "| 2020-05-28 | 28         | 5          | 2020       | 20599      | 1086       | Brazil     | BR         | BRA        | 209469333  | America    |\n",
       "| 2020-05-27 | 27         | 5          | 2020       | 16324      | 1039       | Brazil     | BR         | BRA        | 209469333  | America    |\n",
       "| 2020-05-26 | 26         | 5          | 2020       | 11687      |  807       | Brazil     | BR         | BRA        | 209469333  | America    |\n",
       "| 2020-05-25 | 25         | 5          | 2020       | 15813      |  653       | Brazil     | BR         | BRA        | 209469333  | America    |\n",
       "| 2020-05-24 | 24         | 5          | 2020       | 16508      |  965       | Brazil     | BR         | BRA        | 209469333  | America    |\n",
       "| 2020-05-23 | 23         | 5          | 2020       | 20803      | 1001       | Brazil     | BR         | BRA        | 209469333  | America    |\n",
       "| 2020-05-22 | 22         | 5          | 2020       | 18508      | 1188       | Brazil     | BR         | BRA        | 209469333  | America    |\n",
       "| 2020-05-21 | 21         | 5          | 2020       | 19951      |  888       | Brazil     | BR         | BRA        | 209469333  | America    |\n",
       "| 2020-05-20 | 20         | 5          | 2020       | 17408      | 1179       | Brazil     | BR         | BRA        | 209469333  | America    |\n",
       "| 2020-05-19 | 19         | 5          | 2020       | 13140      |  674       | Brazil     | BR         | BRA        | 209469333  | America    |\n",
       "| 2020-05-18 | 18         | 5          | 2020       |  7938      |  485       | Brazil     | BR         | BRA        | 209469333  | America    |\n",
       "| 2020-05-17 | 17         | 5          | 2020       | 14919      |  816       | Brazil     | BR         | BRA        | 209469333  | America    |\n",
       "| ... | ... | ... | ... | ... | ... | ... | ... | ... | ... | ... |\n",
       "| 2020-01-29               | 29                       |  1                       | 2020                     | 0                        | 0                        | United_States_of_America | US                       | USA                      | 327167434                | America                  |\n",
       "| 2020-01-28               | 28                       |  1                       | 2020                     | 0                        | 0                        | United_States_of_America | US                       | USA                      | 327167434                | America                  |\n",
       "| 2020-01-27               | 27                       |  1                       | 2020                     | 3                        | 0                        | United_States_of_America | US                       | USA                      | 327167434                | America                  |\n",
       "| 2020-01-26               | 26                       |  1                       | 2020                     | 0                        | 0                        | United_States_of_America | US                       | USA                      | 327167434                | America                  |\n",
       "| 2020-01-25               | 25                       |  1                       | 2020                     | 1                        | 0                        | United_States_of_America | US                       | USA                      | 327167434                | America                  |\n",
       "| 2020-01-24               | 24                       |  1                       | 2020                     | 0                        | 0                        | United_States_of_America | US                       | USA                      | 327167434                | America                  |\n",
       "| 2020-01-23               | 23                       |  1                       | 2020                     | 0                        | 0                        | United_States_of_America | US                       | USA                      | 327167434                | America                  |\n",
       "| 2020-01-22               | 22                       |  1                       | 2020                     | 0                        | 0                        | United_States_of_America | US                       | USA                      | 327167434                | America                  |\n",
       "| 2020-01-21               | 21                       |  1                       | 2020                     | 1                        | 0                        | United_States_of_America | US                       | USA                      | 327167434                | America                  |\n",
       "| 2020-01-20               | 20                       |  1                       | 2020                     | 0                        | 0                        | United_States_of_America | US                       | USA                      | 327167434                | America                  |\n",
       "| 2020-01-19               | 19                       |  1                       | 2020                     | 0                        | 0                        | United_States_of_America | US                       | USA                      | 327167434                | America                  |\n",
       "| 2020-01-18               | 18                       |  1                       | 2020                     | 0                        | 0                        | United_States_of_America | US                       | USA                      | 327167434                | America                  |\n",
       "| 2020-01-17               | 17                       |  1                       | 2020                     | 0                        | 0                        | United_States_of_America | US                       | USA                      | 327167434                | America                  |\n",
       "| 2020-01-16               | 16                       |  1                       | 2020                     | 0                        | 0                        | United_States_of_America | US                       | USA                      | 327167434                | America                  |\n",
       "| 2020-01-15               | 15                       |  1                       | 2020                     | 0                        | 0                        | United_States_of_America | US                       | USA                      | 327167434                | America                  |\n",
       "| 2020-01-14               | 14                       |  1                       | 2020                     | 0                        | 0                        | United_States_of_America | US                       | USA                      | 327167434                | America                  |\n",
       "| 2020-01-13               | 13                       |  1                       | 2020                     | 0                        | 0                        | United_States_of_America | US                       | USA                      | 327167434                | America                  |\n",
       "| 2020-01-12               | 12                       |  1                       | 2020                     | 0                        | 0                        | United_States_of_America | US                       | USA                      | 327167434                | America                  |\n",
       "| 2020-01-11               | 11                       |  1                       | 2020                     | 0                        | 0                        | United_States_of_America | US                       | USA                      | 327167434                | America                  |\n",
       "| 2020-01-10               | 10                       |  1                       | 2020                     | 0                        | 0                        | United_States_of_America | US                       | USA                      | 327167434                | America                  |\n",
       "| 2020-01-09               |  9                       |  1                       | 2020                     | 0                        | 0                        | United_States_of_America | US                       | USA                      | 327167434                | America                  |\n",
       "| 2020-01-08               |  8                       |  1                       | 2020                     | 0                        | 0                        | United_States_of_America | US                       | USA                      | 327167434                | America                  |\n",
       "| 2020-01-07               |  7                       |  1                       | 2020                     | 0                        | 0                        | United_States_of_America | US                       | USA                      | 327167434                | America                  |\n",
       "| 2020-01-06               |  6                       |  1                       | 2020                     | 0                        | 0                        | United_States_of_America | US                       | USA                      | 327167434                | America                  |\n",
       "| 2020-01-05               |  5                       |  1                       | 2020                     | 0                        | 0                        | United_States_of_America | US                       | USA                      | 327167434                | America                  |\n",
       "| 2020-01-04               |  4                       |  1                       | 2020                     | 0                        | 0                        | United_States_of_America | US                       | USA                      | 327167434                | America                  |\n",
       "| 2020-01-03               |  3                       |  1                       | 2020                     | 0                        | 0                        | United_States_of_America | US                       | USA                      | 327167434                | America                  |\n",
       "| 2020-01-02               |  2                       |  1                       | 2020                     | 0                        | 0                        | United_States_of_America | US                       | USA                      | 327167434                | America                  |\n",
       "| 2020-01-01               |  1                       |  1                       | 2020                     | 0                        | 0                        | United_States_of_America | US                       | USA                      | 327167434                | America                  |\n",
       "| 2019-12-31               | 31                       | 12                       | 2019                     | 0                        | 0                        | United_States_of_America | US                       | USA                      | 327167434                | America                  |\n",
       "\n"
      ],
      "text/plain": [
       "     dateRep    day month year cases deaths countriesAndTerritories  geoId\n",
       "1    2020-06-15 15  6     2020 17110  612   Brazil                   BR   \n",
       "2    2020-06-14 14  6     2020 21704  892   Brazil                   BR   \n",
       "3    2020-06-13 13  6     2020 25982  909   Brazil                   BR   \n",
       "4    2020-06-12 12  6     2020 30412 1239   Brazil                   BR   \n",
       "5    2020-06-11 11  6     2020 32913 1274   Brazil                   BR   \n",
       "6    2020-06-10 10  6     2020 32091 1272   Brazil                   BR   \n",
       "7    2020-06-09  9  6     2020 15654  679   Brazil                   BR   \n",
       "8    2020-06-08  8  6     2020 18921  525   Brazil                   BR   \n",
       "9    2020-06-07  7  6     2020 27075  904   Brazil                   BR   \n",
       "10   2020-06-06  6  6     2020 30830 1005   Brazil                   BR   \n",
       "11   2020-06-05  5  6     2020 30916 1473   Brazil                   BR   \n",
       "12   2020-06-04  4  6     2020 28633 1349   Brazil                   BR   \n",
       "13   2020-06-03  3  6     2020 28936 1262   Brazil                   BR   \n",
       "14   2020-06-02  2  6     2020 11598  623   Brazil                   BR   \n",
       "15   2020-06-01  1  6     2020 16409  480   Brazil                   BR   \n",
       "16   2020-05-31 31  5     2020 33274  956   Brazil                   BR   \n",
       "17   2020-05-30 30  5     2020 26928 1124   Brazil                   BR   \n",
       "18   2020-05-29 29  5     2020 26417 1156   Brazil                   BR   \n",
       "19   2020-05-28 28  5     2020 20599 1086   Brazil                   BR   \n",
       "20   2020-05-27 27  5     2020 16324 1039   Brazil                   BR   \n",
       "21   2020-05-26 26  5     2020 11687  807   Brazil                   BR   \n",
       "22   2020-05-25 25  5     2020 15813  653   Brazil                   BR   \n",
       "23   2020-05-24 24  5     2020 16508  965   Brazil                   BR   \n",
       "24   2020-05-23 23  5     2020 20803 1001   Brazil                   BR   \n",
       "25   2020-05-22 22  5     2020 18508 1188   Brazil                   BR   \n",
       "26   2020-05-21 21  5     2020 19951  888   Brazil                   BR   \n",
       "27   2020-05-20 20  5     2020 17408 1179   Brazil                   BR   \n",
       "28   2020-05-19 19  5     2020 13140  674   Brazil                   BR   \n",
       "29   2020-05-18 18  5     2020  7938  485   Brazil                   BR   \n",
       "30   2020-05-17 17  5     2020 14919  816   Brazil                   BR   \n",
       "...  ...        ... ...   ...  ...   ...    ...                      ...  \n",
       "1370 2020-01-29 29   1    2020 0     0      United_States_of_America US   \n",
       "1371 2020-01-28 28   1    2020 0     0      United_States_of_America US   \n",
       "1372 2020-01-27 27   1    2020 3     0      United_States_of_America US   \n",
       "1373 2020-01-26 26   1    2020 0     0      United_States_of_America US   \n",
       "1374 2020-01-25 25   1    2020 1     0      United_States_of_America US   \n",
       "1375 2020-01-24 24   1    2020 0     0      United_States_of_America US   \n",
       "1376 2020-01-23 23   1    2020 0     0      United_States_of_America US   \n",
       "1377 2020-01-22 22   1    2020 0     0      United_States_of_America US   \n",
       "1378 2020-01-21 21   1    2020 1     0      United_States_of_America US   \n",
       "1379 2020-01-20 20   1    2020 0     0      United_States_of_America US   \n",
       "1380 2020-01-19 19   1    2020 0     0      United_States_of_America US   \n",
       "1381 2020-01-18 18   1    2020 0     0      United_States_of_America US   \n",
       "1382 2020-01-17 17   1    2020 0     0      United_States_of_America US   \n",
       "1383 2020-01-16 16   1    2020 0     0      United_States_of_America US   \n",
       "1384 2020-01-15 15   1    2020 0     0      United_States_of_America US   \n",
       "1385 2020-01-14 14   1    2020 0     0      United_States_of_America US   \n",
       "1386 2020-01-13 13   1    2020 0     0      United_States_of_America US   \n",
       "1387 2020-01-12 12   1    2020 0     0      United_States_of_America US   \n",
       "1388 2020-01-11 11   1    2020 0     0      United_States_of_America US   \n",
       "1389 2020-01-10 10   1    2020 0     0      United_States_of_America US   \n",
       "1390 2020-01-09  9   1    2020 0     0      United_States_of_America US   \n",
       "1391 2020-01-08  8   1    2020 0     0      United_States_of_America US   \n",
       "1392 2020-01-07  7   1    2020 0     0      United_States_of_America US   \n",
       "1393 2020-01-06  6   1    2020 0     0      United_States_of_America US   \n",
       "1394 2020-01-05  5   1    2020 0     0      United_States_of_America US   \n",
       "1395 2020-01-04  4   1    2020 0     0      United_States_of_America US   \n",
       "1396 2020-01-03  3   1    2020 0     0      United_States_of_America US   \n",
       "1397 2020-01-02  2   1    2020 0     0      United_States_of_America US   \n",
       "1398 2020-01-01  1   1    2020 0     0      United_States_of_America US   \n",
       "1399 2019-12-31 31  12    2019 0     0      United_States_of_America US   \n",
       "     countryterritoryCode popData2018 continentExp\n",
       "1    BRA                  209469333   America     \n",
       "2    BRA                  209469333   America     \n",
       "3    BRA                  209469333   America     \n",
       "4    BRA                  209469333   America     \n",
       "5    BRA                  209469333   America     \n",
       "6    BRA                  209469333   America     \n",
       "7    BRA                  209469333   America     \n",
       "8    BRA                  209469333   America     \n",
       "9    BRA                  209469333   America     \n",
       "10   BRA                  209469333   America     \n",
       "11   BRA                  209469333   America     \n",
       "12   BRA                  209469333   America     \n",
       "13   BRA                  209469333   America     \n",
       "14   BRA                  209469333   America     \n",
       "15   BRA                  209469333   America     \n",
       "16   BRA                  209469333   America     \n",
       "17   BRA                  209469333   America     \n",
       "18   BRA                  209469333   America     \n",
       "19   BRA                  209469333   America     \n",
       "20   BRA                  209469333   America     \n",
       "21   BRA                  209469333   America     \n",
       "22   BRA                  209469333   America     \n",
       "23   BRA                  209469333   America     \n",
       "24   BRA                  209469333   America     \n",
       "25   BRA                  209469333   America     \n",
       "26   BRA                  209469333   America     \n",
       "27   BRA                  209469333   America     \n",
       "28   BRA                  209469333   America     \n",
       "29   BRA                  209469333   America     \n",
       "30   BRA                  209469333   America     \n",
       "...  ...                  ...         ...         \n",
       "1370 USA                  327167434   America     \n",
       "1371 USA                  327167434   America     \n",
       "1372 USA                  327167434   America     \n",
       "1373 USA                  327167434   America     \n",
       "1374 USA                  327167434   America     \n",
       "1375 USA                  327167434   America     \n",
       "1376 USA                  327167434   America     \n",
       "1377 USA                  327167434   America     \n",
       "1378 USA                  327167434   America     \n",
       "1379 USA                  327167434   America     \n",
       "1380 USA                  327167434   America     \n",
       "1381 USA                  327167434   America     \n",
       "1382 USA                  327167434   America     \n",
       "1383 USA                  327167434   America     \n",
       "1384 USA                  327167434   America     \n",
       "1385 USA                  327167434   America     \n",
       "1386 USA                  327167434   America     \n",
       "1387 USA                  327167434   America     \n",
       "1388 USA                  327167434   America     \n",
       "1389 USA                  327167434   America     \n",
       "1390 USA                  327167434   America     \n",
       "1391 USA                  327167434   America     \n",
       "1392 USA                  327167434   America     \n",
       "1393 USA                  327167434   America     \n",
       "1394 USA                  327167434   America     \n",
       "1395 USA                  327167434   America     \n",
       "1396 USA                  327167434   America     \n",
       "1397 USA                  327167434   America     \n",
       "1398 USA                  327167434   America     \n",
       "1399 USA                  327167434   America     "
      ]
     },
     "metadata": {},
     "output_type": "display_data"
    }
   ],
   "source": [
    "sub1"
   ]
  },
  {
   "cell_type": "code",
   "execution_count": 35,
   "metadata": {},
   "outputs": [
    {
     "ename": "ERROR",
     "evalue": "Error in ggplot(sub1, aes(x = dateRep, y = cases)): no se pudo encontrar la función \"ggplot\"\n",
     "output_type": "error",
     "traceback": [
      "Error in ggplot(sub1, aes(x = dateRep, y = cases)): no se pudo encontrar la función \"ggplot\"\nTraceback:\n"
     ]
    }
   ],
   "source": [
    "fig <- ggplot(sub1,aes(x=dateRep,y=cases ))+geom_line()\n",
    "fig <- fig +ggtitle(\"Cases vs Time\" )\n",
    "fig <- fig+ labs( y=\"Cases \", x = \"Time\")+facet_wrap(~sub1$countriesAndTerritories,scales=\"free\")"
   ]
  },
  {
   "cell_type": "code",
   "execution_count": 103,
   "metadata": {},
   "outputs": [
    {
     "data": {
      "image/png": "[encoded data removed]",
      "text/plain": [
       "plot without title"
      ]
     },
     "metadata": {},
     "output_type": "display_data"
    }
   ],
   "source": [
    "fig"
   ]
  },
  {
   "cell_type": "code",
   "execution_count": 104,
   "metadata": {},
   "outputs": [],
   "source": [
    "fig <- ggplot(sub1,aes(x=dateRep,y=deaths ))+geom_line()\n",
    "fig <- fig +ggtitle(\"Death vs Time\" )\n",
    "fig <- fig+ labs( y=\"death \", x = \"Time\")+facet_wrap(~sub1$countriesAndTerritories,scales=\"free\")"
   ]
  },
  {
   "cell_type": "code",
   "execution_count": 105,
   "metadata": {},
   "outputs": [
    {
     "data": {
      "image/png": "[encoded data removed]",
      "text/plain": [
       "plot without title"
      ]
     },
     "metadata": {},
     "output_type": "display_data"
    }
   ],
   "source": [
    "fig"
   ]
  },
  {
   "cell_type": "code",
   "execution_count": 113,
   "metadata": {},
   "outputs": [],
   "source": [
    "fig <- ggplot(sub1,aes(x=dateRep,y=deaths, col = 'Deaths' ))+geom_line()\n",
    "fig <- fig + geom_line(aes(y=cases , col = 'Cases'))\n",
    "fig <- fig +ggtitle(\"Death and cases  for the different countries as a function of time \" )\n",
    "fig <- fig+ labs( y=\"deaths and cases\", x = \"Time\")+facet_wrap(~sub1$countriesAndTerritories,scales=\"free\")"
   ]
  },
  {
   "cell_type": "code",
   "execution_count": 114,
   "metadata": {},
   "outputs": [
    {
     "data": {
      "image/png": "[encoded data removed]",
      "text/plain": [
       "plot without title"
      ]
     },
     "metadata": {},
     "output_type": "display_data"
    }
   ],
   "source": [
    "fig"
   ]
  },
  {
   "cell_type": "code",
   "execution_count": null,
   "metadata": {},
   "outputs": [],
   "source": []
  }
 ],
 "metadata": {
  "kernelspec": {
   "display_name": "R",
   "language": "R",
   "name": "ir"
  },
  "language_info": {
   "codemirror_mode": "r",
   "file_extension": ".r",
   "mimetype": "text/x-r-source",
   "name": "R",
   "pygments_lexer": "r",
   "version": "3.6.1"
  }
 },
 "nbformat": 4,
 "nbformat_minor": 4
}
