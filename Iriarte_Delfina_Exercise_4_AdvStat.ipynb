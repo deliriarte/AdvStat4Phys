{
 "cells": [
  {
   "cell_type": "markdown",
   "metadata": {},
   "source": [
    "## Exercise 1\n",
    "\n",
    "The triangular distribution, in the interval (a, b), is given by the following:\n",
    "\n",
    "\n",
    " $ \n",
    "    f(X) = \\left\\{\\begin{array}{lr}\n",
    "        \\frac{2(x-a)}{(b-a)(c-a)}, & \\text{for } a\\leq x\\leq c\\\\\n",
    "        \\frac{2(b-x)}{(b-a)(b-c)}, & \\text{for } c\\leq x\\leq b\\\\\n",
    "        0, & \\text{otherwise}\n",
    "        \\end{array}\\right\\} \n",
    "  $\n",
    "  \n",
    " where c ∈ [a, b].\n",
    "  \n",
    " a) plot the function, given the interval (a, b)"
   ]
  },
  {
   "cell_type": "code",
   "execution_count": 37,
   "metadata": {},
   "outputs": [],
   "source": [
    "# We define the density function\n",
    "f <- function(x, a, b, c) {\n",
    "        if (a < c & c < b){\n",
    "            result <- c()\n",
    "            for (i in x){\n",
    "                val <- if(i >= a & i <=c){2*(i-a)/((b-a)*(c-a))\n",
    "                                        } \n",
    "                       else if (i > c & i <=b) {2*(b-i)/((b-a)*(b-c))\n",
    "                                        } else 0\n",
    "                result <- c(result, val)}\n",
    "                                    return(result)\n",
    "            }\n",
    "        else {print('not valid interval')}\n",
    "                           }\n",
    "                      "
   ]
  },
  {
   "cell_type": "code",
   "execution_count": 38,
   "metadata": {},
   "outputs": [],
   "source": [
    "a <- 1\n",
    "b <- 6\n",
    "c <- 3\n",
    "\n",
    "x <- seq(a, b, 0.5)\n",
    "triangle <- f(x, a, b, c)\n",
    "\n",
    "df <- data.frame(x, triangle)"
   ]
  },
  {
   "cell_type": "code",
   "execution_count": 39,
   "metadata": {},
   "outputs": [],
   "source": [
    "library(ggplot2)"
   ]
  },
  {
   "cell_type": "code",
   "execution_count": 40,
   "metadata": {},
   "outputs": [
    {
     "data": {
      "image/png": "[encoded data removed]",
      "text/plain": [
       "plot without title"
      ]
     },
     "metadata": {},
     "output_type": "display_data"
    }
   ],
   "source": [
    "g <- ggplot(df,aes(x = x,y=triangle, col = 'Triangle Function'))+geom_line()+ggtitle(\"Triangle distribution\")\n",
    "g <- g + labs( y=\"f(x)\", x = \"x\") \n",
    "g\n"
   ]
  },
  {
   "cell_type": "markdown",
   "metadata": {},
   "source": [
    "b) and write an algorithm to generate random numbers from the triangular distribution"
   ]
  },
  {
   "cell_type": "code",
   "execution_count": 41,
   "metadata": {},
   "outputs": [],
   "source": [
    "#The distribution function is given by\n",
    "dounif <- function(x, a, b, c) {\n",
    "        if (a < c & c < b){\n",
    "            result <- c()\n",
    "            for (i in x){\n",
    "                val <- if(i >= a & i <=c){(i**2 -2*a*x+a**2)/((b-a)*(c-a))\n",
    "                                        } \n",
    "                       else if (i > c & i <=b) {(-i**2 +2*b*x+a*c-a*b-c*b)/((b-a)*(b-c))\n",
    "                                        } \n",
    "                       else if (i > b){1\n",
    "                                      } else 0\n",
    "                result <- c(result, val)}\n",
    "                                    return(result)\n",
    "            }\n",
    "        else {print('not valid interval')}\n",
    "                           }"
   ]
  },
  {
   "cell_type": "code",
   "execution_count": 42,
   "metadata": {},
   "outputs": [],
   "source": [
    "#The cumulative function is given by inverting the function\n",
    "qounif <- function(x, a, b, c) {\n",
    "        if (a < c & c < b){\n",
    "            result <- c()\n",
    "            for (i in x){\n",
    "                val <- if(i > 0 & i <= ((-a+c)/(b-a))){sqrt(i*(b-a)*(c-a)) +a\n",
    "                                        } \n",
    "                       else if (i > ((-a+c)/(b-a)) & i <=1) {-sqrt(-i*(b-a)*(b-c)-c*b-a*b+a*c+b**2) +b\n",
    "                       } \n",
    "                       else if (i > 1){1\n",
    "                                      } else 0\n",
    "                result <- c(result, val)}\n",
    "                                    return(result)\n",
    "            }\n",
    "        else {print('not valid interval')}\n",
    "                           }"
   ]
  },
  {
   "cell_type": "code",
   "execution_count": 43,
   "metadata": {},
   "outputs": [],
   "source": [
    "rounif <- function(n, a, b, c) {\n",
    "    us <- runif(n)\n",
    "        if (a < c & c < b){\n",
    "            result <- c()\n",
    "            for (i in us){\n",
    "                val <- if(i > 0 & i <= ((-a+c)/(b-a))){sqrt(i*(b-a)*(c-a)) +a\n",
    "                                        } \n",
    "                       else if (i > ((-a+c)/(b-a)) & i <=1) {-sqrt(-i*(b-a)*(b-c)-c*b-a*b+a*c+b**2) +b\n",
    "                       } \n",
    "                       else if (i > 1){1\n",
    "                                      } else 0\n",
    "                result <- c(result, val)}\n",
    "                                    return(result)\n",
    "            }\n",
    "        else {print('not valid interval')}\n",
    "                           }"
   ]
  },
  {
   "cell_type": "markdown",
   "metadata": {},
   "source": [
    "c) generate 104 random number from the distribution, show them in an histogram and superimpose\n",
    "the analytical curve"
   ]
  },
  {
   "cell_type": "code",
   "execution_count": 44,
   "metadata": {},
   "outputs": [
    {
     "name": "stderr",
     "output_type": "stream",
     "text": [
      "Warning message in plot.xy(xy.coords(x, y), type = type, ...):\n",
      "\"\"add\" is not a graphical parameter\""
     ]
    },
    {
     "data": {
      "image/png": "[encoded data removed]",
      "text/plain": [
       "Plot with title \"Sampling of random variable given the density distribution\""
      ]
     },
     "metadata": {},
     "output_type": "display_data"
    }
   ],
   "source": [
    "val <- rounif(104, a, b, c)\n",
    "val <-val[val!=0] \n",
    "\n",
    "hist(val , breaks=seq(1,6,0.5), freq=FALSE ,\n",
    "col=\"gold2\", xlim=c(1, 6), xlab=\"x\", ylim = c(0,0.5),\n",
    "main=\"Sampling of random variable given the density distribution\")\n",
    "lines(x, triangle,  col=\"navy\", lt=3, lw=3, add=TRUE)"
   ]
  },
  {
   "cell_type": "markdown",
   "metadata": {},
   "source": [
    "## Exercise 2\n",
    "Given a discrete probability distribution, defined by the following probabilities: 0.05, 0.19, 0.14,\n",
    "0.17, 0.02, 0.11, 0.06, 0.05, 0.04, 0.17\n",
    "\n",
    "a) plot the probability density function and the cumulative density function"
   ]
  },
  {
   "cell_type": "code",
   "execution_count": 9,
   "metadata": {},
   "outputs": [
    {
     "data": {
      "image/png": "[encoded data removed]",
      "text/plain": [
       "Plot with title \"Probability distribution\""
      ]
     },
     "metadata": {},
     "output_type": "display_data"
    }
   ],
   "source": [
    "#For discrete distribution the probability density function is\n",
    "prob <- c(0.05, 0.19, 0.14,0.17, 0.02, 0.11, 0.06, 0.05, 0.04, 0.17)\n",
    "x <- 1:(length(prob))\n",
    "\n",
    "plot(x, prob, type = \"h\", lwd = 2, col = \"lightblue\",\n",
    "     ylab = \"Probability\", main = \"Probability distribution\")\n",
    "points(x, prob, pch = 16, cex=2, col = \"salmon\")"
   ]
  },
  {
   "cell_type": "markdown",
   "metadata": {},
   "source": [
    "The cumulative distribution function is given by \n",
    "\n",
    "$F(X_j) = P(X \\leq x_j) = \\sum_j p_j$"
   ]
  },
  {
   "cell_type": "code",
   "execution_count": 10,
   "metadata": {},
   "outputs": [
    {
     "name": "stdout",
     "output_type": "stream",
     "text": [
      "[1] 0.05\n",
      "[1] 0.24\n",
      "[1] 0.38\n",
      "[1] 0.55\n",
      "[1] 0.57\n",
      "[1] 0.68\n",
      "[1] 0.74\n",
      "[1] 0.79\n",
      "[1] 0.83\n",
      "[1] 1\n"
     ]
    }
   ],
   "source": [
    "cumfunc = c()\n",
    "for (i in 1:length(x)){\n",
    "    var = sum(prob[1:i])\n",
    "    print(var)\n",
    "    cumfunc= append(cumfunc, sum(var))\n",
    "}"
   ]
  },
  {
   "cell_type": "code",
   "execution_count": 11,
   "metadata": {},
   "outputs": [
    {
     "name": "stderr",
     "output_type": "stream",
     "text": [
      "Warning message:\n",
      "\"package 'ggthemes' was built under R version 3.6.3\""
     ]
    }
   ],
   "source": [
    "library(ggthemes)"
   ]
  },
  {
   "cell_type": "code",
   "execution_count": 12,
   "metadata": {},
   "outputs": [
    {
     "data": {
      "image/png": "[encoded data removed]",
      "text/plain": [
       "plot without title"
      ]
     },
     "metadata": {},
     "output_type": "display_data"
    }
   ],
   "source": [
    "cum = data.frame(x, cumfunc)\n",
    "g <- ggplot(cum, aes(x, cumfunc)) + geom_step() \n",
    "g <- g  +ggtitle(\"Cumulative distribution\")+ theme_economist() + \n",
    "  scale_color_economist()\n",
    "g <- g + geom_point(aes(x, cumfunc, size = 1))\n",
    "g <- g + labs( y=\"Probability\", x = \"x\", size = \"Points\")\n",
    "g\n"
   ]
  },
  {
   "cell_type": "markdown",
   "metadata": {},
   "source": [
    "b) write an algorithm to generate random numbers from the discrete probability distribution\n"
   ]
  },
  {
   "cell_type": "markdown",
   "metadata": {},
   "source": [
    " Assume that X is a discrete random variable such that $P(X=x_i)=p_i$. \n",
    " The algorithm proceeds as follows:\n",
    "1. Generate $U∼Unif(0,1)$\n",
    "2. Determine the index k such that $\\sum^{k−1}_{j=1}p_j \\leq U \\leq \\sum^{k}_{j=1}p_j$ , and return $X=x_k$."
   ]
  },
  {
   "cell_type": "code",
   "execution_count": 13,
   "metadata": {},
   "outputs": [],
   "source": [
    "random <- function(n, cum) {\n",
    "   #We create uniform distributed random var between 0,1\n",
    "    U <- runif(n, min=0,max = 1)\n",
    "    \n",
    "    X <- rep(0,n) \n",
    "    \n",
    "    #all the runif that lands in the first interval takes the value of p\n",
    "    w1 <- which(U <= cum[1])\n",
    "    X[w1] <- 1\n",
    "    \n",
    "    for (i in 1:(length(cum)-1)){\n",
    "            wi <- which( (U > cum[i]) & (U < cum[i:i+1]) )\n",
    "            X[wi] <-i+1}\n",
    "    \n",
    "    return(X)\n",
    "    }"
   ]
  },
  {
   "cell_type": "code",
   "execution_count": 14,
   "metadata": {},
   "outputs": [],
   "source": [
    "#Generate random data\n",
    "rand <- random(5000, cumfunc)\n",
    "df <- data.frame(x, rand, prob)"
   ]
  },
  {
   "cell_type": "code",
   "execution_count": 15,
   "metadata": {},
   "outputs": [
    {
     "data": {
      "image/png": "[encoded data removed]",
      "text/plain": [
       "plot without title"
      ]
     },
     "metadata": {},
     "output_type": "display_data"
    }
   ],
   "source": [
    "p<-ggplot(df, aes(x=rand, color=x))\n",
    "p <- p + geom_histogram(aes(y = ..ncount..),breaks=seq(0, 10, by = 1), col=\"cyan\", fill=\"green\", alpha = .2) \n",
    "p <- p + geom_point(aes(x, prob, col = \"\")) + geom_density(col = \"slateblue2\") + labs( y=\"Probability\", x = \"x\", col = \"Density points\")\n",
    "p"
   ]
  },
  {
   "cell_type": "code",
   "execution_count": 16,
   "metadata": {},
   "outputs": [
    {
     "name": "stderr",
     "output_type": "stream",
     "text": [
      "Warning message in plot.xy(xy.coords(x, y), type = type, ...):\n",
      "\"\"add\" is not a graphical parameter\""
     ]
    },
    {
     "data": {
      "image/png": "[encoded data removed]",
      "text/plain": [
       "Plot with title \"Sampling of random variable given the density distribution\""
      ]
     },
     "metadata": {},
     "output_type": "display_data"
    }
   ],
   "source": [
    "hist(rand, breaks = seq(0,10, 1),  freq=FALSE ,\n",
    "col=\"plum\", xlim=c(0, 10), xlab=\"x\",\n",
    "main=\"Sampling of random variable given the density distribution\")\n",
    "points(prob, col=\"navy\", lt=3, lw=3, add=TRUE)"
   ]
  },
  {
   "cell_type": "markdown",
   "metadata": {},
   "source": [
    "## Exercise 3\n",
    "Generate random variables from the following distribution\n",
    "\n",
    "$f(X) = \\frac{2}{\\pi R^2} \\sqrt{R^2 -X^2}$\n",
    "\n",
    "where $-R \\leq x \\leq R$\n",
    "\n",
    "a) using the acceptance-rejection algorithm, assume $ M = \\frac{2}{(\\pi R)}$ and generate $10^4$ random variables,plotting them in an histogram\n"
   ]
  },
  {
   "cell_type": "code",
   "execution_count": 17,
   "metadata": {},
   "outputs": [],
   "source": [
    "#distribution function\n",
    "f <- function(x, R){\n",
    "    val <- ifelse((x >= -R & x<= R), (2/(pi * R**2))*sqrt(R**2 - x**2), 0)\n",
    "    return (val)\n",
    "}"
   ]
  },
  {
   "cell_type": "code",
   "execution_count": 18,
   "metadata": {},
   "outputs": [],
   "source": [
    "#generate uniform u1\n",
    "random <- function(n, R, f){\n",
    "    u.1 <- runif(n, min = -R, max = R)\n",
    "    u.2 <- runif(n, min = 0, max = 1)\n",
    "    \n",
    "    f.max <- 2/(pi * R)\n",
    "    y <- ifelse(u.2 * f.max < f(u.1, R), u.1, NA)\n",
    "    y.clean <- y[!is.na(y)]\n",
    "    efficiency <- length(y.clean )/ length(y)\n",
    "    print(c(\"The efficency of the model is=\", efficiency))\n",
    "    return(y.clean)\n",
    "    }"
   ]
  },
  {
   "cell_type": "code",
   "execution_count": 19,
   "metadata": {},
   "outputs": [
    {
     "name": "stdout",
     "output_type": "stream",
     "text": [
      "[1] \"The efficency of the model is=\" \"0.7806\"                        \n"
     ]
    }
   ],
   "source": [
    "R <- 5\n",
    "n <- 10**4\n",
    "val <- random(n, R, f)"
   ]
  },
  {
   "cell_type": "code",
   "execution_count": 20,
   "metadata": {},
   "outputs": [],
   "source": [
    "x <- seq(-R, R, by = 10**4)\n",
    "val_real <- f(x, R)\n",
    "df <- data.frame(x, val, val_real)"
   ]
  },
  {
   "cell_type": "code",
   "execution_count": 21,
   "metadata": {},
   "outputs": [
    {
     "data": {
      "image/png": "[encoded data removed]",
      "text/plain": [
       "plot without title"
      ]
     },
     "metadata": {},
     "output_type": "display_data"
    }
   ],
   "source": [
    "p<-ggplot(data.frame(val), aes(x=val, color=x)) \n",
    "p <- p + geom_histogram(aes(y = ..ncount..),breaks=seq(-5, 5, by = 0.1), col=\"cyan\", fill=\"green\", alpha = .2) + xlim(c(-5, 5))\n",
    "p <- p +  labs( y=\"Probability\", x = \"x\")\n",
    "p"
   ]
  },
  {
   "cell_type": "code",
   "execution_count": 22,
   "metadata": {},
   "outputs": [
    {
     "data": {
      "image/png": "[encoded data removed]",
      "text/plain": [
       "Plot with title \"Acceptance/Rejection sampling\""
      ]
     },
     "metadata": {},
     "output_type": "display_data"
    }
   ],
   "source": [
    "hist(val , breaks=seq(-5,5,0.05), freq=FALSE ,\n",
    "col=\"slateblue2\", xlim=c(-5, 5), xlab=\"x\",\n",
    "main=\"Acceptance/Rejection sampling\")\n",
    "curve(f(x,R), col=\"navy\", lt=3, lw=3, add=TRUE)\n"
   ]
  },
  {
   "cell_type": "markdown",
   "metadata": {},
   "source": [
    "## Exercise 4\n",
    "\n",
    "An important property of the gamma distribution is the so-called reproductive property given a sequence of independent random variable $X_j \\sim Gamma(\\alpha_j;\\beta)$, it follows that\n",
    "\n",
    "$Y = \\sum_{j=1}^n X_j \\Rightarrow Y \\sim Gamma(\\alpha, \\beta)$\n",
    "\n",
    "where $\\alpha = \\sum_{j=1}^n \\alpha_j$\n",
    "\n",
    "if $\\alpha = m$ is an integer, a random variable from gamma distribution $Gamma(m; \\beta)$ (also known\n",
    "as Erlang distribution) can be obtained by summing m independent exponential random variables $X_j \\sim Exp(\\beta)$:\n",
    "\n",
    "$Y = \\beta \\sum_{j=1}^n (-ln U_j) = -\\beta ln \\prod_{j=1}^n U_j$\n",
    "\n",
    "a) write an algorithm to sample variables from an Erlang distribution $Gamma(m, \\beta)$\n"
   ]
  },
  {
   "cell_type": "code",
   "execution_count": 45,
   "metadata": {},
   "outputs": [],
   "source": [
    "#Erlang distribution \n",
    "erlang <- function(k, lambda){\n",
    "    prod <- 1 \n",
    "    for (i in 1:k){\n",
    "            U <- runif(i)       \n",
    "            prod <- prod * (1 - U[i])\n",
    "                }\n",
    "    Y <-  - (lambda) * log(prod)\n",
    "    return (Y)\n",
    "    }"
   ]
  },
  {
   "cell_type": "code",
   "execution_count": 46,
   "metadata": {},
   "outputs": [],
   "source": [
    "k <- 10\n",
    "lambda <-1\n",
    "val <- c()\n",
    "N <- 1000\n",
    "for (i in 1:1000){\n",
    "    er <- erlang(k, lambda)\n",
    "    val <- append(val, erlang(k, lambda ))}"
   ]
  },
  {
   "cell_type": "code",
   "execution_count": 50,
   "metadata": {},
   "outputs": [
    {
     "name": "stderr",
     "output_type": "stream",
     "text": [
      "Warning message:\n",
      "\"Removed 6 rows containing non-finite values (stat_bin).\""
     ]
    },
    {
     "data": {
      "image/png": "[encoded data removed]",
      "text/plain": [
       "plot without title"
      ]
     },
     "metadata": {},
     "output_type": "display_data"
    }
   ],
   "source": [
    "p<-ggplot(data.frame(val), aes(x=val, color=x)) \n",
    "p <- p + geom_histogram(aes(y = ..ncount..),breaks=seq(3, 20, by = 0.1), col=\"cyan\", fill=\"green\", alpha = .2) + xlim(c(1, 20))\n",
    "p <- p +  labs( y=\"Probability\", x = \"x\") \n",
    "p <- p +ggtitle(\"Englar distribution\")+ theme_economist() + scale_color_economist()\n",
    "p <- p \n",
    "p"
   ]
  },
  {
   "cell_type": "code",
   "execution_count": 26,
   "metadata": {},
   "outputs": [],
   "source": [
    "derlang <- function(x, k, l=1) {\n",
    "    f <- dgamma(x, k, l)\n",
    "    f\n",
    "}"
   ]
  },
  {
   "cell_type": "code",
   "execution_count": 27,
   "metadata": {},
   "outputs": [
    {
     "data": {
      "text/html": [
       "<ol class=list-inline>\n",
       "\t<li>1.0137771196303e-06</li>\n",
       "\t<li>0.000190949253243898</li>\n",
       "\t<li>0.00270050393156048</li>\n",
       "\t<li>0.0132311916910503</li>\n",
       "\t<li>0.0362655774156437</li>\n",
       "\t<li>0.0688384890205628</li>\n",
       "\t<li>0.101404669500591</li>\n",
       "\t<li>0.124076917289419</li>\n",
       "\t<li>0.131755640009523</li>\n",
       "\t<li>0.125110035721133</li>\n",
       "</ol>\n"
      ],
      "text/latex": [
       "\\begin{enumerate*}\n",
       "\\item 1.0137771196303e-06\n",
       "\\item 0.000190949253243898\n",
       "\\item 0.00270050393156048\n",
       "\\item 0.0132311916910503\n",
       "\\item 0.0362655774156437\n",
       "\\item 0.0688384890205628\n",
       "\\item 0.101404669500591\n",
       "\\item 0.124076917289419\n",
       "\\item 0.131755640009523\n",
       "\\item 0.125110035721133\n",
       "\\end{enumerate*}\n"
      ],
      "text/markdown": [
       "1. 1.0137771196303e-06\n",
       "2. 0.000190949253243898\n",
       "3. 0.00270050393156048\n",
       "4. 0.0132311916910503\n",
       "5. 0.0362655774156437\n",
       "6. 0.0688384890205628\n",
       "7. 0.101404669500591\n",
       "8. 0.124076917289419\n",
       "9. 0.131755640009523\n",
       "10. 0.125110035721133\n",
       "\n",
       "\n"
      ],
      "text/plain": [
       " [1] 1.013777e-06 1.909493e-04 2.700504e-03 1.323119e-02 3.626558e-02\n",
       " [6] 6.883849e-02 1.014047e-01 1.240769e-01 1.317556e-01 1.251100e-01"
      ]
     },
     "metadata": {},
     "output_type": "display_data"
    }
   ],
   "source": [
    "x <- seq(1, 10)\n",
    "derlang(x, 10)"
   ]
  },
  {
   "cell_type": "code",
   "execution_count": 28,
   "metadata": {},
   "outputs": [
    {
     "data": {
      "image/png": "[encoded data removed]",
      "text/plain": [
       "Plot with title \"Sampling of Erlang distribution\""
      ]
     },
     "metadata": {},
     "output_type": "display_data"
    }
   ],
   "source": [
    "hist(val,  freq=FALSE ,\n",
    "col=\"plum\", xlim=c(0, 20), xlab=\"x\",\n",
    "main=\"Sampling of Erlang distribution\")\n",
    "curve(derlang(x, 10),col=\"navy\", lt=3, lw=3, add=TRUE)"
   ]
  },
  {
   "cell_type": "code",
   "execution_count": 29,
   "metadata": {},
   "outputs": [],
   "source": [
    "k <- 1\n",
    "lambda <-1\n",
    "val2 <- c()\n",
    "N <- 1000\n",
    "for (i in 1:1000){\n",
    "    er <- erlang(k, lambda)\n",
    "    val2 <- append(val2, er )}"
   ]
  },
  {
   "cell_type": "code",
   "execution_count": 30,
   "metadata": {},
   "outputs": [
    {
     "data": {
      "image/png": "[encoded data removed]",
      "text/plain": [
       "Plot with title \"Sampling of Erlang distribution\""
      ]
     },
     "metadata": {},
     "output_type": "display_data"
    }
   ],
   "source": [
    "hist(val2,  freq=FALSE ,\n",
    "col=\"plum\", xlim=c(0, 6), xlab=\"x\",\n",
    "main=\"Sampling of Erlang distribution\")\n",
    "curve(derlang(x, 1), col=\"navy\", lt=3, lw=3, add=TRUE)"
   ]
  },
  {
   "cell_type": "code",
   "execution_count": 31,
   "metadata": {},
   "outputs": [],
   "source": [
    "k <- 100\n",
    "lambda <-1\n",
    "val2 <- c()\n",
    "N <- 1000\n",
    "for (i in 1:1000){\n",
    "    er <- erlang(k, lambda)\n",
    "    val2 <- append(val2, er )}"
   ]
  },
  {
   "cell_type": "code",
   "execution_count": 32,
   "metadata": {},
   "outputs": [
    {
     "data": {
      "image/png": "[encoded data removed]",
      "text/plain": [
       "Plot with title \"Sampling of Erlang distribution\""
      ]
     },
     "metadata": {},
     "output_type": "display_data"
    }
   ],
   "source": [
    "hist(val2,  freq=FALSE ,\n",
    "col=\"plum\", xlim=c(60, 140), xlab=\"x\", ylim = c(0, 0.05),\n",
    "main=\"Sampling of Erlang distribution\")\n",
    "curve(derlang(x, 100), col=\"navy\", lt=3, lw=3, add=TRUE)"
   ]
  },
  {
   "cell_type": "markdown",
   "metadata": {},
   "source": [
    "## Exercise 5\n",
    "One of the first random number generator was proposed by von Neumann, the so-called  $\\textit{middle square algorithm}$.\n",
    "\n",
    "Write R code to implement this type of generator and, given a fixed digit number input, square it an remove the leading and trailing digits, in order to return a number with the same number of digits as the original number\n",
    "\n",
    "Suggestion : after having squared the number, convert it to a list of characters \n",
    "\n",
    "(number <- unlist(strsplit(as.character(x.squared),\"\")))\n",
    "\n",
    "and, after having removed the head and tail of the list, convert it back to a number \n",
    "\n",
    "(as.numeric(paste(number.after.trimming, collapse=\"\")))"
   ]
  },
  {
   "cell_type": "code",
   "execution_count": 33,
   "metadata": {},
   "outputs": [],
   "source": [
    "getNext <- function(x, d){\n",
    "    \n",
    "    #we square the value\n",
    "    x.2 <- x**2\n",
    "    \n",
    "    #count\n",
    "    temp <- as.numeric(unlist(strsplit(as.character(x.2), \"\")))\n",
    "\n",
    "    #split\n",
    "    temp_x <- length(temp)\n",
    "    diff_x <- 2 * d - temp_x\n",
    "\n",
    "    \n",
    "    dn <- ceiling(d/2)    \n",
    "    ifelse(diff_x == 0, temp<- temp, temp <- c(rep(0, diff_x), temp))\n",
    "    temp_n <- length (temp)\n",
    "    \n",
    "    #removed the head and tail of the list,\n",
    "    NEXT <- temp[-c(1:dn, ((temp_n-dn+1):temp_n))]\n",
    "    \n",
    "    #convert it to number\n",
    "    return(as.numeric(paste(NEXT, collapse=\"\")))\n",
    "    }\n",
    "\n",
    "Neuman <- function(x, n){\n",
    "    #n is the number of iteration\n",
    "    #x is the seed\n",
    "    \n",
    "    #we generate a vector for the values.\n",
    "    rx <- c()\n",
    "    #in order to obtain the number of digits \n",
    "    d <- max(2, length(unlist(strsplit(as.character(x), \"\"))))\n",
    "\n",
    "    rx[1] <- x\n",
    "    for (i in 2:(n+1)) {rx[i] <-getNext(rx[i-1], d)}\n",
    "    return(rx)\n",
    "    \n",
    "}"
   ]
  },
  {
   "cell_type": "code",
   "execution_count": 34,
   "metadata": {},
   "outputs": [
    {
     "data": {
      "text/html": [
       "<ol class=list-inline>\n",
       "\t<li>11</li>\n",
       "\t<li>12</li>\n",
       "\t<li>14</li>\n",
       "\t<li>19</li>\n",
       "\t<li>36</li>\n",
       "\t<li>29</li>\n",
       "</ol>\n"
      ],
      "text/latex": [
       "\\begin{enumerate*}\n",
       "\\item 11\n",
       "\\item 12\n",
       "\\item 14\n",
       "\\item 19\n",
       "\\item 36\n",
       "\\item 29\n",
       "\\end{enumerate*}\n"
      ],
      "text/markdown": [
       "1. 11\n",
       "2. 12\n",
       "3. 14\n",
       "4. 19\n",
       "5. 36\n",
       "6. 29\n",
       "\n",
       "\n"
      ],
      "text/plain": [
       "[1] 11 12 14 19 36 29"
      ]
     },
     "metadata": {},
     "output_type": "display_data"
    }
   ],
   "source": [
    "Neuman(11, 5)"
   ]
  },
  {
   "cell_type": "code",
   "execution_count": 35,
   "metadata": {},
   "outputs": [
    {
     "data": {
      "text/html": [
       "<ol class=list-inline>\n",
       "\t<li>97362</li>\n",
       "\t<li>9359</li>\n",
       "\t<li>7590</li>\n",
       "\t<li>7608</li>\n",
       "\t<li>7881</li>\n",
       "\t<li>2110</li>\n",
       "\t<li>4452</li>\n",
       "\t<li>9820</li>\n",
       "\t<li>6432</li>\n",
       "\t<li>1370</li>\n",
       "\t<li>1876</li>\n",
       "\t<li>3519</li>\n",
       "\t<li>2383</li>\n",
       "\t<li>5678</li>\n",
       "\t<li>2239</li>\n",
       "\t<li>5013</li>\n",
       "\t<li>5130</li>\n",
       "\t<li>6316</li>\n",
       "\t<li>9891</li>\n",
       "\t<li>7831</li>\n",
       "\t<li>1324</li>\n",
       "\t<li>1752</li>\n",
       "\t<li>3069</li>\n",
       "\t<li>9418</li>\n",
       "\t<li>8698</li>\n",
       "\t<li>5655</li>\n",
       "\t<li>1979</li>\n",
       "\t<li>3916</li>\n",
       "\t<li>5335</li>\n",
       "\t<li>8462</li>\n",
       "\t<li>1605</li>\n",
       "\t<li>2576</li>\n",
       "\t<li>6635</li>\n",
       "\t<li>4023</li>\n",
       "\t<li>6184</li>\n",
       "\t<li>8241</li>\n",
       "\t<li>7914</li>\n",
       "\t<li>2631</li>\n",
       "\t<li>6922</li>\n",
       "\t<li>7914</li>\n",
       "\t<li>2631</li>\n",
       "\t<li>6922</li>\n",
       "\t<li>7914</li>\n",
       "\t<li>2631</li>\n",
       "\t<li>6922</li>\n",
       "\t<li>7914</li>\n",
       "\t<li>2631</li>\n",
       "\t<li>6922</li>\n",
       "\t<li>7914</li>\n",
       "\t<li>2631</li>\n",
       "\t<li>6922</li>\n",
       "\t<li>7914</li>\n",
       "\t<li>2631</li>\n",
       "\t<li>6922</li>\n",
       "\t<li>7914</li>\n",
       "\t<li>2631</li>\n",
       "\t<li>6922</li>\n",
       "\t<li>7914</li>\n",
       "\t<li>2631</li>\n",
       "\t<li>6922</li>\n",
       "\t<li>7914</li>\n",
       "\t<li>2631</li>\n",
       "\t<li>6922</li>\n",
       "\t<li>7914</li>\n",
       "\t<li>2631</li>\n",
       "\t<li>6922</li>\n",
       "\t<li>7914</li>\n",
       "\t<li>2631</li>\n",
       "\t<li>6922</li>\n",
       "\t<li>7914</li>\n",
       "\t<li>2631</li>\n",
       "\t<li>6922</li>\n",
       "\t<li>7914</li>\n",
       "\t<li>2631</li>\n",
       "\t<li>6922</li>\n",
       "\t<li>7914</li>\n",
       "\t<li>2631</li>\n",
       "\t<li>6922</li>\n",
       "\t<li>7914</li>\n",
       "\t<li>2631</li>\n",
       "\t<li>6922</li>\n",
       "\t<li>7914</li>\n",
       "\t<li>2631</li>\n",
       "\t<li>6922</li>\n",
       "\t<li>7914</li>\n",
       "\t<li>2631</li>\n",
       "\t<li>6922</li>\n",
       "\t<li>7914</li>\n",
       "\t<li>2631</li>\n",
       "\t<li>6922</li>\n",
       "\t<li>7914</li>\n",
       "\t<li>2631</li>\n",
       "\t<li>6922</li>\n",
       "\t<li>7914</li>\n",
       "\t<li>2631</li>\n",
       "\t<li>6922</li>\n",
       "\t<li>7914</li>\n",
       "\t<li>2631</li>\n",
       "\t<li>6922</li>\n",
       "\t<li>7914</li>\n",
       "\t<li>2631</li>\n",
       "\t<li>6922</li>\n",
       "\t<li>7914</li>\n",
       "\t<li>2631</li>\n",
       "\t<li>6922</li>\n",
       "\t<li>7914</li>\n",
       "\t<li>2631</li>\n",
       "\t<li>6922</li>\n",
       "\t<li>7914</li>\n",
       "\t<li>2631</li>\n",
       "\t<li>6922</li>\n",
       "\t<li>7914</li>\n",
       "\t<li>2631</li>\n",
       "\t<li>6922</li>\n",
       "\t<li>7914</li>\n",
       "\t<li>2631</li>\n",
       "</ol>\n"
      ],
      "text/latex": [
       "\\begin{enumerate*}\n",
       "\\item 97362\n",
       "\\item 9359\n",
       "\\item 7590\n",
       "\\item 7608\n",
       "\\item 7881\n",
       "\\item 2110\n",
       "\\item 4452\n",
       "\\item 9820\n",
       "\\item 6432\n",
       "\\item 1370\n",
       "\\item 1876\n",
       "\\item 3519\n",
       "\\item 2383\n",
       "\\item 5678\n",
       "\\item 2239\n",
       "\\item 5013\n",
       "\\item 5130\n",
       "\\item 6316\n",
       "\\item 9891\n",
       "\\item 7831\n",
       "\\item 1324\n",
       "\\item 1752\n",
       "\\item 3069\n",
       "\\item 9418\n",
       "\\item 8698\n",
       "\\item 5655\n",
       "\\item 1979\n",
       "\\item 3916\n",
       "\\item 5335\n",
       "\\item 8462\n",
       "\\item 1605\n",
       "\\item 2576\n",
       "\\item 6635\n",
       "\\item 4023\n",
       "\\item 6184\n",
       "\\item 8241\n",
       "\\item 7914\n",
       "\\item 2631\n",
       "\\item 6922\n",
       "\\item 7914\n",
       "\\item 2631\n",
       "\\item 6922\n",
       "\\item 7914\n",
       "\\item 2631\n",
       "\\item 6922\n",
       "\\item 7914\n",
       "\\item 2631\n",
       "\\item 6922\n",
       "\\item 7914\n",
       "\\item 2631\n",
       "\\item 6922\n",
       "\\item 7914\n",
       "\\item 2631\n",
       "\\item 6922\n",
       "\\item 7914\n",
       "\\item 2631\n",
       "\\item 6922\n",
       "\\item 7914\n",
       "\\item 2631\n",
       "\\item 6922\n",
       "\\item 7914\n",
       "\\item 2631\n",
       "\\item 6922\n",
       "\\item 7914\n",
       "\\item 2631\n",
       "\\item 6922\n",
       "\\item 7914\n",
       "\\item 2631\n",
       "\\item 6922\n",
       "\\item 7914\n",
       "\\item 2631\n",
       "\\item 6922\n",
       "\\item 7914\n",
       "\\item 2631\n",
       "\\item 6922\n",
       "\\item 7914\n",
       "\\item 2631\n",
       "\\item 6922\n",
       "\\item 7914\n",
       "\\item 2631\n",
       "\\item 6922\n",
       "\\item 7914\n",
       "\\item 2631\n",
       "\\item 6922\n",
       "\\item 7914\n",
       "\\item 2631\n",
       "\\item 6922\n",
       "\\item 7914\n",
       "\\item 2631\n",
       "\\item 6922\n",
       "\\item 7914\n",
       "\\item 2631\n",
       "\\item 6922\n",
       "\\item 7914\n",
       "\\item 2631\n",
       "\\item 6922\n",
       "\\item 7914\n",
       "\\item 2631\n",
       "\\item 6922\n",
       "\\item 7914\n",
       "\\item 2631\n",
       "\\item 6922\n",
       "\\item 7914\n",
       "\\item 2631\n",
       "\\item 6922\n",
       "\\item 7914\n",
       "\\item 2631\n",
       "\\item 6922\n",
       "\\item 7914\n",
       "\\item 2631\n",
       "\\item 6922\n",
       "\\item 7914\n",
       "\\item 2631\n",
       "\\item 6922\n",
       "\\item 7914\n",
       "\\item 2631\n",
       "\\end{enumerate*}\n"
      ],
      "text/markdown": [
       "1. 97362\n",
       "2. 9359\n",
       "3. 7590\n",
       "4. 7608\n",
       "5. 7881\n",
       "6. 2110\n",
       "7. 4452\n",
       "8. 9820\n",
       "9. 6432\n",
       "10. 1370\n",
       "11. 1876\n",
       "12. 3519\n",
       "13. 2383\n",
       "14. 5678\n",
       "15. 2239\n",
       "16. 5013\n",
       "17. 5130\n",
       "18. 6316\n",
       "19. 9891\n",
       "20. 7831\n",
       "21. 1324\n",
       "22. 1752\n",
       "23. 3069\n",
       "24. 9418\n",
       "25. 8698\n",
       "26. 5655\n",
       "27. 1979\n",
       "28. 3916\n",
       "29. 5335\n",
       "30. 8462\n",
       "31. 1605\n",
       "32. 2576\n",
       "33. 6635\n",
       "34. 4023\n",
       "35. 6184\n",
       "36. 8241\n",
       "37. 7914\n",
       "38. 2631\n",
       "39. 6922\n",
       "40. 7914\n",
       "41. 2631\n",
       "42. 6922\n",
       "43. 7914\n",
       "44. 2631\n",
       "45. 6922\n",
       "46. 7914\n",
       "47. 2631\n",
       "48. 6922\n",
       "49. 7914\n",
       "50. 2631\n",
       "51. 6922\n",
       "52. 7914\n",
       "53. 2631\n",
       "54. 6922\n",
       "55. 7914\n",
       "56. 2631\n",
       "57. 6922\n",
       "58. 7914\n",
       "59. 2631\n",
       "60. 6922\n",
       "61. 7914\n",
       "62. 2631\n",
       "63. 6922\n",
       "64. 7914\n",
       "65. 2631\n",
       "66. 6922\n",
       "67. 7914\n",
       "68. 2631\n",
       "69. 6922\n",
       "70. 7914\n",
       "71. 2631\n",
       "72. 6922\n",
       "73. 7914\n",
       "74. 2631\n",
       "75. 6922\n",
       "76. 7914\n",
       "77. 2631\n",
       "78. 6922\n",
       "79. 7914\n",
       "80. 2631\n",
       "81. 6922\n",
       "82. 7914\n",
       "83. 2631\n",
       "84. 6922\n",
       "85. 7914\n",
       "86. 2631\n",
       "87. 6922\n",
       "88. 7914\n",
       "89. 2631\n",
       "90. 6922\n",
       "91. 7914\n",
       "92. 2631\n",
       "93. 6922\n",
       "94. 7914\n",
       "95. 2631\n",
       "96. 6922\n",
       "97. 7914\n",
       "98. 2631\n",
       "99. 6922\n",
       "100. 7914\n",
       "101. 2631\n",
       "102. 6922\n",
       "103. 7914\n",
       "104. 2631\n",
       "105. 6922\n",
       "106. 7914\n",
       "107. 2631\n",
       "108. 6922\n",
       "109. 7914\n",
       "110. 2631\n",
       "111. 6922\n",
       "112. 7914\n",
       "113. 2631\n",
       "114. 6922\n",
       "115. 7914\n",
       "116. 2631\n",
       "\n",
       "\n"
      ],
      "text/plain": [
       "  [1] 97362  9359  7590  7608  7881  2110  4452  9820  6432  1370  1876  3519\n",
       " [13]  2383  5678  2239  5013  5130  6316  9891  7831  1324  1752  3069  9418\n",
       " [25]  8698  5655  1979  3916  5335  8462  1605  2576  6635  4023  6184  8241\n",
       " [37]  7914  2631  6922  7914  2631  6922  7914  2631  6922  7914  2631  6922\n",
       " [49]  7914  2631  6922  7914  2631  6922  7914  2631  6922  7914  2631  6922\n",
       " [61]  7914  2631  6922  7914  2631  6922  7914  2631  6922  7914  2631  6922\n",
       " [73]  7914  2631  6922  7914  2631  6922  7914  2631  6922  7914  2631  6922\n",
       " [85]  7914  2631  6922  7914  2631  6922  7914  2631  6922  7914  2631  6922\n",
       " [97]  7914  2631  6922  7914  2631  6922  7914  2631  6922  7914  2631  6922\n",
       "[109]  7914  2631  6922  7914  2631  6922  7914  2631"
      ]
     },
     "metadata": {},
     "output_type": "display_data"
    }
   ],
   "source": [
    "Neuman(97362, 115)"
   ]
  },
  {
   "cell_type": "code",
   "execution_count": null,
   "metadata": {},
   "outputs": [],
   "source": []
  }
 ],
 "metadata": {
  "kernelspec": {
   "display_name": "R",
   "language": "R",
   "name": "ir"
  },
  "language_info": {
   "codemirror_mode": "r",
   "file_extension": ".r",
   "mimetype": "text/x-r-source",
   "name": "R",
   "pygments_lexer": "r",
   "version": "3.6.1"
  }
 },
 "nbformat": 4,
 "nbformat_minor": 4
}
