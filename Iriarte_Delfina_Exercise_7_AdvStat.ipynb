{
 "cells": [
  {
   "cell_type": "code",
   "execution_count": 5,
   "metadata": {},
   "outputs": [],
   "source": [
    "library(ggplot2)\n",
    "library(ggthemes)\n",
    "library(Bolstad2)\n",
    "options(repr.plot.width = 18, repr.plot.height = 10)"
   ]
  },
  {
   "cell_type": "markdown",
   "metadata": {},
   "source": [
    "## Exercise 1\n",
    "A researcher has collected n = 15 observations that are supposed to come from a Normal distribution with known variance $\\sigma^2 = 16$\n",
    "\n",
    "    26.8 26.3 28.3 28.5 16.3\n",
    "    31.9 28.5 27.2 20.9 27.5\n",
    "    28.0 18.6 22.3 25.0 31.5\n",
    "\n",
    "Assuming a normal prior for µ, $Norm(m = 20, s^2 = 25)$,\n",
    "\n",
    "\n",
    "(a) determine the posterior distribution P(µ|y1 . . . y15) and find the posterior mean and standard deviation."
   ]
  },
  {
   "cell_type": "code",
   "execution_count": 9,
   "metadata": {},
   "outputs": [],
   "source": [
    "#data\n",
    "mu <- c(26.8,26.3,  28.3,  28.5, 16.3, 31.9, 28.5, 27.2, 20.9, 27.5,28.0, 18.6, 22.3, 25.0 ,31.5)\n",
    "n <- length(mu)"
   ]
  },
  {
   "cell_type": "code",
   "execution_count": 10,
   "metadata": {},
   "outputs": [],
   "source": [
    "#the prior is given by \n",
    "mu <- seq(0,50, 0.01)\n",
    "m <- 20\n",
    "sd2 <- 25\n",
    "prior <- exp(-(1/(2*sd2))*(mu - m)**2)\n",
    "prior <- prior/(0.01*sum(prior))\n",
    "\n",
    "#The likelihood\n",
    "sigma2 <- 16 \n",
    "mu.mean <- mean(mu)\n",
    "likelihood <- exp(-(n/(2*sigma2))*(mu.mean - mu)**2)\n",
    "likelihood <- likelihood/(0.01*sum(likelihood))\n",
    "\n",
    "#The posterior is given by the product of the likelihood and the prior\n",
    "posterior_manual <- prior * likelihood\n",
    "posterior_manual <- posterior_manual/(0.01*sum(posterior_manual))"
   ]
  },
  {
   "cell_type": "code",
   "execution_count": 11,
   "metadata": {},
   "outputs": [
    {
     "name": "stdout",
     "output_type": "stream",
     "text": [
      "The mean value obtained  by the distribution is: 24.7954 with variance 1.023\n",
      "The mean value obtained theoretically by using the formula is: 24.7954 with variance 1.023\n"
     ]
    }
   ],
   "source": [
    "#The mean value is given by:\n",
    "post_mean <- sum(mu * posterior_manual*0.01)#integrate(beta_, 0, 1)$value\n",
    "\n",
    "#variance \n",
    "var <- sum((mu*mu*posterior_manual*0.01))\n",
    "sd2_post <- var - post_mean**2\n",
    "\n",
    "#theoretically the the posterior is a normal distribution with mean and variance given by the formulas\n",
    "sd2.teo.post <- (sigma2*sd2)/ (sigma2+n*sd2)\n",
    "mean.teo.post <- ((1/sd2)/(n/sigma2 + 1/sd2)) * m + ((n/sigma2)/(n/sigma2+1/sd2))*mu.mean\n",
    "\n",
    "cat(paste(\"The mean value obtained  by the distribution is: \"\n",
    "          ,round(post_mean,4),\" with variance \",round(sd2_post,4),\"\\n\",sep=\"\"))\n",
    "\n",
    "cat(paste(\"The mean value obtained theoretically by using the formula is: \"\n",
    "          ,round(mean.teo.post,4),\" with variance \",round(sd2.teo.post,4),\"\\n\",sep=\"\"))\n"
   ]
  },
  {
   "cell_type": "markdown",
   "metadata": {},
   "source": [
    "(b) find the 95% credibility interval for µ"
   ]
  },
  {
   "cell_type": "code",
   "execution_count": 5,
   "metadata": {},
   "outputs": [
    {
     "name": "stdout",
     "output_type": "stream",
     "text": [
      "Approximate normal 95% credible interval: [22.813 26.7778]\n"
     ]
    }
   ],
   "source": [
    "z <- qnorm(0.975)\n",
    "lb_norm <- post_mean - z * sqrt(sd2_post)\n",
    "ub_norm <- post_mean + z * sqrt(sd2_post)\n",
    "\n",
    "cat(paste(\"Approximate normal 95% credible interval: [\"\n",
    "          ,round(lb_norm,4),\" \",round(ub_norm,4),\"]\\n\",sep=\"\"))"
   ]
  },
  {
   "cell_type": "markdown",
   "metadata": {},
   "source": [
    "(c) plot the posterior distribution, indicating on the same plot: the mean value, the standard deviation, and the 95% credibility interval\n"
   ]
  },
  {
   "cell_type": "code",
   "execution_count": 6,
   "metadata": {},
   "outputs": [
    {
     "name": "stderr",
     "output_type": "stream",
     "text": [
      "Warning message:\n",
      "\"Removed 4000 rows containing missing values (position_stack).\""
     ]
    },
    {
     "data": {
      "image/png": "[encoded data removed]",
      "text/plain": [
       "plot without title"
      ]
     },
     "metadata": {},
     "output_type": "display_data"
    }
   ],
   "source": [
    "df <- data.frame(mu, posterior_manual)\n",
    "g <-ggplot(df, aes(x=mu, y = posterior_manual, col = 'Posterior probability')) \n",
    "g <- g +  geom_area(fill=\"lightcyan2\")  \n",
    "g <- g +  labs( y=\"Probability\", x = expression(mu), col = 'Normal Prior')  + xlim(c(20,30))\n",
    "g <- g + ggtitle(\"Bayesian Inference for Normal distribution\")+ theme_hc()+ scale_colour_hc()\n",
    "g <- g +  geom_vline(xintercept = post_mean, colour=\"lightcyan4\", linetype=\"dotted\", size = 1.5)\n",
    "g <- g + geom_text(mapping=aes(x=post_mean, y=0,label=\"Mean\"),colour=\"lightcyan4\", size=4, angle=90, vjust=-0.4, hjust=0)\n",
    "g <- g +  geom_vline(xintercept = lb_norm, colour=\"steelblue3\", size = 0.5)\n",
    "g <- g + geom_text(mapping=aes(x=lb_norm, y=0,label=\"95%  Normal\"),colour=\"steelblue3\", size=4, angle=90, vjust=-0.4, hjust=-4)\n",
    "g <- g +  geom_vline(xintercept = ub_norm, colour=\"steelblue3\", size = 0.5)\n",
    "g <- g + geom_text(mapping=aes(x=ub_norm, y=0,label=\"95%  Normal\"),colour=\"steelblue3\", size=4, angle=90, vjust=-0.4, hjust=-4)\n",
    "g"
   ]
  },
  {
   "cell_type": "markdown",
   "metadata": {},
   "source": [
    "(d) repeat the analysis using a different prior Norm(m = 30, s2 = 16) and plot, on the same graph the likelihood, the prior and the posterior.\n"
   ]
  },
  {
   "cell_type": "code",
   "execution_count": 7,
   "metadata": {},
   "outputs": [],
   "source": [
    "m <- 30\n",
    "sd2 <- 16\n",
    "prior <- exp(-(1/(2*sd2))*(mu - m)**2)\n",
    "prior <- prior/(0.01*sum(prior))\n",
    "\n",
    "#likelihood\n",
    "sigma2 <- 16 \n",
    "mu.mean <- mean(mu)\n",
    "likelihood <- exp(-(n/(2*sigma2))*(mu.mean - mu)**2)\n",
    "likelihood <- likelihood/(0.01*sum(likelihood))\n",
    "\n",
    "#posterior \n",
    "posterior_manual <- prior * likelihood\n",
    "posterior_manual <- posterior_manual/(0.01*sum(posterior_manual)) "
   ]
  },
  {
   "cell_type": "code",
   "execution_count": 8,
   "metadata": {
    "scrolled": true
   },
   "outputs": [
    {
     "name": "stdout",
     "output_type": "stream",
     "text": [
      "The mean value obtained  by the distribution is: 25.3125 with variance 1\n",
      "The mean value obtained  by using the formula is: 25.3125 with variance 1\n",
      "Approximate normal 95% credible interval: [23.3525 27.2725]\n"
     ]
    }
   ],
   "source": [
    "post_mean_2 <- sum(mu * posterior_manual*0.01)#integrate(beta_, 0, 1)$value\n",
    "\n",
    "var <- sum((mu*mu*posterior_manual*0.01))\n",
    "sd2_post_2 <- var - post_mean_2**2\n",
    "\n",
    "#the posterior is a normal distribution with mean and variance given by the formulas of the theoric\n",
    "sd2.form.post <- (sigma2*sd2)/ (sigma2+n*sd2)\n",
    "mean.form.post <- ((1/sd2)/(n/sigma2 + 1/sd2)) * m + ((n/sigma2)/(n/sigma2+1/sd2))*mu.mean\n",
    "\n",
    "\n",
    "cat(paste(\"The mean value obtained  by the distribution is: \"\n",
    "          ,round(post_mean_2,4),\" with variance \",round(sd2_post_2,4),\"\\n\",sep=\"\"))\n",
    "\n",
    "cat(paste(\"The mean value obtained  by using the formula is: \"\n",
    "          ,round(mean.form.post,4),\" with variance \",round(sd2.form.post,4),\"\\n\",sep=\"\"))\n",
    "\n",
    "z <- qnorm(0.975)\n",
    "lb_norm_2 <- post_mean_2 - z * sqrt(sd2_post_2)\n",
    "ub_norm_2 <- post_mean_2 + z * sqrt(sd2_post_2)\n",
    "\n",
    "cat(paste(\"Approximate normal 95% credible interval: [\"\n",
    "          ,round(lb_norm_2,4),\" \",round(ub_norm_2,4),\"]\\n\",sep=\"\"))"
   ]
  },
  {
   "cell_type": "code",
   "execution_count": 9,
   "metadata": {},
   "outputs": [
    {
     "name": "stderr",
     "output_type": "stream",
     "text": [
      "Warning message:\n",
      "\"Removed 4000 rows containing missing values (geom_path).\"Warning message:\n",
      "\"Removed 4000 rows containing missing values (geom_path).\"Warning message:\n",
      "\"Removed 4000 rows containing missing values (geom_path).\""
     ]
    },
    {
     "data": {
      "image/png": "[encoded data removed]",
      "text/plain": [
       "plot without title"
      ]
     },
     "metadata": {},
     "output_type": "display_data"
    }
   ],
   "source": [
    "df <- data.frame(mu, posterior_manual, likelihood, prior)\n",
    "g <-ggplot(df, aes(x=mu, y = posterior_manual, col = 'Posterior')) \n",
    "g <- g +  geom_line(size = 1.5)  \n",
    "g <- g + geom_line(aes(x=mu, y =likelihood, col = 'Likelihood'),  linetype=\"dashed\", size = 1)\n",
    "g <- g + geom_line(aes(x=mu, y =prior, col = 'Prior'), linetype=\"dashed\", size = 1)\n",
    "g <- g +  labs( y=\"Probability\", x = expression(mu), col = 'Normal Prior')  + xlim(c(20,30))\n",
    "g <- g + ggtitle(\"Bayesian Inference for Normal distribution\")+ theme_hc()+ scale_colour_hc()\n",
    "g <- g +  geom_vline(xintercept = post_mean_2, colour=\"lightcyan4\", linetype=\"dotted\", size = 1.5)\n",
    "g <- g + geom_text(mapping=aes(x=post_mean_2, y=0,label=\"Mean\"),colour=\"lightcyan4\", size=4, angle=90, vjust=-0.4, hjust=0)\n",
    "g <- g +  geom_vline(xintercept = lb_norm_2, colour=\"steelblue3\", size = 0.5)\n",
    "g <- g + geom_text(mapping=aes(x=lb_norm_2, y=0,label=\"95%  Normal\"),colour=\"steelblue3\", size=4, angle=90, vjust=-0.4, hjust=-4)\n",
    "g <- g +  geom_vline(xintercept = ub_norm_2, colour=\"steelblue3\", size = 0.5)\n",
    "g <- g + geom_text(mapping=aes(x=ub_norm_2, y=0,label=\"95%  Normal\"),colour=\"steelblue3\", size=4, angle=90, vjust=-0.4, hjust=-4)\n",
    "g"
   ]
  },
  {
   "cell_type": "markdown",
   "metadata": {},
   "source": [
    "\n",
    "(e) compare the credibility intervals obtained with the two priors"
   ]
  },
  {
   "cell_type": "code",
   "execution_count": 10,
   "metadata": {},
   "outputs": [
    {
     "name": "stdout",
     "output_type": "stream",
     "text": [
      "Value of mean in a): 24.7954 +/-1.9824\n",
      "Value of mean in d): 25.3125 +/-1.96\n",
      "The confidence interval disminuish in point d)"
     ]
    }
   ],
   "source": [
    "z <- qnorm(0.975)\n",
    "cat(paste(\"Value of mean in a): \"\n",
    "          ,round(post_mean,4),\" +/-\",round(z * sqrt(sd2_post),4),\"\\n\",sep=\"\"))\n",
    "\n",
    "cat(paste(\"Value of mean in d): \"\n",
    "          ,round(post_mean_2,4),\" +/-\",round(z * sqrt(sd2_post_2),4),\"\\n\",sep=\"\"))\n",
    "\n",
    "cat(\"The confidence interval disminuish in point d)\")"
   ]
  },
  {
   "cell_type": "markdown",
   "metadata": {},
   "source": [
    "## Exercise 2\n",
    "\n",
    "A researcher has collected n = 16 observations that are supposed to come from a Normal distribution\n",
    "with known variance  $\\sigma^2 = 4$\n",
    "\n",
    "    4.09 4.68 1.87 2.62 5.58 8.68 4.07 4.78\n",
    "    4.79 4.49 5.85 5.09 2.40 6.27 6.30 4.47\n",
    "\n",
    "\n",
    "assuming the prior is a step funtion:\n",
    "\n",
    " $ \n",
    "    g(\\mu) = \\left\\{\\begin{array}{lr}\n",
    "        \\mu , & \\text{for } 0\\leq \\mu\\leq 3\\\\\n",
    "        3 , & \\text{for } 3\\leq \\mu\\leq 5\\\\\n",
    "        8- \\mu , & \\text{for } 5\\leq \\mu\\leq 8\\\\\n",
    "        0, & \\text{for } \\mu \\geq 8\\\\\n",
    "\\end{array}\\right\\} $\n",
    "\n",
    "(a) find the posterior distribution, the posterior mean and standard deviation\n"
   ]
  },
  {
   "cell_type": "code",
   "execution_count": 11,
   "metadata": {},
   "outputs": [],
   "source": [
    "mu <- c(4.09,  4.68, 1.87, 2.62, 5.58, 8.68, 4.07, 4.78, 4.79 ,4.49, 5.85, 5.09, 2.40, 6.27, 6.30, 4.47)\n",
    "n <- length(mu)\n",
    "mu.mean <- mean(mu)"
   ]
  },
  {
   "cell_type": "code",
   "execution_count": 12,
   "metadata": {},
   "outputs": [],
   "source": [
    "prior.function <- function (x){\n",
    "    result <- c()\n",
    "    for (i in x){\n",
    "        val <- if (i >= 0 & i < 3){\n",
    "                             i }\n",
    "                \n",
    "               else if (i >= 3 & i < 5){\n",
    "                            3 }\n",
    "               else if (i >= 5 & i < 8){\n",
    "                            8 - i }\n",
    "              else 0\n",
    "        result <- c(result, val)}\n",
    "    return(result)}"
   ]
  },
  {
   "cell_type": "code",
   "execution_count": 13,
   "metadata": {},
   "outputs": [],
   "source": [
    "mu <- seq(0,10,0.01)\n",
    "prior <- prior.function(mu)\n",
    "prior <- prior/(0.01*sum(prior))"
   ]
  },
  {
   "cell_type": "code",
   "execution_count": 14,
   "metadata": {},
   "outputs": [],
   "source": [
    "#likelihood\n",
    "sigma2 <- 16 \n",
    "mu.mean <- mean(mu)\n",
    "likelihood <- exp(-(n/(2*sigma2))*(mu.mean - mu)**2)\n",
    "likelihood <- likelihood/(0.01*sum(likelihood))"
   ]
  },
  {
   "cell_type": "code",
   "execution_count": null,
   "metadata": {},
   "outputs": [
    {
     "name": "stdout",
     "output_type": "stream",
     "text": [
      "The mean value obtained  by the distribution is: 4.8165 with variance 0.7933\n"
     ]
    }
   ],
   "source": [
    "#posterior \n",
    "posterior_manual <- prior * likelihood \n",
    "posterior_manual <- posterior_manual/(0.01*sum(posterior_manual))\n",
    "\n",
    "post_mean <- sum(mu * posterior_manual*0.01)#integrate(beta_, 0, 1)$value\n",
    "\n",
    "var <- sum((mu*mu*posterior_manual*0.01))\n",
    "sd2_post <- var - post_mean**2\n",
    "\n",
    "cat(paste(\"The mean value obtained  by the distribution is: \"\n",
    "          ,round(post_mean,4),\" with variance \",round(sd2_post,4),\"\\n\",sep=\"\"))"
   ]
  },
  {
   "cell_type": "markdown",
   "metadata": {},
   "source": [
    "(b) find the 95% credibility interval for µ\n"
   ]
  },
  {
   "cell_type": "code",
   "execution_count": null,
   "metadata": {},
   "outputs": [],
   "source": [
    "#Calculating the 95% interval\n",
    "cdf <- sintegral(mu, posterior_manual)\n",
    "\n",
    "d<-abs(cdf$y-0.025)\n",
    "lb<-cdf$x[max((1:length(cdf$y))[d==min(d)])]\n",
    "\n",
    "d<-abs(cdf$y-0.975)\n",
    "ub<-cdf$x[min((1:length(cdf$y))[d==min(d)])]\n",
    "\n",
    "cat(paste(\"Approximate 95% credible interval for Unif : [\"\n",
    "          ,round(lb,4),\" \",round(ub,4),\"]\\n\",sep=\"\"))\n"
   ]
  },
  {
   "cell_type": "markdown",
   "metadata": {},
   "source": [
    "(c) plot the posterior distribution, indicating on the same plot: the mean value, the standard deviation,\n",
    "and the 95% credibility interval\n"
   ]
  },
  {
   "cell_type": "code",
   "execution_count": null,
   "metadata": {},
   "outputs": [],
   "source": [
    "df <- data.frame(mu, posterior_manual)\n",
    "g <-ggplot(df, aes(x=mu, y = posterior_manual, col = 'Posterior probability')) \n",
    "g <- g +  geom_area(fill=\"lightcyan2\")  \n",
    "g <- g +  labs( y=\"Probability\", x = expression(mu), col = 'Normal Prior')  + xlim(c(0,10))\n",
    "g <- g + ggtitle(\"Bayesian Inference for Normal distribution\")+ theme_hc()+ scale_colour_hc()\n",
    "g <- g +  geom_vline(xintercept = post_mean, colour=\"lightcyan4\", linetype=\"dotted\", size = 1.5)\n",
    "g <- g + geom_text(mapping=aes(x=post_mean, y=0,label=\"Mean\"),colour=\"lightcyan4\", size=4, angle=90, vjust=-0.4, hjust=0)\n",
    "g <- g +  geom_vline(xintercept = lb, colour=\"steelblue3\", size = 0.5)\n",
    "g <- g + geom_text(mapping=aes(x=lb, y=0,label=\"95%  Normal\"),colour=\"steelblue3\", size=4, angle=90, vjust=-0.4, hjust=-4)\n",
    "g <- g +  geom_vline(xintercept = ub, colour=\"steelblue3\", size = 0.5)\n",
    "g <- g + geom_text(mapping=aes(x=ub, y=0,label=\"95%  Normal\"),colour=\"steelblue3\", size=4, angle=90, vjust=-0.4, hjust=-4)\n",
    "g"
   ]
  },
  {
   "cell_type": "markdown",
   "metadata": {},
   "source": [
    "(d) plot, on the same graph, the prior, the likelihood and the posterior distribution\n"
   ]
  },
  {
   "cell_type": "code",
   "execution_count": null,
   "metadata": {},
   "outputs": [],
   "source": [
    "df <- data.frame(mu, posterior_manual, likelihood, prior)\n",
    "g <-ggplot(df, aes(x=mu, y = posterior_manual, col = 'Posterior')) \n",
    "g <- g +  geom_line(size = 1.5)  \n",
    "g <- g + geom_line(aes(x=mu, y =likelihood, col = 'Likelihood'),  linetype=\"dashed\", size = 1)\n",
    "g <- g + geom_line(aes(x=mu, y =prior, col = 'Prior'), linetype=\"dashed\", size = 1)\n",
    "g <- g +  labs( y=\"Probability\", x = expression(mu), col = 'Normal Prior')  + xlim(c(0,10))\n",
    "g <- g + ggtitle(\"Bayesian Inference for Normal distribution\")+ theme_hc()+ scale_colour_hc()\n",
    "g <- g +  geom_vline(xintercept = post_mean, colour=\"lightcyan4\", linetype=\"dotted\", size = 1.5)\n",
    "g <- g + geom_text(mapping=aes(x=post_mean, y=0,label=\"Mean\"),colour=\"lightcyan4\", size=4, angle=90, vjust=-0.4, hjust=0)\n",
    "g <- g +  geom_vline(xintercept = lb, colour=\"steelblue3\", size = 0.5)\n",
    "g <- g + geom_text(mapping=aes(x=lb, y=0,label=\"95%  Normal\"),colour=\"steelblue3\", size=4, angle=90, vjust=-0.4, hjust=-4)\n",
    "g <- g +  geom_vline(xintercept = ub, colour=\"steelblue3\", size = 0.5)\n",
    "g <- g + geom_text(mapping=aes(x=ub, y=0,label=\"95%  Normal\"),colour=\"steelblue3\", size=4, angle=90, vjust=-0.4, hjust=-4)\n",
    "g"
   ]
  },
  {
   "cell_type": "markdown",
   "metadata": {},
   "source": [
    "## Exercise 3\n",
    " A study on water quality of streams, a high level of bacter X was defined as a level greater than 100 per 100 ml of stream water. n = 116 samples were taken from streams having a high environmental\n",
    "impact on pandas. Out of these, y = 11 had a high bacter X level.\n",
    "\n",
    " indicating with p the probability that a sample of water taken from the stream has a high bacter X level,\n",
    "\n",
    "(a) find the frequentist estimator for p\n",
    "\n"
   ]
  },
  {
   "cell_type": "code",
   "execution_count": null,
   "metadata": {},
   "outputs": [],
   "source": [
    "y <- 11\n",
    "n <- 116\n",
    "\n",
    "p_estimator <- y/n\n",
    "\n",
    "cat(paste(\"The  frequentist estimator for p is \"\n",
    "          ,round(p_estimator,4), \"\\n\",sep=\"\"))"
   ]
  },
  {
   "cell_type": "markdown",
   "metadata": {},
   "source": [
    "(b) using a Beta(1, 10) prior for p, calculate and posterior distribution \n",
    "P(p| y)\n"
   ]
  },
  {
   "cell_type": "code",
   "execution_count": 21,
   "metadata": {},
   "outputs": [],
   "source": [
    "#beta prior Beta(a, b)\n",
    "p <- seq(0,1, 0.01)\n",
    "a <- 1\n",
    "b <- 10\n",
    "\n",
    "beta_prior <- dbeta(p, a, b)\n",
    "\n",
    "p.likelihood <- dbinom(x = y, size = n, prob = p)\n",
    "p.likelihood <- p.likelihood /(0.01 *sum(p.likelihood ))\n",
    "\n",
    "beta_posterior <- p.likelihood * beta_prior# / integrate(beta_, 0, 1)$value\n",
    "beta_posterior <- beta_posterior / (0.01*sum(beta_posterior))\n",
    "\n",
    "#wich is nothing else as (theoretically)\n",
    "aa <- a +y\n",
    "bb <- b + n - y\n",
    "beta <- dbeta(p, aa, bb)"
   ]
  },
  {
   "cell_type": "code",
   "execution_count": 22,
   "metadata": {},
   "outputs": [
    {
     "name": "stderr",
     "output_type": "stream",
     "text": [
      "Warning message:\n",
      "\"Removed 70 rows containing missing values (position_stack).\"Warning message:\n",
      "\"Removed 70 rows containing missing values (geom_path).\""
     ]
    },
    {
     "data": {
      "image/png": "[encoded data removed]",
      "text/plain": [
       "plot without title"
      ]
     },
     "metadata": {},
     "output_type": "display_data"
    }
   ],
   "source": [
    "df <- data.frame(p, beta_posterior)\n",
    "g <-ggplot(df, aes(x=p, y = beta_posterior, col = 'Posterior probability')) \n",
    "g <- g +  geom_area(fill=\"lightcyan2\")  \n",
    "g <- g + geom_line(aes(x=p, y =beta),  linetype=\"dashed\", size = 1)\n",
    "g <- g +  labs( y=\"Probability\", x = \"p\", col = 'Beta Prior')  + xlim(c(0,0.3))\n",
    "g <- g + ggtitle(\"Bayesian Inference for Beta distribution\")+ theme_hc()+ scale_colour_hc()\n",
    "g"
   ]
  },
  {
   "cell_type": "markdown",
   "metadata": {},
   "source": [
    "\n",
    "(c) find the bayesian estimator for p, the posterior mean and variance, and a 95% credible interval\n",
    "\n"
   ]
  },
  {
   "cell_type": "code",
   "execution_count": 23,
   "metadata": {},
   "outputs": [
    {
     "name": "stdout",
     "output_type": "stream",
     "text": [
      "The bayesian estimator for p  is 0.0945\n"
     ]
    }
   ],
   "source": [
    "#bayesian estimator for p \n",
    "p_b <- aa/(aa+bb)\n",
    "\n",
    "cat(paste(\"The bayesian estimator for p  is \"\n",
    "          ,round(p_b,4), \"\\n\",sep=\"\")) "
   ]
  },
  {
   "cell_type": "code",
   "execution_count": 24,
   "metadata": {},
   "outputs": [
    {
     "name": "stdout",
     "output_type": "stream",
     "text": [
      "The mean value obtained  by the distribution is 0.0945 with variance 7e-04\n"
     ]
    }
   ],
   "source": [
    "post_mean <- sum(p * beta_posterior*0.01)\n",
    "var <- sum((p*p*beta_posterior*0.01))\n",
    "sd2_post <- var - post_mean**2\n",
    "\n",
    "cat(paste(\"The mean value obtained  by the distribution is \"\n",
    "          ,round(post_mean,4),\" with variance \",round(sd2_post,4),\"\\n\",sep=\"\"))"
   ]
  },
  {
   "cell_type": "code",
   "execution_count": 25,
   "metadata": {},
   "outputs": [
    {
     "name": "stdout",
     "output_type": "stream",
     "text": [
      "Approximate normal 95% credible interval with normal approximation: [0.0438 0.1452]\n"
     ]
    }
   ],
   "source": [
    "z <- qnorm(0.975)\n",
    "lb_norm <- post_mean - z * sqrt(sd2_post)\n",
    "ub_norm <- post_mean + z * sqrt(sd2_post)\n",
    "\n",
    "cat(paste(\"Approximate normal 95% credible interval with normal approximation: [\"\n",
    "          ,round(lb_norm,4),\" \",round(ub_norm,4),\"]\\n\",sep=\"\"))"
   ]
  },
  {
   "cell_type": "code",
   "execution_count": 26,
   "metadata": {},
   "outputs": [
    {
     "name": "stdout",
     "output_type": "stream",
     "text": [
      "Approximate 95% credible interval for Unif : [0.0488 0.1504]\n"
     ]
    }
   ],
   "source": [
    "#Calculating the 95% interval\n",
    "cdf<- sintegral(p, beta_posterior)\n",
    "\n",
    "d<-abs(cdf$y-0.025)\n",
    "lb<-cdf$x[max((1:length(cdf$y))[d==min(d)])]\n",
    "\n",
    "\n",
    "d<-abs(cdf$y-0.975)\n",
    "ub<-cdf$x[min((1:length(cdf$y))[d==min(d)])]\n",
    "\n",
    "\n",
    "cat(paste(\"Approximate 95% credible interval for Unif : [\"\n",
    "          ,round(lb,4),\" \",round(ub,4),\"]\\n\",sep=\"\"))"
   ]
  },
  {
   "cell_type": "code",
   "execution_count": 27,
   "metadata": {},
   "outputs": [
    {
     "name": "stderr",
     "output_type": "stream",
     "text": [
      "Warning message:\n",
      "\"Removed 80 rows containing missing values (position_stack).\"Warning message:\n",
      "\"Removed 80 rows containing missing values (geom_path).\""
     ]
    },
    {
     "data": {
      "image/png": "[encoded data removed]",
      "text/plain": [
       "plot without title"
      ]
     },
     "metadata": {},
     "output_type": "display_data"
    }
   ],
   "source": [
    "norm <- dnorm(p, post_mean, sqrt(sd2_post) )\n",
    "df <- data.frame(p, beta_posterior, norm)\n",
    "g <-ggplot(df, aes(x=p, y = beta_posterior, col = 'Posterior probability')) \n",
    "g <- g +  geom_area(fill=\"lightcyan2\")  \n",
    "g <- g +  labs( y=\"Probability\", x = expression(mu), col = 'Normal Prior')  + xlim(c(0,0.2))\n",
    "g <- g  +   geom_line(aes(x=p, y =norm, col = 'Normal approximation'), linetype = \"dashed\", size = 1.5, col  = \"violet\")\n",
    "g <- g + ggtitle(\"Bayesian Inference for Normal distribution\")+ theme_hc()+ scale_colour_hc()\n",
    "g <- g +  geom_vline(xintercept = post_mean, colour=\"lightcyan4\", linetype=\"dotted\", size = 1.5)\n",
    "g <- g + geom_text(mapping=aes(x=post_mean, y=0,label=\"Mean\"),colour=\"lightcyan4\", size=4, angle=90, vjust=-0.4, hjust=0)\n",
    "g <- g +  geom_vline(xintercept = lb_norm, colour=\"steelblue3\", size = 0.5)\n",
    "g <- g + geom_text(mapping=aes(x=lb_norm, y=0,label=\"95%  Normal\"),colour=\"steelblue3\", size=4, angle=90, vjust=-0.4, hjust=-4)\n",
    "g <- g +  geom_vline(xintercept = ub_norm, colour=\"steelblue3\", size = 0.5)\n",
    "g <- g + geom_text(mapping=aes(x=ub_norm, y=0,label=\"95%  Normal\"),colour=\"steelblue3\", size=4, angle=90, vjust=-0.4, hjust=-4)\n",
    "\n",
    "g <- g +  geom_vline(xintercept = lb, colour=\"lightcoral\", linetype=\"dotdash\", size = 1.5)\n",
    "g <- g + geom_text(mapping=aes(x=lb, y=0,label=\"95%  Interval\"),colour=\"lightcoral\", size=4, angle=270, vjust=-0.4, hjust=5)\n",
    "\n",
    "\n",
    "g <- g +  geom_vline(xintercept = ub, colour=\"lightcoral\", linetype=\"dotdash\", size = 1.5)\n",
    "g <- g + geom_text(mapping=aes(x=ub, y=0,label=\"95%  Interval\"),colour=\"lightcoral\", size=4, angle=270, vjust=-0.4, hjust=5)\n",
    "\n",
    "\n",
    "g"
   ]
  },
  {
   "cell_type": "markdown",
   "metadata": {},
   "source": [
    "(d) test the hypotesis\n",
    "    \n",
    "$H_0 : p=0.1$ versus $H_1 : p \\neq 0.1$\n",
    "\n",
    "at 5% level of significance with both the frequentist and bayesian approach\n",
    "\n"
   ]
  },
  {
   "cell_type": "code",
   "execution_count": 28,
   "metadata": {},
   "outputs": [
    {
     "name": "stdout",
     "output_type": "stream",
     "text": [
      "Mean frequentist: 0.0948 +/-0.0533\n",
      "Frequentist Approximate normal 95% credible interval with normal approximation: [0.0415 0.1481]\n",
      "Bayesian Approximate 95% credible interval for Unif : [0.0488 0.1504]\n"
     ]
    }
   ],
   "source": [
    "z <- qnorm(1 - 0.05/2)\n",
    "sd <- sqrt((p_estimator*(1-p_estimator))/n)\n",
    "\n",
    "cat(paste(\"Mean frequentist: \"\n",
    "          ,round(p_estimator,4),\" +/-\",round(z * sd,4),\"\\n\",sep=\"\"))\n",
    "\n",
    "lb_norm <- p_estimator - z * sd\n",
    "ub_norm <- p_estimator + z * sd\n",
    "\n",
    "cat(paste(\"Frequentist Approximate normal 95% credible interval with normal approximation: [\"\n",
    "          ,round(lb_norm,4),\" \",round(ub_norm,4),\"]\\n\",sep=\"\"))\n",
    "\n",
    "cat(paste(\"Bayesian Approximate 95% credible interval for Unif : [\"\n",
    "          ,round(lb,4),\" \",round(ub,4),\"]\\n\",sep=\"\"))\n"
   ]
  },
  {
   "cell_type": "markdown",
   "metadata": {},
   "source": [
    "The null value pi = 0.1 lies in the credible interval, so it remains a credible value at the 5% level of significance"
   ]
  },
  {
   "cell_type": "code",
   "execution_count": 29,
   "metadata": {},
   "outputs": [
    {
     "name": "stdout",
     "output_type": "stream",
     "text": [
      "p value obtain in the frequentist approach= 0.381024574251242 \n",
      "p value obtain in the bayesian approach= 0.385815030515151"
     ]
    }
   ],
   "source": [
    "#this can also be validated calculating:\n",
    "integral <- function(p){dbeta(p, aa, bb)}\n",
    "p.value.bayesian <- 1 - integrate(integral, 0, 0.1)$value\n",
    "\n",
    "p.value.freq <- 1 - sum(dbinom(y:n, size = n, 0.1))\n",
    "\n",
    "\n",
    "cat(paste(\"p value obtain in the frequentist approach=\", p.value.freq, \"\\n\"))\n",
    "\n",
    "cat(paste(\"p value obtain in the bayesian approach=\", p.value.bayesian))"
   ]
  },
  {
   "cell_type": "markdown",
   "metadata": {},
   "source": [
    "Since the p.value is greater than the confidence interval the hypoteshis is true"
   ]
  },
  {
   "cell_type": "markdown",
   "metadata": {},
   "source": [
    "A new measurement, performed one month later on n = 165 water samples, gives y = 9 high bacter\n",
    "X level\n",
    "\n",
    "(e) find the frequentist estimator for p\n"
   ]
  },
  {
   "cell_type": "code",
   "execution_count": 72,
   "metadata": {},
   "outputs": [
    {
     "name": "stdout",
     "output_type": "stream",
     "text": [
      "The  frequentist estimator for p is 0.0545\n"
     ]
    }
   ],
   "source": [
    "n <- 165\n",
    "y <-9\n",
    "\n",
    "p_estimator <- y/n\n",
    "\n",
    "cat(paste(\"The  frequentist estimator for p is \"\n",
    "          ,round(p_estimator,4), \"\\n\",sep=\"\"))"
   ]
  },
  {
   "cell_type": "markdown",
   "metadata": {},
   "source": [
    "\n",
    "(f) find a bayesian estimator for p, assuming both a Beta(1, 10) prior for p, and assuming the posterior\n",
    "probability of the older measurement as the prior for the new one.\n",
    "\n"
   ]
  },
  {
   "cell_type": "code",
   "execution_count": 73,
   "metadata": {},
   "outputs": [
    {
     "name": "stdout",
     "output_type": "stream",
     "text": [
      "The bayesian estimator for p using B(1, 10) theoretically is 0.0568\n",
      "The bayesian estimator anallitically is  0.0568"
     ]
    }
   ],
   "source": [
    "#beta prior Beta(a, b)\n",
    "p <- seq(0,1, 0.01)\n",
    "a <- 1\n",
    "b <- 10\n",
    "\n",
    "beta_prior <- dbeta(p, a, b)\n",
    "\n",
    "p.likelihood <- dbinom(x = y, size = n, prob = p)\n",
    "p.likelihood <- p.likelihood /(0.01 *sum(p.likelihood ))\n",
    "\n",
    "b_posterior <- p.likelihood * beta_prior# / integrate(beta_, 0, 1)$value\n",
    "b_posterior <- b_posterior / (0.01*sum(b_posterior))\n",
    "\n",
    "#wich is nothing else as\n",
    "aa_beta <- a +y\n",
    "bb_beta <- b + n - y\n",
    "\n",
    "beta <- dbeta(p, aa_beta, bb_beta)\n",
    "\n",
    "#bayesian estimator for p \n",
    "p_b <- aa_beta/(aa_beta+bb_beta)\n",
    "\n",
    "cat(paste(\"The bayesian estimator for p using B(1, 10) theoretically is \"\n",
    "          ,round(p_b,4), \"\\n\",sep=\"\"))\n",
    "\n",
    "#which is nothing else as the mean value\n",
    "post_mean <- sum(p * b_posterior*0.01)#integrate(beta_, 0, 1)$value\n",
    "cat(paste(\"The bayesian estimator anallitically is \"\n",
    "          ,round(post_mean,4)))\n"
   ]
  },
  {
   "cell_type": "code",
   "execution_count": 74,
   "metadata": {},
   "outputs": [
    {
     "name": "stdout",
     "output_type": "stream",
     "text": [
      "The bayesian estimator for p using the old posterior theoretically is 0.0719\n",
      "The bayesian estimator anallitically using the old posterior is  0.0719"
     ]
    }
   ],
   "source": [
    "#old posterior\n",
    "p <- seq(0,1, 0.01)\n",
    "a <- 12\n",
    "b <- 115\n",
    "#beta_prior <- beta_posterior\n",
    "beta_prior <- dbeta(p, a, b)\n",
    "\n",
    "p.likelihood <- dbinom(x = y, size = n, prob = p)\n",
    "p.likelihood <- p.likelihood /(0.01 *sum(p.likelihood ))\n",
    "\n",
    "b_posterior_old <- p.likelihood * beta_prior# / integrate(beta_, 0, 1)$value\n",
    "b_posterior_old <- b_posterior_old / (0.01*sum(b_posterior_old))\n",
    "\n",
    "#wich is nothing else as\n",
    "aa_old <- a +y\n",
    "bb_old <- b + n - y\n",
    "\n",
    "beta <- dbeta(p, aa_old, bb_old)\n",
    "\n",
    "#bayesian estimator for p \n",
    "p_b <- aa_old/(aa_old+bb_old)\n",
    "\n",
    "cat(paste(\"The bayesian estimator for p using the old posterior theoretically is \"\n",
    "          ,round(p_b,4), \"\\n\",sep=\"\"))\n",
    "\n",
    "#which is nothing else as the mean value\n",
    "post_mean_old <- sum(p * b_posterior_old*0.01)#integrate(beta_, 0, 1)$value\n",
    "cat(paste(\"The bayesian estimator anallitically using the old posterior is \"\n",
    "          ,round(post_mean_old,4)))\n",
    "\n"
   ]
  },
  {
   "cell_type": "markdown",
   "metadata": {},
   "source": [
    "(g) find the bayesian estimator for p, the posterior mean and variance, and a 95% credible interval\n"
   ]
  },
  {
   "cell_type": "code",
   "execution_count": 75,
   "metadata": {},
   "outputs": [
    {
     "name": "stdout",
     "output_type": "stream",
     "text": [
      "The mean value obtained  by the distribution using B(1, 10) is 0.0568 with variance 3e-04\n",
      "The mean value obtained  by the distribution using as prior the old posterior is 0.0719 with variance 2e-04\n"
     ]
    }
   ],
   "source": [
    "var <- sum((p*p*b_posterior*0.01))\n",
    "sd2_post <- var - post_mean**2\n",
    "\n",
    "var_old <- sum((p*p*b_posterior_old*0.01))\n",
    "sd2_post_old <- var_old - post_mean_old**2\n",
    "\n",
    "cat(paste(\"The mean value obtained  by the distribution using B(1, 10) is \"\n",
    "          ,round(post_mean,4),\" with variance \",round(sd2_post,4),\"\\n\",sep=\"\"))\n",
    "\n",
    "cat(paste(\"The mean value obtained  by the distribution using as prior the old posterior is \"\n",
    "          ,round(post_mean_old,4),\" with variance \",round(sd2_post_old,4),\"\\n\",sep=\"\"))"
   ]
  },
  {
   "cell_type": "code",
   "execution_count": 76,
   "metadata": {},
   "outputs": [
    {
     "name": "stdout",
     "output_type": "stream",
     "text": [
      "Approximate normal 95% credible interval with normal approximation using B(1, 10): [0.0227 0.0909]\n",
      "Approximate normal 95% credible interval with normal approximation using as prior the old posterior: [0.0423 0.1015]\n"
     ]
    }
   ],
   "source": [
    "z <- qnorm(0.975)\n",
    "lb_norm <- post_mean - z * sqrt(sd2_post)\n",
    "ub_norm <- post_mean + z * sqrt(sd2_post)\n",
    "\n",
    "lb_norm_old <- post_mean_old - z * sqrt(sd2_post_old)\n",
    "ub_norm_old <- post_mean_old + z * sqrt(sd2_post_old)\n",
    "\n",
    "cat(paste(\"Approximate normal 95% credible interval with normal approximation using B(1, 10): [\"\n",
    "          ,round(lb_norm,4),\" \",round(ub_norm,4),\"]\\n\",sep=\"\"))\n",
    "\n",
    "\n",
    "cat(paste(\"Approximate normal 95% credible interval with normal approximation using as prior the old posterior: [\"\n",
    "          ,round(lb_norm_old,4),\" \",round(ub_norm_old,4),\"]\\n\",sep=\"\"))\n"
   ]
  },
  {
   "cell_type": "code",
   "execution_count": 77,
   "metadata": {},
   "outputs": [
    {
     "name": "stdout",
     "output_type": "stream",
     "text": [
      "Approximate 95% credible interval for Unif using B(1, 10): [0.0254 0.0957]\n",
      "Approximate 95% credible interval for Unif using as prior the old posterior: [0.041 0.1035]\n"
     ]
    }
   ],
   "source": [
    "#bayesian\n",
    "#Calculating the 95% interval\n",
    "cdf<- sintegral(p, b_posterior)\n",
    "\n",
    "d<-abs(cdf$y-0.025)\n",
    "lb<-cdf$x[max((1:length(cdf$y))[d==min(d)])]\n",
    "\n",
    "\n",
    "d<-abs(cdf$y-0.975)\n",
    "ub<-cdf$x[min((1:length(cdf$y))[d==min(d)])]\n",
    "\n",
    "#Calculating the 95% interval\n",
    "cdf<- sintegral(p, b_posterior_old)\n",
    "\n",
    "d<-abs(cdf$y-0.025)\n",
    "lb_old<-cdf$x[max((1:length(cdf$y))[d==min(d)])]\n",
    "\n",
    "\n",
    "d<-abs(cdf$y-0.975)\n",
    "ub_old<-cdf$x[min((1:length(cdf$y))[d==min(d)])]\n",
    "\n",
    "\n",
    "cat(paste(\"Approximate 95% credible interval for Unif using B(1, 10): [\"\n",
    "          ,round(lb,4),\" \",round(ub,4),\"]\\n\",sep=\"\"))\n",
    "\n",
    "cat(paste(\"Approximate 95% credible interval for Unif using as prior the old posterior: [\"\n",
    "          ,round(lb_old,4),\" \",round(ub_old,4),\"]\\n\",sep=\"\"))"
   ]
  },
  {
   "cell_type": "code",
   "execution_count": 78,
   "metadata": {},
   "outputs": [
    {
     "name": "stderr",
     "output_type": "stream",
     "text": [
      "Warning message:\n",
      "\"Removed 80 rows containing missing values (position_stack).\"Warning message:\n",
      "\"Removed 80 rows containing missing values (geom_path).\""
     ]
    },
    {
     "data": {
      "image/png": "[encoded data removed]",
      "text/plain": [
       "plot without title"
      ]
     },
     "metadata": {},
     "output_type": "display_data"
    }
   ],
   "source": [
    "norm <- dnorm(p, post_mean, sqrt(sd2_post) )\n",
    "df <- data.frame(p, b_posterior, norm)\n",
    "g <-ggplot(df, aes(x=p, y = b_posterior, col = 'Posterior probability')) \n",
    "g <- g +  geom_area(fill=\"lightcyan2\")  \n",
    "g <- g +  labs( y=\"Probability\", x = expression(mu), col = 'B(1,10) Prior')  + xlim(c(0,0.2))\n",
    "g <- g  +   geom_line(aes(x=p, y =norm, col = 'Normal approximation'), linetype = \"dashed\", size = 1.2)\n",
    "g <- g + ggtitle(\"Bayesian Inference\")+ theme_hc()+ scale_colour_hc()\n",
    "g <- g +  geom_vline(xintercept = post_mean, colour=\"lightcyan4\", linetype=\"dotted\", size = 1.5)\n",
    "g <- g + geom_text(mapping=aes(x=post_mean, y=0,label=\"Mean\"),colour=\"lightcyan4\", size=4, angle=90, vjust=-0.4, hjust=0)\n",
    "g <- g +  geom_vline(xintercept = lb_norm, colour=\"steelblue3\", size = 0.5)\n",
    "g <- g + geom_text(mapping=aes(x=lb_norm, y=0,label=\"95%  Normal\"),colour=\"steelblue3\", size=4, angle=90, vjust=-0.4, hjust=-4)\n",
    "g <- g +  geom_vline(xintercept = ub_norm, colour=\"steelblue3\", size = 0.5)\n",
    "g <- g + geom_text(mapping=aes(x=ub_norm, y=0,label=\"95%  Normal\"),colour=\"steelblue3\", size=4, angle=90, vjust=-0.4, hjust=-4)\n",
    "\n",
    "g <- g +  geom_vline(xintercept = lb, colour=\"lightcoral\", linetype=\"dotdash\", size = 1.5)\n",
    "g <- g + geom_text(mapping=aes(x=lb, y=0,label=\"95%  Interval\"),colour=\"lightcoral\", size=4, angle=270, vjust=-0.4, hjust=5)\n",
    "\n",
    "\n",
    "g <- g +  geom_vline(xintercept = ub, colour=\"lightcoral\", linetype=\"dotdash\", size = 1.5)\n",
    "g <- g + geom_text(mapping=aes(x=ub, y=0,label=\"95%  Interval\"),colour=\"lightcoral\", size=4, angle=270, vjust=-0.4, hjust=5)\n",
    "\n",
    "\n",
    "g"
   ]
  },
  {
   "cell_type": "code",
   "execution_count": 79,
   "metadata": {},
   "outputs": [
    {
     "name": "stderr",
     "output_type": "stream",
     "text": [
      "Warning message:\n",
      "\"Removed 80 rows containing missing values (position_stack).\"Warning message:\n",
      "\"Removed 80 rows containing missing values (geom_path).\""
     ]
    },
    {
     "data": {
      "image/png": "[encoded data removed]",
      "text/plain": [
       "plot without title"
      ]
     },
     "metadata": {},
     "output_type": "display_data"
    }
   ],
   "source": [
    "norm <- dnorm(p, post_mean_old, sqrt(sd2_post_old) )\n",
    "df <- data.frame(p, b_posterior_old, b_posterior, norm)\n",
    "g <-ggplot(df, aes(x=p, y = b_posterior_old, col = 'Posterior probability')) \n",
    "g <- g +  geom_area(fill=\"lightcyan2\")  \n",
    "g <- g +  labs( y=\"Probability\", x = expression(mu), col = 'Old Prior')  + xlim(c(0,0.2))\n",
    "g <- g  +   geom_line(aes(x=p, y =norm, col = 'Normal approximation'), linetype = \"dashed\", size = 1.2)\n",
    "g <- g + ggtitle(\"Bayesian Inference\")+ theme_hc()+ scale_colour_hc()\n",
    "g <- g +  geom_vline(xintercept = post_mean_old, colour=\"lightcyan4\", linetype=\"dotted\", size = 1.5)\n",
    "g <- g + geom_text(mapping=aes(x=post_mean_old, y=0,label=\"Mean\"),colour=\"lightcyan4\", size=4, angle=90, vjust=-0.4, hjust=0)\n",
    "g <- g +  geom_vline(xintercept = lb_norm_old, colour=\"steelblue3\", size = 0.5)\n",
    "g <- g + geom_text(mapping=aes(x=lb_norm_old, y=0,label=\"95%  Normal\"),colour=\"steelblue3\", size=4, angle=90, vjust=-0.4, hjust=-4)\n",
    "g <- g +  geom_vline(xintercept = ub_norm_old, colour=\"steelblue3\", size = 0.5)\n",
    "g <- g + geom_text(mapping=aes(x=ub_norm_old, y=0,label=\"95%  Normal\"),colour=\"steelblue3\", size=4, angle=90, vjust=-0.4, hjust=-4)\n",
    "\n",
    "g <- g +  geom_vline(xintercept = lb_old, colour=\"lightcoral\", linetype=\"dotdash\", size = 1.5)\n",
    "g <- g + geom_text(mapping=aes(x=lb_old, y=0,label=\"95%  Interval\"),colour=\"lightcoral\", size=4, angle=270, vjust=-0.4, hjust=5)\n",
    "\n",
    "\n",
    "g <- g +  geom_vline(xintercept = ub_old, colour=\"lightcoral\", linetype=\"dotdash\", size = 1.5)\n",
    "g <- g + geom_text(mapping=aes(x=ub_old, y=0,label=\"95%  Interval\"),colour=\"lightcoral\", size=4, angle=270, vjust=-0.4, hjust=5)\n",
    "\n",
    "\n",
    "g"
   ]
  },
  {
   "cell_type": "code",
   "execution_count": 80,
   "metadata": {},
   "outputs": [
    {
     "name": "stderr",
     "output_type": "stream",
     "text": [
      "Warning message:\n",
      "\"Removed 80 rows containing missing values (geom_path).\"Warning message:\n",
      "\"Removed 80 rows containing missing values (geom_path).\"Warning message:\n",
      "\"Removed 80 rows containing missing values (geom_path).\""
     ]
    },
    {
     "data": {
      "image/png": "[encoded data removed]",
      "text/plain": [
       "plot without title"
      ]
     },
     "metadata": {},
     "output_type": "display_data"
    }
   ],
   "source": [
    "norm <- dnorm(p, post_mean_old, sqrt(sd2_post_old),  p.likelihood)\n",
    "df <- data.frame(p, b_posterior_old, b_posterior, norm)\n",
    "g <-ggplot(df, aes(x=p, y = b_posterior_old, col = 'Posterior probability - Old prior')) \n",
    "g <- g +  geom_line(size = 1.1)  \n",
    "g <- g + geom_line(aes(x=p, y =p.likelihood, col = 'Likelihood '),  size = 1.1)\n",
    "g <- g  +   geom_line(aes(x=p, y =b_posterior, col = 'Posterior probability - Beta Prior'),  size = 1.1)\n",
    "g <- g + ggtitle(\"Bayesian Inference\")+ theme_hc()+ scale_colour_hc()\n",
    "g <- g +  labs( y=\"Probability\", x = expression(mu), col =  'Priors')  + xlim(c(0,0.2))\n",
    "\n",
    "g"
   ]
  },
  {
   "cell_type": "markdown",
   "metadata": {},
   "source": [
    "\n",
    "(h) test the hypotesis\n",
    "$H_0 : p=0.1$ versus $H_1 : p \\neq 0.1$\n",
    "\n",
    "at 5% level of significance with both the frequentist and bayesian approach"
   ]
  },
  {
   "cell_type": "code",
   "execution_count": 70,
   "metadata": {},
   "outputs": [
    {
     "data": {
      "image/png": "[encoded data removed]",
      "text/plain": [
       "Plot with title \"Bayesian One Side test\""
      ]
     },
     "metadata": {},
     "output_type": "display_data"
    }
   ],
   "source": [
    "#Let's make some plots\n",
    "par(mfrow = c(1, 2))\n",
    "y_list <- c(1:15)\n",
    "#n <- 116\n",
    "p0 <- 0.1\n",
    "freq.vector <- c()\n",
    "for (y in y_list){\n",
    "    freq.vector <- append(freq.vector, sum(dbinom(y:n, size = n, 0.1)))\n",
    "}\n",
    "\n",
    "barplot(freq.vector, ylab = '1-F(x)', cex.lab = 1.4, main = \"Frequentist One sided/Hypothesis test\", col ='lightsalmon', names.arg = c(1:15), cex.main =1.4 )\n",
    "\n",
    "text(5.5,0.3, \"ACCEPT\", cex = 1.6)\n",
    "\n",
    "text(5.5,0.03, \"REJECT\", cex = 1.6)\n",
    "abline ( h = 0.05, lty = 2, lwd = 3)\n",
    "\n",
    "p <- seq(0,0.25, 0.001)\n",
    "post.beta.norm <- dbeta(p, aa_old, bb_old)\n",
    "plot(p, post.beta.norm, type = 'l', lwd = 3, ylab = 'P(p|y)', cex.lab = 1.4, main = 'Bayesian One Side test', cex.main = 1.4)\n",
    "polygon(c(p[p <= p0], p0), c(post.beta.norm[p<=p0], 0), col = 'violet')\n"
   ]
  },
  {
   "cell_type": "code",
   "execution_count": 84,
   "metadata": {},
   "outputs": [
    {
     "name": "stdout",
     "output_type": "stream",
     "text": [
      "Mean frequentist: 0.0545 +/-0.0347\n",
      "Frequentist Approximate normal 95% credible interval with normal approximation: [0.0199 0.0892]\n",
      "Bayesian Approximate 95% credible interval for Beta prior : [0.0254 0.0957]\n",
      "Bayesian Approximate 95% credible interval for Old posterior : [0.041 0.1035]\n"
     ]
    }
   ],
   "source": [
    "z <- qnorm(1 - 0.05/2)\n",
    "sd <- sqrt((p_estimator*(1-p_estimator))/n)\n",
    "\n",
    "cat(paste(\"Mean frequentist: \"\n",
    "          ,round(p_estimator,4),\" +/-\",round(z * sd,4),\"\\n\",sep=\"\"))\n",
    "\n",
    "lb_norm <- p_estimator - z * sd\n",
    "ub_norm <- p_estimator + z * sd\n",
    "\n",
    "cat(paste(\"Frequentist Approximate normal 95% credible interval with normal approximation: [\"\n",
    "          ,round(lb_norm,4),\" \",round(ub_norm,4),\"]\\n\",sep=\"\"))\n",
    "\n",
    "cat(paste(\"Bayesian Approximate 95% credible interval for Beta prior : [\"\n",
    "          ,round(lb,4),\" \",round(ub,4),\"]\\n\",sep=\"\"))\n",
    "\n",
    "cat(paste(\"Bayesian Approximate 95% credible interval for Old posterior : [\"\n",
    "          ,round(lb_old,4),\" \",round(ub_old,4),\"]\\n\",sep=\"\"))\n"
   ]
  },
  {
   "cell_type": "code",
   "execution_count": 85,
   "metadata": {},
   "outputs": [
    {
     "name": "stdout",
     "output_type": "stream",
     "text": [
      "p value obtain in the frequentist approach= 0.0129058536882281 \n",
      "p value obtain in the bayesian approach using beta prior= 0.0157407707384656 \n",
      "p value obtain in the bayesian approach using old posterior= 0.0411700785593587"
     ]
    }
   ],
   "source": [
    "#this can also be validated calculating:\n",
    "integral <- function(p){dbeta(p, aa_beta, bb_beta)}\n",
    "p.value.bayesian_beta <- 1 - integrate(integral, 0, 0.1)$value\n",
    "\n",
    "integral <- function(p){dbeta(p, aa_old, bb_old)}\n",
    "p.value.bayesian_old <- 1 - integrate(integral, 0, 0.1)$value\n",
    "\n",
    "\n",
    "p.value.freq <- 1 - sum(dbinom(y:n, size = n, 0.1))\n",
    "\n",
    "\n",
    "cat(paste(\"p value obtain in the frequentist approach=\", p.value.freq, \"\\n\"))\n",
    "cat(paste(\"p value obtain in the bayesian approach using beta prior=\", p.value.bayesian_beta, \"\\n\"))\n",
    "cat(paste(\"p value obtain in the bayesian approach using old posterior=\", p.value.bayesian_old))"
   ]
  },
  {
   "cell_type": "markdown",
   "metadata": {},
   "source": [
    "We reject the hypothesis since the p.value is less than the 5% confidence interval. In the case of the bayesian approach using the old posterior, the proability that we reject the hypothesis (or not) should be computed using more data so that we have more certain about the result since the p.value and the confidence interval gives different results."
   ]
  },
  {
   "cell_type": "code",
   "execution_count": 4,
   "metadata": {},
   "outputs": [],
   "source": [
    "df <- data.frame(rep(1, 2), rep(5, 2))"
   ]
  },
  {
   "cell_type": "code",
   "execution_count": 5,
   "metadata": {},
   "outputs": [
    {
     "data": {
      "text/html": [
       "<table>\n",
       "<thead><tr><th scope=col>rep.1..2.</th><th scope=col>rep.5..2.</th></tr></thead>\n",
       "<tbody>\n",
       "\t<tr><td>1</td><td>5</td></tr>\n",
       "\t<tr><td>1</td><td>5</td></tr>\n",
       "</tbody>\n",
       "</table>\n"
      ],
      "text/latex": [
       "\\begin{tabular}{r|ll}\n",
       " rep.1..2. & rep.5..2.\\\\\n",
       "\\hline\n",
       "\t 1 & 5\\\\\n",
       "\t 1 & 5\\\\\n",
       "\\end{tabular}\n"
      ],
      "text/markdown": [
       "\n",
       "| rep.1..2. | rep.5..2. |\n",
       "|---|---|\n",
       "| 1 | 5 |\n",
       "| 1 | 5 |\n",
       "\n"
      ],
      "text/plain": [
       "  rep.1..2. rep.5..2.\n",
       "1 1         5        \n",
       "2 1         5        "
      ]
     },
     "metadata": {},
     "output_type": "display_data"
    }
   ],
   "source": [
    "df"
   ]
  },
  {
   "cell_type": "code",
   "execution_count": 6,
   "metadata": {},
   "outputs": [
    {
     "data": {
      "text/html": [
       "<ol class=list-inline>\n",
       "\t<li>1</li>\n",
       "\t<li>1</li>\n",
       "</ol>\n"
      ],
      "text/latex": [
       "\\begin{enumerate*}\n",
       "\\item 1\n",
       "\\item 1\n",
       "\\end{enumerate*}\n"
      ],
      "text/markdown": [
       "1. 1\n",
       "2. 1\n",
       "\n",
       "\n"
      ],
      "text/plain": [
       "[1] 1 1"
      ]
     },
     "metadata": {},
     "output_type": "display_data"
    }
   ],
   "source": [
    "df[df == 1]"
   ]
  },
  {
   "cell_type": "code",
   "execution_count": null,
   "metadata": {},
   "outputs": [],
   "source": []
  }
 ],
 "metadata": {
  "kernelspec": {
   "display_name": "R",
   "language": "R",
   "name": "ir"
  },
  "language_info": {
   "codemirror_mode": "r",
   "file_extension": ".r",
   "mimetype": "text/x-r-source",
   "name": "R",
   "pygments_lexer": "r",
   "version": "3.6.1"
  }
 },
 "nbformat": 4,
 "nbformat_minor": 4
}
